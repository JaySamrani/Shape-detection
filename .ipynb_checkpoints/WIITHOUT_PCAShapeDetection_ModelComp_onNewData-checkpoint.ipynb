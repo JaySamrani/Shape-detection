{
 "cells": [
  {
   "cell_type": "markdown",
   "metadata": {
    "id": "s6lVB_Zos2F1"
   },
   "source": [
    "## Importing Data"
   ]
  },
  {
   "cell_type": "code",
   "execution_count": null,
   "metadata": {
    "colab": {
     "base_uri": "https://localhost:8080/"
    },
    "id": "iB06Vg1BazhA",
    "outputId": "d8aa8091-beff-4b27-90e8-4aee5b01ba77"
   },
   "outputs": [
    {
     "name": "stdout",
     "output_type": "stream",
     "text": [
      "Mounted at /content/drive\n"
     ]
    }
   ],
   "source": [
    "from google.colab import drive\n",
    "drive.mount('/content/drive')"
   ]
  },
  {
   "cell_type": "code",
   "execution_count": null,
   "metadata": {
    "colab": {
     "base_uri": "https://localhost:8080/"
    },
    "id": "PmJvw-v5fvoK",
    "outputId": "f6355a41-9aee-42ff-c8b4-5fb7858975ac"
   },
   "outputs": [
    {
     "name": "stdout",
     "output_type": "stream",
     "text": [
      "Looking in indexes: https://pypi.org/simple, https://us-python.pkg.dev/colab-wheels/public/simple/\n",
      "Collecting ipython-autotime\n",
      "  Downloading ipython_autotime-0.3.1-py2.py3-none-any.whl (6.8 kB)\n",
      "Requirement already satisfied: ipython in /usr/local/lib/python3.8/dist-packages (from ipython-autotime) (7.9.0)\n",
      "Requirement already satisfied: pickleshare in /usr/local/lib/python3.8/dist-packages (from ipython->ipython-autotime) (0.7.5)\n",
      "Requirement already satisfied: pygments in /usr/local/lib/python3.8/dist-packages (from ipython->ipython-autotime) (2.6.1)\n",
      "Requirement already satisfied: setuptools>=18.5 in /usr/local/lib/python3.8/dist-packages (from ipython->ipython-autotime) (57.4.0)\n",
      "Requirement already satisfied: decorator in /usr/local/lib/python3.8/dist-packages (from ipython->ipython-autotime) (4.4.2)\n",
      "Requirement already satisfied: backcall in /usr/local/lib/python3.8/dist-packages (from ipython->ipython-autotime) (0.2.0)\n",
      "Requirement already satisfied: pexpect in /usr/local/lib/python3.8/dist-packages (from ipython->ipython-autotime) (4.8.0)\n",
      "Collecting jedi>=0.10\n",
      "  Downloading jedi-0.18.2-py2.py3-none-any.whl (1.6 MB)\n",
      "\u001b[2K     \u001b[90m━━━━━━━━━━━━━━━━━━━━━━━━━━━━━━━━━━━━━━━━\u001b[0m \u001b[32m1.6/1.6 MB\u001b[0m \u001b[31m17.6 MB/s\u001b[0m eta \u001b[36m0:00:00\u001b[0m\n",
      "\u001b[?25hRequirement already satisfied: prompt-toolkit<2.1.0,>=2.0.0 in /usr/local/lib/python3.8/dist-packages (from ipython->ipython-autotime) (2.0.10)\n",
      "Requirement already satisfied: traitlets>=4.2 in /usr/local/lib/python3.8/dist-packages (from ipython->ipython-autotime) (5.7.1)\n",
      "Requirement already satisfied: parso<0.9.0,>=0.8.0 in /usr/local/lib/python3.8/dist-packages (from jedi>=0.10->ipython->ipython-autotime) (0.8.3)\n",
      "Requirement already satisfied: six>=1.9.0 in /usr/local/lib/python3.8/dist-packages (from prompt-toolkit<2.1.0,>=2.0.0->ipython->ipython-autotime) (1.15.0)\n",
      "Requirement already satisfied: wcwidth in /usr/local/lib/python3.8/dist-packages (from prompt-toolkit<2.1.0,>=2.0.0->ipython->ipython-autotime) (0.2.5)\n",
      "Requirement already satisfied: ptyprocess>=0.5 in /usr/local/lib/python3.8/dist-packages (from pexpect->ipython->ipython-autotime) (0.7.0)\n",
      "Installing collected packages: jedi, ipython-autotime\n",
      "Successfully installed ipython-autotime-0.3.1 jedi-0.18.2\n",
      "time: 513 µs (started: 2023-01-30 07:50:15 +00:00)\n"
     ]
    }
   ],
   "source": [
    "!pip install ipython-autotime\n",
    "%load_ext autotime"
   ]
  },
  {
   "cell_type": "code",
   "execution_count": null,
   "metadata": {
    "id": "Wmj45AXqhZfX"
   },
   "outputs": [],
   "source": [
    "import numpy as np\n",
    "import matplotlib.pyplot as plt\n",
    "import pandas as pd\n",
    "import copy\n",
    "np.set_printoptions(threshold=np.inf)\n",
    "from sklearn.metrics import accuracy_score"
   ]
  },
  {
   "cell_type": "code",
   "execution_count": null,
   "metadata": {
    "id": "8ai8pzX3hHMl"
   },
   "outputs": [],
   "source": [
    "# sample = pd.read_csv('/content/drive/MyDrive/ShapeDetection/Copy of OBJECT_DETECTION_TRAIN_SET.csv')\n",
    "# # sample_new = sample.sample(frac=1)\n",
    "# testData =pd.read_csv('/content/drive/MyDrive/ShapeDetection/Copy of OBJECT_DETECTION_VAL_SET.csv')\n",
    "alldata = pd.read_csv('/content/drive/MyDrive/Shape Detection MEC/NEW DATASET/ALL_DATASET.csv')\n",
    "\n",
    "sample = pd.read_csv('/content/drive/MyDrive/Shape Detection MEC/NEW DATASET/TRAINING_DATA.csv')\n",
    "\n",
    "testData =pd.read_csv('/content/drive/MyDrive/Shape Detection MEC/NEW DATASET/TEST_DATA.csv')\n",
    "\n"
   ]
  },
  {
   "cell_type": "code",
   "execution_count": null,
   "metadata": {
    "id": "r0T5kFwXPrDE"
   },
   "outputs": [],
   "source": [
    "alldata= alldata.drop('MASS_kg',axis=1)\n",
    "# testData= testData.drop('MASS_kg',axis=1)"
   ]
  },
  {
   "cell_type": "code",
   "execution_count": null,
   "metadata": {
    "id": "4oDIIQ2972DN"
   },
   "outputs": [],
   "source": [
    "X_train= sample.drop('Object_Held', axis=1)\n",
    "y_train= sample[['Object_Held']]\n",
    "X_test= testData.drop('Object_Held', axis=1)\n",
    "y_test= testData[['Object_Held']]"
   ]
  },
  {
   "cell_type": "code",
   "execution_count": null,
   "metadata": {
    "id": "01gi-971uhsV"
   },
   "outputs": [],
   "source": [
    "Xall = alldata.drop('Object_Held', axis=1)"
   ]
  },
  {
   "cell_type": "code",
   "execution_count": null,
   "metadata": {
    "id": "JXInjj69INQ9"
   },
   "outputs": [],
   "source": [
    "X_train.columns = sample.columns[:-1]\n",
    "cols=sample.columns[:-1]"
   ]
  },
  {
   "cell_type": "code",
   "execution_count": null,
   "metadata": {
    "colab": {
     "base_uri": "https://localhost:8080/",
     "height": 443
    },
    "id": "d_UabeK9V_5M",
    "outputId": "39c07fc9-e0f4-4cc7-af1e-38f25bcba1ee"
   },
   "outputs": [
    {
     "data": {
      "text/html": [
       "\n",
       "  <div id=\"df-347c95ce-d078-4cf9-9f76-e28dcbe8fb8f\" class=\"colab-df-container\">\n",
       "    <div>\n",
       "<style scoped>\n",
       "    .dataframe tbody tr th:only-of-type {\n",
       "        vertical-align: middle;\n",
       "    }\n",
       "\n",
       "    .dataframe tbody tr th {\n",
       "        vertical-align: top;\n",
       "    }\n",
       "\n",
       "    .dataframe thead th {\n",
       "        text-align: right;\n",
       "    }\n",
       "</style>\n",
       "<table border=\"1\" class=\"dataframe\">\n",
       "  <thead>\n",
       "    <tr style=\"text-align: right;\">\n",
       "      <th></th>\n",
       "      <th>J0_position</th>\n",
       "      <th>J0_Force</th>\n",
       "      <th>J1_position</th>\n",
       "      <th>J1_Force</th>\n",
       "      <th>J2_position</th>\n",
       "      <th>J2_Force</th>\n",
       "      <th>J3_position</th>\n",
       "      <th>J3_Force</th>\n",
       "      <th>J4_position</th>\n",
       "      <th>J4_Force</th>\n",
       "      <th>...</th>\n",
       "      <th>J11_position</th>\n",
       "      <th>J11_Force</th>\n",
       "      <th>J12_position</th>\n",
       "      <th>J12_Force</th>\n",
       "      <th>J13_position</th>\n",
       "      <th>J13_Force</th>\n",
       "      <th>J14_position</th>\n",
       "      <th>J14_Force</th>\n",
       "      <th>J15_position</th>\n",
       "      <th>J15_Force</th>\n",
       "    </tr>\n",
       "  </thead>\n",
       "  <tbody>\n",
       "    <tr>\n",
       "      <th>0</th>\n",
       "      <td>0.010445</td>\n",
       "      <td>32.839093</td>\n",
       "      <td>0.796688</td>\n",
       "      <td>32.801138</td>\n",
       "      <td>0.672049</td>\n",
       "      <td>32.598748</td>\n",
       "      <td>0.322165</td>\n",
       "      <td>32.442574</td>\n",
       "      <td>0.086511</td>\n",
       "      <td>45.194791</td>\n",
       "      <td>...</td>\n",
       "      <td>0.453634</td>\n",
       "      <td>57.085112</td>\n",
       "      <td>1.541629</td>\n",
       "      <td>107.008139</td>\n",
       "      <td>0.148899</td>\n",
       "      <td>107.020952</td>\n",
       "      <td>-0.157546</td>\n",
       "      <td>107.005990</td>\n",
       "      <td>0.418681</td>\n",
       "      <td>26.483838</td>\n",
       "    </tr>\n",
       "    <tr>\n",
       "      <th>1</th>\n",
       "      <td>0.031048</td>\n",
       "      <td>26.828344</td>\n",
       "      <td>0.550354</td>\n",
       "      <td>26.793490</td>\n",
       "      <td>0.500228</td>\n",
       "      <td>26.617565</td>\n",
       "      <td>0.193967</td>\n",
       "      <td>26.995865</td>\n",
       "      <td>0.013110</td>\n",
       "      <td>59.185006</td>\n",
       "      <td>...</td>\n",
       "      <td>0.158144</td>\n",
       "      <td>16.654109</td>\n",
       "      <td>1.564327</td>\n",
       "      <td>102.981643</td>\n",
       "      <td>-0.051086</td>\n",
       "      <td>103.080865</td>\n",
       "      <td>-0.004866</td>\n",
       "      <td>103.175877</td>\n",
       "      <td>-0.007585</td>\n",
       "      <td>103.668021</td>\n",
       "    </tr>\n",
       "    <tr>\n",
       "      <th>2</th>\n",
       "      <td>0.038457</td>\n",
       "      <td>110.567765</td>\n",
       "      <td>0.808517</td>\n",
       "      <td>110.321907</td>\n",
       "      <td>0.440485</td>\n",
       "      <td>109.104348</td>\n",
       "      <td>0.101487</td>\n",
       "      <td>104.691031</td>\n",
       "      <td>0.051087</td>\n",
       "      <td>202.653217</td>\n",
       "      <td>...</td>\n",
       "      <td>0.639911</td>\n",
       "      <td>201.220968</td>\n",
       "      <td>1.496583</td>\n",
       "      <td>363.765022</td>\n",
       "      <td>0.211634</td>\n",
       "      <td>363.553092</td>\n",
       "      <td>-0.418162</td>\n",
       "      <td>362.442545</td>\n",
       "      <td>0.439608</td>\n",
       "      <td>357.595823</td>\n",
       "    </tr>\n",
       "    <tr>\n",
       "      <th>3</th>\n",
       "      <td>0.089646</td>\n",
       "      <td>144.278609</td>\n",
       "      <td>0.958439</td>\n",
       "      <td>143.564293</td>\n",
       "      <td>0.244826</td>\n",
       "      <td>140.548777</td>\n",
       "      <td>0.516424</td>\n",
       "      <td>141.254061</td>\n",
       "      <td>0.073867</td>\n",
       "      <td>251.329720</td>\n",
       "      <td>...</td>\n",
       "      <td>0.650024</td>\n",
       "      <td>208.518358</td>\n",
       "      <td>1.518549</td>\n",
       "      <td>456.370160</td>\n",
       "      <td>0.327488</td>\n",
       "      <td>456.375175</td>\n",
       "      <td>-0.392451</td>\n",
       "      <td>456.453786</td>\n",
       "      <td>0.621246</td>\n",
       "      <td>456.896505</td>\n",
       "    </tr>\n",
       "    <tr>\n",
       "      <th>4</th>\n",
       "      <td>0.018616</td>\n",
       "      <td>40.906474</td>\n",
       "      <td>0.646382</td>\n",
       "      <td>40.895683</td>\n",
       "      <td>0.411657</td>\n",
       "      <td>40.837607</td>\n",
       "      <td>0.288000</td>\n",
       "      <td>25.540176</td>\n",
       "      <td>0.015417</td>\n",
       "      <td>27.131941</td>\n",
       "      <td>...</td>\n",
       "      <td>0.307123</td>\n",
       "      <td>29.209126</td>\n",
       "      <td>1.543406</td>\n",
       "      <td>98.906924</td>\n",
       "      <td>0.115545</td>\n",
       "      <td>98.891234</td>\n",
       "      <td>0.009058</td>\n",
       "      <td>98.849936</td>\n",
       "      <td>0.095610</td>\n",
       "      <td>98.690772</td>\n",
       "    </tr>\n",
       "    <tr>\n",
       "      <th>...</th>\n",
       "      <td>...</td>\n",
       "      <td>...</td>\n",
       "      <td>...</td>\n",
       "      <td>...</td>\n",
       "      <td>...</td>\n",
       "      <td>...</td>\n",
       "      <td>...</td>\n",
       "      <td>...</td>\n",
       "      <td>...</td>\n",
       "      <td>...</td>\n",
       "      <td>...</td>\n",
       "      <td>...</td>\n",
       "      <td>...</td>\n",
       "      <td>...</td>\n",
       "      <td>...</td>\n",
       "      <td>...</td>\n",
       "      <td>...</td>\n",
       "      <td>...</td>\n",
       "      <td>...</td>\n",
       "      <td>...</td>\n",
       "      <td>...</td>\n",
       "    </tr>\n",
       "    <tr>\n",
       "      <th>103995</th>\n",
       "      <td>0.098011</td>\n",
       "      <td>131.484313</td>\n",
       "      <td>0.433704</td>\n",
       "      <td>127.478153</td>\n",
       "      <td>0.261010</td>\n",
       "      <td>124.598035</td>\n",
       "      <td>0.636805</td>\n",
       "      <td>133.302471</td>\n",
       "      <td>0.079848</td>\n",
       "      <td>136.269939</td>\n",
       "      <td>...</td>\n",
       "      <td>0.220674</td>\n",
       "      <td>11.973770</td>\n",
       "      <td>1.728794</td>\n",
       "      <td>1296.491574</td>\n",
       "      <td>-0.963922</td>\n",
       "      <td>1308.643326</td>\n",
       "      <td>0.411771</td>\n",
       "      <td>1305.174075</td>\n",
       "      <td>-0.268828</td>\n",
       "      <td>1247.196519</td>\n",
       "    </tr>\n",
       "    <tr>\n",
       "      <th>103996</th>\n",
       "      <td>-0.207267</td>\n",
       "      <td>29.689574</td>\n",
       "      <td>1.395837</td>\n",
       "      <td>29.627845</td>\n",
       "      <td>0.217758</td>\n",
       "      <td>29.296491</td>\n",
       "      <td>-0.342476</td>\n",
       "      <td>29.341589</td>\n",
       "      <td>0.047683</td>\n",
       "      <td>24.810969</td>\n",
       "      <td>...</td>\n",
       "      <td>0.067794</td>\n",
       "      <td>18.462487</td>\n",
       "      <td>1.564526</td>\n",
       "      <td>68.645733</td>\n",
       "      <td>-0.171600</td>\n",
       "      <td>68.572393</td>\n",
       "      <td>0.188174</td>\n",
       "      <td>68.784507</td>\n",
       "      <td>-0.114198</td>\n",
       "      <td>69.837109</td>\n",
       "    </tr>\n",
       "    <tr>\n",
       "      <th>103997</th>\n",
       "      <td>0.012985</td>\n",
       "      <td>9.170545</td>\n",
       "      <td>0.477758</td>\n",
       "      <td>9.073175</td>\n",
       "      <td>0.278467</td>\n",
       "      <td>8.546033</td>\n",
       "      <td>0.172794</td>\n",
       "      <td>8.245469</td>\n",
       "      <td>0.011595</td>\n",
       "      <td>9.970651</td>\n",
       "      <td>...</td>\n",
       "      <td>0.245780</td>\n",
       "      <td>40.719445</td>\n",
       "      <td>1.341691</td>\n",
       "      <td>43.103524</td>\n",
       "      <td>0.047159</td>\n",
       "      <td>43.059404</td>\n",
       "      <td>0.244886</td>\n",
       "      <td>42.996989</td>\n",
       "      <td>-0.000964</td>\n",
       "      <td>42.758392</td>\n",
       "    </tr>\n",
       "    <tr>\n",
       "      <th>103998</th>\n",
       "      <td>-0.000092</td>\n",
       "      <td>10.575114</td>\n",
       "      <td>0.756654</td>\n",
       "      <td>10.468608</td>\n",
       "      <td>0.784339</td>\n",
       "      <td>9.891076</td>\n",
       "      <td>0.227583</td>\n",
       "      <td>9.575672</td>\n",
       "      <td>0.000513</td>\n",
       "      <td>10.423315</td>\n",
       "      <td>...</td>\n",
       "      <td>0.289469</td>\n",
       "      <td>13.741549</td>\n",
       "      <td>1.617730</td>\n",
       "      <td>10.880924</td>\n",
       "      <td>0.001656</td>\n",
       "      <td>10.738996</td>\n",
       "      <td>0.085127</td>\n",
       "      <td>10.678098</td>\n",
       "      <td>0.203319</td>\n",
       "      <td>10.538928</td>\n",
       "    </tr>\n",
       "    <tr>\n",
       "      <th>103999</th>\n",
       "      <td>0.006352</td>\n",
       "      <td>15.532336</td>\n",
       "      <td>1.561762</td>\n",
       "      <td>15.499786</td>\n",
       "      <td>0.419034</td>\n",
       "      <td>15.335276</td>\n",
       "      <td>-0.244526</td>\n",
       "      <td>15.357600</td>\n",
       "      <td>-0.005658</td>\n",
       "      <td>58.245799</td>\n",
       "      <td>...</td>\n",
       "      <td>-0.018242</td>\n",
       "      <td>8.222069</td>\n",
       "      <td>1.614962</td>\n",
       "      <td>69.272583</td>\n",
       "      <td>-0.057415</td>\n",
       "      <td>69.222197</td>\n",
       "      <td>0.262779</td>\n",
       "      <td>69.198182</td>\n",
       "      <td>-0.259285</td>\n",
       "      <td>69.138887</td>\n",
       "    </tr>\n",
       "  </tbody>\n",
       "</table>\n",
       "<p>104000 rows × 32 columns</p>\n",
       "</div>\n",
       "    <div class=\"colab-df-buttons\">\n",
       "\n",
       "  <div class=\"colab-df-container\">\n",
       "    <button class=\"colab-df-convert\" onclick=\"convertToInteractive('df-347c95ce-d078-4cf9-9f76-e28dcbe8fb8f')\"\n",
       "            title=\"Convert this dataframe to an interactive table.\"\n",
       "            style=\"display:none;\">\n",
       "\n",
       "  <svg xmlns=\"http://www.w3.org/2000/svg\" height=\"24px\" viewBox=\"0 -960 960 960\">\n",
       "    <path d=\"M120-120v-720h720v720H120Zm60-500h600v-160H180v160Zm220 220h160v-160H400v160Zm0 220h160v-160H400v160ZM180-400h160v-160H180v160Zm440 0h160v-160H620v160ZM180-180h160v-160H180v160Zm440 0h160v-160H620v160Z\"/>\n",
       "  </svg>\n",
       "    </button>\n",
       "\n",
       "  <style>\n",
       "    .colab-df-container {\n",
       "      display:flex;\n",
       "      gap: 12px;\n",
       "    }\n",
       "\n",
       "    .colab-df-convert {\n",
       "      background-color: #E8F0FE;\n",
       "      border: none;\n",
       "      border-radius: 50%;\n",
       "      cursor: pointer;\n",
       "      display: none;\n",
       "      fill: #1967D2;\n",
       "      height: 32px;\n",
       "      padding: 0 0 0 0;\n",
       "      width: 32px;\n",
       "    }\n",
       "\n",
       "    .colab-df-convert:hover {\n",
       "      background-color: #E2EBFA;\n",
       "      box-shadow: 0px 1px 2px rgba(60, 64, 67, 0.3), 0px 1px 3px 1px rgba(60, 64, 67, 0.15);\n",
       "      fill: #174EA6;\n",
       "    }\n",
       "\n",
       "    .colab-df-buttons div {\n",
       "      margin-bottom: 4px;\n",
       "    }\n",
       "\n",
       "    [theme=dark] .colab-df-convert {\n",
       "      background-color: #3B4455;\n",
       "      fill: #D2E3FC;\n",
       "    }\n",
       "\n",
       "    [theme=dark] .colab-df-convert:hover {\n",
       "      background-color: #434B5C;\n",
       "      box-shadow: 0px 1px 3px 1px rgba(0, 0, 0, 0.15);\n",
       "      filter: drop-shadow(0px 1px 2px rgba(0, 0, 0, 0.3));\n",
       "      fill: #FFFFFF;\n",
       "    }\n",
       "  </style>\n",
       "\n",
       "    <script>\n",
       "      const buttonEl =\n",
       "        document.querySelector('#df-347c95ce-d078-4cf9-9f76-e28dcbe8fb8f button.colab-df-convert');\n",
       "      buttonEl.style.display =\n",
       "        google.colab.kernel.accessAllowed ? 'block' : 'none';\n",
       "\n",
       "      async function convertToInteractive(key) {\n",
       "        const element = document.querySelector('#df-347c95ce-d078-4cf9-9f76-e28dcbe8fb8f');\n",
       "        const dataTable =\n",
       "          await google.colab.kernel.invokeFunction('convertToInteractive',\n",
       "                                                    [key], {});\n",
       "        if (!dataTable) return;\n",
       "\n",
       "        const docLinkHtml = 'Like what you see? Visit the ' +\n",
       "          '<a target=\"_blank\" href=https://colab.research.google.com/notebooks/data_table.ipynb>data table notebook</a>'\n",
       "          + ' to learn more about interactive tables.';\n",
       "        element.innerHTML = '';\n",
       "        dataTable['output_type'] = 'display_data';\n",
       "        await google.colab.output.renderOutput(dataTable, element);\n",
       "        const docLink = document.createElement('div');\n",
       "        docLink.innerHTML = docLinkHtml;\n",
       "        element.appendChild(docLink);\n",
       "      }\n",
       "    </script>\n",
       "  </div>\n",
       "\n",
       "\n",
       "<div id=\"df-8c9430c4-f157-44f0-a149-b2c433b71cbc\">\n",
       "  <button class=\"colab-df-quickchart\" onclick=\"quickchart('df-8c9430c4-f157-44f0-a149-b2c433b71cbc')\"\n",
       "            title=\"Suggest charts.\"\n",
       "            style=\"display:none;\">\n",
       "\n",
       "<svg xmlns=\"http://www.w3.org/2000/svg\" height=\"24px\"viewBox=\"0 0 24 24\"\n",
       "     width=\"24px\">\n",
       "    <g>\n",
       "        <path d=\"M19 3H5c-1.1 0-2 .9-2 2v14c0 1.1.9 2 2 2h14c1.1 0 2-.9 2-2V5c0-1.1-.9-2-2-2zM9 17H7v-7h2v7zm4 0h-2V7h2v10zm4 0h-2v-4h2v4z\"/>\n",
       "    </g>\n",
       "</svg>\n",
       "  </button>\n",
       "\n",
       "<style>\n",
       "  .colab-df-quickchart {\n",
       "      --bg-color: #E8F0FE;\n",
       "      --fill-color: #1967D2;\n",
       "      --hover-bg-color: #E2EBFA;\n",
       "      --hover-fill-color: #174EA6;\n",
       "      --disabled-fill-color: #AAA;\n",
       "      --disabled-bg-color: #DDD;\n",
       "  }\n",
       "\n",
       "  [theme=dark] .colab-df-quickchart {\n",
       "      --bg-color: #3B4455;\n",
       "      --fill-color: #D2E3FC;\n",
       "      --hover-bg-color: #434B5C;\n",
       "      --hover-fill-color: #FFFFFF;\n",
       "      --disabled-bg-color: #3B4455;\n",
       "      --disabled-fill-color: #666;\n",
       "  }\n",
       "\n",
       "  .colab-df-quickchart {\n",
       "    background-color: var(--bg-color);\n",
       "    border: none;\n",
       "    border-radius: 50%;\n",
       "    cursor: pointer;\n",
       "    display: none;\n",
       "    fill: var(--fill-color);\n",
       "    height: 32px;\n",
       "    padding: 0;\n",
       "    width: 32px;\n",
       "  }\n",
       "\n",
       "  .colab-df-quickchart:hover {\n",
       "    background-color: var(--hover-bg-color);\n",
       "    box-shadow: 0 1px 2px rgba(60, 64, 67, 0.3), 0 1px 3px 1px rgba(60, 64, 67, 0.15);\n",
       "    fill: var(--button-hover-fill-color);\n",
       "  }\n",
       "\n",
       "  .colab-df-quickchart-complete:disabled,\n",
       "  .colab-df-quickchart-complete:disabled:hover {\n",
       "    background-color: var(--disabled-bg-color);\n",
       "    fill: var(--disabled-fill-color);\n",
       "    box-shadow: none;\n",
       "  }\n",
       "\n",
       "  .colab-df-spinner {\n",
       "    border: 2px solid var(--fill-color);\n",
       "    border-color: transparent;\n",
       "    border-bottom-color: var(--fill-color);\n",
       "    animation:\n",
       "      spin 1s steps(1) infinite;\n",
       "  }\n",
       "\n",
       "  @keyframes spin {\n",
       "    0% {\n",
       "      border-color: transparent;\n",
       "      border-bottom-color: var(--fill-color);\n",
       "      border-left-color: var(--fill-color);\n",
       "    }\n",
       "    20% {\n",
       "      border-color: transparent;\n",
       "      border-left-color: var(--fill-color);\n",
       "      border-top-color: var(--fill-color);\n",
       "    }\n",
       "    30% {\n",
       "      border-color: transparent;\n",
       "      border-left-color: var(--fill-color);\n",
       "      border-top-color: var(--fill-color);\n",
       "      border-right-color: var(--fill-color);\n",
       "    }\n",
       "    40% {\n",
       "      border-color: transparent;\n",
       "      border-right-color: var(--fill-color);\n",
       "      border-top-color: var(--fill-color);\n",
       "    }\n",
       "    60% {\n",
       "      border-color: transparent;\n",
       "      border-right-color: var(--fill-color);\n",
       "    }\n",
       "    80% {\n",
       "      border-color: transparent;\n",
       "      border-right-color: var(--fill-color);\n",
       "      border-bottom-color: var(--fill-color);\n",
       "    }\n",
       "    90% {\n",
       "      border-color: transparent;\n",
       "      border-bottom-color: var(--fill-color);\n",
       "    }\n",
       "  }\n",
       "</style>\n",
       "\n",
       "  <script>\n",
       "    async function quickchart(key) {\n",
       "      const quickchartButtonEl =\n",
       "        document.querySelector('#' + key + ' button');\n",
       "      quickchartButtonEl.disabled = true;  // To prevent multiple clicks.\n",
       "      quickchartButtonEl.classList.add('colab-df-spinner');\n",
       "      try {\n",
       "        const charts = await google.colab.kernel.invokeFunction(\n",
       "            'suggestCharts', [key], {});\n",
       "      } catch (error) {\n",
       "        console.error('Error during call to suggestCharts:', error);\n",
       "      }\n",
       "      quickchartButtonEl.classList.remove('colab-df-spinner');\n",
       "      quickchartButtonEl.classList.add('colab-df-quickchart-complete');\n",
       "    }\n",
       "    (() => {\n",
       "      let quickchartButtonEl =\n",
       "        document.querySelector('#df-8c9430c4-f157-44f0-a149-b2c433b71cbc button');\n",
       "      quickchartButtonEl.style.display =\n",
       "        google.colab.kernel.accessAllowed ? 'block' : 'none';\n",
       "    })();\n",
       "  </script>\n",
       "</div>\n",
       "    </div>\n",
       "  </div>\n"
      ],
      "text/plain": [
       "        J0_position    J0_Force  J1_position    J1_Force  J2_position  \\\n",
       "0          0.010445   32.839093     0.796688   32.801138     0.672049   \n",
       "1          0.031048   26.828344     0.550354   26.793490     0.500228   \n",
       "2          0.038457  110.567765     0.808517  110.321907     0.440485   \n",
       "3          0.089646  144.278609     0.958439  143.564293     0.244826   \n",
       "4          0.018616   40.906474     0.646382   40.895683     0.411657   \n",
       "...             ...         ...          ...         ...          ...   \n",
       "103995     0.098011  131.484313     0.433704  127.478153     0.261010   \n",
       "103996    -0.207267   29.689574     1.395837   29.627845     0.217758   \n",
       "103997     0.012985    9.170545     0.477758    9.073175     0.278467   \n",
       "103998    -0.000092   10.575114     0.756654   10.468608     0.784339   \n",
       "103999     0.006352   15.532336     1.561762   15.499786     0.419034   \n",
       "\n",
       "          J2_Force  J3_position    J3_Force  J4_position    J4_Force  ...  \\\n",
       "0        32.598748     0.322165   32.442574     0.086511   45.194791  ...   \n",
       "1        26.617565     0.193967   26.995865     0.013110   59.185006  ...   \n",
       "2       109.104348     0.101487  104.691031     0.051087  202.653217  ...   \n",
       "3       140.548777     0.516424  141.254061     0.073867  251.329720  ...   \n",
       "4        40.837607     0.288000   25.540176     0.015417   27.131941  ...   \n",
       "...            ...          ...         ...          ...         ...  ...   \n",
       "103995  124.598035     0.636805  133.302471     0.079848  136.269939  ...   \n",
       "103996   29.296491    -0.342476   29.341589     0.047683   24.810969  ...   \n",
       "103997    8.546033     0.172794    8.245469     0.011595    9.970651  ...   \n",
       "103998    9.891076     0.227583    9.575672     0.000513   10.423315  ...   \n",
       "103999   15.335276    -0.244526   15.357600    -0.005658   58.245799  ...   \n",
       "\n",
       "        J11_position   J11_Force  J12_position    J12_Force  J13_position  \\\n",
       "0           0.453634   57.085112      1.541629   107.008139      0.148899   \n",
       "1           0.158144   16.654109      1.564327   102.981643     -0.051086   \n",
       "2           0.639911  201.220968      1.496583   363.765022      0.211634   \n",
       "3           0.650024  208.518358      1.518549   456.370160      0.327488   \n",
       "4           0.307123   29.209126      1.543406    98.906924      0.115545   \n",
       "...              ...         ...           ...          ...           ...   \n",
       "103995      0.220674   11.973770      1.728794  1296.491574     -0.963922   \n",
       "103996      0.067794   18.462487      1.564526    68.645733     -0.171600   \n",
       "103997      0.245780   40.719445      1.341691    43.103524      0.047159   \n",
       "103998      0.289469   13.741549      1.617730    10.880924      0.001656   \n",
       "103999     -0.018242    8.222069      1.614962    69.272583     -0.057415   \n",
       "\n",
       "          J13_Force  J14_position    J14_Force  J15_position    J15_Force  \n",
       "0        107.020952     -0.157546   107.005990      0.418681    26.483838  \n",
       "1        103.080865     -0.004866   103.175877     -0.007585   103.668021  \n",
       "2        363.553092     -0.418162   362.442545      0.439608   357.595823  \n",
       "3        456.375175     -0.392451   456.453786      0.621246   456.896505  \n",
       "4         98.891234      0.009058    98.849936      0.095610    98.690772  \n",
       "...             ...           ...          ...           ...          ...  \n",
       "103995  1308.643326      0.411771  1305.174075     -0.268828  1247.196519  \n",
       "103996    68.572393      0.188174    68.784507     -0.114198    69.837109  \n",
       "103997    43.059404      0.244886    42.996989     -0.000964    42.758392  \n",
       "103998    10.738996      0.085127    10.678098      0.203319    10.538928  \n",
       "103999    69.222197      0.262779    69.198182     -0.259285    69.138887  \n",
       "\n",
       "[104000 rows x 32 columns]"
      ]
     },
     "execution_count": 8,
     "metadata": {},
     "output_type": "execute_result"
    }
   ],
   "source": [
    "X_train"
   ]
  },
  {
   "cell_type": "code",
   "execution_count": null,
   "metadata": {
    "colab": {
     "base_uri": "https://localhost:8080/",
     "height": 349
    },
    "id": "kLc6YazJWEF9",
    "outputId": "a8afd573-cc98-4d4c-96c6-a90f07a91a60"
   },
   "outputs": [
    {
     "data": {
      "text/html": [
       "\n",
       "  <div id=\"df-e7f0f7ac-b713-4f3e-a086-f11f1bd202c5\" class=\"colab-df-container\">\n",
       "    <div>\n",
       "<style scoped>\n",
       "    .dataframe tbody tr th:only-of-type {\n",
       "        vertical-align: middle;\n",
       "    }\n",
       "\n",
       "    .dataframe tbody tr th {\n",
       "        vertical-align: top;\n",
       "    }\n",
       "\n",
       "    .dataframe thead th {\n",
       "        text-align: right;\n",
       "    }\n",
       "</style>\n",
       "<table border=\"1\" class=\"dataframe\">\n",
       "  <thead>\n",
       "    <tr style=\"text-align: right;\">\n",
       "      <th></th>\n",
       "      <th>J0_position</th>\n",
       "      <th>J0_Force</th>\n",
       "      <th>J1_position</th>\n",
       "      <th>J1_Force</th>\n",
       "      <th>J2_position</th>\n",
       "      <th>J2_Force</th>\n",
       "      <th>J3_position</th>\n",
       "      <th>J3_Force</th>\n",
       "      <th>J4_position</th>\n",
       "      <th>J4_Force</th>\n",
       "      <th>...</th>\n",
       "      <th>J11_position</th>\n",
       "      <th>J11_Force</th>\n",
       "      <th>J12_position</th>\n",
       "      <th>J12_Force</th>\n",
       "      <th>J13_position</th>\n",
       "      <th>J13_Force</th>\n",
       "      <th>J14_position</th>\n",
       "      <th>J14_Force</th>\n",
       "      <th>J15_position</th>\n",
       "      <th>J15_Force</th>\n",
       "    </tr>\n",
       "  </thead>\n",
       "  <tbody>\n",
       "    <tr>\n",
       "      <th>count</th>\n",
       "      <td>104000.000000</td>\n",
       "      <td>104000.000000</td>\n",
       "      <td>104000.000000</td>\n",
       "      <td>104000.000000</td>\n",
       "      <td>104000.000000</td>\n",
       "      <td>104000.000000</td>\n",
       "      <td>104000.000000</td>\n",
       "      <td>104000.000000</td>\n",
       "      <td>104000.000000</td>\n",
       "      <td>104000.000000</td>\n",
       "      <td>...</td>\n",
       "      <td>104000.000000</td>\n",
       "      <td>104000.000000</td>\n",
       "      <td>104000.000000</td>\n",
       "      <td>104000.000000</td>\n",
       "      <td>104000.000000</td>\n",
       "      <td>104000.000000</td>\n",
       "      <td>104000.000000</td>\n",
       "      <td>104000.000000</td>\n",
       "      <td>104000.000000</td>\n",
       "      <td>104000.000000</td>\n",
       "    </tr>\n",
       "    <tr>\n",
       "      <th>mean</th>\n",
       "      <td>0.010377</td>\n",
       "      <td>59.019077</td>\n",
       "      <td>0.757873</td>\n",
       "      <td>58.912398</td>\n",
       "      <td>0.439070</td>\n",
       "      <td>57.599880</td>\n",
       "      <td>0.105654</td>\n",
       "      <td>54.318285</td>\n",
       "      <td>0.017875</td>\n",
       "      <td>73.127612</td>\n",
       "      <td>...</td>\n",
       "      <td>0.343013</td>\n",
       "      <td>73.192579</td>\n",
       "      <td>1.538761</td>\n",
       "      <td>168.922281</td>\n",
       "      <td>0.097913</td>\n",
       "      <td>168.779236</td>\n",
       "      <td>-0.045654</td>\n",
       "      <td>168.651112</td>\n",
       "      <td>0.157913</td>\n",
       "      <td>151.315163</td>\n",
       "    </tr>\n",
       "    <tr>\n",
       "      <th>std</th>\n",
       "      <td>0.055551</td>\n",
       "      <td>46.583395</td>\n",
       "      <td>0.270122</td>\n",
       "      <td>46.528936</td>\n",
       "      <td>0.205687</td>\n",
       "      <td>42.997361</td>\n",
       "      <td>0.307863</td>\n",
       "      <td>39.434538</td>\n",
       "      <td>0.040321</td>\n",
       "      <td>104.034816</td>\n",
       "      <td>...</td>\n",
       "      <td>0.299632</td>\n",
       "      <td>72.030838</td>\n",
       "      <td>0.093073</td>\n",
       "      <td>152.145587</td>\n",
       "      <td>0.187873</td>\n",
       "      <td>151.753968</td>\n",
       "      <td>0.243162</td>\n",
       "      <td>151.604452</td>\n",
       "      <td>0.271902</td>\n",
       "      <td>149.612572</td>\n",
       "    </tr>\n",
       "    <tr>\n",
       "      <th>min</th>\n",
       "      <td>-0.245457</td>\n",
       "      <td>0.869717</td>\n",
       "      <td>0.150982</td>\n",
       "      <td>0.819148</td>\n",
       "      <td>-0.867079</td>\n",
       "      <td>1.449388</td>\n",
       "      <td>-0.878010</td>\n",
       "      <td>3.215971</td>\n",
       "      <td>-0.170895</td>\n",
       "      <td>3.086973</td>\n",
       "      <td>...</td>\n",
       "      <td>-0.589622</td>\n",
       "      <td>2.924713</td>\n",
       "      <td>0.346626</td>\n",
       "      <td>1.215740</td>\n",
       "      <td>-1.108879</td>\n",
       "      <td>1.435768</td>\n",
       "      <td>-0.493507</td>\n",
       "      <td>1.644472</td>\n",
       "      <td>-0.504787</td>\n",
       "      <td>2.091536</td>\n",
       "    </tr>\n",
       "    <tr>\n",
       "      <th>25%</th>\n",
       "      <td>0.001237</td>\n",
       "      <td>27.554567</td>\n",
       "      <td>0.576603</td>\n",
       "      <td>27.540487</td>\n",
       "      <td>0.311816</td>\n",
       "      <td>27.365424</td>\n",
       "      <td>-0.135092</td>\n",
       "      <td>25.684883</td>\n",
       "      <td>0.000031</td>\n",
       "      <td>23.781059</td>\n",
       "      <td>...</td>\n",
       "      <td>0.142518</td>\n",
       "      <td>19.096364</td>\n",
       "      <td>1.526144</td>\n",
       "      <td>66.929315</td>\n",
       "      <td>0.000537</td>\n",
       "      <td>66.907825</td>\n",
       "      <td>-0.292109</td>\n",
       "      <td>66.837465</td>\n",
       "      <td>-0.033042</td>\n",
       "      <td>53.333417</td>\n",
       "    </tr>\n",
       "    <tr>\n",
       "      <th>50%</th>\n",
       "      <td>0.014506</td>\n",
       "      <td>44.450103</td>\n",
       "      <td>0.694840</td>\n",
       "      <td>44.443107</td>\n",
       "      <td>0.443937</td>\n",
       "      <td>44.220685</td>\n",
       "      <td>0.168104</td>\n",
       "      <td>43.202844</td>\n",
       "      <td>0.011537</td>\n",
       "      <td>46.745350</td>\n",
       "      <td>...</td>\n",
       "      <td>0.313514</td>\n",
       "      <td>39.722224</td>\n",
       "      <td>1.548317</td>\n",
       "      <td>124.227595</td>\n",
       "      <td>0.099363</td>\n",
       "      <td>124.280676</td>\n",
       "      <td>-0.001013</td>\n",
       "      <td>124.143252</td>\n",
       "      <td>0.104243</td>\n",
       "      <td>93.046680</td>\n",
       "    </tr>\n",
       "    <tr>\n",
       "      <th>75%</th>\n",
       "      <td>0.030121</td>\n",
       "      <td>85.215340</td>\n",
       "      <td>0.848801</td>\n",
       "      <td>84.945624</td>\n",
       "      <td>0.597703</td>\n",
       "      <td>83.277963</td>\n",
       "      <td>0.321878</td>\n",
       "      <td>77.314024</td>\n",
       "      <td>0.026729</td>\n",
       "      <td>77.366670</td>\n",
       "      <td>...</td>\n",
       "      <td>0.499017</td>\n",
       "      <td>109.572627</td>\n",
       "      <td>1.588869</td>\n",
       "      <td>243.552500</td>\n",
       "      <td>0.199183</td>\n",
       "      <td>243.772409</td>\n",
       "      <td>0.077355</td>\n",
       "      <td>243.557953</td>\n",
       "      <td>0.353742</td>\n",
       "      <td>226.429805</td>\n",
       "    </tr>\n",
       "    <tr>\n",
       "      <th>max</th>\n",
       "      <td>0.302955</td>\n",
       "      <td>630.731861</td>\n",
       "      <td>1.710592</td>\n",
       "      <td>633.479712</td>\n",
       "      <td>1.243738</td>\n",
       "      <td>358.339848</td>\n",
       "      <td>1.044886</td>\n",
       "      <td>358.601367</td>\n",
       "      <td>0.263529</td>\n",
       "      <td>6920.296996</td>\n",
       "      <td>...</td>\n",
       "      <td>1.699928</td>\n",
       "      <td>826.251721</td>\n",
       "      <td>1.730182</td>\n",
       "      <td>2134.194766</td>\n",
       "      <td>1.425054</td>\n",
       "      <td>2137.999104</td>\n",
       "      <td>0.872015</td>\n",
       "      <td>2132.662026</td>\n",
       "      <td>1.820740</td>\n",
       "      <td>2124.201220</td>\n",
       "    </tr>\n",
       "  </tbody>\n",
       "</table>\n",
       "<p>8 rows × 32 columns</p>\n",
       "</div>\n",
       "    <div class=\"colab-df-buttons\">\n",
       "\n",
       "  <div class=\"colab-df-container\">\n",
       "    <button class=\"colab-df-convert\" onclick=\"convertToInteractive('df-e7f0f7ac-b713-4f3e-a086-f11f1bd202c5')\"\n",
       "            title=\"Convert this dataframe to an interactive table.\"\n",
       "            style=\"display:none;\">\n",
       "\n",
       "  <svg xmlns=\"http://www.w3.org/2000/svg\" height=\"24px\" viewBox=\"0 -960 960 960\">\n",
       "    <path d=\"M120-120v-720h720v720H120Zm60-500h600v-160H180v160Zm220 220h160v-160H400v160Zm0 220h160v-160H400v160ZM180-400h160v-160H180v160Zm440 0h160v-160H620v160ZM180-180h160v-160H180v160Zm440 0h160v-160H620v160Z\"/>\n",
       "  </svg>\n",
       "    </button>\n",
       "\n",
       "  <style>\n",
       "    .colab-df-container {\n",
       "      display:flex;\n",
       "      gap: 12px;\n",
       "    }\n",
       "\n",
       "    .colab-df-convert {\n",
       "      background-color: #E8F0FE;\n",
       "      border: none;\n",
       "      border-radius: 50%;\n",
       "      cursor: pointer;\n",
       "      display: none;\n",
       "      fill: #1967D2;\n",
       "      height: 32px;\n",
       "      padding: 0 0 0 0;\n",
       "      width: 32px;\n",
       "    }\n",
       "\n",
       "    .colab-df-convert:hover {\n",
       "      background-color: #E2EBFA;\n",
       "      box-shadow: 0px 1px 2px rgba(60, 64, 67, 0.3), 0px 1px 3px 1px rgba(60, 64, 67, 0.15);\n",
       "      fill: #174EA6;\n",
       "    }\n",
       "\n",
       "    .colab-df-buttons div {\n",
       "      margin-bottom: 4px;\n",
       "    }\n",
       "\n",
       "    [theme=dark] .colab-df-convert {\n",
       "      background-color: #3B4455;\n",
       "      fill: #D2E3FC;\n",
       "    }\n",
       "\n",
       "    [theme=dark] .colab-df-convert:hover {\n",
       "      background-color: #434B5C;\n",
       "      box-shadow: 0px 1px 3px 1px rgba(0, 0, 0, 0.15);\n",
       "      filter: drop-shadow(0px 1px 2px rgba(0, 0, 0, 0.3));\n",
       "      fill: #FFFFFF;\n",
       "    }\n",
       "  </style>\n",
       "\n",
       "    <script>\n",
       "      const buttonEl =\n",
       "        document.querySelector('#df-e7f0f7ac-b713-4f3e-a086-f11f1bd202c5 button.colab-df-convert');\n",
       "      buttonEl.style.display =\n",
       "        google.colab.kernel.accessAllowed ? 'block' : 'none';\n",
       "\n",
       "      async function convertToInteractive(key) {\n",
       "        const element = document.querySelector('#df-e7f0f7ac-b713-4f3e-a086-f11f1bd202c5');\n",
       "        const dataTable =\n",
       "          await google.colab.kernel.invokeFunction('convertToInteractive',\n",
       "                                                    [key], {});\n",
       "        if (!dataTable) return;\n",
       "\n",
       "        const docLinkHtml = 'Like what you see? Visit the ' +\n",
       "          '<a target=\"_blank\" href=https://colab.research.google.com/notebooks/data_table.ipynb>data table notebook</a>'\n",
       "          + ' to learn more about interactive tables.';\n",
       "        element.innerHTML = '';\n",
       "        dataTable['output_type'] = 'display_data';\n",
       "        await google.colab.output.renderOutput(dataTable, element);\n",
       "        const docLink = document.createElement('div');\n",
       "        docLink.innerHTML = docLinkHtml;\n",
       "        element.appendChild(docLink);\n",
       "      }\n",
       "    </script>\n",
       "  </div>\n",
       "\n",
       "\n",
       "<div id=\"df-5cffce07-cd4e-4e02-bd5a-d43d25343aff\">\n",
       "  <button class=\"colab-df-quickchart\" onclick=\"quickchart('df-5cffce07-cd4e-4e02-bd5a-d43d25343aff')\"\n",
       "            title=\"Suggest charts.\"\n",
       "            style=\"display:none;\">\n",
       "\n",
       "<svg xmlns=\"http://www.w3.org/2000/svg\" height=\"24px\"viewBox=\"0 0 24 24\"\n",
       "     width=\"24px\">\n",
       "    <g>\n",
       "        <path d=\"M19 3H5c-1.1 0-2 .9-2 2v14c0 1.1.9 2 2 2h14c1.1 0 2-.9 2-2V5c0-1.1-.9-2-2-2zM9 17H7v-7h2v7zm4 0h-2V7h2v10zm4 0h-2v-4h2v4z\"/>\n",
       "    </g>\n",
       "</svg>\n",
       "  </button>\n",
       "\n",
       "<style>\n",
       "  .colab-df-quickchart {\n",
       "      --bg-color: #E8F0FE;\n",
       "      --fill-color: #1967D2;\n",
       "      --hover-bg-color: #E2EBFA;\n",
       "      --hover-fill-color: #174EA6;\n",
       "      --disabled-fill-color: #AAA;\n",
       "      --disabled-bg-color: #DDD;\n",
       "  }\n",
       "\n",
       "  [theme=dark] .colab-df-quickchart {\n",
       "      --bg-color: #3B4455;\n",
       "      --fill-color: #D2E3FC;\n",
       "      --hover-bg-color: #434B5C;\n",
       "      --hover-fill-color: #FFFFFF;\n",
       "      --disabled-bg-color: #3B4455;\n",
       "      --disabled-fill-color: #666;\n",
       "  }\n",
       "\n",
       "  .colab-df-quickchart {\n",
       "    background-color: var(--bg-color);\n",
       "    border: none;\n",
       "    border-radius: 50%;\n",
       "    cursor: pointer;\n",
       "    display: none;\n",
       "    fill: var(--fill-color);\n",
       "    height: 32px;\n",
       "    padding: 0;\n",
       "    width: 32px;\n",
       "  }\n",
       "\n",
       "  .colab-df-quickchart:hover {\n",
       "    background-color: var(--hover-bg-color);\n",
       "    box-shadow: 0 1px 2px rgba(60, 64, 67, 0.3), 0 1px 3px 1px rgba(60, 64, 67, 0.15);\n",
       "    fill: var(--button-hover-fill-color);\n",
       "  }\n",
       "\n",
       "  .colab-df-quickchart-complete:disabled,\n",
       "  .colab-df-quickchart-complete:disabled:hover {\n",
       "    background-color: var(--disabled-bg-color);\n",
       "    fill: var(--disabled-fill-color);\n",
       "    box-shadow: none;\n",
       "  }\n",
       "\n",
       "  .colab-df-spinner {\n",
       "    border: 2px solid var(--fill-color);\n",
       "    border-color: transparent;\n",
       "    border-bottom-color: var(--fill-color);\n",
       "    animation:\n",
       "      spin 1s steps(1) infinite;\n",
       "  }\n",
       "\n",
       "  @keyframes spin {\n",
       "    0% {\n",
       "      border-color: transparent;\n",
       "      border-bottom-color: var(--fill-color);\n",
       "      border-left-color: var(--fill-color);\n",
       "    }\n",
       "    20% {\n",
       "      border-color: transparent;\n",
       "      border-left-color: var(--fill-color);\n",
       "      border-top-color: var(--fill-color);\n",
       "    }\n",
       "    30% {\n",
       "      border-color: transparent;\n",
       "      border-left-color: var(--fill-color);\n",
       "      border-top-color: var(--fill-color);\n",
       "      border-right-color: var(--fill-color);\n",
       "    }\n",
       "    40% {\n",
       "      border-color: transparent;\n",
       "      border-right-color: var(--fill-color);\n",
       "      border-top-color: var(--fill-color);\n",
       "    }\n",
       "    60% {\n",
       "      border-color: transparent;\n",
       "      border-right-color: var(--fill-color);\n",
       "    }\n",
       "    80% {\n",
       "      border-color: transparent;\n",
       "      border-right-color: var(--fill-color);\n",
       "      border-bottom-color: var(--fill-color);\n",
       "    }\n",
       "    90% {\n",
       "      border-color: transparent;\n",
       "      border-bottom-color: var(--fill-color);\n",
       "    }\n",
       "  }\n",
       "</style>\n",
       "\n",
       "  <script>\n",
       "    async function quickchart(key) {\n",
       "      const quickchartButtonEl =\n",
       "        document.querySelector('#' + key + ' button');\n",
       "      quickchartButtonEl.disabled = true;  // To prevent multiple clicks.\n",
       "      quickchartButtonEl.classList.add('colab-df-spinner');\n",
       "      try {\n",
       "        const charts = await google.colab.kernel.invokeFunction(\n",
       "            'suggestCharts', [key], {});\n",
       "      } catch (error) {\n",
       "        console.error('Error during call to suggestCharts:', error);\n",
       "      }\n",
       "      quickchartButtonEl.classList.remove('colab-df-spinner');\n",
       "      quickchartButtonEl.classList.add('colab-df-quickchart-complete');\n",
       "    }\n",
       "    (() => {\n",
       "      let quickchartButtonEl =\n",
       "        document.querySelector('#df-5cffce07-cd4e-4e02-bd5a-d43d25343aff button');\n",
       "      quickchartButtonEl.style.display =\n",
       "        google.colab.kernel.accessAllowed ? 'block' : 'none';\n",
       "    })();\n",
       "  </script>\n",
       "</div>\n",
       "    </div>\n",
       "  </div>\n"
      ],
      "text/plain": [
       "         J0_position       J0_Force    J1_position       J1_Force  \\\n",
       "count  104000.000000  104000.000000  104000.000000  104000.000000   \n",
       "mean        0.010377      59.019077       0.757873      58.912398   \n",
       "std         0.055551      46.583395       0.270122      46.528936   \n",
       "min        -0.245457       0.869717       0.150982       0.819148   \n",
       "25%         0.001237      27.554567       0.576603      27.540487   \n",
       "50%         0.014506      44.450103       0.694840      44.443107   \n",
       "75%         0.030121      85.215340       0.848801      84.945624   \n",
       "max         0.302955     630.731861       1.710592     633.479712   \n",
       "\n",
       "         J2_position       J2_Force    J3_position       J3_Force  \\\n",
       "count  104000.000000  104000.000000  104000.000000  104000.000000   \n",
       "mean        0.439070      57.599880       0.105654      54.318285   \n",
       "std         0.205687      42.997361       0.307863      39.434538   \n",
       "min        -0.867079       1.449388      -0.878010       3.215971   \n",
       "25%         0.311816      27.365424      -0.135092      25.684883   \n",
       "50%         0.443937      44.220685       0.168104      43.202844   \n",
       "75%         0.597703      83.277963       0.321878      77.314024   \n",
       "max         1.243738     358.339848       1.044886     358.601367   \n",
       "\n",
       "         J4_position       J4_Force  ...   J11_position      J11_Force  \\\n",
       "count  104000.000000  104000.000000  ...  104000.000000  104000.000000   \n",
       "mean        0.017875      73.127612  ...       0.343013      73.192579   \n",
       "std         0.040321     104.034816  ...       0.299632      72.030838   \n",
       "min        -0.170895       3.086973  ...      -0.589622       2.924713   \n",
       "25%         0.000031      23.781059  ...       0.142518      19.096364   \n",
       "50%         0.011537      46.745350  ...       0.313514      39.722224   \n",
       "75%         0.026729      77.366670  ...       0.499017     109.572627   \n",
       "max         0.263529    6920.296996  ...       1.699928     826.251721   \n",
       "\n",
       "        J12_position      J12_Force   J13_position      J13_Force  \\\n",
       "count  104000.000000  104000.000000  104000.000000  104000.000000   \n",
       "mean        1.538761     168.922281       0.097913     168.779236   \n",
       "std         0.093073     152.145587       0.187873     151.753968   \n",
       "min         0.346626       1.215740      -1.108879       1.435768   \n",
       "25%         1.526144      66.929315       0.000537      66.907825   \n",
       "50%         1.548317     124.227595       0.099363     124.280676   \n",
       "75%         1.588869     243.552500       0.199183     243.772409   \n",
       "max         1.730182    2134.194766       1.425054    2137.999104   \n",
       "\n",
       "        J14_position      J14_Force   J15_position      J15_Force  \n",
       "count  104000.000000  104000.000000  104000.000000  104000.000000  \n",
       "mean       -0.045654     168.651112       0.157913     151.315163  \n",
       "std         0.243162     151.604452       0.271902     149.612572  \n",
       "min        -0.493507       1.644472      -0.504787       2.091536  \n",
       "25%        -0.292109      66.837465      -0.033042      53.333417  \n",
       "50%        -0.001013     124.143252       0.104243      93.046680  \n",
       "75%         0.077355     243.557953       0.353742     226.429805  \n",
       "max         0.872015    2132.662026       1.820740    2124.201220  \n",
       "\n",
       "[8 rows x 32 columns]"
      ]
     },
     "execution_count": 9,
     "metadata": {},
     "output_type": "execute_result"
    }
   ],
   "source": [
    "X_train.describe()"
   ]
  },
  {
   "cell_type": "code",
   "execution_count": null,
   "metadata": {
    "colab": {
     "base_uri": "https://localhost:8080/",
     "height": 349
    },
    "id": "c_Z18OrfSuW0",
    "outputId": "e71e5176-bfdc-4ec7-fbbc-f353f583f9ea"
   },
   "outputs": [
    {
     "data": {
      "text/html": [
       "\n",
       "  <div id=\"df-405f8e41-1bad-4b07-9c1f-05bdfe97ab4e\" class=\"colab-df-container\">\n",
       "    <div>\n",
       "<style scoped>\n",
       "    .dataframe tbody tr th:only-of-type {\n",
       "        vertical-align: middle;\n",
       "    }\n",
       "\n",
       "    .dataframe tbody tr th {\n",
       "        vertical-align: top;\n",
       "    }\n",
       "\n",
       "    .dataframe thead th {\n",
       "        text-align: right;\n",
       "    }\n",
       "</style>\n",
       "<table border=\"1\" class=\"dataframe\">\n",
       "  <thead>\n",
       "    <tr style=\"text-align: right;\">\n",
       "      <th></th>\n",
       "      <th>J0_position</th>\n",
       "      <th>J0_Force</th>\n",
       "      <th>J1_position</th>\n",
       "      <th>J1_Force</th>\n",
       "      <th>J2_position</th>\n",
       "      <th>J2_Force</th>\n",
       "      <th>J3_position</th>\n",
       "      <th>J3_Force</th>\n",
       "      <th>J4_position</th>\n",
       "      <th>J4_Force</th>\n",
       "      <th>...</th>\n",
       "      <th>J11_position</th>\n",
       "      <th>J11_Force</th>\n",
       "      <th>J12_position</th>\n",
       "      <th>J12_Force</th>\n",
       "      <th>J13_position</th>\n",
       "      <th>J13_Force</th>\n",
       "      <th>J14_position</th>\n",
       "      <th>J14_Force</th>\n",
       "      <th>J15_position</th>\n",
       "      <th>J15_Force</th>\n",
       "    </tr>\n",
       "  </thead>\n",
       "  <tbody>\n",
       "    <tr>\n",
       "      <th>count</th>\n",
       "      <td>26000.000000</td>\n",
       "      <td>26000.000000</td>\n",
       "      <td>26000.000000</td>\n",
       "      <td>26000.000000</td>\n",
       "      <td>26000.000000</td>\n",
       "      <td>26000.000000</td>\n",
       "      <td>26000.000000</td>\n",
       "      <td>26000.000000</td>\n",
       "      <td>26000.000000</td>\n",
       "      <td>26000.000000</td>\n",
       "      <td>...</td>\n",
       "      <td>26000.000000</td>\n",
       "      <td>26000.000000</td>\n",
       "      <td>26000.000000</td>\n",
       "      <td>26000.000000</td>\n",
       "      <td>26000.000000</td>\n",
       "      <td>26000.000000</td>\n",
       "      <td>26000.000000</td>\n",
       "      <td>26000.000000</td>\n",
       "      <td>26000.000000</td>\n",
       "      <td>26000.000000</td>\n",
       "    </tr>\n",
       "    <tr>\n",
       "      <th>mean</th>\n",
       "      <td>0.010750</td>\n",
       "      <td>59.043329</td>\n",
       "      <td>0.757758</td>\n",
       "      <td>58.939814</td>\n",
       "      <td>0.439112</td>\n",
       "      <td>57.506686</td>\n",
       "      <td>0.105795</td>\n",
       "      <td>54.188163</td>\n",
       "      <td>0.017795</td>\n",
       "      <td>72.528570</td>\n",
       "      <td>...</td>\n",
       "      <td>0.342211</td>\n",
       "      <td>73.302435</td>\n",
       "      <td>1.538584</td>\n",
       "      <td>167.856262</td>\n",
       "      <td>0.097469</td>\n",
       "      <td>167.704795</td>\n",
       "      <td>-0.044745</td>\n",
       "      <td>167.645605</td>\n",
       "      <td>0.157781</td>\n",
       "      <td>150.911514</td>\n",
       "    </tr>\n",
       "    <tr>\n",
       "      <th>std</th>\n",
       "      <td>0.055664</td>\n",
       "      <td>46.803846</td>\n",
       "      <td>0.270392</td>\n",
       "      <td>46.746137</td>\n",
       "      <td>0.205466</td>\n",
       "      <td>42.772196</td>\n",
       "      <td>0.307529</td>\n",
       "      <td>39.180159</td>\n",
       "      <td>0.040551</td>\n",
       "      <td>87.889941</td>\n",
       "      <td>...</td>\n",
       "      <td>0.298618</td>\n",
       "      <td>72.069633</td>\n",
       "      <td>0.095435</td>\n",
       "      <td>150.242809</td>\n",
       "      <td>0.188040</td>\n",
       "      <td>149.820428</td>\n",
       "      <td>0.243447</td>\n",
       "      <td>149.874731</td>\n",
       "      <td>0.273309</td>\n",
       "      <td>148.928822</td>\n",
       "    </tr>\n",
       "    <tr>\n",
       "      <th>min</th>\n",
       "      <td>-0.241188</td>\n",
       "      <td>1.071530</td>\n",
       "      <td>0.169419</td>\n",
       "      <td>0.635060</td>\n",
       "      <td>-0.836450</td>\n",
       "      <td>1.798398</td>\n",
       "      <td>-0.873046</td>\n",
       "      <td>3.142798</td>\n",
       "      <td>-0.170528</td>\n",
       "      <td>0.893441</td>\n",
       "      <td>...</td>\n",
       "      <td>-0.573349</td>\n",
       "      <td>5.331310</td>\n",
       "      <td>0.347416</td>\n",
       "      <td>2.066557</td>\n",
       "      <td>-1.106442</td>\n",
       "      <td>2.232496</td>\n",
       "      <td>-0.491846</td>\n",
       "      <td>1.794654</td>\n",
       "      <td>-0.504623</td>\n",
       "      <td>2.360655</td>\n",
       "    </tr>\n",
       "    <tr>\n",
       "      <th>25%</th>\n",
       "      <td>0.001273</td>\n",
       "      <td>27.407552</td>\n",
       "      <td>0.577786</td>\n",
       "      <td>27.371548</td>\n",
       "      <td>0.311367</td>\n",
       "      <td>27.256905</td>\n",
       "      <td>-0.134792</td>\n",
       "      <td>25.567268</td>\n",
       "      <td>-0.000008</td>\n",
       "      <td>23.739231</td>\n",
       "      <td>...</td>\n",
       "      <td>0.140829</td>\n",
       "      <td>19.140674</td>\n",
       "      <td>1.527273</td>\n",
       "      <td>65.961657</td>\n",
       "      <td>0.000206</td>\n",
       "      <td>65.907064</td>\n",
       "      <td>-0.292119</td>\n",
       "      <td>65.865595</td>\n",
       "      <td>-0.034278</td>\n",
       "      <td>52.668712</td>\n",
       "    </tr>\n",
       "    <tr>\n",
       "      <th>50%</th>\n",
       "      <td>0.014466</td>\n",
       "      <td>44.667781</td>\n",
       "      <td>0.695022</td>\n",
       "      <td>44.636677</td>\n",
       "      <td>0.443164</td>\n",
       "      <td>44.392968</td>\n",
       "      <td>0.168841</td>\n",
       "      <td>43.425935</td>\n",
       "      <td>0.011527</td>\n",
       "      <td>46.989677</td>\n",
       "      <td>...</td>\n",
       "      <td>0.314293</td>\n",
       "      <td>39.922820</td>\n",
       "      <td>1.548380</td>\n",
       "      <td>124.042660</td>\n",
       "      <td>0.097171</td>\n",
       "      <td>124.070058</td>\n",
       "      <td>0.000109</td>\n",
       "      <td>124.035432</td>\n",
       "      <td>0.103709</td>\n",
       "      <td>93.221167</td>\n",
       "    </tr>\n",
       "    <tr>\n",
       "      <th>75%</th>\n",
       "      <td>0.030294</td>\n",
       "      <td>85.008126</td>\n",
       "      <td>0.845948</td>\n",
       "      <td>84.716815</td>\n",
       "      <td>0.597611</td>\n",
       "      <td>82.904280</td>\n",
       "      <td>0.321453</td>\n",
       "      <td>77.025957</td>\n",
       "      <td>0.026684</td>\n",
       "      <td>77.176399</td>\n",
       "      <td>...</td>\n",
       "      <td>0.502240</td>\n",
       "      <td>109.714413</td>\n",
       "      <td>1.589288</td>\n",
       "      <td>243.101599</td>\n",
       "      <td>0.198643</td>\n",
       "      <td>243.212916</td>\n",
       "      <td>0.077913</td>\n",
       "      <td>243.180702</td>\n",
       "      <td>0.353754</td>\n",
       "      <td>225.911573</td>\n",
       "    </tr>\n",
       "    <tr>\n",
       "      <th>max</th>\n",
       "      <td>0.303366</td>\n",
       "      <td>544.983063</td>\n",
       "      <td>1.710356</td>\n",
       "      <td>544.175606</td>\n",
       "      <td>1.242769</td>\n",
       "      <td>322.423008</td>\n",
       "      <td>1.032131</td>\n",
       "      <td>322.219117</td>\n",
       "      <td>0.261181</td>\n",
       "      <td>2735.904587</td>\n",
       "      <td>...</td>\n",
       "      <td>1.668118</td>\n",
       "      <td>688.076451</td>\n",
       "      <td>1.722217</td>\n",
       "      <td>1352.028231</td>\n",
       "      <td>1.465783</td>\n",
       "      <td>1361.567870</td>\n",
       "      <td>0.872022</td>\n",
       "      <td>1355.024021</td>\n",
       "      <td>1.820615</td>\n",
       "      <td>1330.888324</td>\n",
       "    </tr>\n",
       "  </tbody>\n",
       "</table>\n",
       "<p>8 rows × 32 columns</p>\n",
       "</div>\n",
       "    <div class=\"colab-df-buttons\">\n",
       "\n",
       "  <div class=\"colab-df-container\">\n",
       "    <button class=\"colab-df-convert\" onclick=\"convertToInteractive('df-405f8e41-1bad-4b07-9c1f-05bdfe97ab4e')\"\n",
       "            title=\"Convert this dataframe to an interactive table.\"\n",
       "            style=\"display:none;\">\n",
       "\n",
       "  <svg xmlns=\"http://www.w3.org/2000/svg\" height=\"24px\" viewBox=\"0 -960 960 960\">\n",
       "    <path d=\"M120-120v-720h720v720H120Zm60-500h600v-160H180v160Zm220 220h160v-160H400v160Zm0 220h160v-160H400v160ZM180-400h160v-160H180v160Zm440 0h160v-160H620v160ZM180-180h160v-160H180v160Zm440 0h160v-160H620v160Z\"/>\n",
       "  </svg>\n",
       "    </button>\n",
       "\n",
       "  <style>\n",
       "    .colab-df-container {\n",
       "      display:flex;\n",
       "      gap: 12px;\n",
       "    }\n",
       "\n",
       "    .colab-df-convert {\n",
       "      background-color: #E8F0FE;\n",
       "      border: none;\n",
       "      border-radius: 50%;\n",
       "      cursor: pointer;\n",
       "      display: none;\n",
       "      fill: #1967D2;\n",
       "      height: 32px;\n",
       "      padding: 0 0 0 0;\n",
       "      width: 32px;\n",
       "    }\n",
       "\n",
       "    .colab-df-convert:hover {\n",
       "      background-color: #E2EBFA;\n",
       "      box-shadow: 0px 1px 2px rgba(60, 64, 67, 0.3), 0px 1px 3px 1px rgba(60, 64, 67, 0.15);\n",
       "      fill: #174EA6;\n",
       "    }\n",
       "\n",
       "    .colab-df-buttons div {\n",
       "      margin-bottom: 4px;\n",
       "    }\n",
       "\n",
       "    [theme=dark] .colab-df-convert {\n",
       "      background-color: #3B4455;\n",
       "      fill: #D2E3FC;\n",
       "    }\n",
       "\n",
       "    [theme=dark] .colab-df-convert:hover {\n",
       "      background-color: #434B5C;\n",
       "      box-shadow: 0px 1px 3px 1px rgba(0, 0, 0, 0.15);\n",
       "      filter: drop-shadow(0px 1px 2px rgba(0, 0, 0, 0.3));\n",
       "      fill: #FFFFFF;\n",
       "    }\n",
       "  </style>\n",
       "\n",
       "    <script>\n",
       "      const buttonEl =\n",
       "        document.querySelector('#df-405f8e41-1bad-4b07-9c1f-05bdfe97ab4e button.colab-df-convert');\n",
       "      buttonEl.style.display =\n",
       "        google.colab.kernel.accessAllowed ? 'block' : 'none';\n",
       "\n",
       "      async function convertToInteractive(key) {\n",
       "        const element = document.querySelector('#df-405f8e41-1bad-4b07-9c1f-05bdfe97ab4e');\n",
       "        const dataTable =\n",
       "          await google.colab.kernel.invokeFunction('convertToInteractive',\n",
       "                                                    [key], {});\n",
       "        if (!dataTable) return;\n",
       "\n",
       "        const docLinkHtml = 'Like what you see? Visit the ' +\n",
       "          '<a target=\"_blank\" href=https://colab.research.google.com/notebooks/data_table.ipynb>data table notebook</a>'\n",
       "          + ' to learn more about interactive tables.';\n",
       "        element.innerHTML = '';\n",
       "        dataTable['output_type'] = 'display_data';\n",
       "        await google.colab.output.renderOutput(dataTable, element);\n",
       "        const docLink = document.createElement('div');\n",
       "        docLink.innerHTML = docLinkHtml;\n",
       "        element.appendChild(docLink);\n",
       "      }\n",
       "    </script>\n",
       "  </div>\n",
       "\n",
       "\n",
       "<div id=\"df-bd51c44e-a77d-48bc-add2-07b7b4516ee1\">\n",
       "  <button class=\"colab-df-quickchart\" onclick=\"quickchart('df-bd51c44e-a77d-48bc-add2-07b7b4516ee1')\"\n",
       "            title=\"Suggest charts.\"\n",
       "            style=\"display:none;\">\n",
       "\n",
       "<svg xmlns=\"http://www.w3.org/2000/svg\" height=\"24px\"viewBox=\"0 0 24 24\"\n",
       "     width=\"24px\">\n",
       "    <g>\n",
       "        <path d=\"M19 3H5c-1.1 0-2 .9-2 2v14c0 1.1.9 2 2 2h14c1.1 0 2-.9 2-2V5c0-1.1-.9-2-2-2zM9 17H7v-7h2v7zm4 0h-2V7h2v10zm4 0h-2v-4h2v4z\"/>\n",
       "    </g>\n",
       "</svg>\n",
       "  </button>\n",
       "\n",
       "<style>\n",
       "  .colab-df-quickchart {\n",
       "      --bg-color: #E8F0FE;\n",
       "      --fill-color: #1967D2;\n",
       "      --hover-bg-color: #E2EBFA;\n",
       "      --hover-fill-color: #174EA6;\n",
       "      --disabled-fill-color: #AAA;\n",
       "      --disabled-bg-color: #DDD;\n",
       "  }\n",
       "\n",
       "  [theme=dark] .colab-df-quickchart {\n",
       "      --bg-color: #3B4455;\n",
       "      --fill-color: #D2E3FC;\n",
       "      --hover-bg-color: #434B5C;\n",
       "      --hover-fill-color: #FFFFFF;\n",
       "      --disabled-bg-color: #3B4455;\n",
       "      --disabled-fill-color: #666;\n",
       "  }\n",
       "\n",
       "  .colab-df-quickchart {\n",
       "    background-color: var(--bg-color);\n",
       "    border: none;\n",
       "    border-radius: 50%;\n",
       "    cursor: pointer;\n",
       "    display: none;\n",
       "    fill: var(--fill-color);\n",
       "    height: 32px;\n",
       "    padding: 0;\n",
       "    width: 32px;\n",
       "  }\n",
       "\n",
       "  .colab-df-quickchart:hover {\n",
       "    background-color: var(--hover-bg-color);\n",
       "    box-shadow: 0 1px 2px rgba(60, 64, 67, 0.3), 0 1px 3px 1px rgba(60, 64, 67, 0.15);\n",
       "    fill: var(--button-hover-fill-color);\n",
       "  }\n",
       "\n",
       "  .colab-df-quickchart-complete:disabled,\n",
       "  .colab-df-quickchart-complete:disabled:hover {\n",
       "    background-color: var(--disabled-bg-color);\n",
       "    fill: var(--disabled-fill-color);\n",
       "    box-shadow: none;\n",
       "  }\n",
       "\n",
       "  .colab-df-spinner {\n",
       "    border: 2px solid var(--fill-color);\n",
       "    border-color: transparent;\n",
       "    border-bottom-color: var(--fill-color);\n",
       "    animation:\n",
       "      spin 1s steps(1) infinite;\n",
       "  }\n",
       "\n",
       "  @keyframes spin {\n",
       "    0% {\n",
       "      border-color: transparent;\n",
       "      border-bottom-color: var(--fill-color);\n",
       "      border-left-color: var(--fill-color);\n",
       "    }\n",
       "    20% {\n",
       "      border-color: transparent;\n",
       "      border-left-color: var(--fill-color);\n",
       "      border-top-color: var(--fill-color);\n",
       "    }\n",
       "    30% {\n",
       "      border-color: transparent;\n",
       "      border-left-color: var(--fill-color);\n",
       "      border-top-color: var(--fill-color);\n",
       "      border-right-color: var(--fill-color);\n",
       "    }\n",
       "    40% {\n",
       "      border-color: transparent;\n",
       "      border-right-color: var(--fill-color);\n",
       "      border-top-color: var(--fill-color);\n",
       "    }\n",
       "    60% {\n",
       "      border-color: transparent;\n",
       "      border-right-color: var(--fill-color);\n",
       "    }\n",
       "    80% {\n",
       "      border-color: transparent;\n",
       "      border-right-color: var(--fill-color);\n",
       "      border-bottom-color: var(--fill-color);\n",
       "    }\n",
       "    90% {\n",
       "      border-color: transparent;\n",
       "      border-bottom-color: var(--fill-color);\n",
       "    }\n",
       "  }\n",
       "</style>\n",
       "\n",
       "  <script>\n",
       "    async function quickchart(key) {\n",
       "      const quickchartButtonEl =\n",
       "        document.querySelector('#' + key + ' button');\n",
       "      quickchartButtonEl.disabled = true;  // To prevent multiple clicks.\n",
       "      quickchartButtonEl.classList.add('colab-df-spinner');\n",
       "      try {\n",
       "        const charts = await google.colab.kernel.invokeFunction(\n",
       "            'suggestCharts', [key], {});\n",
       "      } catch (error) {\n",
       "        console.error('Error during call to suggestCharts:', error);\n",
       "      }\n",
       "      quickchartButtonEl.classList.remove('colab-df-spinner');\n",
       "      quickchartButtonEl.classList.add('colab-df-quickchart-complete');\n",
       "    }\n",
       "    (() => {\n",
       "      let quickchartButtonEl =\n",
       "        document.querySelector('#df-bd51c44e-a77d-48bc-add2-07b7b4516ee1 button');\n",
       "      quickchartButtonEl.style.display =\n",
       "        google.colab.kernel.accessAllowed ? 'block' : 'none';\n",
       "    })();\n",
       "  </script>\n",
       "</div>\n",
       "    </div>\n",
       "  </div>\n"
      ],
      "text/plain": [
       "        J0_position      J0_Force   J1_position      J1_Force   J2_position  \\\n",
       "count  26000.000000  26000.000000  26000.000000  26000.000000  26000.000000   \n",
       "mean       0.010750     59.043329      0.757758     58.939814      0.439112   \n",
       "std        0.055664     46.803846      0.270392     46.746137      0.205466   \n",
       "min       -0.241188      1.071530      0.169419      0.635060     -0.836450   \n",
       "25%        0.001273     27.407552      0.577786     27.371548      0.311367   \n",
       "50%        0.014466     44.667781      0.695022     44.636677      0.443164   \n",
       "75%        0.030294     85.008126      0.845948     84.716815      0.597611   \n",
       "max        0.303366    544.983063      1.710356    544.175606      1.242769   \n",
       "\n",
       "           J2_Force   J3_position      J3_Force   J4_position      J4_Force  \\\n",
       "count  26000.000000  26000.000000  26000.000000  26000.000000  26000.000000   \n",
       "mean      57.506686      0.105795     54.188163      0.017795     72.528570   \n",
       "std       42.772196      0.307529     39.180159      0.040551     87.889941   \n",
       "min        1.798398     -0.873046      3.142798     -0.170528      0.893441   \n",
       "25%       27.256905     -0.134792     25.567268     -0.000008     23.739231   \n",
       "50%       44.392968      0.168841     43.425935      0.011527     46.989677   \n",
       "75%       82.904280      0.321453     77.025957      0.026684     77.176399   \n",
       "max      322.423008      1.032131    322.219117      0.261181   2735.904587   \n",
       "\n",
       "       ...  J11_position     J11_Force  J12_position     J12_Force  \\\n",
       "count  ...  26000.000000  26000.000000  26000.000000  26000.000000   \n",
       "mean   ...      0.342211     73.302435      1.538584    167.856262   \n",
       "std    ...      0.298618     72.069633      0.095435    150.242809   \n",
       "min    ...     -0.573349      5.331310      0.347416      2.066557   \n",
       "25%    ...      0.140829     19.140674      1.527273     65.961657   \n",
       "50%    ...      0.314293     39.922820      1.548380    124.042660   \n",
       "75%    ...      0.502240    109.714413      1.589288    243.101599   \n",
       "max    ...      1.668118    688.076451      1.722217   1352.028231   \n",
       "\n",
       "       J13_position     J13_Force  J14_position     J14_Force  J15_position  \\\n",
       "count  26000.000000  26000.000000  26000.000000  26000.000000  26000.000000   \n",
       "mean       0.097469    167.704795     -0.044745    167.645605      0.157781   \n",
       "std        0.188040    149.820428      0.243447    149.874731      0.273309   \n",
       "min       -1.106442      2.232496     -0.491846      1.794654     -0.504623   \n",
       "25%        0.000206     65.907064     -0.292119     65.865595     -0.034278   \n",
       "50%        0.097171    124.070058      0.000109    124.035432      0.103709   \n",
       "75%        0.198643    243.212916      0.077913    243.180702      0.353754   \n",
       "max        1.465783   1361.567870      0.872022   1355.024021      1.820615   \n",
       "\n",
       "          J15_Force  \n",
       "count  26000.000000  \n",
       "mean     150.911514  \n",
       "std      148.928822  \n",
       "min        2.360655  \n",
       "25%       52.668712  \n",
       "50%       93.221167  \n",
       "75%      225.911573  \n",
       "max     1330.888324  \n",
       "\n",
       "[8 rows x 32 columns]"
      ]
     },
     "execution_count": 10,
     "metadata": {},
     "output_type": "execute_result"
    }
   ],
   "source": [
    "X_test.describe()"
   ]
  },
  {
   "cell_type": "code",
   "execution_count": null,
   "metadata": {
    "colab": {
     "base_uri": "https://localhost:8080/",
     "height": 443
    },
    "id": "J0-_mxGcSuk-",
    "outputId": "936abc22-ad27-4265-c1c3-8f90b39c147f"
   },
   "outputs": [
    {
     "data": {
      "text/html": [
       "\n",
       "  <div id=\"df-15c1c450-8fdb-4cdc-9c90-94c4e585b6e0\" class=\"colab-df-container\">\n",
       "    <div>\n",
       "<style scoped>\n",
       "    .dataframe tbody tr th:only-of-type {\n",
       "        vertical-align: middle;\n",
       "    }\n",
       "\n",
       "    .dataframe tbody tr th {\n",
       "        vertical-align: top;\n",
       "    }\n",
       "\n",
       "    .dataframe thead th {\n",
       "        text-align: right;\n",
       "    }\n",
       "</style>\n",
       "<table border=\"1\" class=\"dataframe\">\n",
       "  <thead>\n",
       "    <tr style=\"text-align: right;\">\n",
       "      <th></th>\n",
       "      <th>J0_position</th>\n",
       "      <th>J0_Force</th>\n",
       "      <th>J1_position</th>\n",
       "      <th>J1_Force</th>\n",
       "      <th>J2_position</th>\n",
       "      <th>J2_Force</th>\n",
       "      <th>J3_position</th>\n",
       "      <th>J3_Force</th>\n",
       "      <th>J4_position</th>\n",
       "      <th>J4_Force</th>\n",
       "      <th>...</th>\n",
       "      <th>J11_position</th>\n",
       "      <th>J11_Force</th>\n",
       "      <th>J12_position</th>\n",
       "      <th>J12_Force</th>\n",
       "      <th>J13_position</th>\n",
       "      <th>J13_Force</th>\n",
       "      <th>J14_position</th>\n",
       "      <th>J14_Force</th>\n",
       "      <th>J15_position</th>\n",
       "      <th>J15_Force</th>\n",
       "    </tr>\n",
       "  </thead>\n",
       "  <tbody>\n",
       "    <tr>\n",
       "      <th>0</th>\n",
       "      <td>0.009786</td>\n",
       "      <td>104.351794</td>\n",
       "      <td>0.546490</td>\n",
       "      <td>104.338198</td>\n",
       "      <td>0.384963</td>\n",
       "      <td>104.267620</td>\n",
       "      <td>-0.310730</td>\n",
       "      <td>104.840006</td>\n",
       "      <td>0.013076</td>\n",
       "      <td>57.979368</td>\n",
       "      <td>...</td>\n",
       "      <td>0.390803</td>\n",
       "      <td>105.879330</td>\n",
       "      <td>1.542467</td>\n",
       "      <td>266.063906</td>\n",
       "      <td>0.250837</td>\n",
       "      <td>266.096220</td>\n",
       "      <td>-0.115038</td>\n",
       "      <td>266.091886</td>\n",
       "      <td>0.111861</td>\n",
       "      <td>266.050631</td>\n",
       "    </tr>\n",
       "    <tr>\n",
       "      <th>1</th>\n",
       "      <td>0.071798</td>\n",
       "      <td>47.750220</td>\n",
       "      <td>0.875184</td>\n",
       "      <td>47.741112</td>\n",
       "      <td>0.736651</td>\n",
       "      <td>47.693654</td>\n",
       "      <td>0.288597</td>\n",
       "      <td>47.587819</td>\n",
       "      <td>0.053620</td>\n",
       "      <td>50.020249</td>\n",
       "      <td>...</td>\n",
       "      <td>0.670850</td>\n",
       "      <td>99.985989</td>\n",
       "      <td>1.534317</td>\n",
       "      <td>161.109601</td>\n",
       "      <td>0.132790</td>\n",
       "      <td>161.104654</td>\n",
       "      <td>-0.197171</td>\n",
       "      <td>161.140641</td>\n",
       "      <td>0.551562</td>\n",
       "      <td>161.309158</td>\n",
       "    </tr>\n",
       "    <tr>\n",
       "      <th>2</th>\n",
       "      <td>0.016403</td>\n",
       "      <td>24.056021</td>\n",
       "      <td>0.607792</td>\n",
       "      <td>24.416491</td>\n",
       "      <td>0.597581</td>\n",
       "      <td>26.951786</td>\n",
       "      <td>0.165221</td>\n",
       "      <td>29.055573</td>\n",
       "      <td>0.003436</td>\n",
       "      <td>58.506011</td>\n",
       "      <td>...</td>\n",
       "      <td>0.337532</td>\n",
       "      <td>41.081555</td>\n",
       "      <td>1.548550</td>\n",
       "      <td>71.098654</td>\n",
       "      <td>0.586026</td>\n",
       "      <td>71.574493</td>\n",
       "      <td>0.028959</td>\n",
       "      <td>69.896322</td>\n",
       "      <td>-0.141075</td>\n",
       "      <td>64.418194</td>\n",
       "    </tr>\n",
       "    <tr>\n",
       "      <th>3</th>\n",
       "      <td>0.017546</td>\n",
       "      <td>41.109085</td>\n",
       "      <td>0.648372</td>\n",
       "      <td>41.097631</td>\n",
       "      <td>0.410927</td>\n",
       "      <td>41.036163</td>\n",
       "      <td>0.296264</td>\n",
       "      <td>27.815145</td>\n",
       "      <td>0.014571</td>\n",
       "      <td>25.404348</td>\n",
       "      <td>...</td>\n",
       "      <td>0.318431</td>\n",
       "      <td>28.611590</td>\n",
       "      <td>1.543291</td>\n",
       "      <td>98.536199</td>\n",
       "      <td>0.134482</td>\n",
       "      <td>98.519135</td>\n",
       "      <td>0.009753</td>\n",
       "      <td>98.484929</td>\n",
       "      <td>0.085085</td>\n",
       "      <td>98.355228</td>\n",
       "    </tr>\n",
       "    <tr>\n",
       "      <th>4</th>\n",
       "      <td>-0.131836</td>\n",
       "      <td>75.208992</td>\n",
       "      <td>0.802505</td>\n",
       "      <td>74.165394</td>\n",
       "      <td>0.465034</td>\n",
       "      <td>68.509771</td>\n",
       "      <td>0.517057</td>\n",
       "      <td>65.740103</td>\n",
       "      <td>-0.048976</td>\n",
       "      <td>165.847831</td>\n",
       "      <td>...</td>\n",
       "      <td>0.774161</td>\n",
       "      <td>211.228996</td>\n",
       "      <td>1.498319</td>\n",
       "      <td>410.974099</td>\n",
       "      <td>0.222266</td>\n",
       "      <td>410.490621</td>\n",
       "      <td>-0.317619</td>\n",
       "      <td>411.477469</td>\n",
       "      <td>0.766448</td>\n",
       "      <td>396.303329</td>\n",
       "    </tr>\n",
       "    <tr>\n",
       "      <th>...</th>\n",
       "      <td>...</td>\n",
       "      <td>...</td>\n",
       "      <td>...</td>\n",
       "      <td>...</td>\n",
       "      <td>...</td>\n",
       "      <td>...</td>\n",
       "      <td>...</td>\n",
       "      <td>...</td>\n",
       "      <td>...</td>\n",
       "      <td>...</td>\n",
       "      <td>...</td>\n",
       "      <td>...</td>\n",
       "      <td>...</td>\n",
       "      <td>...</td>\n",
       "      <td>...</td>\n",
       "      <td>...</td>\n",
       "      <td>...</td>\n",
       "      <td>...</td>\n",
       "      <td>...</td>\n",
       "      <td>...</td>\n",
       "      <td>...</td>\n",
       "    </tr>\n",
       "    <tr>\n",
       "      <th>25995</th>\n",
       "      <td>0.001476</td>\n",
       "      <td>10.744247</td>\n",
       "      <td>0.758046</td>\n",
       "      <td>10.630004</td>\n",
       "      <td>0.784031</td>\n",
       "      <td>10.007535</td>\n",
       "      <td>0.230671</td>\n",
       "      <td>9.677469</td>\n",
       "      <td>0.001163</td>\n",
       "      <td>10.605830</td>\n",
       "      <td>...</td>\n",
       "      <td>0.335339</td>\n",
       "      <td>17.223968</td>\n",
       "      <td>1.614494</td>\n",
       "      <td>14.068160</td>\n",
       "      <td>0.023397</td>\n",
       "      <td>13.984338</td>\n",
       "      <td>0.084325</td>\n",
       "      <td>13.848997</td>\n",
       "      <td>0.204087</td>\n",
       "      <td>8.543576</td>\n",
       "    </tr>\n",
       "    <tr>\n",
       "      <th>25996</th>\n",
       "      <td>0.225909</td>\n",
       "      <td>106.884103</td>\n",
       "      <td>0.608045</td>\n",
       "      <td>106.886382</td>\n",
       "      <td>0.530822</td>\n",
       "      <td>106.902916</td>\n",
       "      <td>0.381490</td>\n",
       "      <td>69.542631</td>\n",
       "      <td>0.193205</td>\n",
       "      <td>49.949125</td>\n",
       "      <td>...</td>\n",
       "      <td>0.487840</td>\n",
       "      <td>132.622270</td>\n",
       "      <td>1.523860</td>\n",
       "      <td>234.300511</td>\n",
       "      <td>0.175064</td>\n",
       "      <td>234.293104</td>\n",
       "      <td>-0.275213</td>\n",
       "      <td>234.272760</td>\n",
       "      <td>0.476786</td>\n",
       "      <td>121.220785</td>\n",
       "    </tr>\n",
       "    <tr>\n",
       "      <th>25997</th>\n",
       "      <td>0.058375</td>\n",
       "      <td>77.086686</td>\n",
       "      <td>0.715811</td>\n",
       "      <td>76.544435</td>\n",
       "      <td>0.406238</td>\n",
       "      <td>74.036217</td>\n",
       "      <td>0.383465</td>\n",
       "      <td>74.579521</td>\n",
       "      <td>0.058289</td>\n",
       "      <td>116.031860</td>\n",
       "      <td>...</td>\n",
       "      <td>0.678046</td>\n",
       "      <td>125.517225</td>\n",
       "      <td>1.507271</td>\n",
       "      <td>249.579236</td>\n",
       "      <td>0.146511</td>\n",
       "      <td>249.973944</td>\n",
       "      <td>-0.387625</td>\n",
       "      <td>249.615286</td>\n",
       "      <td>0.407653</td>\n",
       "      <td>247.678163</td>\n",
       "    </tr>\n",
       "    <tr>\n",
       "      <th>25998</th>\n",
       "      <td>0.005426</td>\n",
       "      <td>28.144848</td>\n",
       "      <td>0.587001</td>\n",
       "      <td>28.182676</td>\n",
       "      <td>0.755417</td>\n",
       "      <td>26.608374</td>\n",
       "      <td>-0.078174</td>\n",
       "      <td>29.637256</td>\n",
       "      <td>0.001609</td>\n",
       "      <td>7.875354</td>\n",
       "      <td>...</td>\n",
       "      <td>0.231841</td>\n",
       "      <td>9.034118</td>\n",
       "      <td>1.582597</td>\n",
       "      <td>43.474422</td>\n",
       "      <td>-0.046180</td>\n",
       "      <td>43.689856</td>\n",
       "      <td>0.078914</td>\n",
       "      <td>43.817078</td>\n",
       "      <td>0.095219</td>\n",
       "      <td>44.234315</td>\n",
       "    </tr>\n",
       "    <tr>\n",
       "      <th>25999</th>\n",
       "      <td>0.015079</td>\n",
       "      <td>29.824876</td>\n",
       "      <td>0.744451</td>\n",
       "      <td>29.627893</td>\n",
       "      <td>0.672026</td>\n",
       "      <td>28.536884</td>\n",
       "      <td>0.143133</td>\n",
       "      <td>28.692887</td>\n",
       "      <td>0.012329</td>\n",
       "      <td>31.669911</td>\n",
       "      <td>...</td>\n",
       "      <td>0.440673</td>\n",
       "      <td>13.350920</td>\n",
       "      <td>1.627391</td>\n",
       "      <td>59.361883</td>\n",
       "      <td>-0.228783</td>\n",
       "      <td>59.408702</td>\n",
       "      <td>0.070530</td>\n",
       "      <td>57.835259</td>\n",
       "      <td>0.191200</td>\n",
       "      <td>46.729470</td>\n",
       "    </tr>\n",
       "  </tbody>\n",
       "</table>\n",
       "<p>26000 rows × 32 columns</p>\n",
       "</div>\n",
       "    <div class=\"colab-df-buttons\">\n",
       "\n",
       "  <div class=\"colab-df-container\">\n",
       "    <button class=\"colab-df-convert\" onclick=\"convertToInteractive('df-15c1c450-8fdb-4cdc-9c90-94c4e585b6e0')\"\n",
       "            title=\"Convert this dataframe to an interactive table.\"\n",
       "            style=\"display:none;\">\n",
       "\n",
       "  <svg xmlns=\"http://www.w3.org/2000/svg\" height=\"24px\" viewBox=\"0 -960 960 960\">\n",
       "    <path d=\"M120-120v-720h720v720H120Zm60-500h600v-160H180v160Zm220 220h160v-160H400v160Zm0 220h160v-160H400v160ZM180-400h160v-160H180v160Zm440 0h160v-160H620v160ZM180-180h160v-160H180v160Zm440 0h160v-160H620v160Z\"/>\n",
       "  </svg>\n",
       "    </button>\n",
       "\n",
       "  <style>\n",
       "    .colab-df-container {\n",
       "      display:flex;\n",
       "      gap: 12px;\n",
       "    }\n",
       "\n",
       "    .colab-df-convert {\n",
       "      background-color: #E8F0FE;\n",
       "      border: none;\n",
       "      border-radius: 50%;\n",
       "      cursor: pointer;\n",
       "      display: none;\n",
       "      fill: #1967D2;\n",
       "      height: 32px;\n",
       "      padding: 0 0 0 0;\n",
       "      width: 32px;\n",
       "    }\n",
       "\n",
       "    .colab-df-convert:hover {\n",
       "      background-color: #E2EBFA;\n",
       "      box-shadow: 0px 1px 2px rgba(60, 64, 67, 0.3), 0px 1px 3px 1px rgba(60, 64, 67, 0.15);\n",
       "      fill: #174EA6;\n",
       "    }\n",
       "\n",
       "    .colab-df-buttons div {\n",
       "      margin-bottom: 4px;\n",
       "    }\n",
       "\n",
       "    [theme=dark] .colab-df-convert {\n",
       "      background-color: #3B4455;\n",
       "      fill: #D2E3FC;\n",
       "    }\n",
       "\n",
       "    [theme=dark] .colab-df-convert:hover {\n",
       "      background-color: #434B5C;\n",
       "      box-shadow: 0px 1px 3px 1px rgba(0, 0, 0, 0.15);\n",
       "      filter: drop-shadow(0px 1px 2px rgba(0, 0, 0, 0.3));\n",
       "      fill: #FFFFFF;\n",
       "    }\n",
       "  </style>\n",
       "\n",
       "    <script>\n",
       "      const buttonEl =\n",
       "        document.querySelector('#df-15c1c450-8fdb-4cdc-9c90-94c4e585b6e0 button.colab-df-convert');\n",
       "      buttonEl.style.display =\n",
       "        google.colab.kernel.accessAllowed ? 'block' : 'none';\n",
       "\n",
       "      async function convertToInteractive(key) {\n",
       "        const element = document.querySelector('#df-15c1c450-8fdb-4cdc-9c90-94c4e585b6e0');\n",
       "        const dataTable =\n",
       "          await google.colab.kernel.invokeFunction('convertToInteractive',\n",
       "                                                    [key], {});\n",
       "        if (!dataTable) return;\n",
       "\n",
       "        const docLinkHtml = 'Like what you see? Visit the ' +\n",
       "          '<a target=\"_blank\" href=https://colab.research.google.com/notebooks/data_table.ipynb>data table notebook</a>'\n",
       "          + ' to learn more about interactive tables.';\n",
       "        element.innerHTML = '';\n",
       "        dataTable['output_type'] = 'display_data';\n",
       "        await google.colab.output.renderOutput(dataTable, element);\n",
       "        const docLink = document.createElement('div');\n",
       "        docLink.innerHTML = docLinkHtml;\n",
       "        element.appendChild(docLink);\n",
       "      }\n",
       "    </script>\n",
       "  </div>\n",
       "\n",
       "\n",
       "<div id=\"df-84cce682-e2cf-4e92-8b7b-11f5629d0185\">\n",
       "  <button class=\"colab-df-quickchart\" onclick=\"quickchart('df-84cce682-e2cf-4e92-8b7b-11f5629d0185')\"\n",
       "            title=\"Suggest charts.\"\n",
       "            style=\"display:none;\">\n",
       "\n",
       "<svg xmlns=\"http://www.w3.org/2000/svg\" height=\"24px\"viewBox=\"0 0 24 24\"\n",
       "     width=\"24px\">\n",
       "    <g>\n",
       "        <path d=\"M19 3H5c-1.1 0-2 .9-2 2v14c0 1.1.9 2 2 2h14c1.1 0 2-.9 2-2V5c0-1.1-.9-2-2-2zM9 17H7v-7h2v7zm4 0h-2V7h2v10zm4 0h-2v-4h2v4z\"/>\n",
       "    </g>\n",
       "</svg>\n",
       "  </button>\n",
       "\n",
       "<style>\n",
       "  .colab-df-quickchart {\n",
       "      --bg-color: #E8F0FE;\n",
       "      --fill-color: #1967D2;\n",
       "      --hover-bg-color: #E2EBFA;\n",
       "      --hover-fill-color: #174EA6;\n",
       "      --disabled-fill-color: #AAA;\n",
       "      --disabled-bg-color: #DDD;\n",
       "  }\n",
       "\n",
       "  [theme=dark] .colab-df-quickchart {\n",
       "      --bg-color: #3B4455;\n",
       "      --fill-color: #D2E3FC;\n",
       "      --hover-bg-color: #434B5C;\n",
       "      --hover-fill-color: #FFFFFF;\n",
       "      --disabled-bg-color: #3B4455;\n",
       "      --disabled-fill-color: #666;\n",
       "  }\n",
       "\n",
       "  .colab-df-quickchart {\n",
       "    background-color: var(--bg-color);\n",
       "    border: none;\n",
       "    border-radius: 50%;\n",
       "    cursor: pointer;\n",
       "    display: none;\n",
       "    fill: var(--fill-color);\n",
       "    height: 32px;\n",
       "    padding: 0;\n",
       "    width: 32px;\n",
       "  }\n",
       "\n",
       "  .colab-df-quickchart:hover {\n",
       "    background-color: var(--hover-bg-color);\n",
       "    box-shadow: 0 1px 2px rgba(60, 64, 67, 0.3), 0 1px 3px 1px rgba(60, 64, 67, 0.15);\n",
       "    fill: var(--button-hover-fill-color);\n",
       "  }\n",
       "\n",
       "  .colab-df-quickchart-complete:disabled,\n",
       "  .colab-df-quickchart-complete:disabled:hover {\n",
       "    background-color: var(--disabled-bg-color);\n",
       "    fill: var(--disabled-fill-color);\n",
       "    box-shadow: none;\n",
       "  }\n",
       "\n",
       "  .colab-df-spinner {\n",
       "    border: 2px solid var(--fill-color);\n",
       "    border-color: transparent;\n",
       "    border-bottom-color: var(--fill-color);\n",
       "    animation:\n",
       "      spin 1s steps(1) infinite;\n",
       "  }\n",
       "\n",
       "  @keyframes spin {\n",
       "    0% {\n",
       "      border-color: transparent;\n",
       "      border-bottom-color: var(--fill-color);\n",
       "      border-left-color: var(--fill-color);\n",
       "    }\n",
       "    20% {\n",
       "      border-color: transparent;\n",
       "      border-left-color: var(--fill-color);\n",
       "      border-top-color: var(--fill-color);\n",
       "    }\n",
       "    30% {\n",
       "      border-color: transparent;\n",
       "      border-left-color: var(--fill-color);\n",
       "      border-top-color: var(--fill-color);\n",
       "      border-right-color: var(--fill-color);\n",
       "    }\n",
       "    40% {\n",
       "      border-color: transparent;\n",
       "      border-right-color: var(--fill-color);\n",
       "      border-top-color: var(--fill-color);\n",
       "    }\n",
       "    60% {\n",
       "      border-color: transparent;\n",
       "      border-right-color: var(--fill-color);\n",
       "    }\n",
       "    80% {\n",
       "      border-color: transparent;\n",
       "      border-right-color: var(--fill-color);\n",
       "      border-bottom-color: var(--fill-color);\n",
       "    }\n",
       "    90% {\n",
       "      border-color: transparent;\n",
       "      border-bottom-color: var(--fill-color);\n",
       "    }\n",
       "  }\n",
       "</style>\n",
       "\n",
       "  <script>\n",
       "    async function quickchart(key) {\n",
       "      const quickchartButtonEl =\n",
       "        document.querySelector('#' + key + ' button');\n",
       "      quickchartButtonEl.disabled = true;  // To prevent multiple clicks.\n",
       "      quickchartButtonEl.classList.add('colab-df-spinner');\n",
       "      try {\n",
       "        const charts = await google.colab.kernel.invokeFunction(\n",
       "            'suggestCharts', [key], {});\n",
       "      } catch (error) {\n",
       "        console.error('Error during call to suggestCharts:', error);\n",
       "      }\n",
       "      quickchartButtonEl.classList.remove('colab-df-spinner');\n",
       "      quickchartButtonEl.classList.add('colab-df-quickchart-complete');\n",
       "    }\n",
       "    (() => {\n",
       "      let quickchartButtonEl =\n",
       "        document.querySelector('#df-84cce682-e2cf-4e92-8b7b-11f5629d0185 button');\n",
       "      quickchartButtonEl.style.display =\n",
       "        google.colab.kernel.accessAllowed ? 'block' : 'none';\n",
       "    })();\n",
       "  </script>\n",
       "</div>\n",
       "    </div>\n",
       "  </div>\n"
      ],
      "text/plain": [
       "       J0_position    J0_Force  J1_position    J1_Force  J2_position  \\\n",
       "0         0.009786  104.351794     0.546490  104.338198     0.384963   \n",
       "1         0.071798   47.750220     0.875184   47.741112     0.736651   \n",
       "2         0.016403   24.056021     0.607792   24.416491     0.597581   \n",
       "3         0.017546   41.109085     0.648372   41.097631     0.410927   \n",
       "4        -0.131836   75.208992     0.802505   74.165394     0.465034   \n",
       "...            ...         ...          ...         ...          ...   \n",
       "25995     0.001476   10.744247     0.758046   10.630004     0.784031   \n",
       "25996     0.225909  106.884103     0.608045  106.886382     0.530822   \n",
       "25997     0.058375   77.086686     0.715811   76.544435     0.406238   \n",
       "25998     0.005426   28.144848     0.587001   28.182676     0.755417   \n",
       "25999     0.015079   29.824876     0.744451   29.627893     0.672026   \n",
       "\n",
       "         J2_Force  J3_position    J3_Force  J4_position    J4_Force  ...  \\\n",
       "0      104.267620    -0.310730  104.840006     0.013076   57.979368  ...   \n",
       "1       47.693654     0.288597   47.587819     0.053620   50.020249  ...   \n",
       "2       26.951786     0.165221   29.055573     0.003436   58.506011  ...   \n",
       "3       41.036163     0.296264   27.815145     0.014571   25.404348  ...   \n",
       "4       68.509771     0.517057   65.740103    -0.048976  165.847831  ...   \n",
       "...           ...          ...         ...          ...         ...  ...   \n",
       "25995   10.007535     0.230671    9.677469     0.001163   10.605830  ...   \n",
       "25996  106.902916     0.381490   69.542631     0.193205   49.949125  ...   \n",
       "25997   74.036217     0.383465   74.579521     0.058289  116.031860  ...   \n",
       "25998   26.608374    -0.078174   29.637256     0.001609    7.875354  ...   \n",
       "25999   28.536884     0.143133   28.692887     0.012329   31.669911  ...   \n",
       "\n",
       "       J11_position   J11_Force  J12_position   J12_Force  J13_position  \\\n",
       "0          0.390803  105.879330      1.542467  266.063906      0.250837   \n",
       "1          0.670850   99.985989      1.534317  161.109601      0.132790   \n",
       "2          0.337532   41.081555      1.548550   71.098654      0.586026   \n",
       "3          0.318431   28.611590      1.543291   98.536199      0.134482   \n",
       "4          0.774161  211.228996      1.498319  410.974099      0.222266   \n",
       "...             ...         ...           ...         ...           ...   \n",
       "25995      0.335339   17.223968      1.614494   14.068160      0.023397   \n",
       "25996      0.487840  132.622270      1.523860  234.300511      0.175064   \n",
       "25997      0.678046  125.517225      1.507271  249.579236      0.146511   \n",
       "25998      0.231841    9.034118      1.582597   43.474422     -0.046180   \n",
       "25999      0.440673   13.350920      1.627391   59.361883     -0.228783   \n",
       "\n",
       "        J13_Force  J14_position   J14_Force  J15_position   J15_Force  \n",
       "0      266.096220     -0.115038  266.091886      0.111861  266.050631  \n",
       "1      161.104654     -0.197171  161.140641      0.551562  161.309158  \n",
       "2       71.574493      0.028959   69.896322     -0.141075   64.418194  \n",
       "3       98.519135      0.009753   98.484929      0.085085   98.355228  \n",
       "4      410.490621     -0.317619  411.477469      0.766448  396.303329  \n",
       "...           ...           ...         ...           ...         ...  \n",
       "25995   13.984338      0.084325   13.848997      0.204087    8.543576  \n",
       "25996  234.293104     -0.275213  234.272760      0.476786  121.220785  \n",
       "25997  249.973944     -0.387625  249.615286      0.407653  247.678163  \n",
       "25998   43.689856      0.078914   43.817078      0.095219   44.234315  \n",
       "25999   59.408702      0.070530   57.835259      0.191200   46.729470  \n",
       "\n",
       "[26000 rows x 32 columns]"
      ]
     },
     "execution_count": 11,
     "metadata": {},
     "output_type": "execute_result"
    }
   ],
   "source": [
    "X_test"
   ]
  },
  {
   "cell_type": "code",
   "execution_count": null,
   "metadata": {
    "id": "7DIGKOz7Supa"
   },
   "outputs": [],
   "source": []
  },
  {
   "cell_type": "markdown",
   "metadata": {
    "id": "xOElbxJmtEJ0"
   },
   "source": [
    "## Standard Scaler"
   ]
  },
  {
   "cell_type": "code",
   "execution_count": null,
   "metadata": {
    "id": "cqmIzq3EgsI5"
   },
   "outputs": [],
   "source": [
    "from sklearn.preprocessing import StandardScaler\n",
    "scaler = StandardScaler()\n",
    "scalar = StandardScaler().fit(X_train)\n",
    "scalar\n",
    "X_train= scalar.transform(X_train)\n"
   ]
  },
  {
   "cell_type": "code",
   "execution_count": null,
   "metadata": {
    "id": "DH77NpQiVeFs"
   },
   "outputs": [],
   "source": [
    "X_test = scalar.transform(X_test)\n",
    "X_test= pd.DataFrame(X_test)"
   ]
  },
  {
   "cell_type": "code",
   "execution_count": null,
   "metadata": {
    "colab": {
     "base_uri": "https://localhost:8080/",
     "height": 419
    },
    "id": "4CoV1FjQVAEy",
    "outputId": "fe739349-7604-42cd-9a4e-c90155c91e63"
   },
   "outputs": [
    {
     "data": {
      "text/html": [
       "\n",
       "  <div id=\"df-12d84756-7eda-431b-b039-ca437d5b802e\" class=\"colab-df-container\">\n",
       "    <div>\n",
       "<style scoped>\n",
       "    .dataframe tbody tr th:only-of-type {\n",
       "        vertical-align: middle;\n",
       "    }\n",
       "\n",
       "    .dataframe tbody tr th {\n",
       "        vertical-align: top;\n",
       "    }\n",
       "\n",
       "    .dataframe thead th {\n",
       "        text-align: right;\n",
       "    }\n",
       "</style>\n",
       "<table border=\"1\" class=\"dataframe\">\n",
       "  <thead>\n",
       "    <tr style=\"text-align: right;\">\n",
       "      <th></th>\n",
       "      <th>0</th>\n",
       "      <th>1</th>\n",
       "      <th>2</th>\n",
       "      <th>3</th>\n",
       "      <th>4</th>\n",
       "      <th>5</th>\n",
       "      <th>6</th>\n",
       "      <th>7</th>\n",
       "      <th>8</th>\n",
       "      <th>9</th>\n",
       "      <th>...</th>\n",
       "      <th>22</th>\n",
       "      <th>23</th>\n",
       "      <th>24</th>\n",
       "      <th>25</th>\n",
       "      <th>26</th>\n",
       "      <th>27</th>\n",
       "      <th>28</th>\n",
       "      <th>29</th>\n",
       "      <th>30</th>\n",
       "      <th>31</th>\n",
       "    </tr>\n",
       "  </thead>\n",
       "  <tbody>\n",
       "    <tr>\n",
       "      <th>count</th>\n",
       "      <td>1.040000e+05</td>\n",
       "      <td>1.040000e+05</td>\n",
       "      <td>1.040000e+05</td>\n",
       "      <td>1.040000e+05</td>\n",
       "      <td>1.040000e+05</td>\n",
       "      <td>1.040000e+05</td>\n",
       "      <td>1.040000e+05</td>\n",
       "      <td>1.040000e+05</td>\n",
       "      <td>1.040000e+05</td>\n",
       "      <td>1.040000e+05</td>\n",
       "      <td>...</td>\n",
       "      <td>1.040000e+05</td>\n",
       "      <td>1.040000e+05</td>\n",
       "      <td>1.040000e+05</td>\n",
       "      <td>1.040000e+05</td>\n",
       "      <td>1.040000e+05</td>\n",
       "      <td>1.040000e+05</td>\n",
       "      <td>1.040000e+05</td>\n",
       "      <td>1.040000e+05</td>\n",
       "      <td>1.040000e+05</td>\n",
       "      <td>1.040000e+05</td>\n",
       "    </tr>\n",
       "    <tr>\n",
       "      <th>mean</th>\n",
       "      <td>-3.907985e-17</td>\n",
       "      <td>-1.560461e-16</td>\n",
       "      <td>-6.176256e-17</td>\n",
       "      <td>6.784317e-17</td>\n",
       "      <td>-2.022314e-17</td>\n",
       "      <td>-5.260749e-17</td>\n",
       "      <td>-3.019807e-17</td>\n",
       "      <td>-9.701641e-17</td>\n",
       "      <td>1.236618e-17</td>\n",
       "      <td>-1.143017e-16</td>\n",
       "      <td>...</td>\n",
       "      <td>-2.206782e-16</td>\n",
       "      <td>-3.432468e-16</td>\n",
       "      <td>6.843073e-16</td>\n",
       "      <td>7.283063e-17</td>\n",
       "      <td>5.465713e-17</td>\n",
       "      <td>8.786134e-17</td>\n",
       "      <td>-3.672276e-17</td>\n",
       "      <td>1.242083e-16</td>\n",
       "      <td>1.239009e-16</td>\n",
       "      <td>1.844678e-17</td>\n",
       "    </tr>\n",
       "    <tr>\n",
       "      <th>std</th>\n",
       "      <td>1.000005e+00</td>\n",
       "      <td>1.000005e+00</td>\n",
       "      <td>1.000005e+00</td>\n",
       "      <td>1.000005e+00</td>\n",
       "      <td>1.000005e+00</td>\n",
       "      <td>1.000005e+00</td>\n",
       "      <td>1.000005e+00</td>\n",
       "      <td>1.000005e+00</td>\n",
       "      <td>1.000005e+00</td>\n",
       "      <td>1.000005e+00</td>\n",
       "      <td>...</td>\n",
       "      <td>1.000005e+00</td>\n",
       "      <td>1.000005e+00</td>\n",
       "      <td>1.000005e+00</td>\n",
       "      <td>1.000005e+00</td>\n",
       "      <td>1.000005e+00</td>\n",
       "      <td>1.000005e+00</td>\n",
       "      <td>1.000005e+00</td>\n",
       "      <td>1.000005e+00</td>\n",
       "      <td>1.000005e+00</td>\n",
       "      <td>1.000005e+00</td>\n",
       "    </tr>\n",
       "    <tr>\n",
       "      <th>min</th>\n",
       "      <td>-4.605402e+00</td>\n",
       "      <td>-1.248291e+00</td>\n",
       "      <td>-2.246745e+00</td>\n",
       "      <td>-1.248546e+00</td>\n",
       "      <td>-6.350220e+00</td>\n",
       "      <td>-1.305912e+00</td>\n",
       "      <td>-3.195149e+00</td>\n",
       "      <td>-1.295883e+00</td>\n",
       "      <td>-4.681675e+00</td>\n",
       "      <td>-6.732455e-01</td>\n",
       "      <td>...</td>\n",
       "      <td>-3.112612e+00</td>\n",
       "      <td>-9.755294e-01</td>\n",
       "      <td>-1.280867e+01</td>\n",
       "      <td>-1.102282e+00</td>\n",
       "      <td>-6.423476e+00</td>\n",
       "      <td>-1.102734e+00</td>\n",
       "      <td>-1.841798e+00</td>\n",
       "      <td>-1.101600e+00</td>\n",
       "      <td>-2.437290e+00</td>\n",
       "      <td>-9.974051e-01</td>\n",
       "    </tr>\n",
       "    <tr>\n",
       "      <th>25%</th>\n",
       "      <td>-1.645376e-01</td>\n",
       "      <td>-6.754480e-01</td>\n",
       "      <td>-6.710739e-01</td>\n",
       "      <td>-6.742484e-01</td>\n",
       "      <td>-6.186799e-01</td>\n",
       "      <td>-7.031734e-01</td>\n",
       "      <td>-7.819924e-01</td>\n",
       "      <td>-7.261031e-01</td>\n",
       "      <td>-4.425446e-01</td>\n",
       "      <td>-4.743296e-01</td>\n",
       "      <td>...</td>\n",
       "      <td>-6.691405e-01</td>\n",
       "      <td>-7.510183e-01</td>\n",
       "      <td>-1.355671e-01</td>\n",
       "      <td>-6.703675e-01</td>\n",
       "      <td>-5.183116e-01</td>\n",
       "      <td>-6.712965e-01</td>\n",
       "      <td>-1.013549e+00</td>\n",
       "      <td>-6.715775e-01</td>\n",
       "      <td>-7.022957e-01</td>\n",
       "      <td>-6.549063e-01</td>\n",
       "    </tr>\n",
       "    <tr>\n",
       "      <th>50%</th>\n",
       "      <td>7.432692e-02</td>\n",
       "      <td>-3.127519e-01</td>\n",
       "      <td>-2.333536e-01</td>\n",
       "      <td>-3.109755e-01</td>\n",
       "      <td>2.366564e-02</td>\n",
       "      <td>-3.111647e-01</td>\n",
       "      <td>2.028513e-01</td>\n",
       "      <td>-2.818721e-01</td>\n",
       "      <td>-1.571730e-01</td>\n",
       "      <td>-2.535919e-01</td>\n",
       "      <td>...</td>\n",
       "      <td>-9.844896e-02</td>\n",
       "      <td>-4.646692e-01</td>\n",
       "      <td>1.026644e-01</td>\n",
       "      <td>-2.937640e-01</td>\n",
       "      <td>7.715062e-03</td>\n",
       "      <td>-2.932297e-01</td>\n",
       "      <td>1.835833e-01</td>\n",
       "      <td>-2.935803e-01</td>\n",
       "      <td>-1.973862e-01</td>\n",
       "      <td>-3.894644e-01</td>\n",
       "    </tr>\n",
       "    <tr>\n",
       "      <th>75%</th>\n",
       "      <td>3.554338e-01</td>\n",
       "      <td>5.623547e-01</td>\n",
       "      <td>3.366195e-01</td>\n",
       "      <td>5.595088e-01</td>\n",
       "      <td>7.712403e-01</td>\n",
       "      <td>5.972042e-01</td>\n",
       "      <td>7.023432e-01</td>\n",
       "      <td>5.831398e-01</td>\n",
       "      <td>2.195885e-01</td>\n",
       "      <td>4.074673e-02</td>\n",
       "      <td>...</td>\n",
       "      <td>5.206536e-01</td>\n",
       "      <td>5.050646e-01</td>\n",
       "      <td>5.383741e-01</td>\n",
       "      <td>4.905208e-01</td>\n",
       "      <td>5.390371e-01</td>\n",
       "      <td>4.941784e-01</td>\n",
       "      <td>5.058735e-01</td>\n",
       "      <td>4.940963e-01</td>\n",
       "      <td>7.202255e-01</td>\n",
       "      <td>5.020634e-01</td>\n",
       "    </tr>\n",
       "    <tr>\n",
       "      <th>max</th>\n",
       "      <td>5.266859e+00</td>\n",
       "      <td>1.227295e+01</td>\n",
       "      <td>3.527016e+00</td>\n",
       "      <td>1.234866e+01</td>\n",
       "      <td>3.912128e+00</td>\n",
       "      <td>6.994416e+00</td>\n",
       "      <td>3.050829e+00</td>\n",
       "      <td>7.716194e+00</td>\n",
       "      <td>6.092447e+00</td>\n",
       "      <td>6.581645e+01</td>\n",
       "      <td>...</td>\n",
       "      <td>4.528625e+00</td>\n",
       "      <td>1.045473e+01</td>\n",
       "      <td>2.056687e+00</td>\n",
       "      <td>1.291711e+01</td>\n",
       "      <td>7.064065e+00</td>\n",
       "      <td>1.297646e+01</td>\n",
       "      <td>3.773920e+00</td>\n",
       "      <td>1.295490e+01</td>\n",
       "      <td>6.115577e+00</td>\n",
       "      <td>1.318670e+01</td>\n",
       "    </tr>\n",
       "  </tbody>\n",
       "</table>\n",
       "<p>8 rows × 32 columns</p>\n",
       "</div>\n",
       "    <div class=\"colab-df-buttons\">\n",
       "\n",
       "  <div class=\"colab-df-container\">\n",
       "    <button class=\"colab-df-convert\" onclick=\"convertToInteractive('df-12d84756-7eda-431b-b039-ca437d5b802e')\"\n",
       "            title=\"Convert this dataframe to an interactive table.\"\n",
       "            style=\"display:none;\">\n",
       "\n",
       "  <svg xmlns=\"http://www.w3.org/2000/svg\" height=\"24px\" viewBox=\"0 -960 960 960\">\n",
       "    <path d=\"M120-120v-720h720v720H120Zm60-500h600v-160H180v160Zm220 220h160v-160H400v160Zm0 220h160v-160H400v160ZM180-400h160v-160H180v160Zm440 0h160v-160H620v160ZM180-180h160v-160H180v160Zm440 0h160v-160H620v160Z\"/>\n",
       "  </svg>\n",
       "    </button>\n",
       "\n",
       "  <style>\n",
       "    .colab-df-container {\n",
       "      display:flex;\n",
       "      gap: 12px;\n",
       "    }\n",
       "\n",
       "    .colab-df-convert {\n",
       "      background-color: #E8F0FE;\n",
       "      border: none;\n",
       "      border-radius: 50%;\n",
       "      cursor: pointer;\n",
       "      display: none;\n",
       "      fill: #1967D2;\n",
       "      height: 32px;\n",
       "      padding: 0 0 0 0;\n",
       "      width: 32px;\n",
       "    }\n",
       "\n",
       "    .colab-df-convert:hover {\n",
       "      background-color: #E2EBFA;\n",
       "      box-shadow: 0px 1px 2px rgba(60, 64, 67, 0.3), 0px 1px 3px 1px rgba(60, 64, 67, 0.15);\n",
       "      fill: #174EA6;\n",
       "    }\n",
       "\n",
       "    .colab-df-buttons div {\n",
       "      margin-bottom: 4px;\n",
       "    }\n",
       "\n",
       "    [theme=dark] .colab-df-convert {\n",
       "      background-color: #3B4455;\n",
       "      fill: #D2E3FC;\n",
       "    }\n",
       "\n",
       "    [theme=dark] .colab-df-convert:hover {\n",
       "      background-color: #434B5C;\n",
       "      box-shadow: 0px 1px 3px 1px rgba(0, 0, 0, 0.15);\n",
       "      filter: drop-shadow(0px 1px 2px rgba(0, 0, 0, 0.3));\n",
       "      fill: #FFFFFF;\n",
       "    }\n",
       "  </style>\n",
       "\n",
       "    <script>\n",
       "      const buttonEl =\n",
       "        document.querySelector('#df-12d84756-7eda-431b-b039-ca437d5b802e button.colab-df-convert');\n",
       "      buttonEl.style.display =\n",
       "        google.colab.kernel.accessAllowed ? 'block' : 'none';\n",
       "\n",
       "      async function convertToInteractive(key) {\n",
       "        const element = document.querySelector('#df-12d84756-7eda-431b-b039-ca437d5b802e');\n",
       "        const dataTable =\n",
       "          await google.colab.kernel.invokeFunction('convertToInteractive',\n",
       "                                                    [key], {});\n",
       "        if (!dataTable) return;\n",
       "\n",
       "        const docLinkHtml = 'Like what you see? Visit the ' +\n",
       "          '<a target=\"_blank\" href=https://colab.research.google.com/notebooks/data_table.ipynb>data table notebook</a>'\n",
       "          + ' to learn more about interactive tables.';\n",
       "        element.innerHTML = '';\n",
       "        dataTable['output_type'] = 'display_data';\n",
       "        await google.colab.output.renderOutput(dataTable, element);\n",
       "        const docLink = document.createElement('div');\n",
       "        docLink.innerHTML = docLinkHtml;\n",
       "        element.appendChild(docLink);\n",
       "      }\n",
       "    </script>\n",
       "  </div>\n",
       "\n",
       "\n",
       "<div id=\"df-99b7563e-213a-422f-b921-217b4fbf3eb5\">\n",
       "  <button class=\"colab-df-quickchart\" onclick=\"quickchart('df-99b7563e-213a-422f-b921-217b4fbf3eb5')\"\n",
       "            title=\"Suggest charts.\"\n",
       "            style=\"display:none;\">\n",
       "\n",
       "<svg xmlns=\"http://www.w3.org/2000/svg\" height=\"24px\"viewBox=\"0 0 24 24\"\n",
       "     width=\"24px\">\n",
       "    <g>\n",
       "        <path d=\"M19 3H5c-1.1 0-2 .9-2 2v14c0 1.1.9 2 2 2h14c1.1 0 2-.9 2-2V5c0-1.1-.9-2-2-2zM9 17H7v-7h2v7zm4 0h-2V7h2v10zm4 0h-2v-4h2v4z\"/>\n",
       "    </g>\n",
       "</svg>\n",
       "  </button>\n",
       "\n",
       "<style>\n",
       "  .colab-df-quickchart {\n",
       "      --bg-color: #E8F0FE;\n",
       "      --fill-color: #1967D2;\n",
       "      --hover-bg-color: #E2EBFA;\n",
       "      --hover-fill-color: #174EA6;\n",
       "      --disabled-fill-color: #AAA;\n",
       "      --disabled-bg-color: #DDD;\n",
       "  }\n",
       "\n",
       "  [theme=dark] .colab-df-quickchart {\n",
       "      --bg-color: #3B4455;\n",
       "      --fill-color: #D2E3FC;\n",
       "      --hover-bg-color: #434B5C;\n",
       "      --hover-fill-color: #FFFFFF;\n",
       "      --disabled-bg-color: #3B4455;\n",
       "      --disabled-fill-color: #666;\n",
       "  }\n",
       "\n",
       "  .colab-df-quickchart {\n",
       "    background-color: var(--bg-color);\n",
       "    border: none;\n",
       "    border-radius: 50%;\n",
       "    cursor: pointer;\n",
       "    display: none;\n",
       "    fill: var(--fill-color);\n",
       "    height: 32px;\n",
       "    padding: 0;\n",
       "    width: 32px;\n",
       "  }\n",
       "\n",
       "  .colab-df-quickchart:hover {\n",
       "    background-color: var(--hover-bg-color);\n",
       "    box-shadow: 0 1px 2px rgba(60, 64, 67, 0.3), 0 1px 3px 1px rgba(60, 64, 67, 0.15);\n",
       "    fill: var(--button-hover-fill-color);\n",
       "  }\n",
       "\n",
       "  .colab-df-quickchart-complete:disabled,\n",
       "  .colab-df-quickchart-complete:disabled:hover {\n",
       "    background-color: var(--disabled-bg-color);\n",
       "    fill: var(--disabled-fill-color);\n",
       "    box-shadow: none;\n",
       "  }\n",
       "\n",
       "  .colab-df-spinner {\n",
       "    border: 2px solid var(--fill-color);\n",
       "    border-color: transparent;\n",
       "    border-bottom-color: var(--fill-color);\n",
       "    animation:\n",
       "      spin 1s steps(1) infinite;\n",
       "  }\n",
       "\n",
       "  @keyframes spin {\n",
       "    0% {\n",
       "      border-color: transparent;\n",
       "      border-bottom-color: var(--fill-color);\n",
       "      border-left-color: var(--fill-color);\n",
       "    }\n",
       "    20% {\n",
       "      border-color: transparent;\n",
       "      border-left-color: var(--fill-color);\n",
       "      border-top-color: var(--fill-color);\n",
       "    }\n",
       "    30% {\n",
       "      border-color: transparent;\n",
       "      border-left-color: var(--fill-color);\n",
       "      border-top-color: var(--fill-color);\n",
       "      border-right-color: var(--fill-color);\n",
       "    }\n",
       "    40% {\n",
       "      border-color: transparent;\n",
       "      border-right-color: var(--fill-color);\n",
       "      border-top-color: var(--fill-color);\n",
       "    }\n",
       "    60% {\n",
       "      border-color: transparent;\n",
       "      border-right-color: var(--fill-color);\n",
       "    }\n",
       "    80% {\n",
       "      border-color: transparent;\n",
       "      border-right-color: var(--fill-color);\n",
       "      border-bottom-color: var(--fill-color);\n",
       "    }\n",
       "    90% {\n",
       "      border-color: transparent;\n",
       "      border-bottom-color: var(--fill-color);\n",
       "    }\n",
       "  }\n",
       "</style>\n",
       "\n",
       "  <script>\n",
       "    async function quickchart(key) {\n",
       "      const quickchartButtonEl =\n",
       "        document.querySelector('#' + key + ' button');\n",
       "      quickchartButtonEl.disabled = true;  // To prevent multiple clicks.\n",
       "      quickchartButtonEl.classList.add('colab-df-spinner');\n",
       "      try {\n",
       "        const charts = await google.colab.kernel.invokeFunction(\n",
       "            'suggestCharts', [key], {});\n",
       "      } catch (error) {\n",
       "        console.error('Error during call to suggestCharts:', error);\n",
       "      }\n",
       "      quickchartButtonEl.classList.remove('colab-df-spinner');\n",
       "      quickchartButtonEl.classList.add('colab-df-quickchart-complete');\n",
       "    }\n",
       "    (() => {\n",
       "      let quickchartButtonEl =\n",
       "        document.querySelector('#df-99b7563e-213a-422f-b921-217b4fbf3eb5 button');\n",
       "      quickchartButtonEl.style.display =\n",
       "        google.colab.kernel.accessAllowed ? 'block' : 'none';\n",
       "    })();\n",
       "  </script>\n",
       "</div>\n",
       "    </div>\n",
       "  </div>\n"
      ],
      "text/plain": [
       "                 0             1             2             3             4   \\\n",
       "count  1.040000e+05  1.040000e+05  1.040000e+05  1.040000e+05  1.040000e+05   \n",
       "mean  -3.907985e-17 -1.560461e-16 -6.176256e-17  6.784317e-17 -2.022314e-17   \n",
       "std    1.000005e+00  1.000005e+00  1.000005e+00  1.000005e+00  1.000005e+00   \n",
       "min   -4.605402e+00 -1.248291e+00 -2.246745e+00 -1.248546e+00 -6.350220e+00   \n",
       "25%   -1.645376e-01 -6.754480e-01 -6.710739e-01 -6.742484e-01 -6.186799e-01   \n",
       "50%    7.432692e-02 -3.127519e-01 -2.333536e-01 -3.109755e-01  2.366564e-02   \n",
       "75%    3.554338e-01  5.623547e-01  3.366195e-01  5.595088e-01  7.712403e-01   \n",
       "max    5.266859e+00  1.227295e+01  3.527016e+00  1.234866e+01  3.912128e+00   \n",
       "\n",
       "                 5             6             7             8             9   \\\n",
       "count  1.040000e+05  1.040000e+05  1.040000e+05  1.040000e+05  1.040000e+05   \n",
       "mean  -5.260749e-17 -3.019807e-17 -9.701641e-17  1.236618e-17 -1.143017e-16   \n",
       "std    1.000005e+00  1.000005e+00  1.000005e+00  1.000005e+00  1.000005e+00   \n",
       "min   -1.305912e+00 -3.195149e+00 -1.295883e+00 -4.681675e+00 -6.732455e-01   \n",
       "25%   -7.031734e-01 -7.819924e-01 -7.261031e-01 -4.425446e-01 -4.743296e-01   \n",
       "50%   -3.111647e-01  2.028513e-01 -2.818721e-01 -1.571730e-01 -2.535919e-01   \n",
       "75%    5.972042e-01  7.023432e-01  5.831398e-01  2.195885e-01  4.074673e-02   \n",
       "max    6.994416e+00  3.050829e+00  7.716194e+00  6.092447e+00  6.581645e+01   \n",
       "\n",
       "       ...            22            23            24            25  \\\n",
       "count  ...  1.040000e+05  1.040000e+05  1.040000e+05  1.040000e+05   \n",
       "mean   ... -2.206782e-16 -3.432468e-16  6.843073e-16  7.283063e-17   \n",
       "std    ...  1.000005e+00  1.000005e+00  1.000005e+00  1.000005e+00   \n",
       "min    ... -3.112612e+00 -9.755294e-01 -1.280867e+01 -1.102282e+00   \n",
       "25%    ... -6.691405e-01 -7.510183e-01 -1.355671e-01 -6.703675e-01   \n",
       "50%    ... -9.844896e-02 -4.646692e-01  1.026644e-01 -2.937640e-01   \n",
       "75%    ...  5.206536e-01  5.050646e-01  5.383741e-01  4.905208e-01   \n",
       "max    ...  4.528625e+00  1.045473e+01  2.056687e+00  1.291711e+01   \n",
       "\n",
       "                 26            27            28            29            30  \\\n",
       "count  1.040000e+05  1.040000e+05  1.040000e+05  1.040000e+05  1.040000e+05   \n",
       "mean   5.465713e-17  8.786134e-17 -3.672276e-17  1.242083e-16  1.239009e-16   \n",
       "std    1.000005e+00  1.000005e+00  1.000005e+00  1.000005e+00  1.000005e+00   \n",
       "min   -6.423476e+00 -1.102734e+00 -1.841798e+00 -1.101600e+00 -2.437290e+00   \n",
       "25%   -5.183116e-01 -6.712965e-01 -1.013549e+00 -6.715775e-01 -7.022957e-01   \n",
       "50%    7.715062e-03 -2.932297e-01  1.835833e-01 -2.935803e-01 -1.973862e-01   \n",
       "75%    5.390371e-01  4.941784e-01  5.058735e-01  4.940963e-01  7.202255e-01   \n",
       "max    7.064065e+00  1.297646e+01  3.773920e+00  1.295490e+01  6.115577e+00   \n",
       "\n",
       "                 31  \n",
       "count  1.040000e+05  \n",
       "mean   1.844678e-17  \n",
       "std    1.000005e+00  \n",
       "min   -9.974051e-01  \n",
       "25%   -6.549063e-01  \n",
       "50%   -3.894644e-01  \n",
       "75%    5.020634e-01  \n",
       "max    1.318670e+01  \n",
       "\n",
       "[8 rows x 32 columns]"
      ]
     },
     "execution_count": 14,
     "metadata": {},
     "output_type": "execute_result"
    }
   ],
   "source": [
    "X_train= pd.DataFrame(X_train)\n",
    "X_train.describe()"
   ]
  },
  {
   "cell_type": "code",
   "execution_count": null,
   "metadata": {
    "colab": {
     "base_uri": "https://localhost:8080/",
     "height": 443
    },
    "id": "Dr9FbJDc_4mJ",
    "outputId": "3437112d-0498-44eb-ebbb-3023fcb45daa"
   },
   "outputs": [
    {
     "data": {
      "text/html": [
       "\n",
       "  <div id=\"df-e629f3fc-13f1-48f6-9950-f6b05996a671\" class=\"colab-df-container\">\n",
       "    <div>\n",
       "<style scoped>\n",
       "    .dataframe tbody tr th:only-of-type {\n",
       "        vertical-align: middle;\n",
       "    }\n",
       "\n",
       "    .dataframe tbody tr th {\n",
       "        vertical-align: top;\n",
       "    }\n",
       "\n",
       "    .dataframe thead th {\n",
       "        text-align: right;\n",
       "    }\n",
       "</style>\n",
       "<table border=\"1\" class=\"dataframe\">\n",
       "  <thead>\n",
       "    <tr style=\"text-align: right;\">\n",
       "      <th></th>\n",
       "      <th>0</th>\n",
       "      <th>1</th>\n",
       "      <th>2</th>\n",
       "      <th>3</th>\n",
       "      <th>4</th>\n",
       "      <th>5</th>\n",
       "      <th>6</th>\n",
       "      <th>7</th>\n",
       "      <th>8</th>\n",
       "      <th>9</th>\n",
       "      <th>...</th>\n",
       "      <th>22</th>\n",
       "      <th>23</th>\n",
       "      <th>24</th>\n",
       "      <th>25</th>\n",
       "      <th>26</th>\n",
       "      <th>27</th>\n",
       "      <th>28</th>\n",
       "      <th>29</th>\n",
       "      <th>30</th>\n",
       "      <th>31</th>\n",
       "    </tr>\n",
       "  </thead>\n",
       "  <tbody>\n",
       "    <tr>\n",
       "      <th>0</th>\n",
       "      <td>0.001237</td>\n",
       "      <td>-0.562005</td>\n",
       "      <td>0.143693</td>\n",
       "      <td>-0.561186</td>\n",
       "      <td>1.132695</td>\n",
       "      <td>-0.581460</td>\n",
       "      <td>0.703277</td>\n",
       "      <td>-0.554737</td>\n",
       "      <td>1.702240</td>\n",
       "      <td>-0.268496</td>\n",
       "      <td>...</td>\n",
       "      <td>0.369193</td>\n",
       "      <td>-0.223620</td>\n",
       "      <td>0.030813</td>\n",
       "      <td>-0.406942</td>\n",
       "      <td>0.271385</td>\n",
       "      <td>-0.406965</td>\n",
       "      <td>-0.460160</td>\n",
       "      <td>-0.406620</td>\n",
       "      <td>0.959059</td>\n",
       "      <td>-0.834368</td>\n",
       "    </tr>\n",
       "    <tr>\n",
       "      <th>1</th>\n",
       "      <td>0.372108</td>\n",
       "      <td>-0.691038</td>\n",
       "      <td>-0.768247</td>\n",
       "      <td>-0.690303</td>\n",
       "      <td>0.297339</td>\n",
       "      <td>-0.720567</td>\n",
       "      <td>0.286861</td>\n",
       "      <td>-0.692858</td>\n",
       "      <td>-0.118163</td>\n",
       "      <td>-0.134019</td>\n",
       "      <td>...</td>\n",
       "      <td>-0.616987</td>\n",
       "      <td>-0.784924</td>\n",
       "      <td>0.274687</td>\n",
       "      <td>-0.433407</td>\n",
       "      <td>-0.793087</td>\n",
       "      <td>-0.432929</td>\n",
       "      <td>0.167742</td>\n",
       "      <td>-0.431884</td>\n",
       "      <td>-0.608672</td>\n",
       "      <td>-0.318472</td>\n",
       "    </tr>\n",
       "    <tr>\n",
       "      <th>2</th>\n",
       "      <td>0.505482</td>\n",
       "      <td>1.106595</td>\n",
       "      <td>0.187486</td>\n",
       "      <td>1.104899</td>\n",
       "      <td>0.006878</td>\n",
       "      <td>1.197858</td>\n",
       "      <td>-0.013534</td>\n",
       "      <td>1.277382</td>\n",
       "      <td>0.823701</td>\n",
       "      <td>1.245028</td>\n",
       "      <td>...</td>\n",
       "      <td>0.990880</td>\n",
       "      <td>1.777419</td>\n",
       "      <td>-0.453176</td>\n",
       "      <td>1.280640</td>\n",
       "      <td>0.605312</td>\n",
       "      <td>1.283491</td>\n",
       "      <td>-1.531943</td>\n",
       "      <td>1.278276</td>\n",
       "      <td>1.036024</td>\n",
       "      <td>1.378772</td>\n",
       "    </tr>\n",
       "    <tr>\n",
       "      <th>3</th>\n",
       "      <td>1.426969</td>\n",
       "      <td>1.830265</td>\n",
       "      <td>0.742504</td>\n",
       "      <td>1.819347</td>\n",
       "      <td>-0.944374</td>\n",
       "      <td>1.929172</td>\n",
       "      <td>1.334269</td>\n",
       "      <td>2.204570</td>\n",
       "      <td>1.388670</td>\n",
       "      <td>1.712917</td>\n",
       "      <td>...</td>\n",
       "      <td>1.024632</td>\n",
       "      <td>1.878729</td>\n",
       "      <td>-0.217164</td>\n",
       "      <td>1.889304</td>\n",
       "      <td>1.221976</td>\n",
       "      <td>1.895155</td>\n",
       "      <td>-1.426207</td>\n",
       "      <td>1.898388</td>\n",
       "      <td>1.704054</td>\n",
       "      <td>2.042494</td>\n",
       "    </tr>\n",
       "    <tr>\n",
       "      <th>4</th>\n",
       "      <td>0.148327</td>\n",
       "      <td>-0.388823</td>\n",
       "      <td>-0.412745</td>\n",
       "      <td>-0.387217</td>\n",
       "      <td>-0.133276</td>\n",
       "      <td>-0.389846</td>\n",
       "      <td>0.592301</td>\n",
       "      <td>-0.729773</td>\n",
       "      <td>-0.060959</td>\n",
       "      <td>-0.442120</td>\n",
       "      <td>...</td>\n",
       "      <td>-0.119779</td>\n",
       "      <td>-0.610623</td>\n",
       "      <td>0.049905</td>\n",
       "      <td>-0.460189</td>\n",
       "      <td>0.093849</td>\n",
       "      <td>-0.460537</td>\n",
       "      <td>0.225004</td>\n",
       "      <td>-0.460419</td>\n",
       "      <td>-0.229140</td>\n",
       "      <td>-0.351739</td>\n",
       "    </tr>\n",
       "    <tr>\n",
       "      <th>...</th>\n",
       "      <td>...</td>\n",
       "      <td>...</td>\n",
       "      <td>...</td>\n",
       "      <td>...</td>\n",
       "      <td>...</td>\n",
       "      <td>...</td>\n",
       "      <td>...</td>\n",
       "      <td>...</td>\n",
       "      <td>...</td>\n",
       "      <td>...</td>\n",
       "      <td>...</td>\n",
       "      <td>...</td>\n",
       "      <td>...</td>\n",
       "      <td>...</td>\n",
       "      <td>...</td>\n",
       "      <td>...</td>\n",
       "      <td>...</td>\n",
       "      <td>...</td>\n",
       "      <td>...</td>\n",
       "      <td>...</td>\n",
       "      <td>...</td>\n",
       "    </tr>\n",
       "    <tr>\n",
       "      <th>103995</th>\n",
       "      <td>1.577548</td>\n",
       "      <td>1.555610</td>\n",
       "      <td>-1.200091</td>\n",
       "      <td>1.473622</td>\n",
       "      <td>-0.865687</td>\n",
       "      <td>1.558200</td>\n",
       "      <td>1.725295</td>\n",
       "      <td>2.002929</td>\n",
       "      <td>1.537001</td>\n",
       "      <td>0.606938</td>\n",
       "      <td>...</td>\n",
       "      <td>-0.408299</td>\n",
       "      <td>-0.849901</td>\n",
       "      <td>2.041770</td>\n",
       "      <td>7.411156</td>\n",
       "      <td>-5.651900</td>\n",
       "      <td>7.511300</td>\n",
       "      <td>1.881164</td>\n",
       "      <td>7.496669</td>\n",
       "      <td>-1.569477</td>\n",
       "      <td>7.324830</td>\n",
       "    </tr>\n",
       "    <tr>\n",
       "      <th>103996</th>\n",
       "      <td>-3.917921</td>\n",
       "      <td>-0.629616</td>\n",
       "      <td>2.361776</td>\n",
       "      <td>-0.629387</td>\n",
       "      <td>-1.075969</td>\n",
       "      <td>-0.658262</td>\n",
       "      <td>-1.455619</td>\n",
       "      <td>-0.633374</td>\n",
       "      <td>0.739273</td>\n",
       "      <td>-0.464430</td>\n",
       "      <td>...</td>\n",
       "      <td>-0.918527</td>\n",
       "      <td>-0.759818</td>\n",
       "      <td>0.276820</td>\n",
       "      <td>-0.659086</td>\n",
       "      <td>-1.434558</td>\n",
       "      <td>-0.660328</td>\n",
       "      <td>0.961618</td>\n",
       "      <td>-0.658735</td>\n",
       "      <td>-1.000774</td>\n",
       "      <td>-0.544596</td>\n",
       "    </tr>\n",
       "    <tr>\n",
       "      <th>103997</th>\n",
       "      <td>0.046953</td>\n",
       "      <td>-1.070097</td>\n",
       "      <td>-1.037003</td>\n",
       "      <td>-1.071150</td>\n",
       "      <td>-0.780819</td>\n",
       "      <td>-1.140863</td>\n",
       "      <td>0.218087</td>\n",
       "      <td>-1.168342</td>\n",
       "      <td>-0.155744</td>\n",
       "      <td>-0.607078</td>\n",
       "      <td>...</td>\n",
       "      <td>-0.324508</td>\n",
       "      <td>-0.450825</td>\n",
       "      <td>-2.117389</td>\n",
       "      <td>-0.826967</td>\n",
       "      <td>-0.270153</td>\n",
       "      <td>-0.828449</td>\n",
       "      <td>1.194848</td>\n",
       "      <td>-0.828833</td>\n",
       "      <td>-0.584319</td>\n",
       "      <td>-0.725589</td>\n",
       "    </tr>\n",
       "    <tr>\n",
       "      <th>103998</th>\n",
       "      <td>-0.188456</td>\n",
       "      <td>-1.039946</td>\n",
       "      <td>-0.004514</td>\n",
       "      <td>-1.041159</td>\n",
       "      <td>1.678627</td>\n",
       "      <td>-1.109581</td>\n",
       "      <td>0.396054</td>\n",
       "      <td>-1.134610</td>\n",
       "      <td>-0.430595</td>\n",
       "      <td>-0.602727</td>\n",
       "      <td>...</td>\n",
       "      <td>-0.178698</td>\n",
       "      <td>-0.825359</td>\n",
       "      <td>0.848468</td>\n",
       "      <td>-1.038756</td>\n",
       "      <td>-0.512354</td>\n",
       "      <td>-1.041429</td>\n",
       "      <td>0.537837</td>\n",
       "      <td>-1.042013</td>\n",
       "      <td>0.166997</td>\n",
       "      <td>-0.940943</td>\n",
       "    </tr>\n",
       "    <tr>\n",
       "      <th>103999</th>\n",
       "      <td>-0.072453</td>\n",
       "      <td>-0.933529</td>\n",
       "      <td>2.976038</td>\n",
       "      <td>-0.933028</td>\n",
       "      <td>-0.097407</td>\n",
       "      <td>-0.982963</td>\n",
       "      <td>-1.137458</td>\n",
       "      <td>-0.987989</td>\n",
       "      <td>-0.583628</td>\n",
       "      <td>-0.143047</td>\n",
       "      <td>...</td>\n",
       "      <td>-1.205667</td>\n",
       "      <td>-0.901986</td>\n",
       "      <td>0.818723</td>\n",
       "      <td>-0.654966</td>\n",
       "      <td>-0.826775</td>\n",
       "      <td>-0.656046</td>\n",
       "      <td>1.268429</td>\n",
       "      <td>-0.656006</td>\n",
       "      <td>-1.534376</td>\n",
       "      <td>-0.549263</td>\n",
       "    </tr>\n",
       "  </tbody>\n",
       "</table>\n",
       "<p>104000 rows × 32 columns</p>\n",
       "</div>\n",
       "    <div class=\"colab-df-buttons\">\n",
       "\n",
       "  <div class=\"colab-df-container\">\n",
       "    <button class=\"colab-df-convert\" onclick=\"convertToInteractive('df-e629f3fc-13f1-48f6-9950-f6b05996a671')\"\n",
       "            title=\"Convert this dataframe to an interactive table.\"\n",
       "            style=\"display:none;\">\n",
       "\n",
       "  <svg xmlns=\"http://www.w3.org/2000/svg\" height=\"24px\" viewBox=\"0 -960 960 960\">\n",
       "    <path d=\"M120-120v-720h720v720H120Zm60-500h600v-160H180v160Zm220 220h160v-160H400v160Zm0 220h160v-160H400v160ZM180-400h160v-160H180v160Zm440 0h160v-160H620v160ZM180-180h160v-160H180v160Zm440 0h160v-160H620v160Z\"/>\n",
       "  </svg>\n",
       "    </button>\n",
       "\n",
       "  <style>\n",
       "    .colab-df-container {\n",
       "      display:flex;\n",
       "      gap: 12px;\n",
       "    }\n",
       "\n",
       "    .colab-df-convert {\n",
       "      background-color: #E8F0FE;\n",
       "      border: none;\n",
       "      border-radius: 50%;\n",
       "      cursor: pointer;\n",
       "      display: none;\n",
       "      fill: #1967D2;\n",
       "      height: 32px;\n",
       "      padding: 0 0 0 0;\n",
       "      width: 32px;\n",
       "    }\n",
       "\n",
       "    .colab-df-convert:hover {\n",
       "      background-color: #E2EBFA;\n",
       "      box-shadow: 0px 1px 2px rgba(60, 64, 67, 0.3), 0px 1px 3px 1px rgba(60, 64, 67, 0.15);\n",
       "      fill: #174EA6;\n",
       "    }\n",
       "\n",
       "    .colab-df-buttons div {\n",
       "      margin-bottom: 4px;\n",
       "    }\n",
       "\n",
       "    [theme=dark] .colab-df-convert {\n",
       "      background-color: #3B4455;\n",
       "      fill: #D2E3FC;\n",
       "    }\n",
       "\n",
       "    [theme=dark] .colab-df-convert:hover {\n",
       "      background-color: #434B5C;\n",
       "      box-shadow: 0px 1px 3px 1px rgba(0, 0, 0, 0.15);\n",
       "      filter: drop-shadow(0px 1px 2px rgba(0, 0, 0, 0.3));\n",
       "      fill: #FFFFFF;\n",
       "    }\n",
       "  </style>\n",
       "\n",
       "    <script>\n",
       "      const buttonEl =\n",
       "        document.querySelector('#df-e629f3fc-13f1-48f6-9950-f6b05996a671 button.colab-df-convert');\n",
       "      buttonEl.style.display =\n",
       "        google.colab.kernel.accessAllowed ? 'block' : 'none';\n",
       "\n",
       "      async function convertToInteractive(key) {\n",
       "        const element = document.querySelector('#df-e629f3fc-13f1-48f6-9950-f6b05996a671');\n",
       "        const dataTable =\n",
       "          await google.colab.kernel.invokeFunction('convertToInteractive',\n",
       "                                                    [key], {});\n",
       "        if (!dataTable) return;\n",
       "\n",
       "        const docLinkHtml = 'Like what you see? Visit the ' +\n",
       "          '<a target=\"_blank\" href=https://colab.research.google.com/notebooks/data_table.ipynb>data table notebook</a>'\n",
       "          + ' to learn more about interactive tables.';\n",
       "        element.innerHTML = '';\n",
       "        dataTable['output_type'] = 'display_data';\n",
       "        await google.colab.output.renderOutput(dataTable, element);\n",
       "        const docLink = document.createElement('div');\n",
       "        docLink.innerHTML = docLinkHtml;\n",
       "        element.appendChild(docLink);\n",
       "      }\n",
       "    </script>\n",
       "  </div>\n",
       "\n",
       "\n",
       "<div id=\"df-f6422eb3-8b93-439f-8bff-9379ff365eae\">\n",
       "  <button class=\"colab-df-quickchart\" onclick=\"quickchart('df-f6422eb3-8b93-439f-8bff-9379ff365eae')\"\n",
       "            title=\"Suggest charts.\"\n",
       "            style=\"display:none;\">\n",
       "\n",
       "<svg xmlns=\"http://www.w3.org/2000/svg\" height=\"24px\"viewBox=\"0 0 24 24\"\n",
       "     width=\"24px\">\n",
       "    <g>\n",
       "        <path d=\"M19 3H5c-1.1 0-2 .9-2 2v14c0 1.1.9 2 2 2h14c1.1 0 2-.9 2-2V5c0-1.1-.9-2-2-2zM9 17H7v-7h2v7zm4 0h-2V7h2v10zm4 0h-2v-4h2v4z\"/>\n",
       "    </g>\n",
       "</svg>\n",
       "  </button>\n",
       "\n",
       "<style>\n",
       "  .colab-df-quickchart {\n",
       "      --bg-color: #E8F0FE;\n",
       "      --fill-color: #1967D2;\n",
       "      --hover-bg-color: #E2EBFA;\n",
       "      --hover-fill-color: #174EA6;\n",
       "      --disabled-fill-color: #AAA;\n",
       "      --disabled-bg-color: #DDD;\n",
       "  }\n",
       "\n",
       "  [theme=dark] .colab-df-quickchart {\n",
       "      --bg-color: #3B4455;\n",
       "      --fill-color: #D2E3FC;\n",
       "      --hover-bg-color: #434B5C;\n",
       "      --hover-fill-color: #FFFFFF;\n",
       "      --disabled-bg-color: #3B4455;\n",
       "      --disabled-fill-color: #666;\n",
       "  }\n",
       "\n",
       "  .colab-df-quickchart {\n",
       "    background-color: var(--bg-color);\n",
       "    border: none;\n",
       "    border-radius: 50%;\n",
       "    cursor: pointer;\n",
       "    display: none;\n",
       "    fill: var(--fill-color);\n",
       "    height: 32px;\n",
       "    padding: 0;\n",
       "    width: 32px;\n",
       "  }\n",
       "\n",
       "  .colab-df-quickchart:hover {\n",
       "    background-color: var(--hover-bg-color);\n",
       "    box-shadow: 0 1px 2px rgba(60, 64, 67, 0.3), 0 1px 3px 1px rgba(60, 64, 67, 0.15);\n",
       "    fill: var(--button-hover-fill-color);\n",
       "  }\n",
       "\n",
       "  .colab-df-quickchart-complete:disabled,\n",
       "  .colab-df-quickchart-complete:disabled:hover {\n",
       "    background-color: var(--disabled-bg-color);\n",
       "    fill: var(--disabled-fill-color);\n",
       "    box-shadow: none;\n",
       "  }\n",
       "\n",
       "  .colab-df-spinner {\n",
       "    border: 2px solid var(--fill-color);\n",
       "    border-color: transparent;\n",
       "    border-bottom-color: var(--fill-color);\n",
       "    animation:\n",
       "      spin 1s steps(1) infinite;\n",
       "  }\n",
       "\n",
       "  @keyframes spin {\n",
       "    0% {\n",
       "      border-color: transparent;\n",
       "      border-bottom-color: var(--fill-color);\n",
       "      border-left-color: var(--fill-color);\n",
       "    }\n",
       "    20% {\n",
       "      border-color: transparent;\n",
       "      border-left-color: var(--fill-color);\n",
       "      border-top-color: var(--fill-color);\n",
       "    }\n",
       "    30% {\n",
       "      border-color: transparent;\n",
       "      border-left-color: var(--fill-color);\n",
       "      border-top-color: var(--fill-color);\n",
       "      border-right-color: var(--fill-color);\n",
       "    }\n",
       "    40% {\n",
       "      border-color: transparent;\n",
       "      border-right-color: var(--fill-color);\n",
       "      border-top-color: var(--fill-color);\n",
       "    }\n",
       "    60% {\n",
       "      border-color: transparent;\n",
       "      border-right-color: var(--fill-color);\n",
       "    }\n",
       "    80% {\n",
       "      border-color: transparent;\n",
       "      border-right-color: var(--fill-color);\n",
       "      border-bottom-color: var(--fill-color);\n",
       "    }\n",
       "    90% {\n",
       "      border-color: transparent;\n",
       "      border-bottom-color: var(--fill-color);\n",
       "    }\n",
       "  }\n",
       "</style>\n",
       "\n",
       "  <script>\n",
       "    async function quickchart(key) {\n",
       "      const quickchartButtonEl =\n",
       "        document.querySelector('#' + key + ' button');\n",
       "      quickchartButtonEl.disabled = true;  // To prevent multiple clicks.\n",
       "      quickchartButtonEl.classList.add('colab-df-spinner');\n",
       "      try {\n",
       "        const charts = await google.colab.kernel.invokeFunction(\n",
       "            'suggestCharts', [key], {});\n",
       "      } catch (error) {\n",
       "        console.error('Error during call to suggestCharts:', error);\n",
       "      }\n",
       "      quickchartButtonEl.classList.remove('colab-df-spinner');\n",
       "      quickchartButtonEl.classList.add('colab-df-quickchart-complete');\n",
       "    }\n",
       "    (() => {\n",
       "      let quickchartButtonEl =\n",
       "        document.querySelector('#df-f6422eb3-8b93-439f-8bff-9379ff365eae button');\n",
       "      quickchartButtonEl.style.display =\n",
       "        google.colab.kernel.accessAllowed ? 'block' : 'none';\n",
       "    })();\n",
       "  </script>\n",
       "</div>\n",
       "    </div>\n",
       "  </div>\n"
      ],
      "text/plain": [
       "              0         1         2         3         4         5         6   \\\n",
       "0       0.001237 -0.562005  0.143693 -0.561186  1.132695 -0.581460  0.703277   \n",
       "1       0.372108 -0.691038 -0.768247 -0.690303  0.297339 -0.720567  0.286861   \n",
       "2       0.505482  1.106595  0.187486  1.104899  0.006878  1.197858 -0.013534   \n",
       "3       1.426969  1.830265  0.742504  1.819347 -0.944374  1.929172  1.334269   \n",
       "4       0.148327 -0.388823 -0.412745 -0.387217 -0.133276 -0.389846  0.592301   \n",
       "...          ...       ...       ...       ...       ...       ...       ...   \n",
       "103995  1.577548  1.555610 -1.200091  1.473622 -0.865687  1.558200  1.725295   \n",
       "103996 -3.917921 -0.629616  2.361776 -0.629387 -1.075969 -0.658262 -1.455619   \n",
       "103997  0.046953 -1.070097 -1.037003 -1.071150 -0.780819 -1.140863  0.218087   \n",
       "103998 -0.188456 -1.039946 -0.004514 -1.041159  1.678627 -1.109581  0.396054   \n",
       "103999 -0.072453 -0.933529  2.976038 -0.933028 -0.097407 -0.982963 -1.137458   \n",
       "\n",
       "              7         8         9   ...        22        23        24  \\\n",
       "0      -0.554737  1.702240 -0.268496  ...  0.369193 -0.223620  0.030813   \n",
       "1      -0.692858 -0.118163 -0.134019  ... -0.616987 -0.784924  0.274687   \n",
       "2       1.277382  0.823701  1.245028  ...  0.990880  1.777419 -0.453176   \n",
       "3       2.204570  1.388670  1.712917  ...  1.024632  1.878729 -0.217164   \n",
       "4      -0.729773 -0.060959 -0.442120  ... -0.119779 -0.610623  0.049905   \n",
       "...          ...       ...       ...  ...       ...       ...       ...   \n",
       "103995  2.002929  1.537001  0.606938  ... -0.408299 -0.849901  2.041770   \n",
       "103996 -0.633374  0.739273 -0.464430  ... -0.918527 -0.759818  0.276820   \n",
       "103997 -1.168342 -0.155744 -0.607078  ... -0.324508 -0.450825 -2.117389   \n",
       "103998 -1.134610 -0.430595 -0.602727  ... -0.178698 -0.825359  0.848468   \n",
       "103999 -0.987989 -0.583628 -0.143047  ... -1.205667 -0.901986  0.818723   \n",
       "\n",
       "              25        26        27        28        29        30        31  \n",
       "0      -0.406942  0.271385 -0.406965 -0.460160 -0.406620  0.959059 -0.834368  \n",
       "1      -0.433407 -0.793087 -0.432929  0.167742 -0.431884 -0.608672 -0.318472  \n",
       "2       1.280640  0.605312  1.283491 -1.531943  1.278276  1.036024  1.378772  \n",
       "3       1.889304  1.221976  1.895155 -1.426207  1.898388  1.704054  2.042494  \n",
       "4      -0.460189  0.093849 -0.460537  0.225004 -0.460419 -0.229140 -0.351739  \n",
       "...          ...       ...       ...       ...       ...       ...       ...  \n",
       "103995  7.411156 -5.651900  7.511300  1.881164  7.496669 -1.569477  7.324830  \n",
       "103996 -0.659086 -1.434558 -0.660328  0.961618 -0.658735 -1.000774 -0.544596  \n",
       "103997 -0.826967 -0.270153 -0.828449  1.194848 -0.828833 -0.584319 -0.725589  \n",
       "103998 -1.038756 -0.512354 -1.041429  0.537837 -1.042013  0.166997 -0.940943  \n",
       "103999 -0.654966 -0.826775 -0.656046  1.268429 -0.656006 -1.534376 -0.549263  \n",
       "\n",
       "[104000 rows x 32 columns]"
      ]
     },
     "execution_count": 15,
     "metadata": {},
     "output_type": "execute_result"
    }
   ],
   "source": [
    "X_train"
   ]
  },
  {
   "cell_type": "code",
   "execution_count": null,
   "metadata": {
    "colab": {
     "base_uri": "https://localhost:8080/",
     "height": 419
    },
    "id": "lUTnYnTjOvXU",
    "outputId": "96a8435d-0040-4b39-8068-53626824664e"
   },
   "outputs": [
    {
     "data": {
      "text/html": [
       "\n",
       "  <div id=\"df-f86962ed-9691-4627-baad-18e998423e86\" class=\"colab-df-container\">\n",
       "    <div>\n",
       "<style scoped>\n",
       "    .dataframe tbody tr th:only-of-type {\n",
       "        vertical-align: middle;\n",
       "    }\n",
       "\n",
       "    .dataframe tbody tr th {\n",
       "        vertical-align: top;\n",
       "    }\n",
       "\n",
       "    .dataframe thead th {\n",
       "        text-align: right;\n",
       "    }\n",
       "</style>\n",
       "<table border=\"1\" class=\"dataframe\">\n",
       "  <thead>\n",
       "    <tr style=\"text-align: right;\">\n",
       "      <th></th>\n",
       "      <th>0</th>\n",
       "      <th>1</th>\n",
       "      <th>2</th>\n",
       "      <th>3</th>\n",
       "      <th>4</th>\n",
       "      <th>5</th>\n",
       "      <th>6</th>\n",
       "      <th>7</th>\n",
       "      <th>8</th>\n",
       "      <th>9</th>\n",
       "      <th>...</th>\n",
       "      <th>22</th>\n",
       "      <th>23</th>\n",
       "      <th>24</th>\n",
       "      <th>25</th>\n",
       "      <th>26</th>\n",
       "      <th>27</th>\n",
       "      <th>28</th>\n",
       "      <th>29</th>\n",
       "      <th>30</th>\n",
       "      <th>31</th>\n",
       "    </tr>\n",
       "  </thead>\n",
       "  <tbody>\n",
       "    <tr>\n",
       "      <th>count</th>\n",
       "      <td>1.040000e+05</td>\n",
       "      <td>1.040000e+05</td>\n",
       "      <td>1.040000e+05</td>\n",
       "      <td>1.040000e+05</td>\n",
       "      <td>1.040000e+05</td>\n",
       "      <td>1.040000e+05</td>\n",
       "      <td>1.040000e+05</td>\n",
       "      <td>1.040000e+05</td>\n",
       "      <td>1.040000e+05</td>\n",
       "      <td>1.040000e+05</td>\n",
       "      <td>...</td>\n",
       "      <td>1.040000e+05</td>\n",
       "      <td>1.040000e+05</td>\n",
       "      <td>1.040000e+05</td>\n",
       "      <td>1.040000e+05</td>\n",
       "      <td>1.040000e+05</td>\n",
       "      <td>1.040000e+05</td>\n",
       "      <td>1.040000e+05</td>\n",
       "      <td>1.040000e+05</td>\n",
       "      <td>1.040000e+05</td>\n",
       "      <td>1.040000e+05</td>\n",
       "    </tr>\n",
       "    <tr>\n",
       "      <th>mean</th>\n",
       "      <td>-3.907985e-17</td>\n",
       "      <td>-1.560461e-16</td>\n",
       "      <td>-6.176256e-17</td>\n",
       "      <td>6.784317e-17</td>\n",
       "      <td>-2.022314e-17</td>\n",
       "      <td>-5.260749e-17</td>\n",
       "      <td>-3.019807e-17</td>\n",
       "      <td>-9.701641e-17</td>\n",
       "      <td>1.236618e-17</td>\n",
       "      <td>-1.143017e-16</td>\n",
       "      <td>...</td>\n",
       "      <td>-2.206782e-16</td>\n",
       "      <td>-3.432468e-16</td>\n",
       "      <td>6.843073e-16</td>\n",
       "      <td>7.283063e-17</td>\n",
       "      <td>5.465713e-17</td>\n",
       "      <td>8.786134e-17</td>\n",
       "      <td>-3.672276e-17</td>\n",
       "      <td>1.242083e-16</td>\n",
       "      <td>1.239009e-16</td>\n",
       "      <td>1.844678e-17</td>\n",
       "    </tr>\n",
       "    <tr>\n",
       "      <th>std</th>\n",
       "      <td>1.000005e+00</td>\n",
       "      <td>1.000005e+00</td>\n",
       "      <td>1.000005e+00</td>\n",
       "      <td>1.000005e+00</td>\n",
       "      <td>1.000005e+00</td>\n",
       "      <td>1.000005e+00</td>\n",
       "      <td>1.000005e+00</td>\n",
       "      <td>1.000005e+00</td>\n",
       "      <td>1.000005e+00</td>\n",
       "      <td>1.000005e+00</td>\n",
       "      <td>...</td>\n",
       "      <td>1.000005e+00</td>\n",
       "      <td>1.000005e+00</td>\n",
       "      <td>1.000005e+00</td>\n",
       "      <td>1.000005e+00</td>\n",
       "      <td>1.000005e+00</td>\n",
       "      <td>1.000005e+00</td>\n",
       "      <td>1.000005e+00</td>\n",
       "      <td>1.000005e+00</td>\n",
       "      <td>1.000005e+00</td>\n",
       "      <td>1.000005e+00</td>\n",
       "    </tr>\n",
       "    <tr>\n",
       "      <th>min</th>\n",
       "      <td>-4.605402e+00</td>\n",
       "      <td>-1.248291e+00</td>\n",
       "      <td>-2.246745e+00</td>\n",
       "      <td>-1.248546e+00</td>\n",
       "      <td>-6.350220e+00</td>\n",
       "      <td>-1.305912e+00</td>\n",
       "      <td>-3.195149e+00</td>\n",
       "      <td>-1.295883e+00</td>\n",
       "      <td>-4.681675e+00</td>\n",
       "      <td>-6.732455e-01</td>\n",
       "      <td>...</td>\n",
       "      <td>-3.112612e+00</td>\n",
       "      <td>-9.755294e-01</td>\n",
       "      <td>-1.280867e+01</td>\n",
       "      <td>-1.102282e+00</td>\n",
       "      <td>-6.423476e+00</td>\n",
       "      <td>-1.102734e+00</td>\n",
       "      <td>-1.841798e+00</td>\n",
       "      <td>-1.101600e+00</td>\n",
       "      <td>-2.437290e+00</td>\n",
       "      <td>-9.974051e-01</td>\n",
       "    </tr>\n",
       "    <tr>\n",
       "      <th>25%</th>\n",
       "      <td>-1.645376e-01</td>\n",
       "      <td>-6.754480e-01</td>\n",
       "      <td>-6.710739e-01</td>\n",
       "      <td>-6.742484e-01</td>\n",
       "      <td>-6.186799e-01</td>\n",
       "      <td>-7.031734e-01</td>\n",
       "      <td>-7.819924e-01</td>\n",
       "      <td>-7.261031e-01</td>\n",
       "      <td>-4.425446e-01</td>\n",
       "      <td>-4.743296e-01</td>\n",
       "      <td>...</td>\n",
       "      <td>-6.691405e-01</td>\n",
       "      <td>-7.510183e-01</td>\n",
       "      <td>-1.355671e-01</td>\n",
       "      <td>-6.703675e-01</td>\n",
       "      <td>-5.183116e-01</td>\n",
       "      <td>-6.712965e-01</td>\n",
       "      <td>-1.013549e+00</td>\n",
       "      <td>-6.715775e-01</td>\n",
       "      <td>-7.022957e-01</td>\n",
       "      <td>-6.549063e-01</td>\n",
       "    </tr>\n",
       "    <tr>\n",
       "      <th>50%</th>\n",
       "      <td>7.432692e-02</td>\n",
       "      <td>-3.127519e-01</td>\n",
       "      <td>-2.333536e-01</td>\n",
       "      <td>-3.109755e-01</td>\n",
       "      <td>2.366564e-02</td>\n",
       "      <td>-3.111647e-01</td>\n",
       "      <td>2.028513e-01</td>\n",
       "      <td>-2.818721e-01</td>\n",
       "      <td>-1.571730e-01</td>\n",
       "      <td>-2.535919e-01</td>\n",
       "      <td>...</td>\n",
       "      <td>-9.844896e-02</td>\n",
       "      <td>-4.646692e-01</td>\n",
       "      <td>1.026644e-01</td>\n",
       "      <td>-2.937640e-01</td>\n",
       "      <td>7.715062e-03</td>\n",
       "      <td>-2.932297e-01</td>\n",
       "      <td>1.835833e-01</td>\n",
       "      <td>-2.935803e-01</td>\n",
       "      <td>-1.973862e-01</td>\n",
       "      <td>-3.894644e-01</td>\n",
       "    </tr>\n",
       "    <tr>\n",
       "      <th>75%</th>\n",
       "      <td>3.554338e-01</td>\n",
       "      <td>5.623547e-01</td>\n",
       "      <td>3.366195e-01</td>\n",
       "      <td>5.595088e-01</td>\n",
       "      <td>7.712403e-01</td>\n",
       "      <td>5.972042e-01</td>\n",
       "      <td>7.023432e-01</td>\n",
       "      <td>5.831398e-01</td>\n",
       "      <td>2.195885e-01</td>\n",
       "      <td>4.074673e-02</td>\n",
       "      <td>...</td>\n",
       "      <td>5.206536e-01</td>\n",
       "      <td>5.050646e-01</td>\n",
       "      <td>5.383741e-01</td>\n",
       "      <td>4.905208e-01</td>\n",
       "      <td>5.390371e-01</td>\n",
       "      <td>4.941784e-01</td>\n",
       "      <td>5.058735e-01</td>\n",
       "      <td>4.940963e-01</td>\n",
       "      <td>7.202255e-01</td>\n",
       "      <td>5.020634e-01</td>\n",
       "    </tr>\n",
       "    <tr>\n",
       "      <th>max</th>\n",
       "      <td>5.266859e+00</td>\n",
       "      <td>1.227295e+01</td>\n",
       "      <td>3.527016e+00</td>\n",
       "      <td>1.234866e+01</td>\n",
       "      <td>3.912128e+00</td>\n",
       "      <td>6.994416e+00</td>\n",
       "      <td>3.050829e+00</td>\n",
       "      <td>7.716194e+00</td>\n",
       "      <td>6.092447e+00</td>\n",
       "      <td>6.581645e+01</td>\n",
       "      <td>...</td>\n",
       "      <td>4.528625e+00</td>\n",
       "      <td>1.045473e+01</td>\n",
       "      <td>2.056687e+00</td>\n",
       "      <td>1.291711e+01</td>\n",
       "      <td>7.064065e+00</td>\n",
       "      <td>1.297646e+01</td>\n",
       "      <td>3.773920e+00</td>\n",
       "      <td>1.295490e+01</td>\n",
       "      <td>6.115577e+00</td>\n",
       "      <td>1.318670e+01</td>\n",
       "    </tr>\n",
       "  </tbody>\n",
       "</table>\n",
       "<p>8 rows × 32 columns</p>\n",
       "</div>\n",
       "    <div class=\"colab-df-buttons\">\n",
       "\n",
       "  <div class=\"colab-df-container\">\n",
       "    <button class=\"colab-df-convert\" onclick=\"convertToInteractive('df-f86962ed-9691-4627-baad-18e998423e86')\"\n",
       "            title=\"Convert this dataframe to an interactive table.\"\n",
       "            style=\"display:none;\">\n",
       "\n",
       "  <svg xmlns=\"http://www.w3.org/2000/svg\" height=\"24px\" viewBox=\"0 -960 960 960\">\n",
       "    <path d=\"M120-120v-720h720v720H120Zm60-500h600v-160H180v160Zm220 220h160v-160H400v160Zm0 220h160v-160H400v160ZM180-400h160v-160H180v160Zm440 0h160v-160H620v160ZM180-180h160v-160H180v160Zm440 0h160v-160H620v160Z\"/>\n",
       "  </svg>\n",
       "    </button>\n",
       "\n",
       "  <style>\n",
       "    .colab-df-container {\n",
       "      display:flex;\n",
       "      gap: 12px;\n",
       "    }\n",
       "\n",
       "    .colab-df-convert {\n",
       "      background-color: #E8F0FE;\n",
       "      border: none;\n",
       "      border-radius: 50%;\n",
       "      cursor: pointer;\n",
       "      display: none;\n",
       "      fill: #1967D2;\n",
       "      height: 32px;\n",
       "      padding: 0 0 0 0;\n",
       "      width: 32px;\n",
       "    }\n",
       "\n",
       "    .colab-df-convert:hover {\n",
       "      background-color: #E2EBFA;\n",
       "      box-shadow: 0px 1px 2px rgba(60, 64, 67, 0.3), 0px 1px 3px 1px rgba(60, 64, 67, 0.15);\n",
       "      fill: #174EA6;\n",
       "    }\n",
       "\n",
       "    .colab-df-buttons div {\n",
       "      margin-bottom: 4px;\n",
       "    }\n",
       "\n",
       "    [theme=dark] .colab-df-convert {\n",
       "      background-color: #3B4455;\n",
       "      fill: #D2E3FC;\n",
       "    }\n",
       "\n",
       "    [theme=dark] .colab-df-convert:hover {\n",
       "      background-color: #434B5C;\n",
       "      box-shadow: 0px 1px 3px 1px rgba(0, 0, 0, 0.15);\n",
       "      filter: drop-shadow(0px 1px 2px rgba(0, 0, 0, 0.3));\n",
       "      fill: #FFFFFF;\n",
       "    }\n",
       "  </style>\n",
       "\n",
       "    <script>\n",
       "      const buttonEl =\n",
       "        document.querySelector('#df-f86962ed-9691-4627-baad-18e998423e86 button.colab-df-convert');\n",
       "      buttonEl.style.display =\n",
       "        google.colab.kernel.accessAllowed ? 'block' : 'none';\n",
       "\n",
       "      async function convertToInteractive(key) {\n",
       "        const element = document.querySelector('#df-f86962ed-9691-4627-baad-18e998423e86');\n",
       "        const dataTable =\n",
       "          await google.colab.kernel.invokeFunction('convertToInteractive',\n",
       "                                                    [key], {});\n",
       "        if (!dataTable) return;\n",
       "\n",
       "        const docLinkHtml = 'Like what you see? Visit the ' +\n",
       "          '<a target=\"_blank\" href=https://colab.research.google.com/notebooks/data_table.ipynb>data table notebook</a>'\n",
       "          + ' to learn more about interactive tables.';\n",
       "        element.innerHTML = '';\n",
       "        dataTable['output_type'] = 'display_data';\n",
       "        await google.colab.output.renderOutput(dataTable, element);\n",
       "        const docLink = document.createElement('div');\n",
       "        docLink.innerHTML = docLinkHtml;\n",
       "        element.appendChild(docLink);\n",
       "      }\n",
       "    </script>\n",
       "  </div>\n",
       "\n",
       "\n",
       "<div id=\"df-3607963b-8b4b-43ac-ae5d-c8eb8852f401\">\n",
       "  <button class=\"colab-df-quickchart\" onclick=\"quickchart('df-3607963b-8b4b-43ac-ae5d-c8eb8852f401')\"\n",
       "            title=\"Suggest charts.\"\n",
       "            style=\"display:none;\">\n",
       "\n",
       "<svg xmlns=\"http://www.w3.org/2000/svg\" height=\"24px\"viewBox=\"0 0 24 24\"\n",
       "     width=\"24px\">\n",
       "    <g>\n",
       "        <path d=\"M19 3H5c-1.1 0-2 .9-2 2v14c0 1.1.9 2 2 2h14c1.1 0 2-.9 2-2V5c0-1.1-.9-2-2-2zM9 17H7v-7h2v7zm4 0h-2V7h2v10zm4 0h-2v-4h2v4z\"/>\n",
       "    </g>\n",
       "</svg>\n",
       "  </button>\n",
       "\n",
       "<style>\n",
       "  .colab-df-quickchart {\n",
       "      --bg-color: #E8F0FE;\n",
       "      --fill-color: #1967D2;\n",
       "      --hover-bg-color: #E2EBFA;\n",
       "      --hover-fill-color: #174EA6;\n",
       "      --disabled-fill-color: #AAA;\n",
       "      --disabled-bg-color: #DDD;\n",
       "  }\n",
       "\n",
       "  [theme=dark] .colab-df-quickchart {\n",
       "      --bg-color: #3B4455;\n",
       "      --fill-color: #D2E3FC;\n",
       "      --hover-bg-color: #434B5C;\n",
       "      --hover-fill-color: #FFFFFF;\n",
       "      --disabled-bg-color: #3B4455;\n",
       "      --disabled-fill-color: #666;\n",
       "  }\n",
       "\n",
       "  .colab-df-quickchart {\n",
       "    background-color: var(--bg-color);\n",
       "    border: none;\n",
       "    border-radius: 50%;\n",
       "    cursor: pointer;\n",
       "    display: none;\n",
       "    fill: var(--fill-color);\n",
       "    height: 32px;\n",
       "    padding: 0;\n",
       "    width: 32px;\n",
       "  }\n",
       "\n",
       "  .colab-df-quickchart:hover {\n",
       "    background-color: var(--hover-bg-color);\n",
       "    box-shadow: 0 1px 2px rgba(60, 64, 67, 0.3), 0 1px 3px 1px rgba(60, 64, 67, 0.15);\n",
       "    fill: var(--button-hover-fill-color);\n",
       "  }\n",
       "\n",
       "  .colab-df-quickchart-complete:disabled,\n",
       "  .colab-df-quickchart-complete:disabled:hover {\n",
       "    background-color: var(--disabled-bg-color);\n",
       "    fill: var(--disabled-fill-color);\n",
       "    box-shadow: none;\n",
       "  }\n",
       "\n",
       "  .colab-df-spinner {\n",
       "    border: 2px solid var(--fill-color);\n",
       "    border-color: transparent;\n",
       "    border-bottom-color: var(--fill-color);\n",
       "    animation:\n",
       "      spin 1s steps(1) infinite;\n",
       "  }\n",
       "\n",
       "  @keyframes spin {\n",
       "    0% {\n",
       "      border-color: transparent;\n",
       "      border-bottom-color: var(--fill-color);\n",
       "      border-left-color: var(--fill-color);\n",
       "    }\n",
       "    20% {\n",
       "      border-color: transparent;\n",
       "      border-left-color: var(--fill-color);\n",
       "      border-top-color: var(--fill-color);\n",
       "    }\n",
       "    30% {\n",
       "      border-color: transparent;\n",
       "      border-left-color: var(--fill-color);\n",
       "      border-top-color: var(--fill-color);\n",
       "      border-right-color: var(--fill-color);\n",
       "    }\n",
       "    40% {\n",
       "      border-color: transparent;\n",
       "      border-right-color: var(--fill-color);\n",
       "      border-top-color: var(--fill-color);\n",
       "    }\n",
       "    60% {\n",
       "      border-color: transparent;\n",
       "      border-right-color: var(--fill-color);\n",
       "    }\n",
       "    80% {\n",
       "      border-color: transparent;\n",
       "      border-right-color: var(--fill-color);\n",
       "      border-bottom-color: var(--fill-color);\n",
       "    }\n",
       "    90% {\n",
       "      border-color: transparent;\n",
       "      border-bottom-color: var(--fill-color);\n",
       "    }\n",
       "  }\n",
       "</style>\n",
       "\n",
       "  <script>\n",
       "    async function quickchart(key) {\n",
       "      const quickchartButtonEl =\n",
       "        document.querySelector('#' + key + ' button');\n",
       "      quickchartButtonEl.disabled = true;  // To prevent multiple clicks.\n",
       "      quickchartButtonEl.classList.add('colab-df-spinner');\n",
       "      try {\n",
       "        const charts = await google.colab.kernel.invokeFunction(\n",
       "            'suggestCharts', [key], {});\n",
       "      } catch (error) {\n",
       "        console.error('Error during call to suggestCharts:', error);\n",
       "      }\n",
       "      quickchartButtonEl.classList.remove('colab-df-spinner');\n",
       "      quickchartButtonEl.classList.add('colab-df-quickchart-complete');\n",
       "    }\n",
       "    (() => {\n",
       "      let quickchartButtonEl =\n",
       "        document.querySelector('#df-3607963b-8b4b-43ac-ae5d-c8eb8852f401 button');\n",
       "      quickchartButtonEl.style.display =\n",
       "        google.colab.kernel.accessAllowed ? 'block' : 'none';\n",
       "    })();\n",
       "  </script>\n",
       "</div>\n",
       "    </div>\n",
       "  </div>\n"
      ],
      "text/plain": [
       "                 0             1             2             3             4   \\\n",
       "count  1.040000e+05  1.040000e+05  1.040000e+05  1.040000e+05  1.040000e+05   \n",
       "mean  -3.907985e-17 -1.560461e-16 -6.176256e-17  6.784317e-17 -2.022314e-17   \n",
       "std    1.000005e+00  1.000005e+00  1.000005e+00  1.000005e+00  1.000005e+00   \n",
       "min   -4.605402e+00 -1.248291e+00 -2.246745e+00 -1.248546e+00 -6.350220e+00   \n",
       "25%   -1.645376e-01 -6.754480e-01 -6.710739e-01 -6.742484e-01 -6.186799e-01   \n",
       "50%    7.432692e-02 -3.127519e-01 -2.333536e-01 -3.109755e-01  2.366564e-02   \n",
       "75%    3.554338e-01  5.623547e-01  3.366195e-01  5.595088e-01  7.712403e-01   \n",
       "max    5.266859e+00  1.227295e+01  3.527016e+00  1.234866e+01  3.912128e+00   \n",
       "\n",
       "                 5             6             7             8             9   \\\n",
       "count  1.040000e+05  1.040000e+05  1.040000e+05  1.040000e+05  1.040000e+05   \n",
       "mean  -5.260749e-17 -3.019807e-17 -9.701641e-17  1.236618e-17 -1.143017e-16   \n",
       "std    1.000005e+00  1.000005e+00  1.000005e+00  1.000005e+00  1.000005e+00   \n",
       "min   -1.305912e+00 -3.195149e+00 -1.295883e+00 -4.681675e+00 -6.732455e-01   \n",
       "25%   -7.031734e-01 -7.819924e-01 -7.261031e-01 -4.425446e-01 -4.743296e-01   \n",
       "50%   -3.111647e-01  2.028513e-01 -2.818721e-01 -1.571730e-01 -2.535919e-01   \n",
       "75%    5.972042e-01  7.023432e-01  5.831398e-01  2.195885e-01  4.074673e-02   \n",
       "max    6.994416e+00  3.050829e+00  7.716194e+00  6.092447e+00  6.581645e+01   \n",
       "\n",
       "       ...            22            23            24            25  \\\n",
       "count  ...  1.040000e+05  1.040000e+05  1.040000e+05  1.040000e+05   \n",
       "mean   ... -2.206782e-16 -3.432468e-16  6.843073e-16  7.283063e-17   \n",
       "std    ...  1.000005e+00  1.000005e+00  1.000005e+00  1.000005e+00   \n",
       "min    ... -3.112612e+00 -9.755294e-01 -1.280867e+01 -1.102282e+00   \n",
       "25%    ... -6.691405e-01 -7.510183e-01 -1.355671e-01 -6.703675e-01   \n",
       "50%    ... -9.844896e-02 -4.646692e-01  1.026644e-01 -2.937640e-01   \n",
       "75%    ...  5.206536e-01  5.050646e-01  5.383741e-01  4.905208e-01   \n",
       "max    ...  4.528625e+00  1.045473e+01  2.056687e+00  1.291711e+01   \n",
       "\n",
       "                 26            27            28            29            30  \\\n",
       "count  1.040000e+05  1.040000e+05  1.040000e+05  1.040000e+05  1.040000e+05   \n",
       "mean   5.465713e-17  8.786134e-17 -3.672276e-17  1.242083e-16  1.239009e-16   \n",
       "std    1.000005e+00  1.000005e+00  1.000005e+00  1.000005e+00  1.000005e+00   \n",
       "min   -6.423476e+00 -1.102734e+00 -1.841798e+00 -1.101600e+00 -2.437290e+00   \n",
       "25%   -5.183116e-01 -6.712965e-01 -1.013549e+00 -6.715775e-01 -7.022957e-01   \n",
       "50%    7.715062e-03 -2.932297e-01  1.835833e-01 -2.935803e-01 -1.973862e-01   \n",
       "75%    5.390371e-01  4.941784e-01  5.058735e-01  4.940963e-01  7.202255e-01   \n",
       "max    7.064065e+00  1.297646e+01  3.773920e+00  1.295490e+01  6.115577e+00   \n",
       "\n",
       "                 31  \n",
       "count  1.040000e+05  \n",
       "mean   1.844678e-17  \n",
       "std    1.000005e+00  \n",
       "min   -9.974051e-01  \n",
       "25%   -6.549063e-01  \n",
       "50%   -3.894644e-01  \n",
       "75%    5.020634e-01  \n",
       "max    1.318670e+01  \n",
       "\n",
       "[8 rows x 32 columns]"
      ]
     },
     "execution_count": 16,
     "metadata": {},
     "output_type": "execute_result"
    }
   ],
   "source": [
    "X_train.describe()"
   ]
  },
  {
   "cell_type": "code",
   "execution_count": null,
   "metadata": {
    "id": "whGx5sV8aoRG"
   },
   "outputs": [],
   "source": [
    "X_trainPCA=copy.deepcopy(X_train)\n",
    "X_testPCA=copy.deepcopy(X_test)"
   ]
  },
  {
   "cell_type": "markdown",
   "metadata": {
    "id": "p4ZuPlKfWfpO"
   },
   "source": [
    "## KNN"
   ]
  },
  {
   "cell_type": "markdown",
   "metadata": {
    "id": "ZWa3D0ItcYTz"
   },
   "source": [
    "k = sqrt(n)/2 , n= no. of training data points"
   ]
  },
  {
   "cell_type": "code",
   "execution_count": null,
   "metadata": {
    "colab": {
     "base_uri": "https://localhost:8080/"
    },
    "id": "0k9xgieDULhC",
    "outputId": "9fdadef3-7b3a-433f-8e6e-c79f209a45e2"
   },
   "outputs": [
    {
     "name": "stderr",
     "output_type": "stream",
     "text": [
      "/usr/local/lib/python3.8/dist-packages/sklearn/neighbors/_classification.py:198: DataConversionWarning: A column-vector y was passed when a 1d array was expected. Please change the shape of y to (n_samples,), for example using ravel().\n",
      "  return self._fit(X, y)\n"
     ]
    },
    {
     "data": {
      "text/plain": [
       "KNeighborsClassifier(n_neighbors=149)"
      ]
     },
     "execution_count": 19,
     "metadata": {},
     "output_type": "execute_result"
    },
    {
     "name": "stdout",
     "output_type": "stream",
     "text": [
      "time: 398 ms (started: 2023-01-30 07:50:24 +00:00)\n"
     ]
    }
   ],
   "source": [
    "from sklearn.neighbors import KNeighborsClassifier\n",
    "neigh = KNeighborsClassifier(n_neighbors=149)\n",
    "neigh.fit(X_trainPCA, y_train)"
   ]
  },
  {
   "cell_type": "code",
   "execution_count": null,
   "metadata": {
    "colab": {
     "base_uri": "https://localhost:8080/"
    },
    "id": "zxCdlJjzULee",
    "outputId": "a9a05c6c-5004-4520-bdd1-e79332b3a4ff"
   },
   "outputs": [
    {
     "name": "stdout",
     "output_type": "stream",
     "text": [
      "time: 1min 12s (started: 2023-01-30 07:50:25 +00:00)\n"
     ]
    }
   ],
   "source": [
    "y_ = neigh.predict(X_testPCA)"
   ]
  },
  {
   "cell_type": "code",
   "execution_count": null,
   "metadata": {
    "colab": {
     "base_uri": "https://localhost:8080/"
    },
    "id": "Bw31wk75ULb_",
    "outputId": "574a2fb7-552f-4301-e96c-26c73a9f44d4"
   },
   "outputs": [
    {
     "data": {
      "text/plain": [
       "0.989"
      ]
     },
     "execution_count": 21,
     "metadata": {},
     "output_type": "execute_result"
    },
    {
     "name": "stdout",
     "output_type": "stream",
     "text": [
      "time: 52.2 ms (started: 2023-01-30 07:51:37 +00:00)\n"
     ]
    }
   ],
   "source": [
    "accuracy_score(y_test, y_)"
   ]
  },
  {
   "cell_type": "code",
   "execution_count": null,
   "metadata": {
    "colab": {
     "base_uri": "https://localhost:8080/"
    },
    "id": "BfBQhFDmULZb",
    "outputId": "392ff989-cc1b-4436-eb63-2d6f28ee6ba8"
   },
   "outputs": [
    {
     "data": {
      "text/plain": [
       "{'algorithm': 'auto',\n",
       " 'leaf_size': 30,\n",
       " 'metric': 'minkowski',\n",
       " 'metric_params': None,\n",
       " 'n_jobs': None,\n",
       " 'n_neighbors': 149,\n",
       " 'p': 2,\n",
       " 'weights': 'uniform'}"
      ]
     },
     "execution_count": 22,
     "metadata": {},
     "output_type": "execute_result"
    },
    {
     "name": "stdout",
     "output_type": "stream",
     "text": [
      "time: 12.6 ms (started: 2023-01-30 07:51:37 +00:00)\n"
     ]
    }
   ],
   "source": [
    "neigh.get_params()"
   ]
  },
  {
   "cell_type": "code",
   "execution_count": null,
   "metadata": {
    "colab": {
     "base_uri": "https://localhost:8080/"
    },
    "id": "NpHZTHmU7oqS",
    "outputId": "201e7238-06af-4243-bbdd-cd1cafc6546f"
   },
   "outputs": [
    {
     "name": "stdout",
     "output_type": "stream",
     "text": [
      "time: 27.2 ms (started: 2023-01-30 07:51:37 +00:00)\n"
     ]
    }
   ],
   "source": []
  },
  {
   "cell_type": "code",
   "execution_count": null,
   "metadata": {
    "colab": {
     "base_uri": "https://localhost:8080/"
    },
    "id": "XDKRVHNA7onh",
    "outputId": "6ba2f4e4-543a-410d-b295-caf35a78f685"
   },
   "outputs": [
    {
     "name": "stdout",
     "output_type": "stream",
     "text": [
      "time: 518 µs (started: 2023-01-30 07:51:38 +00:00)\n"
     ]
    }
   ],
   "source": [
    "# from sklearn.neighbors import KNeighborsClassifier\n",
    "\n",
    "# vector = []\n",
    "\n",
    "# for i in range(1,25):\n",
    "#   neigh = KNeighborsClassifier(n_neighbors=i)\n",
    "#   neigh.fit(X_trainPCA, y_train)\n",
    "\n",
    "#   y_ = neigh.predict(X_testPCA)\n",
    "\n",
    "#   vector.append(accuracy_score(y_test, y_))"
   ]
  },
  {
   "cell_type": "code",
   "execution_count": null,
   "metadata": {
    "colab": {
     "base_uri": "https://localhost:8080/"
    },
    "id": "YghuYWBF7ojR",
    "outputId": "8ec6e3b5-053a-400b-e093-11c673196ddc"
   },
   "outputs": [
    {
     "name": "stdout",
     "output_type": "stream",
     "text": [
      "time: 500 µs (started: 2023-01-30 07:51:38 +00:00)\n"
     ]
    }
   ],
   "source": [
    "# vector"
   ]
  },
  {
   "cell_type": "code",
   "execution_count": null,
   "metadata": {
    "colab": {
     "base_uri": "https://localhost:8080/"
    },
    "id": "ruPsO5zKULXA",
    "outputId": "7d707739-804b-470a-b513-ce23adb13a51"
   },
   "outputs": [
    {
     "name": "stdout",
     "output_type": "stream",
     "text": [
      "time: 8.5 ms (started: 2023-01-30 07:51:38 +00:00)\n"
     ]
    }
   ],
   "source": []
  },
  {
   "cell_type": "markdown",
   "metadata": {
    "id": "JObv6UljfKKc"
   },
   "source": [
    "## SVM"
   ]
  },
  {
   "cell_type": "code",
   "execution_count": null,
   "metadata": {
    "colab": {
     "base_uri": "https://localhost:8080/"
    },
    "id": "8Ucy53TDfJjq",
    "outputId": "de235601-b42f-4ba0-a2d7-8ebaf8d06c89"
   },
   "outputs": [
    {
     "name": "stderr",
     "output_type": "stream",
     "text": [
      "/usr/local/lib/python3.8/dist-packages/sklearn/utils/validation.py:993: DataConversionWarning: A column-vector y was passed when a 1d array was expected. Please change the shape of y to (n_samples, ), for example using ravel().\n",
      "  y = column_or_1d(y, warn=True)\n"
     ]
    },
    {
     "data": {
      "text/plain": [
       "SVC(C=5, gamma='auto')"
      ]
     },
     "execution_count": 25,
     "metadata": {},
     "output_type": "execute_result"
    },
    {
     "name": "stdout",
     "output_type": "stream",
     "text": [
      "time: 14 s (started: 2023-01-30 07:51:38 +00:00)\n"
     ]
    }
   ],
   "source": [
    "from sklearn import svm\n",
    "clf = svm.SVC(decision_function_shape = 'ovr', gamma = 'auto', C=5)\n",
    "clf.fit(X_trainPCA, y_train)\n"
   ]
  },
  {
   "cell_type": "code",
   "execution_count": null,
   "metadata": {
    "colab": {
     "base_uri": "https://localhost:8080/"
    },
    "id": "WzO--8gSfJS5",
    "outputId": "7f796442-11a6-4aea-adfb-7992c0e2ba6d"
   },
   "outputs": [
    {
     "name": "stdout",
     "output_type": "stream",
     "text": [
      "time: 5.69 s (started: 2023-01-30 07:51:52 +00:00)\n"
     ]
    }
   ],
   "source": [
    "y_1= clf.predict(X_testPCA)"
   ]
  },
  {
   "cell_type": "code",
   "execution_count": null,
   "metadata": {
    "colab": {
     "base_uri": "https://localhost:8080/"
    },
    "id": "rWH791Y7fJPZ",
    "outputId": "5067582c-fe45-4132-d980-a80a1e9f1f42"
   },
   "outputs": [
    {
     "data": {
      "text/plain": [
       "0.9973846153846154"
      ]
     },
     "execution_count": 27,
     "metadata": {},
     "output_type": "execute_result"
    },
    {
     "name": "stdout",
     "output_type": "stream",
     "text": [
      "time: 37.4 ms (started: 2023-01-30 07:51:57 +00:00)\n"
     ]
    }
   ],
   "source": [
    "accuracy_score(y_test, y_1)"
   ]
  },
  {
   "cell_type": "code",
   "execution_count": null,
   "metadata": {
    "colab": {
     "base_uri": "https://localhost:8080/"
    },
    "id": "7YF0CToHhjpM",
    "outputId": "1ea873af-5c78-46e6-e521-8356de0574f2"
   },
   "outputs": [
    {
     "data": {
      "text/plain": [
       "{'C': 5,\n",
       " 'break_ties': False,\n",
       " 'cache_size': 200,\n",
       " 'class_weight': None,\n",
       " 'coef0': 0.0,\n",
       " 'decision_function_shape': 'ovr',\n",
       " 'degree': 3,\n",
       " 'gamma': 'auto',\n",
       " 'kernel': 'rbf',\n",
       " 'max_iter': -1,\n",
       " 'probability': False,\n",
       " 'random_state': None,\n",
       " 'shrinking': True,\n",
       " 'tol': 0.001,\n",
       " 'verbose': False}"
      ]
     },
     "execution_count": 28,
     "metadata": {},
     "output_type": "execute_result"
    },
    {
     "name": "stdout",
     "output_type": "stream",
     "text": [
      "time: 4 ms (started: 2023-01-30 07:51:57 +00:00)\n"
     ]
    }
   ],
   "source": [
    "clf.get_params()"
   ]
  },
  {
   "cell_type": "code",
   "execution_count": null,
   "metadata": {
    "colab": {
     "base_uri": "https://localhost:8080/"
    },
    "id": "s6YXSwGshqMF",
    "outputId": "da91593e-be8e-4168-c435-833b10b0aafd"
   },
   "outputs": [
    {
     "name": "stdout",
     "output_type": "stream",
     "text": [
      "time: 12.7 ms (started: 2023-01-30 07:51:57 +00:00)\n"
     ]
    }
   ],
   "source": []
  },
  {
   "cell_type": "markdown",
   "metadata": {
    "id": "L2w0NY65do-J"
   },
   "source": [
    "## DTree"
   ]
  },
  {
   "cell_type": "code",
   "execution_count": null,
   "metadata": {
    "colab": {
     "base_uri": "https://localhost:8080/"
    },
    "id": "-VK0L6qGdruy",
    "outputId": "68e06be5-9f2b-409f-9420-dc01aa14489f"
   },
   "outputs": [
    {
     "data": {
      "text/plain": [
       "DecisionTreeClassifier(max_depth=20, min_samples_leaf=100, random_state=0)"
      ]
     },
     "execution_count": 29,
     "metadata": {},
     "output_type": "execute_result"
    },
    {
     "name": "stdout",
     "output_type": "stream",
     "text": [
      "time: 6.02 s (started: 2023-01-30 07:51:57 +00:00)\n"
     ]
    }
   ],
   "source": [
    "from sklearn.tree import DecisionTreeClassifier\n",
    "clf2 = DecisionTreeClassifier(random_state=0,min_samples_leaf = 100, max_depth=20)\n",
    "clf2.fit(X_trainPCA, y_train)\n"
   ]
  },
  {
   "cell_type": "code",
   "execution_count": null,
   "metadata": {
    "colab": {
     "base_uri": "https://localhost:8080/"
    },
    "id": "OrpHrEf3dsnk",
    "outputId": "e893c611-d618-4754-d452-7daed727df8e"
   },
   "outputs": [
    {
     "name": "stdout",
     "output_type": "stream",
     "text": [
      "time: 14.1 ms (started: 2023-01-30 07:52:03 +00:00)\n"
     ]
    }
   ],
   "source": [
    "y_2= clf2.predict(X_testPCA)"
   ]
  },
  {
   "cell_type": "code",
   "execution_count": null,
   "metadata": {
    "colab": {
     "base_uri": "https://localhost:8080/"
    },
    "id": "t6jNTNmcdsj1",
    "outputId": "814569aa-3774-41a9-fc29-583fd07affb4"
   },
   "outputs": [
    {
     "data": {
      "text/plain": [
       "0.9809615384615384"
      ]
     },
     "execution_count": 31,
     "metadata": {},
     "output_type": "execute_result"
    },
    {
     "name": "stdout",
     "output_type": "stream",
     "text": [
      "time: 41.6 ms (started: 2023-01-30 07:52:03 +00:00)\n"
     ]
    }
   ],
   "source": [
    "accuracy_score(y_test, y_2)"
   ]
  },
  {
   "cell_type": "code",
   "execution_count": null,
   "metadata": {
    "colab": {
     "base_uri": "https://localhost:8080/"
    },
    "id": "JOE8wKykdsgz",
    "outputId": "70b8dec9-6c7c-49ab-dea4-b775a0c45813"
   },
   "outputs": [
    {
     "data": {
      "text/plain": [
       "{'ccp_alpha': 0.0,\n",
       " 'class_weight': None,\n",
       " 'criterion': 'gini',\n",
       " 'max_depth': 20,\n",
       " 'max_features': None,\n",
       " 'max_leaf_nodes': None,\n",
       " 'min_impurity_decrease': 0.0,\n",
       " 'min_samples_leaf': 100,\n",
       " 'min_samples_split': 2,\n",
       " 'min_weight_fraction_leaf': 0.0,\n",
       " 'random_state': 0,\n",
       " 'splitter': 'best'}"
      ]
     },
     "execution_count": 32,
     "metadata": {},
     "output_type": "execute_result"
    },
    {
     "name": "stdout",
     "output_type": "stream",
     "text": [
      "time: 5.13 ms (started: 2023-01-30 07:52:03 +00:00)\n"
     ]
    }
   ],
   "source": [
    "clf2.get_params()"
   ]
  },
  {
   "cell_type": "code",
   "execution_count": null,
   "metadata": {
    "colab": {
     "base_uri": "https://localhost:8080/"
    },
    "id": "ES-SjpsAdsby",
    "outputId": "5d6d6ff1-b31e-43e1-c078-3527c79c98c3"
   },
   "outputs": [
    {
     "name": "stdout",
     "output_type": "stream",
     "text": [
      "time: 14.6 ms (started: 2023-01-30 07:52:03 +00:00)\n"
     ]
    }
   ],
   "source": []
  },
  {
   "cell_type": "markdown",
   "metadata": {
    "id": "NDx3wR_wfQmH"
   },
   "source": [
    "## Random Forest"
   ]
  },
  {
   "cell_type": "code",
   "execution_count": null,
   "metadata": {
    "colab": {
     "base_uri": "https://localhost:8080/"
    },
    "id": "q30i5nmmSwHf",
    "outputId": "1d4e15ab-2bf9-4c26-c28b-997e8baf6370"
   },
   "outputs": [
    {
     "name": "stdout",
     "output_type": "stream",
     "text": [
      "time: 507 µs (started: 2023-01-30 07:52:03 +00:00)\n"
     ]
    }
   ],
   "source": [
    "# y_train= sample[['Object_Held']]"
   ]
  },
  {
   "cell_type": "code",
   "execution_count": null,
   "metadata": {
    "id": "IcmCFPLUq0QZ"
   },
   "outputs": [],
   "source": [
    "from sklearn.preprocessing import OrdinalEncoder\n",
    "enc = OrdinalEncoder()\n",
    "enc.fit(y_train)\n",
    "y_train2 = enc.transform(y_train)"
   ]
  },
  {
   "cell_type": "code",
   "execution_count": null,
   "metadata": {
    "colab": {
     "base_uri": "https://localhost:8080/"
    },
    "id": "n3_w1n8kfSn5",
    "outputId": "e4dcb8ef-27fd-4bc1-dfb0-5e50edc82605"
   },
   "outputs": [
    {
     "name": "stderr",
     "output_type": "stream",
     "text": [
      "<ipython-input-35-c9ae7ac95217>:3: DataConversionWarning: A column-vector y was passed when a 1d array was expected. Please change the shape of y to (n_samples,), for example using ravel().\n",
      "  clf3.fit(X_trainPCA, y_train2)\n"
     ]
    },
    {
     "data": {
      "text/plain": [
       "RandomForestClassifier(max_depth=20, min_samples_leaf=100, random_state=0)"
      ]
     },
     "execution_count": 35,
     "metadata": {},
     "output_type": "execute_result"
    },
    {
     "name": "stdout",
     "output_type": "stream",
     "text": [
      "time: 1min 8s (started: 2023-01-30 07:52:04 +00:00)\n"
     ]
    }
   ],
   "source": [
    "from sklearn.ensemble import RandomForestClassifier\n",
    "clf3 = RandomForestClassifier(n_estimators=100,max_depth=20,min_samples_leaf=100, random_state=0)\n",
    "clf3.fit(X_trainPCA, y_train2)"
   ]
  },
  {
   "cell_type": "code",
   "execution_count": null,
   "metadata": {
    "colab": {
     "base_uri": "https://localhost:8080/"
    },
    "id": "3MkdQmLTjD7C",
    "outputId": "87c4f963-1416-4fa8-9308-16d3c089ce62"
   },
   "outputs": [
    {
     "name": "stdout",
     "output_type": "stream",
     "text": [
      "time: 500 ms (started: 2023-01-30 07:53:12 +00:00)\n"
     ]
    }
   ],
   "source": [
    "y_3 = clf3.predict(X_testPCA)"
   ]
  },
  {
   "cell_type": "code",
   "execution_count": null,
   "metadata": {
    "colab": {
     "base_uri": "https://localhost:8080/"
    },
    "id": "mbgDoJJSGzN3",
    "outputId": "a385abe1-f43c-44ff-c8a9-86f3892cc06b"
   },
   "outputs": [
    {
     "name": "stdout",
     "output_type": "stream",
     "text": [
      "time: 404 µs (started: 2023-01-30 07:53:13 +00:00)\n"
     ]
    }
   ],
   "source": [
    "# y_3=pd.DataFrame(y_3)\n",
    "# y_3"
   ]
  },
  {
   "cell_type": "code",
   "execution_count": null,
   "metadata": {
    "colab": {
     "base_uri": "https://localhost:8080/"
    },
    "id": "YgB48nQU2LQY",
    "outputId": "2d126e9f-9323-402d-911f-267d4ff49241"
   },
   "outputs": [
    {
     "name": "stdout",
     "output_type": "stream",
     "text": [
      "time: 6.42 ms (started: 2023-01-30 07:53:13 +00:00)\n"
     ]
    }
   ],
   "source": [
    "y_3 = enc.inverse_transform(pd.DataFrame(y_3))"
   ]
  },
  {
   "cell_type": "code",
   "execution_count": null,
   "metadata": {
    "colab": {
     "base_uri": "https://localhost:8080/"
    },
    "id": "8BYQDBwS2gZt",
    "outputId": "8197a676-e76d-48aa-94f1-dd2407c8abb5"
   },
   "outputs": [
    {
     "name": "stdout",
     "output_type": "stream",
     "text": [
      "time: 1.77 ms (started: 2023-01-30 07:53:13 +00:00)\n"
     ]
    }
   ],
   "source": [
    "y_3 =pd.DataFrame(y_3)\n",
    "y_3.columns=['Object_Held']"
   ]
  },
  {
   "cell_type": "code",
   "execution_count": null,
   "metadata": {
    "colab": {
     "base_uri": "https://localhost:8080/"
    },
    "id": "RzAZYpLfjD4m",
    "outputId": "87a9a58a-384d-4277-b012-9663008b0cef"
   },
   "outputs": [
    {
     "data": {
      "text/plain": [
       "0.9958076923076923"
      ]
     },
     "execution_count": 40,
     "metadata": {},
     "output_type": "execute_result"
    },
    {
     "name": "stdout",
     "output_type": "stream",
     "text": [
      "time: 40.4 ms (started: 2023-01-30 07:53:13 +00:00)\n"
     ]
    }
   ],
   "source": [
    "accuracy_score(y_test, y_3)"
   ]
  },
  {
   "cell_type": "code",
   "execution_count": null,
   "metadata": {
    "colab": {
     "base_uri": "https://localhost:8080/"
    },
    "id": "m6izdNfp21KW",
    "outputId": "4e047a7b-3a05-48a4-f6a6-39a0efb5af22"
   },
   "outputs": [
    {
     "data": {
      "text/plain": [
       "{'bootstrap': True,\n",
       " 'ccp_alpha': 0.0,\n",
       " 'class_weight': None,\n",
       " 'criterion': 'gini',\n",
       " 'max_depth': 20,\n",
       " 'max_features': 'auto',\n",
       " 'max_leaf_nodes': None,\n",
       " 'max_samples': None,\n",
       " 'min_impurity_decrease': 0.0,\n",
       " 'min_samples_leaf': 100,\n",
       " 'min_samples_split': 2,\n",
       " 'min_weight_fraction_leaf': 0.0,\n",
       " 'n_estimators': 100,\n",
       " 'n_jobs': None,\n",
       " 'oob_score': False,\n",
       " 'random_state': 0,\n",
       " 'verbose': 0,\n",
       " 'warm_start': False}"
      ]
     },
     "execution_count": 41,
     "metadata": {},
     "output_type": "execute_result"
    },
    {
     "name": "stdout",
     "output_type": "stream",
     "text": [
      "time: 5.76 ms (started: 2023-01-30 07:53:13 +00:00)\n"
     ]
    }
   ],
   "source": [
    "clf3.get_params()"
   ]
  },
  {
   "cell_type": "code",
   "execution_count": null,
   "metadata": {
    "colab": {
     "base_uri": "https://localhost:8080/"
    },
    "id": "pFOAU1LEDp_r",
    "outputId": "2a3b0f2e-ae4e-43f6-b790-d6371436eaa7"
   },
   "outputs": [
    {
     "name": "stdout",
     "output_type": "stream",
     "text": [
      "time: 18.8 ms (started: 2023-01-30 07:53:13 +00:00)\n"
     ]
    }
   ],
   "source": []
  },
  {
   "cell_type": "code",
   "execution_count": null,
   "metadata": {
    "colab": {
     "base_uri": "https://localhost:8080/"
    },
    "id": "cooCFzRTkBx_",
    "outputId": "e521167d-ce0c-47a6-f1ee-a60294e977d6"
   },
   "outputs": [
    {
     "name": "stdout",
     "output_type": "stream",
     "text": [
      "time: 28.9 ms (started: 2023-01-30 07:53:13 +00:00)\n"
     ]
    }
   ],
   "source": []
  },
  {
   "cell_type": "markdown",
   "metadata": {
    "id": "WVdJR4TgUf70"
   },
   "source": [
    "## Neural Networks"
   ]
  },
  {
   "cell_type": "code",
   "execution_count": null,
   "metadata": {
    "id": "jlhgwAd2dGFn"
   },
   "outputs": [],
   "source": [
    "import tensorflow as tf\n",
    "from tensorflow import keras"
   ]
  },
  {
   "cell_type": "code",
   "execution_count": null,
   "metadata": {
    "id": "RGVudxZDsWpC"
   },
   "outputs": [],
   "source": [
    "model = keras.Sequential([keras.layers.Dense(20, input_dim=32,activation ='elu' ), keras.layers.Dense(20,activation ='elu'), keras.layers.Dense(20,activation ='elu'), keras.layers.Dense(20,activation ='elu'), keras.layers.Dense(20,activation ='elu'), keras.layers.Dense(20,activation ='elu'), keras.layers.Dense(20,activation ='elu'), keras.layers.Dense(20,activation ='elu'), keras.layers.Dense(20,activation ='elu'), keras.layers.Dense(13,activation = tf.nn.softmax)])"
   ]
  },
  {
   "cell_type": "code",
   "execution_count": null,
   "metadata": {
    "id": "rsdW2zsVtGZ-"
   },
   "outputs": [],
   "source": [
    "model.compile(optimizer = 'adam',loss='sparse_categorical_crossentropy',metrics =['accuracy'])"
   ]
  },
  {
   "cell_type": "code",
   "execution_count": null,
   "metadata": {
    "colab": {
     "base_uri": "https://localhost:8080/"
    },
    "id": "zjMnt1JIJnJW",
    "outputId": "c1bf3d9f-73ef-489c-d2da-052ea197676c"
   },
   "outputs": [
    {
     "name": "stdout",
     "output_type": "stream",
     "text": [
      "Model: \"sequential\"\n",
      "_________________________________________________________________\n",
      " Layer (type)                Output Shape              Param #   \n",
      "=================================================================\n",
      " dense (Dense)               (None, 20)                660       \n",
      "                                                                 \n",
      " dense_1 (Dense)             (None, 20)                420       \n",
      "                                                                 \n",
      " dense_2 (Dense)             (None, 20)                420       \n",
      "                                                                 \n",
      " dense_3 (Dense)             (None, 20)                420       \n",
      "                                                                 \n",
      " dense_4 (Dense)             (None, 20)                420       \n",
      "                                                                 \n",
      " dense_5 (Dense)             (None, 20)                420       \n",
      "                                                                 \n",
      " dense_6 (Dense)             (None, 20)                420       \n",
      "                                                                 \n",
      " dense_7 (Dense)             (None, 20)                420       \n",
      "                                                                 \n",
      " dense_8 (Dense)             (None, 20)                420       \n",
      "                                                                 \n",
      " dense_9 (Dense)             (None, 13)                273       \n",
      "                                                                 \n",
      "=================================================================\n",
      "Total params: 4293 (16.77 KB)\n",
      "Trainable params: 4293 (16.77 KB)\n",
      "Non-trainable params: 0 (0.00 Byte)\n",
      "_________________________________________________________________\n"
     ]
    }
   ],
   "source": [
    "model.summary()"
   ]
  },
  {
   "cell_type": "code",
   "execution_count": null,
   "metadata": {
    "colab": {
     "base_uri": "https://localhost:8080/"
    },
    "id": "2DbVDxlftLu0",
    "outputId": "b392dfb0-4718-40cf-ce19-8c119b0c096f"
   },
   "outputs": [
    {
     "name": "stdout",
     "output_type": "stream",
     "text": [
      "Epoch 1/10\n",
      "2600/2600 [==============================] - 14s 4ms/step - loss: 0.1565 - accuracy: 0.9540 - val_loss: 0.0357 - val_accuracy: 0.9902\n",
      "Epoch 2/10\n",
      "2600/2600 [==============================] - 8s 3ms/step - loss: 0.0230 - accuracy: 0.9926 - val_loss: 0.0141 - val_accuracy: 0.9954\n",
      "Epoch 3/10\n",
      "2600/2600 [==============================] - 22s 8ms/step - loss: 0.0164 - accuracy: 0.9944 - val_loss: 0.0098 - val_accuracy: 0.9963\n",
      "Epoch 4/10\n",
      "2600/2600 [==============================] - 20s 8ms/step - loss: 0.0161 - accuracy: 0.9942 - val_loss: 0.0111 - val_accuracy: 0.9952\n",
      "Epoch 5/10\n",
      "2600/2600 [==============================] - 11s 4ms/step - loss: 0.0133 - accuracy: 0.9951 - val_loss: 0.0134 - val_accuracy: 0.9943\n",
      "Epoch 6/10\n",
      "2600/2600 [==============================] - 7s 3ms/step - loss: 0.0127 - accuracy: 0.9953 - val_loss: 0.0091 - val_accuracy: 0.9963\n",
      "Epoch 7/10\n",
      "2600/2600 [==============================] - 9s 4ms/step - loss: 0.0113 - accuracy: 0.9956 - val_loss: 0.0097 - val_accuracy: 0.9962\n",
      "Epoch 8/10\n",
      "2600/2600 [==============================] - 8s 3ms/step - loss: 0.0115 - accuracy: 0.9955 - val_loss: 0.0075 - val_accuracy: 0.9968\n",
      "Epoch 9/10\n",
      "2600/2600 [==============================] - 9s 4ms/step - loss: 0.0125 - accuracy: 0.9952 - val_loss: 0.0067 - val_accuracy: 0.9974\n",
      "Epoch 10/10\n",
      "2600/2600 [==============================] - 9s 4ms/step - loss: 0.0114 - accuracy: 0.9957 - val_loss: 0.0128 - val_accuracy: 0.9950\n"
     ]
    }
   ],
   "source": [
    "history= model.fit(X_train, y_train2,epochs = 10, validation_split=0.2)"
   ]
  },
  {
   "cell_type": "code",
   "execution_count": null,
   "metadata": {
    "id": "RD-advnHU_da"
   },
   "outputs": [],
   "source": [
    "_=pd.DataFrame(history.history)"
   ]
  },
  {
   "cell_type": "code",
   "execution_count": null,
   "metadata": {
    "colab": {
     "base_uri": "https://localhost:8080/",
     "height": 447
    },
    "id": "Akwj08k-U_Z-",
    "outputId": "7e660b3d-26dc-4cfa-d983-f1de756f6ee3"
   },
   "outputs": [
    {
     "data": {
      "text/plain": [
       "<matplotlib.legend.Legend at 0x7e9bcfc53460>"
      ]
     },
     "execution_count": 28,
     "metadata": {},
     "output_type": "execute_result"
    },
    {
     "data": {
      "image/png": "[encoded data removed]",
      "text/plain": [
       "<Figure size 640x480 with 1 Axes>"
      ]
     },
     "metadata": {},
     "output_type": "display_data"
    }
   ],
   "source": [
    "plt.plot(range(10), _[['accuracy','val_accuracy']], linewidth=2, markersize=1)\n",
    "plt.legend(['accuracy','val_accuracy'])"
   ]
  },
  {
   "cell_type": "code",
   "execution_count": null,
   "metadata": {
    "colab": {
     "base_uri": "https://localhost:8080/",
     "height": 447
    },
    "id": "eyTgQLWUUA7U",
    "outputId": "36ff02bd-99c1-4cee-c2cf-fc620d95def1"
   },
   "outputs": [
    {
     "data": {
      "text/plain": [
       "<matplotlib.legend.Legend at 0x7e9bbd3be530>"
      ]
     },
     "execution_count": 29,
     "metadata": {},
     "output_type": "execute_result"
    },
    {
     "data": {
      "image/png": "[encoded data removed]",
      "text/plain": [
       "<Figure size 640x480 with 1 Axes>"
      ]
     },
     "metadata": {},
     "output_type": "display_data"
    }
   ],
   "source": [
    "plt.plot(range(10), _['loss'], linewidth=2, markersize=1)\n",
    "plt.legend(['loss'])"
   ]
  },
  {
   "cell_type": "code",
   "execution_count": null,
   "metadata": {
    "colab": {
     "base_uri": "https://localhost:8080/"
    },
    "id": "oNpTRA5uSFuJ",
    "outputId": "3416dd42-502a-4ef5-d9ae-a879e4f44a18"
   },
   "outputs": [
    {
     "name": "stdout",
     "output_type": "stream",
     "text": [
      "813/813 [==============================] - 1s 2ms/step\n"
     ]
    }
   ],
   "source": [
    "y__= model.predict(X_test)"
   ]
  },
  {
   "cell_type": "code",
   "execution_count": null,
   "metadata": {
    "colab": {
     "base_uri": "https://localhost:8080/"
    },
    "id": "QwUcWQhGPoyN",
    "outputId": "8f01219b-fa2f-4982-db51-5c3117167547"
   },
   "outputs": [
    {
     "data": {
      "text/plain": [
       "(26000, 13)"
      ]
     },
     "execution_count": 31,
     "metadata": {},
     "output_type": "execute_result"
    }
   ],
   "source": [
    "y__.shape"
   ]
  },
  {
   "cell_type": "code",
   "execution_count": null,
   "metadata": {
    "colab": {
     "base_uri": "https://localhost:8080/"
    },
    "id": "_nZQv5-tr52q",
    "outputId": "b4f3e6eb-2928-48b0-edd8-db25b3e67fcb"
   },
   "outputs": [
    {
     "name": "stderr",
     "output_type": "stream",
     "text": [
      "<ipython-input-32-722051871be4>:3: DeprecationWarning: setting an array element with a sequence. This was supported in some cases where the elements are arrays with a single element. For example `np.array([1, np.array([2])], dtype=int)`. In the future this will raise the same ValueError as `np.array([1, [2]], dtype=int)`.\n",
      "  y1[i]= np.where(y__[i]==max(y__[i]))\n"
     ]
    }
   ],
   "source": [
    "y1= np.zeros((26000,1))\n",
    "for i in range(len(y__)):\n",
    "  y1[i]= np.where(y__[i]==max(y__[i]))"
   ]
  },
  {
   "cell_type": "code",
   "execution_count": null,
   "metadata": {
    "id": "d7MXrSfJoMJN"
   },
   "outputs": [],
   "source": [
    "y2=enc.inverse_transform(y1)"
   ]
  },
  {
   "cell_type": "code",
   "execution_count": null,
   "metadata": {
    "id": "ULfuOZa2ycbn"
   },
   "outputs": [],
   "source": [
    "y_pred=pd.DataFrame(y2)\n",
    "y_pred.columns = ['Object_Held']"
   ]
  },
  {
   "cell_type": "code",
   "execution_count": null,
   "metadata": {
    "colab": {
     "base_uri": "https://localhost:8080/"
    },
    "id": "xbpDsobnByZv",
    "outputId": "49620246-8ccb-4cb1-cd65-87b06faeae5e"
   },
   "outputs": [
    {
     "data": {
      "text/plain": [
       "0.9948846153846154"
      ]
     },
     "execution_count": 35,
     "metadata": {},
     "output_type": "execute_result"
    }
   ],
   "source": [
    "accuracy_score(y_test, y_pred)"
   ]
  },
  {
   "cell_type": "code",
   "execution_count": null,
   "metadata": {
    "colab": {
     "base_uri": "https://localhost:8080/"
    },
    "id": "nyb35pSpPgp8",
    "outputId": "fbe81d3f-3672-4eda-80cd-bbfa6317b1eb"
   },
   "outputs": [
    {
     "name": "stdout",
     "output_type": "stream",
     "text": [
      "(0.9949270606364162, 0.9948846153846154, 0.9948783602805041, None) \n",
      "\n",
      "(0.9948846153846154, 0.9948846153846154, 0.9948846153846154, None) \n",
      "\n",
      "(0.9949270606364161, 0.9948846153846154, 0.9948783602805041, None) \n",
      "\n"
     ]
    }
   ],
   "source": [
    "from sklearn.metrics import precision_recall_fscore_support\n",
    "print(precision_recall_fscore_support(y_test, y_pred, average='macro'),\"\\n\")\n",
    "\n",
    "print(precision_recall_fscore_support(y_test, y_pred, average='micro'),\"\\n\")\n",
    "\n",
    "print(precision_recall_fscore_support(y_test, y_pred, average='weighted'), \"\\n\")"
   ]
  },
  {
   "cell_type": "markdown",
   "metadata": {
    "id": "JFsh8_HRb6gq"
   },
   "source": [
    "## CNN"
   ]
  },
  {
   "cell_type": "code",
   "execution_count": null,
   "metadata": {
    "colab": {
     "base_uri": "https://localhost:8080/"
    },
    "id": "xdSM7bB_b9qy",
    "outputId": "3f8c1707-9adf-42ce-a897-986148020658"
   },
   "outputs": [
    {
     "name": "stdout",
     "output_type": "stream",
     "text": [
      "time: 72.2 ms (started: 2023-01-30 07:54:42 +00:00)\n"
     ]
    }
   ],
   "source": []
  },
  {
   "cell_type": "code",
   "execution_count": null,
   "metadata": {
    "colab": {
     "base_uri": "https://localhost:8080/"
    },
    "id": "SUbro0DNb-j5",
    "outputId": "4f63d65d-37ce-453d-8760-e8c3ebe34c9c"
   },
   "outputs": [
    {
     "name": "stdout",
     "output_type": "stream",
     "text": [
      "time: 1.14 ms (started: 2023-01-30 07:54:42 +00:00)\n"
     ]
    }
   ],
   "source": [
    "from keras.models import Sequential\n",
    "from keras.layers import Dense, Flatten, Convolution1D, Dropout\n",
    "from keras.optimizers import SGD\n",
    "from keras.initializers import random_uniform"
   ]
  },
  {
   "cell_type": "code",
   "execution_count": null,
   "metadata": {
    "colab": {
     "base_uri": "https://localhost:8080/"
    },
    "id": "5KwYM80bcua4",
    "outputId": "c2e56a67-4423-45ee-9091-fe88e492533f"
   },
   "outputs": [
    {
     "name": "stdout",
     "output_type": "stream",
     "text": [
      "time: 1.71 ms (started: 2023-01-30 07:54:42 +00:00)\n"
     ]
    }
   ],
   "source": [
    "# input_dimension = 226\n",
    "learning_rate = 0.0025\n",
    "momentum = 0.85\n",
    "hidden_initializer = random_uniform(seed=42)\n",
    "dropout_rate = 0.2\n"
   ]
  },
  {
   "cell_type": "code",
   "execution_count": null,
   "metadata": {
    "colab": {
     "base_uri": "https://localhost:8080/"
    },
    "id": "UY01Obx8b-hF",
    "outputId": "dadde4cd-bd1a-4171-d0aa-e73b0a9f9950"
   },
   "outputs": [
    {
     "name": "stdout",
     "output_type": "stream",
     "text": [
      "time: 126 ms (started: 2023-01-30 07:54:42 +00:00)\n"
     ]
    }
   ],
   "source": [
    "model2 = Sequential()\n",
    "model2.add(Convolution1D(32,1, input_shape=(32,1), activation='relu'))\n",
    "model2.add(Convolution1D(16,1, activation='relu'))\n",
    "model2.add(Flatten())\n",
    "model2.add(Dropout(dropout_rate))\n",
    "model2.add(Dense(128, input_dim=32, kernel_initializer=hidden_initializer, activation='relu'))\n",
    "model2.add(Dropout(dropout_rate))\n",
    "model2.add(Dense(64, kernel_initializer=hidden_initializer, activation='relu'))\n",
    "model2.add(Dense(13, kernel_initializer=hidden_initializer, activation='softmax'))"
   ]
  },
  {
   "cell_type": "code",
   "execution_count": null,
   "metadata": {
    "colab": {
     "base_uri": "https://localhost:8080/"
    },
    "id": "7KGa3NUnb-ea",
    "outputId": "5994fe44-3cbf-4b86-d6ce-b4ba509f4b1f"
   },
   "outputs": [
    {
     "name": "stdout",
     "output_type": "stream",
     "text": [
      "Epoch 1/10\n"
     ]
    },
    {
     "name": "stderr",
     "output_type": "stream",
     "text": [
      "/usr/local/lib/python3.8/dist-packages/keras/optimizers/optimizer_v2/gradient_descent.py:108: UserWarning: The `lr` argument is deprecated, use `learning_rate` instead.\n",
      "  super(SGD, self).__init__(name, **kwargs)\n"
     ]
    },
    {
     "name": "stdout",
     "output_type": "stream",
     "text": [
      "2600/2600 [==============================] - 15s 5ms/step - loss: 0.1541 - accuracy: 0.9496 - val_loss: 0.0209 - val_accuracy: 0.9920\n",
      "Epoch 2/10\n",
      "2600/2600 [==============================] - 14s 6ms/step - loss: 0.0316 - accuracy: 0.9886 - val_loss: 0.0187 - val_accuracy: 0.9940\n",
      "Epoch 3/10\n",
      "2600/2600 [==============================] - 13s 5ms/step - loss: 0.0255 - accuracy: 0.9906 - val_loss: 0.0105 - val_accuracy: 0.9953\n",
      "Epoch 4/10\n",
      "2600/2600 [==============================] - 12s 5ms/step - loss: 0.0208 - accuracy: 0.9923 - val_loss: 0.0121 - val_accuracy: 0.9941\n",
      "Epoch 5/10\n",
      "2600/2600 [==============================] - 12s 5ms/step - loss: 0.0207 - accuracy: 0.9931 - val_loss: 0.0072 - val_accuracy: 0.9968\n",
      "Epoch 6/10\n",
      "2600/2600 [==============================] - 13s 5ms/step - loss: 0.0166 - accuracy: 0.9938 - val_loss: 0.0079 - val_accuracy: 0.9968\n",
      "Epoch 7/10\n",
      "2600/2600 [==============================] - 14s 5ms/step - loss: 0.0153 - accuracy: 0.9943 - val_loss: 0.0064 - val_accuracy: 0.9971\n",
      "Epoch 8/10\n",
      "2600/2600 [==============================] - 13s 5ms/step - loss: 0.0152 - accuracy: 0.9945 - val_loss: 0.0096 - val_accuracy: 0.9954\n",
      "Epoch 9/10\n",
      "2600/2600 [==============================] - 11s 4ms/step - loss: 0.0142 - accuracy: 0.9949 - val_loss: 0.0103 - val_accuracy: 0.9962\n",
      "Epoch 10/10\n",
      "2600/2600 [==============================] - 13s 5ms/step - loss: 0.0131 - accuracy: 0.9951 - val_loss: 0.0109 - val_accuracy: 0.9953\n",
      "time: 2min 10s (started: 2023-01-30 07:54:42 +00:00)\n"
     ]
    }
   ],
   "source": [
    "sgd = SGD(lr=learning_rate, momentum=momentum)\n",
    "model2.compile(optimizer = 'adam',loss='sparse_categorical_crossentropy', metrics=['accuracy'])\n",
    "history1 = model2.fit(X_train, y_train2, epochs=10,validation_split=0.2)"
   ]
  },
  {
   "cell_type": "code",
   "execution_count": null,
   "metadata": {
    "colab": {
     "base_uri": "https://localhost:8080/"
    },
    "id": "KxrigUD7b-bz",
    "outputId": "a19af743-1830-4f18-81ea-1f4b20e7ce3a"
   },
   "outputs": [
    {
     "name": "stdout",
     "output_type": "stream",
     "text": [
      "Model: \"sequential_1\"\n",
      "_________________________________________________________________\n",
      " Layer (type)                Output Shape              Param #   \n",
      "=================================================================\n",
      " conv1d (Conv1D)             (None, 32, 32)            64        \n",
      "                                                                 \n",
      " conv1d_1 (Conv1D)           (None, 32, 16)            528       \n",
      "                                                                 \n",
      " flatten (Flatten)           (None, 512)               0         \n",
      "                                                                 \n",
      " dropout (Dropout)           (None, 512)               0         \n",
      "                                                                 \n",
      " dense_10 (Dense)            (None, 128)               65664     \n",
      "                                                                 \n",
      " dropout_1 (Dropout)         (None, 128)               0         \n",
      "                                                                 \n",
      " dense_11 (Dense)            (None, 64)                8256      \n",
      "                                                                 \n",
      " dense_12 (Dense)            (None, 13)                845       \n",
      "                                                                 \n",
      "=================================================================\n",
      "Total params: 75,357\n",
      "Trainable params: 75,357\n",
      "Non-trainable params: 0\n",
      "_________________________________________________________________\n",
      "time: 47 ms (started: 2023-01-30 07:56:53 +00:00)\n"
     ]
    }
   ],
   "source": [
    "model2.summary()"
   ]
  },
  {
   "cell_type": "code",
   "execution_count": null,
   "metadata": {
    "colab": {
     "base_uri": "https://localhost:8080/"
    },
    "id": "g-VUsFaTpaLj",
    "outputId": "acd9a9c4-34e7-4dd5-986a-812a3cf91bdc"
   },
   "outputs": [
    {
     "name": "stdout",
     "output_type": "stream",
     "text": [
      "time: 53.5 ms (started: 2023-01-30 07:56:53 +00:00)\n"
     ]
    }
   ],
   "source": []
  },
  {
   "cell_type": "code",
   "execution_count": null,
   "metadata": {
    "colab": {
     "base_uri": "https://localhost:8080/"
    },
    "id": "64eYASzqpacp",
    "outputId": "a8e316c4-ff24-4551-b772-9bcbdbb3ff58"
   },
   "outputs": [
    {
     "name": "stdout",
     "output_type": "stream",
     "text": [
      "time: 4.73 ms (started: 2023-01-30 07:56:53 +00:00)\n"
     ]
    }
   ],
   "source": [
    "_1=pd.DataFrame(history1.history)"
   ]
  },
  {
   "cell_type": "code",
   "execution_count": null,
   "metadata": {
    "colab": {
     "base_uri": "https://localhost:8080/",
     "height": 300
    },
    "id": "NfHuEqompacr",
    "outputId": "c6210bde-b211-4beb-fdec-e78260f27b9c"
   },
   "outputs": [
    {
     "data": {
      "text/plain": [
       "<matplotlib.legend.Legend at 0x7f160a1bac70>"
      ]
     },
     "execution_count": 62,
     "metadata": {},
     "output_type": "execute_result"
    },
    {
     "data": {
      "image/png": "[encoded data removed]",
      "text/plain": [
       "<Figure size 432x288 with 1 Axes>"
      ]
     },
     "metadata": {
      "needs_background": "light"
     },
     "output_type": "display_data"
    },
    {
     "name": "stdout",
     "output_type": "stream",
     "text": [
      "time: 239 ms (started: 2023-01-30 07:56:53 +00:00)\n"
     ]
    }
   ],
   "source": [
    "plt.plot(range(10), _1[['accuracy','val_accuracy']], linewidth=2, markersize=1)\n",
    "plt.legend(['accuracy','val_accuracy'])"
   ]
  },
  {
   "cell_type": "code",
   "execution_count": null,
   "metadata": {
    "colab": {
     "base_uri": "https://localhost:8080/",
     "height": 303
    },
    "id": "hyxmy9wRpact",
    "outputId": "93c797f2-4a40-4a6a-be7e-78a05cbdc014"
   },
   "outputs": [
    {
     "data": {
      "text/plain": [
       "<matplotlib.legend.Legend at 0x7f15ae8e91c0>"
      ]
     },
     "execution_count": 63,
     "metadata": {},
     "output_type": "execute_result"
    },
    {
     "data": {
      "image/png": "[encoded data removed]",
      "text/plain": [
       "<Figure size 432x288 with 1 Axes>"
      ]
     },
     "metadata": {
      "needs_background": "light"
     },
     "output_type": "display_data"
    },
    {
     "name": "stdout",
     "output_type": "stream",
     "text": [
      "time: 197 ms (started: 2023-01-30 07:56:53 +00:00)\n"
     ]
    }
   ],
   "source": [
    "plt.plot(range(10), _1['loss'], linewidth=2, markersize=1)\n",
    "plt.legend(['loss'])"
   ]
  },
  {
   "cell_type": "code",
   "execution_count": null,
   "metadata": {
    "colab": {
     "base_uri": "https://localhost:8080/"
    },
    "id": "88CRGKS_b-W7",
    "outputId": "6c16e9d7-0ea1-40eb-a95f-bf242347fd98"
   },
   "outputs": [
    {
     "name": "stdout",
     "output_type": "stream",
     "text": [
      "813/813 [==============================] - 1s 2ms/step\n",
      "time: 1.59 s (started: 2023-01-30 07:56:54 +00:00)\n"
     ]
    }
   ],
   "source": [
    "predictions = model2.predict(X_test)"
   ]
  },
  {
   "cell_type": "code",
   "execution_count": null,
   "metadata": {
    "colab": {
     "base_uri": "https://localhost:8080/"
    },
    "id": "N8GPZqdkb-Uh",
    "outputId": "cec9ce49-8560-4531-eea3-060f4861025e"
   },
   "outputs": [
    {
     "data": {
      "text/plain": [
       "(26000, 13)"
      ]
     },
     "execution_count": 65,
     "metadata": {},
     "output_type": "execute_result"
    },
    {
     "name": "stdout",
     "output_type": "stream",
     "text": [
      "time: 3.92 ms (started: 2023-01-30 07:56:55 +00:00)\n"
     ]
    }
   ],
   "source": [
    "predictions.shape"
   ]
  },
  {
   "cell_type": "code",
   "execution_count": null,
   "metadata": {
    "colab": {
     "base_uri": "https://localhost:8080/"
    },
    "id": "J9kR0t4wmpbM",
    "outputId": "0bbe379a-2ded-454a-98b8-93d22a953838"
   },
   "outputs": [
    {
     "name": "stdout",
     "output_type": "stream",
     "text": [
      "time: 245 ms (started: 2023-01-30 07:56:55 +00:00)\n"
     ]
    },
    {
     "name": "stderr",
     "output_type": "stream",
     "text": [
      "<ipython-input-66-28fd7cb0c11b>:3: DeprecationWarning: setting an array element with a sequence. This was supported in some cases where the elements are arrays with a single element. For example `np.array([1, np.array([2])], dtype=int)`. In the future this will raise the same ValueError as `np.array([1, [2]], dtype=int)`.\n",
      "  y1[i]= np.where(predictions[i]==max(predictions[i]))\n"
     ]
    }
   ],
   "source": [
    "y1= np.zeros((26000,1))\n",
    "for i in range(len(predictions)):\n",
    "  y1[i]= np.where(predictions[i]==max(predictions[i]))"
   ]
  },
  {
   "cell_type": "code",
   "execution_count": null,
   "metadata": {
    "colab": {
     "base_uri": "https://localhost:8080/"
    },
    "id": "3nM7AbnsmpbQ",
    "outputId": "1bc507e9-03ad-4508-c1a3-5ccc31269460"
   },
   "outputs": [
    {
     "name": "stdout",
     "output_type": "stream",
     "text": [
      "time: 2.41 ms (started: 2023-01-30 07:56:55 +00:00)\n"
     ]
    }
   ],
   "source": [
    "y2=enc.inverse_transform(y1)"
   ]
  },
  {
   "cell_type": "code",
   "execution_count": null,
   "metadata": {
    "colab": {
     "base_uri": "https://localhost:8080/"
    },
    "id": "8byEa2btmpbU",
    "outputId": "d4434822-d4df-4695-eea1-4af21bb12371"
   },
   "outputs": [
    {
     "name": "stdout",
     "output_type": "stream",
     "text": [
      "time: 1.23 ms (started: 2023-01-30 07:56:55 +00:00)\n"
     ]
    }
   ],
   "source": [
    "y_pred=pd.DataFrame(y2)\n",
    "y_pred.columns = ['Object_Held']"
   ]
  },
  {
   "cell_type": "code",
   "execution_count": null,
   "metadata": {
    "colab": {
     "base_uri": "https://localhost:8080/"
    },
    "id": "KcILA-tcmpbW",
    "outputId": "868b60d6-1024-4357-dfb3-2145e91f4bbe"
   },
   "outputs": [
    {
     "data": {
      "text/plain": [
       "0.9948076923076923"
      ]
     },
     "execution_count": 69,
     "metadata": {},
     "output_type": "execute_result"
    },
    {
     "name": "stdout",
     "output_type": "stream",
     "text": [
      "time: 43.3 ms (started: 2023-01-30 07:56:55 +00:00)\n"
     ]
    }
   ],
   "source": [
    "accuracy_score(y_test, y_pred)"
   ]
  },
  {
   "cell_type": "code",
   "execution_count": null,
   "metadata": {
    "colab": {
     "base_uri": "https://localhost:8080/"
    },
    "id": "vKAjzvQzmx6t",
    "outputId": "5f1ead6f-4b14-4545-bbb0-b500c8f945b7"
   },
   "outputs": [
    {
     "name": "stdout",
     "output_type": "stream",
     "text": [
      "time: 50.2 ms (started: 2023-01-30 07:56:55 +00:00)\n"
     ]
    }
   ],
   "source": []
  },
  {
   "cell_type": "code",
   "execution_count": null,
   "metadata": {
    "colab": {
     "base_uri": "https://localhost:8080/"
    },
    "id": "UxEe9arIqFtb",
    "outputId": "29324194-97d6-4206-96df-45b1d68378bd"
   },
   "outputs": [
    {
     "name": "stdout",
     "output_type": "stream",
     "text": [
      "time: 59 ms (started: 2023-01-30 07:56:55 +00:00)\n"
     ]
    }
   ],
   "source": []
  },
  {
   "cell_type": "markdown",
   "metadata": {
    "id": "GfiARflYqGK2"
   },
   "source": [
    "## Ensemble Bagging"
   ]
  },
  {
   "cell_type": "code",
   "execution_count": null,
   "metadata": {
    "colab": {
     "base_uri": "https://localhost:8080/"
    },
    "id": "lZ8dIOoAqH0i",
    "outputId": "e777f615-a0ee-40fa-8c19-790b048615cf"
   },
   "outputs": [
    {
     "name": "stdout",
     "output_type": "stream",
     "text": [
      "time: 501 µs (started: 2023-01-30 07:56:56 +00:00)\n"
     ]
    }
   ],
   "source": [
    "# from sklearn.ensemble import BaggingClassifier\n",
    "# from sklearn.linear_model import LogisticRegression\n",
    "\n",
    "# bagging_classifier = BaggingClassifier(LogisticRegression(),n_estimators = 100, bootstrap=True)"
   ]
  },
  {
   "cell_type": "code",
   "execution_count": null,
   "metadata": {
    "colab": {
     "base_uri": "https://localhost:8080/"
    },
    "id": "meAExTkKqIhj",
    "outputId": "1eac4436-3b70-46ae-b6f1-77e7a9ddee07"
   },
   "outputs": [
    {
     "name": "stdout",
     "output_type": "stream",
     "text": [
      "time: 435 µs (started: 2023-01-30 07:56:56 +00:00)\n"
     ]
    }
   ],
   "source": [
    "# bagging_classifier.fit(X_trainPCA, y_train)"
   ]
  },
  {
   "cell_type": "code",
   "execution_count": null,
   "metadata": {
    "colab": {
     "base_uri": "https://localhost:8080/"
    },
    "id": "U_MAGG1FqIeI",
    "outputId": "cb96239a-8324-444d-e6ba-69ad20d95da5"
   },
   "outputs": [
    {
     "name": "stdout",
     "output_type": "stream",
     "text": [
      "time: 424 µs (started: 2023-01-30 07:56:56 +00:00)\n"
     ]
    }
   ],
   "source": [
    "# y_2 = bagging_classifier.predict(X_test)"
   ]
  },
  {
   "cell_type": "code",
   "execution_count": null,
   "metadata": {
    "colab": {
     "base_uri": "https://localhost:8080/"
    },
    "id": "m5kxPlaPqIaP",
    "outputId": "e25cef87-b34e-4199-be1f-89f51d417289"
   },
   "outputs": [
    {
     "name": "stdout",
     "output_type": "stream",
     "text": [
      "time: 6.75 ms (started: 2023-01-30 07:56:56 +00:00)\n"
     ]
    }
   ],
   "source": []
  },
  {
   "cell_type": "code",
   "execution_count": null,
   "metadata": {
    "colab": {
     "base_uri": "https://localhost:8080/"
    },
    "id": "LZ84dLbVqIW3",
    "outputId": "f6e3d556-277f-494b-eaac-fb2c5ce140a7"
   },
   "outputs": [
    {
     "name": "stdout",
     "output_type": "stream",
     "text": [
      "time: 13.3 ms (started: 2023-01-30 07:56:56 +00:00)\n"
     ]
    }
   ],
   "source": []
  }
 ],
 "metadata": {
  "colab": {
   "provenance": []
  },
  "kernelspec": {
   "display_name": "Python 3 (ipykernel)",
   "language": "python",
   "name": "python3"
  },
  "language_info": {
   "codemirror_mode": {
    "name": "ipython",
    "version": 3
   },
   "file_extension": ".py",
   "mimetype": "text/x-python",
   "name": "python",
   "nbconvert_exporter": "python",
   "pygments_lexer": "ipython3",
   "version": "3.7.11"
  }
 },
 "nbformat": 4,
 "nbformat_minor": 1
}
