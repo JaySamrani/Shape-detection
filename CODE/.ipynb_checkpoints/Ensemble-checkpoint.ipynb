{
 "cells": [
  {
   "cell_type": "code",
   "execution_count": 1,
   "metadata": {
    "id": "KTUGPkUVl1Ro"
   },
   "outputs": [],
   "source": [
    "import copy"
   ]
  },
  {
   "cell_type": "code",
   "execution_count": 2,
   "metadata": {
    "colab": {
     "base_uri": "https://localhost:8080/"
    },
    "id": "CU-GygAfl5uY",
    "outputId": "0bbfb29b-9d91-44ef-89cd-8f133b1c4fa3"
   },
   "outputs": [
    {
     "name": "stdout",
     "output_type": "stream",
     "text": [
      "Mounted at /content/drive\n"
     ]
    }
   ],
   "source": [
    "from google.colab import drive\n",
    "drive.mount('/content/drive')"
   ]
  },
  {
   "cell_type": "code",
   "execution_count": 3,
   "metadata": {
    "id": "KNdvqbQn88LT"
   },
   "outputs": [],
   "source": [
    "import pandas as pd\n",
    "\n",
    "Data = pd.read_csv('/content/drive/MyDrive/FullData_train.csv')"
   ]
  },
  {
   "cell_type": "code",
   "execution_count": 4,
   "metadata": {
    "id": "ucScgdT3-ESY"
   },
   "outputs": [],
   "source": [
    "Y = Data[['Object_Held']]\n",
    "\n",
    "F = []\n",
    "P = []\n",
    "\n",
    "for elem in Data.columns:\n",
    "  if elem[-1]=='e':\n",
    "    F.append(elem)\n",
    "  if elem[-1]=='n':\n",
    "    P.append(elem)\n",
    "\n",
    "X_position = copy.deepcopy(Data[P])\n",
    "X_force = copy.deepcopy(Data[F])\n"
   ]
  },
  {
   "cell_type": "code",
   "execution_count": 5,
   "metadata": {
    "colab": {
     "base_uri": "https://localhost:8080/"
    },
    "id": "BqTfCSnC_Ewc",
    "outputId": "405f29b8-a1a5-4177-a651-f31576badba7"
   },
   "outputs": [
    {
     "data": {
      "text/plain": [
       "(166400, 16)"
      ]
     },
     "execution_count": 5,
     "metadata": {},
     "output_type": "execute_result"
    }
   ],
   "source": [
    "X_force.shape"
   ]
  },
  {
   "cell_type": "code",
   "execution_count": null,
   "metadata": {
    "id": "X7k4rtN3mAAy"
   },
   "outputs": [],
   "source": [
    "import tensorflow as tf\n",
    "\n",
    "input_shape = (16,)\n",
    "\n",
    "encoder_inputs = tf.keras.Input(shape=input_shape)\n",
    "HL1 = tf.keras.layers.Dense(32, activation='sigmoid')(encoder_inputs)\n",
    "HL2 = tf.keras.layers.Dense(24, activation='sigmoid')(HL1)\n",
    "HL3 = tf.keras.layers.Dense(24, activation='relu')(HL2)\n",
    "HL4 = tf.keras.layers.Dense(18, activation='relu')(HL3)\n",
    "HL5 = tf.keras.layers.Dense(10, activation='relu')(HL4)\n",
    "encoder = tf.keras.Model(encoder_inputs, HL5)\n",
    "\n",
    "decoder_inputs = tf.keras.Input(shape=(10,))\n",
    "HL_D1 = tf.keras.layers.Dense(16, activation='sigmoid')(decoder_inputs)\n",
    "HL_D2 = tf.keras.layers.Dense(16, activation='sigmoid')(HL_D1)\n",
    "HL_D3 = tf.keras.layers.Dense(16, activation='sigmoid')(HL_D2)\n",
    "decoder_outputs = tf.keras.layers.Dense(16, activation='linear')(HL_D3)\n",
    "decoder = tf.keras.Model(decoder_inputs, decoder_outputs)\n",
    "\n",
    "inputs = tf.keras.Input(shape=input_shape)\n",
    "encoded = encoder(inputs)\n",
    "decoded = decoder(encoded)\n",
    "autoencoder = tf.keras.Model(inputs, decoded)\n",
    "\n",
    "autoencoder.compile(optimizer='adam', loss='mse')\n"
   ]
  },
  {
   "cell_type": "code",
   "execution_count": 6,
   "metadata": {
    "id": "U8CE8heb_0EY"
   },
   "outputs": [],
   "source": [
    "from sklearn.preprocessing import StandardScaler\n",
    "scaler = StandardScaler()\n",
    "scaler.fit(X_force)\n",
    "X_force_scaled = scaler.transform(X_force)"
   ]
  },
  {
   "cell_type": "code",
   "execution_count": null,
   "metadata": {
    "colab": {
     "base_uri": "https://localhost:8080/"
    },
    "id": "tuXjGDLumGVo",
    "outputId": "aca48bd7-7001-46be-d16b-80f2b4b1f12b"
   },
   "outputs": [
    {
     "name": "stdout",
     "output_type": "stream",
     "text": [
      "55467/55467 [==============================] - 167s 3ms/step - loss: 0.2795\n",
      "Epoch 1/10\n",
      "5200/5200 [==============================] - 16s 3ms/step - loss: 0.1765\n",
      "Epoch 2/10\n",
      "5200/5200 [==============================] - 16s 3ms/step - loss: 0.1463\n",
      "Epoch 3/10\n",
      "5200/5200 [==============================] - 15s 3ms/step - loss: 0.1219\n",
      "Epoch 4/10\n",
      "5200/5200 [==============================] - 15s 3ms/step - loss: 0.1048\n",
      "Epoch 5/10\n",
      "5200/5200 [==============================] - 16s 3ms/step - loss: 0.0926\n",
      "Epoch 6/10\n",
      "5200/5200 [==============================] - 15s 3ms/step - loss: 0.0813\n",
      "Epoch 7/10\n",
      "5200/5200 [==============================] - 16s 3ms/step - loss: 0.0718\n",
      "Epoch 8/10\n",
      "5200/5200 [==============================] - 16s 3ms/step - loss: 0.0642\n",
      "Epoch 9/10\n",
      "5200/5200 [==============================] - 15s 3ms/step - loss: 0.0583\n",
      "Epoch 10/10\n",
      "5200/5200 [==============================] - 15s 3ms/step - loss: 0.0535\n"
     ]
    },
    {
     "data": {
      "text/plain": [
       "<keras.callbacks.History at 0x7f2ac4a751b0>"
      ]
     },
     "execution_count": 8,
     "metadata": {},
     "output_type": "execute_result"
    }
   ],
   "source": [
    "autoencoder.fit(X_force_scaled, X_force_scaled, batch_size=3, epochs=1)\n",
    "autoencoder.fit(X_force_scaled, X_force_scaled, batch_size=32, epochs=10)\n",
    "\n"
   ]
  },
  {
   "cell_type": "code",
   "execution_count": 7,
   "metadata": {
    "id": "DQ3SlByGAh4p"
   },
   "outputs": [],
   "source": [
    "from sklearn.preprocessing import StandardScaler\n",
    "scaler = StandardScaler()\n",
    "scaler.fit(X_position)\n",
    "X_position_scaled = scaler.transform(X_position)"
   ]
  },
  {
   "cell_type": "code",
   "execution_count": null,
   "metadata": {
    "id": "xanOY0K1ExKc"
   },
   "outputs": [],
   "source": [
    "import tensorflow as tf\n",
    "\n",
    "input_shape = (16,)\n",
    "\n",
    "encoder_inputs_pos = tf.keras.Input(shape=input_shape)\n",
    "HL1_pos = tf.keras.layers.Dense(32, activation='sigmoid')(encoder_inputs_pos)\n",
    "HL2_pos = tf.keras.layers.Dense(24, activation='sigmoid')(HL1_pos)\n",
    "HL3_pos = tf.keras.layers.Dense(24, activation='relu')(HL2_pos)\n",
    "HL4_pos = tf.keras.layers.Dense(18, activation='relu')(HL3_pos)\n",
    "HL5_pos = tf.keras.layers.Dense(10, activation='relu')(HL4_pos)\n",
    "encoder_pos = tf.keras.Model(encoder_inputs_pos, HL5_pos)\n",
    "\n",
    "decoder_inputs_pos = tf.keras.Input(shape=(10,))\n",
    "HL_D1_pos = tf.keras.layers.Dense(16, activation='sigmoid')(decoder_inputs_pos)\n",
    "HL_D2_pos = tf.keras.layers.Dense(16, activation='sigmoid')(HL_D1_pos)\n",
    "HL_D3_pos = tf.keras.layers.Dense(16, activation='sigmoid')(HL_D2_pos)\n",
    "decoder_outputs_pos = tf.keras.layers.Dense(16, activation='linear')(HL_D3_pos)\n",
    "decoder_pos = tf.keras.Model(decoder_inputs_pos, decoder_outputs_pos)\n",
    "\n",
    "inputs_pos = tf.keras.Input(shape=input_shape)\n",
    "encoded_pos = encoder(inputs_pos)\n",
    "decoded_pos = decoder(encoded_pos)\n",
    "autoencoder_pos = tf.keras.Model(inputs_pos, decoded_pos)\n",
    "\n",
    "autoencoder_pos.compile(optimizer='adam', loss='mse')\n"
   ]
  },
  {
   "cell_type": "code",
   "execution_count": null,
   "metadata": {
    "colab": {
     "base_uri": "https://localhost:8080/"
    },
    "id": "qjr-ZBLOFX8d",
    "outputId": "4c439e0d-bc9b-44e4-8d17-8fdc9193a2e8"
   },
   "outputs": [
    {
     "name": "stdout",
     "output_type": "stream",
     "text": [
      "55467/55467 [==============================] - 160s 3ms/step - loss: 0.2568\n",
      "Epoch 1/10\n",
      "5200/5200 [==============================] - 16s 3ms/step - loss: 0.1527\n",
      "Epoch 2/10\n",
      "5200/5200 [==============================] - 15s 3ms/step - loss: 0.1375\n",
      "Epoch 3/10\n",
      "5200/5200 [==============================] - 15s 3ms/step - loss: 0.1240\n",
      "Epoch 4/10\n",
      "5200/5200 [==============================] - 15s 3ms/step - loss: 0.1129\n",
      "Epoch 5/10\n",
      "5200/5200 [==============================] - 15s 3ms/step - loss: 0.1035\n",
      "Epoch 6/10\n",
      "5200/5200 [==============================] - 15s 3ms/step - loss: 0.0963\n",
      "Epoch 7/10\n",
      "5200/5200 [==============================] - 15s 3ms/step - loss: 0.0910\n",
      "Epoch 8/10\n",
      "5200/5200 [==============================] - 16s 3ms/step - loss: 0.0870\n",
      "Epoch 9/10\n",
      "5200/5200 [==============================] - 16s 3ms/step - loss: 0.0837\n",
      "Epoch 10/10\n",
      "5200/5200 [==============================] - 16s 3ms/step - loss: 0.0804\n"
     ]
    },
    {
     "data": {
      "text/plain": [
       "<keras.callbacks.History at 0x7f2b286fc250>"
      ]
     },
     "execution_count": 11,
     "metadata": {},
     "output_type": "execute_result"
    }
   ],
   "source": [
    "autoencoder_pos.fit(X_position_scaled, X_position_scaled, batch_size=3, epochs=1)\n",
    "autoencoder_pos.fit(X_position_scaled, X_position_scaled, batch_size=32, epochs=10)\n",
    "\n"
   ]
  },
  {
   "cell_type": "code",
   "execution_count": null,
   "metadata": {
    "id": "6BLyTIcuFis6"
   },
   "outputs": [],
   "source": [
    "for layer in encoder.layers:\n",
    "    layer.trainable = False\n",
    "for layer in encoder_pos.layers:\n",
    "    layer.trainable = False\n",
    "\n",
    "concatenated = tf.keras.layers.Concatenate()([encoder.output, encoder_pos.output])\n",
    "\n",
    "inputs3 = tf.keras.Input(shape=(10 + 10,))\n",
    "L1 = tf.keras.layers.Dense(20, activation='elu')(inputs3)\n",
    "L2 = tf.keras.layers.Dense(20, activation='elu')(L1)\n",
    "L3 = tf.keras.layers.Dense(20, activation='elu')(L2)\n",
    "L4 = tf.keras.layers.Dense(20, activation='elu')(L3)\n",
    "L5 = tf.keras.layers.Dense(20, activation='elu')(L4)\n",
    "L6 = tf.keras.layers.Dense(20, activation='elu')(L5)\n",
    "L7 = tf.keras.layers.Dense(20, activation='elu')(L6)\n",
    "L8 = tf.keras.layers.Dense(20, activation='elu')(L7)\n",
    "outputs3_4 = tf.keras.layers.Dense(13, activation='softmax')(L8)\n",
    "nn3 = tf.keras.Model(inputs3, outputs3_4)\n",
    "\n",
    "outputs1 = encoder(encoder_inputs)\n",
    "outputs2 = encoder_pos(encoder_inputs_pos)\n",
    "concatenated = tf.keras.layers.Concatenate()([outputs1, outputs2])\n",
    "outputs3 = nn3(concatenated)\n",
    "full_model = tf.keras.Model([encoder_inputs, encoder_inputs_pos], outputs3)\n",
    "\n",
    "\n",
    "# full_model.compile(optimizer='adam', loss='sparse_categorical_crossentropy', metrics=['sparse_categorical_accuracy'])\n",
    "full_model.compile(optimizer='adam', loss='categorical_crossentropy', metrics=['categorical_accuracy'])\n",
    "\n"
   ]
  },
  {
   "cell_type": "code",
   "execution_count": 8,
   "metadata": {
    "colab": {
     "base_uri": "https://localhost:8080/"
    },
    "id": "BVW7lXAFK8Gk",
    "outputId": "b18311d9-e007-4747-bf3b-1361c9dcc193"
   },
   "outputs": [
    {
     "name": "stderr",
     "output_type": "stream",
     "text": [
      "/usr/local/lib/python3.10/dist-packages/sklearn/preprocessing/_label.py:116: DataConversionWarning: A column-vector y was passed when a 1d array was expected. Please change the shape of y to (n_samples, ), for example using ravel().\n",
      "  y = column_or_1d(y, warn=True)\n"
     ]
    }
   ],
   "source": [
    "from sklearn.preprocessing import LabelEncoder\n",
    "\n",
    "le = LabelEncoder()\n",
    "y_encoded = le.fit_transform(Y)\n"
   ]
  },
  {
   "cell_type": "code",
   "execution_count": null,
   "metadata": {
    "colab": {
     "base_uri": "https://localhost:8080/"
    },
    "id": "YNnHfgYeH48E",
    "outputId": "da34084e-086b-4f31-d06d-99f80c47780c"
   },
   "outputs": [
    {
     "name": "stdout",
     "output_type": "stream",
     "text": [
      "33280/33280 [==============================] - 107s 3ms/step - loss: 1.0779 - categorical_accuracy: 0.6068\n",
      "Epoch 1/10\n",
      "5200/5200 [==============================] - 19s 3ms/step - loss: 0.6271 - categorical_accuracy: 0.7786\n",
      "Epoch 2/10\n",
      "5200/5200 [==============================] - 18s 4ms/step - loss: 0.5438 - categorical_accuracy: 0.8068\n",
      "Epoch 3/10\n",
      "5200/5200 [==============================] - 19s 4ms/step - loss: 0.4751 - categorical_accuracy: 0.8297\n",
      "Epoch 4/10\n",
      "5200/5200 [==============================] - 19s 4ms/step - loss: 0.4343 - categorical_accuracy: 0.8427\n",
      "Epoch 5/10\n",
      "5200/5200 [==============================] - 17s 3ms/step - loss: 0.4002 - categorical_accuracy: 0.8546\n",
      "Epoch 6/10\n",
      "5200/5200 [==============================] - 18s 3ms/step - loss: 0.3776 - categorical_accuracy: 0.8633\n",
      "Epoch 7/10\n",
      "5200/5200 [==============================] - 18s 4ms/step - loss: 0.3588 - categorical_accuracy: 0.8695\n",
      "Epoch 8/10\n",
      "5200/5200 [==============================] - 18s 3ms/step - loss: 0.3430 - categorical_accuracy: 0.8755\n",
      "Epoch 9/10\n",
      "5200/5200 [==============================] - 17s 3ms/step - loss: 0.3321 - categorical_accuracy: 0.8799\n",
      "Epoch 10/10\n",
      "5200/5200 [==============================] - 17s 3ms/step - loss: 0.3204 - categorical_accuracy: 0.8837\n"
     ]
    },
    {
     "data": {
      "text/plain": [
       "<keras.callbacks.History at 0x7f2ab49c1630>"
      ]
     },
     "execution_count": 23,
     "metadata": {},
     "output_type": "execute_result"
    }
   ],
   "source": [
    "# autoencoder_pos.fit(X_position_scaled, X_position_scaled, batch_size=3, epochs=1)\n",
    "# autoencoder_pos.fit(X_position_scaled, X_position_scaled, batch_size=32, epochs=10)\n",
    "\n",
    "one_hot_labels = tf.keras.utils.to_categorical(y_encoded)\n",
    "\n",
    "full_model.fit([X_force_scaled, X_position_scaled], one_hot_labels, batch_size=5, epochs=1)\n",
    "full_model.fit([X_force_scaled, X_position_scaled], one_hot_labels, batch_size=32, epochs=10)\n"
   ]
  },
  {
   "cell_type": "code",
   "execution_count": null,
   "metadata": {
    "colab": {
     "background_save": true,
     "base_uri": "https://localhost:8080/"
    },
    "id": "FgAUhQ2dKp1E",
    "outputId": "47420a4e-3a22-4f27-e966-3a76989e3fb6"
   },
   "outputs": [
    {
     "name": "stdout",
     "output_type": "stream",
     "text": [
      "Epoch 1/30\n",
      "5200/5200 [==============================] - 20s 4ms/step - loss: 0.3077 - categorical_accuracy: 0.8877\n",
      "Epoch 2/30\n",
      "5200/5200 [==============================] - 18s 3ms/step - loss: 0.3009 - categorical_accuracy: 0.8904\n",
      "Epoch 3/30\n",
      "5200/5200 [==============================] - 17s 3ms/step - loss: 0.2912 - categorical_accuracy: 0.8938\n",
      "Epoch 4/30\n",
      "5200/5200 [==============================] - 18s 3ms/step - loss: 0.2846 - categorical_accuracy: 0.8963\n",
      "Epoch 5/30\n",
      "5200/5200 [==============================] - 20s 4ms/step - loss: 0.2731 - categorical_accuracy: 0.9002\n",
      "Epoch 6/30\n",
      "5200/5200 [==============================] - 18s 3ms/step - loss: 0.2729 - categorical_accuracy: 0.9006\n",
      "Epoch 7/30\n",
      "5200/5200 [==============================] - 18s 3ms/step - loss: 0.2659 - categorical_accuracy: 0.9028\n",
      "Epoch 8/30\n",
      "5200/5200 [==============================] - 18s 3ms/step - loss: 0.2606 - categorical_accuracy: 0.9059\n",
      "Epoch 9/30\n",
      "5200/5200 [==============================] - 19s 4ms/step - loss: 0.2537 - categorical_accuracy: 0.9081\n",
      "Epoch 10/30\n",
      "5200/5200 [==============================] - 18s 3ms/step - loss: 0.2487 - categorical_accuracy: 0.9098\n",
      "Epoch 11/30\n",
      "5200/5200 [==============================] - 18s 3ms/step - loss: 0.2471 - categorical_accuracy: 0.9096\n",
      "Epoch 12/30\n",
      "5200/5200 [==============================] - 18s 3ms/step - loss: 0.2438 - categorical_accuracy: 0.9111\n",
      "Epoch 13/30\n",
      "5200/5200 [==============================] - 18s 4ms/step - loss: 0.2395 - categorical_accuracy: 0.9125\n",
      "Epoch 14/30\n",
      "5200/5200 [==============================] - 18s 3ms/step - loss: 0.2321 - categorical_accuracy: 0.9152\n",
      "Epoch 15/30\n",
      "5200/5200 [==============================] - 17s 3ms/step - loss: 0.2305 - categorical_accuracy: 0.9161\n",
      "Epoch 16/30\n",
      "5200/5200 [==============================] - 18s 3ms/step - loss: 0.2256 - categorical_accuracy: 0.9177\n",
      "Epoch 17/30\n",
      "5200/5200 [==============================] - 19s 4ms/step - loss: 0.2239 - categorical_accuracy: 0.9181\n",
      "Epoch 18/30\n",
      "5200/5200 [==============================] - 17s 3ms/step - loss: 0.2195 - categorical_accuracy: 0.9198\n",
      "Epoch 19/30\n",
      "5200/5200 [==============================] - 17s 3ms/step - loss: 0.2180 - categorical_accuracy: 0.9199\n",
      "Epoch 20/30\n",
      "5200/5200 [==============================] - 18s 3ms/step - loss: 0.2139 - categorical_accuracy: 0.9212\n",
      "Epoch 21/30\n",
      "5200/5200 [==============================] - 18s 3ms/step - loss: 0.2152 - categorical_accuracy: 0.9208\n",
      "Epoch 22/30\n",
      "5200/5200 [==============================] - 18s 3ms/step - loss: 0.2111 - categorical_accuracy: 0.9230\n",
      "Epoch 23/30\n",
      "5200/5200 [==============================] - 17s 3ms/step - loss: 0.2079 - categorical_accuracy: 0.9251\n",
      "Epoch 24/30\n",
      "5200/5200 [==============================] - 17s 3ms/step - loss: 0.2054 - categorical_accuracy: 0.9245\n",
      "Epoch 25/30\n",
      "5200/5200 [==============================] - 17s 3ms/step - loss: 0.2013 - categorical_accuracy: 0.9265\n",
      "Epoch 26/30\n",
      "5200/5200 [==============================] - 18s 3ms/step - loss: 0.2012 - categorical_accuracy: 0.9261\n",
      "Epoch 27/30\n",
      "5200/5200 [==============================] - 17s 3ms/step - loss: 0.1976 - categorical_accuracy: 0.9269\n",
      "Epoch 28/30\n",
      "5200/5200 [==============================] - 17s 3ms/step - loss: 0.1964 - categorical_accuracy: 0.9281\n",
      "Epoch 29/30\n",
      "5200/5200 [==============================] - 17s 3ms/step - loss: 0.1930 - categorical_accuracy: 0.9297\n",
      "Epoch 30/30\n",
      "5200/5200 [==============================] - 16s 3ms/step - loss: 0.1951 - categorical_accuracy: 0.9281\n"
     ]
    },
    {
     "data": {
      "text/plain": [
       "<keras.callbacks.History at 0x7f2ab4952da0>"
      ]
     },
     "execution_count": 24,
     "metadata": {},
     "output_type": "execute_result"
    }
   ],
   "source": [
    "\n",
    "full_model.fit([X_force_scaled, X_position_scaled], one_hot_labels, batch_size=32, epochs=30)"
   ]
  },
  {
   "cell_type": "markdown",
   "metadata": {
    "id": "HfxpHKK0-LVJ"
   },
   "source": [
    "#CNN"
   ]
  },
  {
   "cell_type": "code",
   "execution_count": 11,
   "metadata": {
    "colab": {
     "base_uri": "https://localhost:8080/"
    },
    "id": "jM0qlRaOWtMF",
    "outputId": "d9410108-d014-4962-e8ab-c480c09c0971"
   },
   "outputs": [
    {
     "name": "stdout",
     "output_type": "stream",
     "text": [
      "55467/55467 [==============================] - 163s 3ms/step - loss: 0.1574\n",
      "Epoch 1/10\n",
      "5200/5200 [==============================] - 15s 3ms/step - loss: 0.0725\n",
      "Epoch 2/10\n",
      "5200/5200 [==============================] - 16s 3ms/step - loss: 0.0593\n",
      "Epoch 3/10\n",
      "5200/5200 [==============================] - 15s 3ms/step - loss: 0.0477\n",
      "Epoch 4/10\n",
      "5200/5200 [==============================] - 15s 3ms/step - loss: 0.0380\n",
      "Epoch 5/10\n",
      "5200/5200 [==============================] - 15s 3ms/step - loss: 0.0298\n",
      "Epoch 6/10\n",
      "5200/5200 [==============================] - 15s 3ms/step - loss: 0.0275\n",
      "Epoch 7/10\n",
      "5200/5200 [==============================] - 15s 3ms/step - loss: 0.0204\n",
      "Epoch 8/10\n",
      "5200/5200 [==============================] - 15s 3ms/step - loss: 0.0180\n",
      "Epoch 9/10\n",
      "5200/5200 [==============================] - 16s 3ms/step - loss: 0.0166\n",
      "Epoch 10/10\n",
      "5200/5200 [==============================] - 16s 3ms/step - loss: 0.0157\n"
     ]
    },
    {
     "data": {
      "text/plain": [
       "<keras.callbacks.History at 0x7fd7a0407790>"
      ]
     },
     "execution_count": 11,
     "metadata": {},
     "output_type": "execute_result"
    }
   ],
   "source": [
    "import tensorflow as tf\n",
    "\n",
    "input_shape = (16,1)\n",
    "\n",
    "encoder_inputs = tf.keras.Input(shape=input_shape)\n",
    "HL1 = tf.keras.layers.Convolution1D(32,1, input_shape=(16,1), activation='relu')(encoder_inputs)\n",
    "HL2 = tf.keras.layers.Convolution1D(16,1, activation='relu')(HL1)\n",
    "HLF = tf.keras.layers.Flatten()(HL2)\n",
    "HL3 = tf.keras.layers.Dense(24, activation='relu')(HLF)\n",
    "HL4 = tf.keras.layers.Dense(18, activation='relu')(HL3)\n",
    "HL5 = tf.keras.layers.Dense(10, activation='relu')(HL4)\n",
    "encoder = tf.keras.Model(encoder_inputs, HL5)\n",
    "\n",
    "decoder_inputs = tf.keras.Input(shape=(10,))\n",
    "HL_D1 = tf.keras.layers.Dense(16, activation='sigmoid')(decoder_inputs)\n",
    "HL_D2 = tf.keras.layers.Dense(16, activation='sigmoid')(HL_D1)\n",
    "HL_D3 = tf.keras.layers.Dense(16, activation='sigmoid')(HL_D2)\n",
    "decoder_outputs = tf.keras.layers.Dense(16, activation='linear')(HL_D3)\n",
    "decoder = tf.keras.Model(decoder_inputs, decoder_outputs)\n",
    "\n",
    "inputs = tf.keras.Input(shape=input_shape)\n",
    "encoded = encoder(inputs)\n",
    "decoded = decoder(encoded)\n",
    "autoencoder = tf.keras.Model(inputs, decoded)\n",
    "\n",
    "autoencoder.compile(optimizer='adam', loss='mse')\n",
    "\n",
    "autoencoder.fit(X_force_scaled, X_force_scaled, batch_size=3, epochs=1)\n",
    "autoencoder.fit(X_force_scaled, X_force_scaled, batch_size=32, epochs=10)\n",
    "\n",
    "\n"
   ]
  },
  {
   "cell_type": "code",
   "execution_count": 13,
   "metadata": {
    "colab": {
     "base_uri": "https://localhost:8080/"
    },
    "id": "84Q9pwu--jIc",
    "outputId": "7b23d49b-1bf3-460a-ec3b-34bbe8bc8912"
   },
   "outputs": [
    {
     "name": "stdout",
     "output_type": "stream",
     "text": [
      "55467/55467 [==============================] - 147s 3ms/step - loss: 0.2588\n",
      "Epoch 1/10\n",
      "5200/5200 [==============================] - 16s 3ms/step - loss: 0.1541\n",
      "Epoch 2/10\n",
      "5200/5200 [==============================] - 15s 3ms/step - loss: 0.1408\n",
      "Epoch 3/10\n",
      "5200/5200 [==============================] - 15s 3ms/step - loss: 0.1315\n",
      "Epoch 4/10\n",
      "5200/5200 [==============================] - 15s 3ms/step - loss: 0.1245\n",
      "Epoch 5/10\n",
      "5200/5200 [==============================] - 15s 3ms/step - loss: 0.1158\n",
      "Epoch 6/10\n",
      "5200/5200 [==============================] - 15s 3ms/step - loss: 0.1085\n",
      "Epoch 7/10\n",
      "5200/5200 [==============================] - 15s 3ms/step - loss: 0.1032\n",
      "Epoch 8/10\n",
      "5200/5200 [==============================] - 15s 3ms/step - loss: 0.0986\n",
      "Epoch 9/10\n",
      "5200/5200 [==============================] - 17s 3ms/step - loss: 0.0938\n",
      "Epoch 10/10\n",
      "5200/5200 [==============================] - 17s 3ms/step - loss: 0.0893\n"
     ]
    },
    {
     "data": {
      "text/plain": [
       "<keras.callbacks.History at 0x7fd791d49f90>"
      ]
     },
     "execution_count": 13,
     "metadata": {},
     "output_type": "execute_result"
    }
   ],
   "source": [
    "import tensorflow as tf\n",
    "\n",
    "input_shape = (16,1)\n",
    "\n",
    "# encoder_inputs_pos = tf.keras.Input(shape=input_shape)\n",
    "# HL1_pos = tf.keras.layers.Dense(32, activation='sigmoid')(encoder_inputs_pos)\n",
    "# HL2_pos = tf.keras.layers.Dense(24, activation='sigmoid')(HL1_pos)\n",
    "# HL3_pos = tf.keras.layers.Dense(24, activation='relu')(HL2_pos)\n",
    "# HL4_pos = tf.keras.layers.Dense(18, activation='relu')(HL3_pos)\n",
    "# HL5_pos = tf.keras.layers.Dense(10, activation='relu')(HL4_pos)\n",
    "# encoder_pos = tf.keras.Model(encoder_inputs_pos, HL5_pos)\n",
    "\n",
    "encoder_inputs_pos = tf.keras.Input(shape=input_shape)\n",
    "HL1_pos = tf.keras.layers.Convolution1D(32,1, input_shape=(16,1), activation='relu')(encoder_inputs_pos)\n",
    "HL2_pos = tf.keras.layers.Convolution1D(16,1, activation='relu')(HL1_pos)\n",
    "HLF_pos = tf.keras.layers.Flatten()(HL2_pos)\n",
    "HL3_pos = tf.keras.layers.Dense(24, activation='relu')(HLF_pos)\n",
    "HL4_pos = tf.keras.layers.Dense(18, activation='relu')(HL3_pos)\n",
    "HL5_pos = tf.keras.layers.Dense(10, activation='relu')(HL4_pos)\n",
    "encoder_pos = tf.keras.Model(encoder_inputs_pos, HL5_pos)\n",
    "\n",
    "decoder_inputs_pos = tf.keras.Input(shape=(10,))\n",
    "HL_D1_pos = tf.keras.layers.Dense(16, activation='sigmoid')(decoder_inputs_pos)\n",
    "HL_D2_pos = tf.keras.layers.Dense(16, activation='sigmoid')(HL_D1_pos)\n",
    "HL_D3_pos = tf.keras.layers.Dense(16, activation='sigmoid')(HL_D2_pos)\n",
    "decoder_outputs_pos = tf.keras.layers.Dense(16, activation='linear')(HL_D3_pos)\n",
    "decoder_pos = tf.keras.Model(decoder_inputs_pos, decoder_outputs_pos)\n",
    "\n",
    "inputs_pos = tf.keras.Input(shape=input_shape)\n",
    "encoded_pos = encoder(inputs_pos)\n",
    "decoded_pos = decoder(encoded_pos)\n",
    "autoencoder_pos = tf.keras.Model(inputs_pos, decoded_pos)\n",
    "\n",
    "autoencoder_pos.compile(optimizer='adam', loss='mse')\n",
    "\n",
    "autoencoder_pos.fit(X_position_scaled, X_position_scaled, batch_size=3, epochs=1)\n",
    "autoencoder_pos.fit(X_position_scaled, X_position_scaled, batch_size=32, epochs=10)"
   ]
  },
  {
   "cell_type": "code",
   "execution_count": 14,
   "metadata": {
    "id": "ECnsna5K-r4k"
   },
   "outputs": [],
   "source": [
    "for layer in encoder.layers:\n",
    "    layer.trainable = False\n",
    "for layer in encoder_pos.layers:\n",
    "    layer.trainable = False\n",
    "\n",
    "concatenated = tf.keras.layers.Concatenate()([encoder.output, encoder_pos.output])\n",
    "\n",
    "inputs3 = tf.keras.Input(shape=(10 + 10,))\n",
    "L1 = tf.keras.layers.Dense(20, activation='elu')(inputs3)\n",
    "L2 = tf.keras.layers.Dense(20, activation='elu')(L1)\n",
    "L3 = tf.keras.layers.Dense(20, activation='elu')(L2)\n",
    "L4 = tf.keras.layers.Dense(20, activation='elu')(L3)\n",
    "L5 = tf.keras.layers.Dense(20, activation='elu')(L4)\n",
    "L6 = tf.keras.layers.Dense(20, activation='elu')(L5)\n",
    "L7 = tf.keras.layers.Dense(20, activation='elu')(L6)\n",
    "L8 = tf.keras.layers.Dense(20, activation='elu')(L7)\n",
    "outputs3_4 = tf.keras.layers.Dense(13, activation='softmax')(L8)\n",
    "nn3 = tf.keras.Model(inputs3, outputs3_4)\n",
    "\n",
    "outputs1 = encoder(encoder_inputs)\n",
    "outputs2 = encoder_pos(encoder_inputs_pos)\n",
    "concatenated = tf.keras.layers.Concatenate()([outputs1, outputs2])\n",
    "outputs3 = nn3(concatenated)\n",
    "full_model = tf.keras.Model([encoder_inputs, encoder_inputs_pos], outputs3)\n",
    "\n",
    "\n",
    "# full_model.compile(optimizer='adam', loss='sparse_categorical_crossentropy', metrics=['sparse_categorical_accuracy'])\n",
    "full_model.compile(optimizer='adam', loss='categorical_crossentropy', metrics=['categorical_accuracy'])\n",
    "\n"
   ]
  },
  {
   "cell_type": "code",
   "execution_count": 15,
   "metadata": {
    "colab": {
     "base_uri": "https://localhost:8080/"
    },
    "id": "Ai1tqcdU-voU",
    "outputId": "63c9e0b9-a09e-49f6-f93b-addebadac3cd"
   },
   "outputs": [
    {
     "name": "stdout",
     "output_type": "stream",
     "text": [
      "33280/33280 [==============================] - 92s 3ms/step - loss: 0.5905 - categorical_accuracy: 0.7980\n",
      "Epoch 1/10\n",
      "5200/5200 [==============================] - 17s 3ms/step - loss: 0.2666 - categorical_accuracy: 0.9089\n",
      "Epoch 2/10\n",
      "5200/5200 [==============================] - 15s 3ms/step - loss: 0.2231 - categorical_accuracy: 0.9232\n",
      "Epoch 3/10\n",
      "5200/5200 [==============================] - 16s 3ms/step - loss: 0.1894 - categorical_accuracy: 0.9351\n",
      "Epoch 4/10\n",
      "5200/5200 [==============================] - 16s 3ms/step - loss: 0.1668 - categorical_accuracy: 0.9439\n",
      "Epoch 5/10\n",
      "5200/5200 [==============================] - 16s 3ms/step - loss: 0.1513 - categorical_accuracy: 0.9487\n",
      "Epoch 6/10\n",
      "5200/5200 [==============================] - 16s 3ms/step - loss: 0.1400 - categorical_accuracy: 0.9529\n",
      "Epoch 7/10\n",
      "5200/5200 [==============================] - 16s 3ms/step - loss: 0.1304 - categorical_accuracy: 0.9560\n",
      "Epoch 8/10\n",
      "5200/5200 [==============================] - 16s 3ms/step - loss: 0.1238 - categorical_accuracy: 0.9592\n",
      "Epoch 9/10\n",
      "5200/5200 [==============================] - 16s 3ms/step - loss: 0.1172 - categorical_accuracy: 0.9605\n",
      "Epoch 10/10\n",
      "5200/5200 [==============================] - 16s 3ms/step - loss: 0.1112 - categorical_accuracy: 0.9631\n"
     ]
    },
    {
     "data": {
      "text/plain": [
       "<keras.callbacks.History at 0x7fd791add0c0>"
      ]
     },
     "execution_count": 15,
     "metadata": {},
     "output_type": "execute_result"
    }
   ],
   "source": [
    "# autoencoder_pos.fit(X_position_scaled, X_position_scaled, batch_size=3, epochs=1)\n",
    "# autoencoder_pos.fit(X_position_scaled, X_position_scaled, batch_size=32, epochs=10)\n",
    "\n",
    "one_hot_labels = tf.keras.utils.to_categorical(y_encoded)\n",
    "\n",
    "full_model.fit([X_force_scaled, X_position_scaled], one_hot_labels, batch_size=5, epochs=1)\n",
    "full_model.fit([X_force_scaled, X_position_scaled], one_hot_labels, batch_size=32, epochs=10)\n"
   ]
  },
  {
   "cell_type": "code",
   "execution_count": null,
   "metadata": {
    "id": "9YFIdpCzByVc"
   },
   "outputs": [],
   "source": []
  }
 ],
 "metadata": {
  "colab": {
   "provenance": []
  },
  "kernelspec": {
   "display_name": "Python 3 (ipykernel)",
   "language": "python",
   "name": "python3"
  },
  "language_info": {
   "codemirror_mode": {
    "name": "ipython",
    "version": 3
   },
   "file_extension": ".py",
   "mimetype": "text/x-python",
   "name": "python",
   "nbconvert_exporter": "python",
   "pygments_lexer": "ipython3",
   "version": "3.7.11"
  }
 },
 "nbformat": 4,
 "nbformat_minor": 1
}
