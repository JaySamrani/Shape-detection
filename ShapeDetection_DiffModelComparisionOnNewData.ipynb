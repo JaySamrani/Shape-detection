{
  "nbformat": 4,
  "nbformat_minor": 0,
  "metadata": {
    "colab": {
      "provenance": []
    },
    "kernelspec": {
      "name": "python3",
      "display_name": "Python 3"
    },
    "language_info": {
      "name": "python"
    }
  },
  "cells": [
    {
      "cell_type": "markdown",
      "metadata": {
        "id": "s6lVB_Zos2F1"
      },
      "source": [
        "## Importing Data"
      ]
    },
    {
      "cell_type": "code",
      "execution_count": null,
      "metadata": {
        "colab": {
          "base_uri": "https://localhost:8080/"
        },
        "id": "iB06Vg1BazhA",
        "outputId": "8628c491-1eb2-455c-c063-03b84e2a8eee"
      },
      "outputs": [
        {
          "output_type": "stream",
          "name": "stdout",
          "text": [
            "Mounted at /content/drive\n"
          ]
        }
      ],
      "source": [
        "from google.colab import drive\n",
        "drive.mount('/content/drive')"
      ]
    },
    {
      "cell_type": "code",
      "source": [
        "!pip install ipython-autotime\n",
        "%load_ext autotime"
      ],
      "metadata": {
        "colab": {
          "base_uri": "https://localhost:8080/"
        },
        "id": "PmJvw-v5fvoK",
        "outputId": "ddf8761c-2ff6-4970-a147-01bf15dcb120"
      },
      "execution_count": null,
      "outputs": [
        {
          "output_type": "stream",
          "name": "stdout",
          "text": [
            "Looking in indexes: https://pypi.org/simple, https://us-python.pkg.dev/colab-wheels/public/simple/\n",
            "Collecting ipython-autotime\n",
            "  Downloading ipython_autotime-0.3.1-py2.py3-none-any.whl (6.8 kB)\n",
            "Requirement already satisfied: ipython in /usr/local/lib/python3.9/dist-packages (from ipython-autotime) (7.9.0)\n",
            "Requirement already satisfied: setuptools>=18.5 in /usr/local/lib/python3.9/dist-packages (from ipython->ipython-autotime) (67.6.0)\n",
            "Requirement already satisfied: backcall in /usr/local/lib/python3.9/dist-packages (from ipython->ipython-autotime) (0.2.0)\n",
            "Requirement already satisfied: pexpect in /usr/local/lib/python3.9/dist-packages (from ipython->ipython-autotime) (4.8.0)\n",
            "Requirement already satisfied: decorator in /usr/local/lib/python3.9/dist-packages (from ipython->ipython-autotime) (4.4.2)\n",
            "Requirement already satisfied: traitlets>=4.2 in /usr/local/lib/python3.9/dist-packages (from ipython->ipython-autotime) (5.7.1)\n",
            "Requirement already satisfied: pickleshare in /usr/local/lib/python3.9/dist-packages (from ipython->ipython-autotime) (0.7.5)\n",
            "Requirement already satisfied: pygments in /usr/local/lib/python3.9/dist-packages (from ipython->ipython-autotime) (2.14.0)\n",
            "Requirement already satisfied: prompt-toolkit<2.1.0,>=2.0.0 in /usr/local/lib/python3.9/dist-packages (from ipython->ipython-autotime) (2.0.10)\n",
            "Collecting jedi>=0.10\n",
            "  Downloading jedi-0.18.2-py2.py3-none-any.whl (1.6 MB)\n",
            "\u001b[2K     \u001b[90m━━━━━━━━━━━━━━━━━━━━━━━━━━━━━━━━━━━━━━━━\u001b[0m \u001b[32m1.6/1.6 MB\u001b[0m \u001b[31m19.0 MB/s\u001b[0m eta \u001b[36m0:00:00\u001b[0m\n",
            "\u001b[?25hRequirement already satisfied: parso<0.9.0,>=0.8.0 in /usr/local/lib/python3.9/dist-packages (from jedi>=0.10->ipython->ipython-autotime) (0.8.3)\n",
            "Requirement already satisfied: six>=1.9.0 in /usr/local/lib/python3.9/dist-packages (from prompt-toolkit<2.1.0,>=2.0.0->ipython->ipython-autotime) (1.16.0)\n",
            "Requirement already satisfied: wcwidth in /usr/local/lib/python3.9/dist-packages (from prompt-toolkit<2.1.0,>=2.0.0->ipython->ipython-autotime) (0.2.6)\n",
            "Requirement already satisfied: ptyprocess>=0.5 in /usr/local/lib/python3.9/dist-packages (from pexpect->ipython->ipython-autotime) (0.7.0)\n",
            "Installing collected packages: jedi, ipython-autotime\n",
            "Successfully installed ipython-autotime-0.3.1 jedi-0.18.2\n",
            "time: 438 µs (started: 2023-03-27 21:29:08 +00:00)\n"
          ]
        }
      ]
    },
    {
      "cell_type": "code",
      "execution_count": null,
      "metadata": {
        "id": "Wmj45AXqhZfX",
        "colab": {
          "base_uri": "https://localhost:8080/"
        },
        "outputId": "6ea7dcdb-24ac-442b-e46a-bdc1085f342e"
      },
      "outputs": [
        {
          "output_type": "stream",
          "name": "stdout",
          "text": [
            "time: 1.17 s (started: 2023-03-27 21:29:08 +00:00)\n"
          ]
        }
      ],
      "source": [
        "import numpy as np\n",
        "import matplotlib.pyplot as plt\n",
        "import pandas as pd\n",
        "import copy\n",
        "np.set_printoptions(threshold=np.inf)\n",
        "from sklearn.metrics import accuracy_score"
      ]
    },
    {
      "cell_type": "code",
      "execution_count": null,
      "metadata": {
        "id": "8ai8pzX3hHMl",
        "colab": {
          "base_uri": "https://localhost:8080/"
        },
        "outputId": "fa14efd7-da43-4880-928c-ccb949ab0caa"
      },
      "outputs": [
        {
          "output_type": "stream",
          "name": "stdout",
          "text": [
            "time: 5.84 s (started: 2023-03-27 21:29:10 +00:00)\n"
          ]
        }
      ],
      "source": [
        "# sample = pd.read_csv('/content/drive/MyDrive/ShapeDetection/Copy of OBJECT_DETECTION_TRAIN_SET.csv')\n",
        "# # sample_new = sample.sample(frac=1)\n",
        "# testData =pd.read_csv('/content/drive/MyDrive/ShapeDetection/Copy of OBJECT_DETECTION_VAL_SET.csv')\n",
        "alldata = pd.read_csv('/content/drive/MyDrive/Shape Detection MEC/NEW DATASET/ALL_DATASET.csv')\n",
        "\n",
        "sample = pd.read_csv('/content/drive/MyDrive/Shape Detection MEC/NEW DATASET/TRAINING_DATA.csv')\n",
        "\n",
        "testData =pd.read_csv('/content/drive/MyDrive/Shape Detection MEC/NEW DATASET/TEST_DATA.csv')\n",
        "\n"
      ]
    },
    {
      "cell_type": "code",
      "execution_count": null,
      "metadata": {
        "id": "r0T5kFwXPrDE",
        "colab": {
          "base_uri": "https://localhost:8080/"
        },
        "outputId": "9f711825-7f77-45bc-c7f4-81759bfbab00"
      },
      "outputs": [
        {
          "output_type": "stream",
          "name": "stdout",
          "text": [
            "time: 26.3 ms (started: 2023-03-27 21:29:15 +00:00)\n"
          ]
        }
      ],
      "source": [
        "alldata= alldata.drop('MASS_kg',axis=1)\n",
        "# testData= testData.drop('MASS_kg',axis=1)"
      ]
    },
    {
      "cell_type": "code",
      "execution_count": null,
      "metadata": {
        "id": "4oDIIQ2972DN",
        "colab": {
          "base_uri": "https://localhost:8080/"
        },
        "outputId": "14d08bd9-8855-4ae7-e49b-9f6e1b19f653"
      },
      "outputs": [
        {
          "output_type": "stream",
          "name": "stdout",
          "text": [
            "time: 21.5 ms (started: 2023-03-27 21:29:18 +00:00)\n"
          ]
        }
      ],
      "source": [
        "X_train= sample.drop('Object_Held', axis=1)\n",
        "y_train= sample[['Object_Held']]\n",
        "X_test= testData.drop('Object_Held', axis=1)\n",
        "y_test= testData[['Object_Held']]"
      ]
    },
    {
      "cell_type": "code",
      "source": [
        "Xall = alldata.drop('Object_Held', axis=1)"
      ],
      "metadata": {
        "colab": {
          "base_uri": "https://localhost:8080/"
        },
        "id": "01gi-971uhsV",
        "outputId": "11e07733-69b4-4b9f-f384-38278f5f714a"
      },
      "execution_count": null,
      "outputs": [
        {
          "output_type": "stream",
          "name": "stdout",
          "text": [
            "time: 37 ms (started: 2023-03-27 21:29:20 +00:00)\n"
          ]
        }
      ]
    },
    {
      "cell_type": "code",
      "execution_count": null,
      "metadata": {
        "id": "JXInjj69INQ9",
        "colab": {
          "base_uri": "https://localhost:8080/"
        },
        "outputId": "e66748bf-f6d6-4457-a54f-854250faa4ee"
      },
      "outputs": [
        {
          "output_type": "stream",
          "name": "stdout",
          "text": [
            "time: 867 µs (started: 2023-03-27 21:29:20 +00:00)\n"
          ]
        }
      ],
      "source": [
        "X_train.columns = sample.columns[:-1]\n",
        "cols=sample.columns[:-1]"
      ]
    },
    {
      "cell_type": "code",
      "execution_count": null,
      "metadata": {
        "colab": {
          "base_uri": "https://localhost:8080/",
          "height": 505
        },
        "id": "d_UabeK9V_5M",
        "outputId": "4dc7e656-8ae7-4d11-e4a5-d54dc410279f"
      },
      "outputs": [
        {
          "output_type": "execute_result",
          "data": {
            "text/plain": [
              "        J0_position    J0_Force  J1_position    J1_Force  J2_position  \\\n",
              "0          0.010445   32.839093     0.796688   32.801138     0.672049   \n",
              "1          0.031048   26.828344     0.550354   26.793490     0.500228   \n",
              "2          0.038457  110.567765     0.808517  110.321907     0.440485   \n",
              "3          0.089646  144.278609     0.958439  143.564293     0.244826   \n",
              "4          0.018616   40.906474     0.646382   40.895683     0.411657   \n",
              "...             ...         ...          ...         ...          ...   \n",
              "103995     0.098011  131.484313     0.433704  127.478153     0.261010   \n",
              "103996    -0.207267   29.689574     1.395837   29.627845     0.217758   \n",
              "103997     0.012985    9.170545     0.477758    9.073175     0.278467   \n",
              "103998    -0.000092   10.575114     0.756654   10.468608     0.784339   \n",
              "103999     0.006352   15.532336     1.561762   15.499786     0.419034   \n",
              "\n",
              "          J2_Force  J3_position    J3_Force  J4_position    J4_Force  ...  \\\n",
              "0        32.598748     0.322165   32.442574     0.086511   45.194791  ...   \n",
              "1        26.617565     0.193967   26.995865     0.013110   59.185006  ...   \n",
              "2       109.104348     0.101487  104.691031     0.051087  202.653217  ...   \n",
              "3       140.548777     0.516424  141.254061     0.073867  251.329720  ...   \n",
              "4        40.837607     0.288000   25.540176     0.015417   27.131941  ...   \n",
              "...            ...          ...         ...          ...         ...  ...   \n",
              "103995  124.598035     0.636805  133.302471     0.079848  136.269939  ...   \n",
              "103996   29.296491    -0.342476   29.341589     0.047683   24.810969  ...   \n",
              "103997    8.546033     0.172794    8.245469     0.011595    9.970651  ...   \n",
              "103998    9.891076     0.227583    9.575672     0.000513   10.423315  ...   \n",
              "103999   15.335276    -0.244526   15.357600    -0.005658   58.245799  ...   \n",
              "\n",
              "        J11_position   J11_Force  J12_position    J12_Force  J13_position  \\\n",
              "0           0.453634   57.085112      1.541629   107.008139      0.148899   \n",
              "1           0.158144   16.654109      1.564327   102.981643     -0.051086   \n",
              "2           0.639911  201.220968      1.496583   363.765022      0.211634   \n",
              "3           0.650024  208.518358      1.518549   456.370160      0.327488   \n",
              "4           0.307123   29.209126      1.543406    98.906924      0.115545   \n",
              "...              ...         ...           ...          ...           ...   \n",
              "103995      0.220674   11.973770      1.728794  1296.491574     -0.963922   \n",
              "103996      0.067794   18.462487      1.564526    68.645733     -0.171600   \n",
              "103997      0.245780   40.719445      1.341691    43.103524      0.047159   \n",
              "103998      0.289469   13.741549      1.617730    10.880924      0.001656   \n",
              "103999     -0.018242    8.222069      1.614962    69.272583     -0.057415   \n",
              "\n",
              "          J13_Force  J14_position    J14_Force  J15_position    J15_Force  \n",
              "0        107.020952     -0.157546   107.005990      0.418681    26.483838  \n",
              "1        103.080865     -0.004866   103.175877     -0.007585   103.668021  \n",
              "2        363.553092     -0.418162   362.442545      0.439608   357.595823  \n",
              "3        456.375175     -0.392451   456.453786      0.621246   456.896505  \n",
              "4         98.891234      0.009058    98.849936      0.095610    98.690772  \n",
              "...             ...           ...          ...           ...          ...  \n",
              "103995  1308.643326      0.411771  1305.174075     -0.268828  1247.196519  \n",
              "103996    68.572393      0.188174    68.784507     -0.114198    69.837109  \n",
              "103997    43.059404      0.244886    42.996989     -0.000964    42.758392  \n",
              "103998    10.738996      0.085127    10.678098      0.203319    10.538928  \n",
              "103999    69.222197      0.262779    69.198182     -0.259285    69.138887  \n",
              "\n",
              "[104000 rows x 32 columns]"
            ],
            "text/html": [
              "\n",
              "  <div id=\"df-7e938161-d886-4f2d-b4a5-4269b24d6a4d\">\n",
              "    <div class=\"colab-df-container\">\n",
              "      <div>\n",
              "<style scoped>\n",
              "    .dataframe tbody tr th:only-of-type {\n",
              "        vertical-align: middle;\n",
              "    }\n",
              "\n",
              "    .dataframe tbody tr th {\n",
              "        vertical-align: top;\n",
              "    }\n",
              "\n",
              "    .dataframe thead th {\n",
              "        text-align: right;\n",
              "    }\n",
              "</style>\n",
              "<table border=\"1\" class=\"dataframe\">\n",
              "  <thead>\n",
              "    <tr style=\"text-align: right;\">\n",
              "      <th></th>\n",
              "      <th>J0_position</th>\n",
              "      <th>J0_Force</th>\n",
              "      <th>J1_position</th>\n",
              "      <th>J1_Force</th>\n",
              "      <th>J2_position</th>\n",
              "      <th>J2_Force</th>\n",
              "      <th>J3_position</th>\n",
              "      <th>J3_Force</th>\n",
              "      <th>J4_position</th>\n",
              "      <th>J4_Force</th>\n",
              "      <th>...</th>\n",
              "      <th>J11_position</th>\n",
              "      <th>J11_Force</th>\n",
              "      <th>J12_position</th>\n",
              "      <th>J12_Force</th>\n",
              "      <th>J13_position</th>\n",
              "      <th>J13_Force</th>\n",
              "      <th>J14_position</th>\n",
              "      <th>J14_Force</th>\n",
              "      <th>J15_position</th>\n",
              "      <th>J15_Force</th>\n",
              "    </tr>\n",
              "  </thead>\n",
              "  <tbody>\n",
              "    <tr>\n",
              "      <th>0</th>\n",
              "      <td>0.010445</td>\n",
              "      <td>32.839093</td>\n",
              "      <td>0.796688</td>\n",
              "      <td>32.801138</td>\n",
              "      <td>0.672049</td>\n",
              "      <td>32.598748</td>\n",
              "      <td>0.322165</td>\n",
              "      <td>32.442574</td>\n",
              "      <td>0.086511</td>\n",
              "      <td>45.194791</td>\n",
              "      <td>...</td>\n",
              "      <td>0.453634</td>\n",
              "      <td>57.085112</td>\n",
              "      <td>1.541629</td>\n",
              "      <td>107.008139</td>\n",
              "      <td>0.148899</td>\n",
              "      <td>107.020952</td>\n",
              "      <td>-0.157546</td>\n",
              "      <td>107.005990</td>\n",
              "      <td>0.418681</td>\n",
              "      <td>26.483838</td>\n",
              "    </tr>\n",
              "    <tr>\n",
              "      <th>1</th>\n",
              "      <td>0.031048</td>\n",
              "      <td>26.828344</td>\n",
              "      <td>0.550354</td>\n",
              "      <td>26.793490</td>\n",
              "      <td>0.500228</td>\n",
              "      <td>26.617565</td>\n",
              "      <td>0.193967</td>\n",
              "      <td>26.995865</td>\n",
              "      <td>0.013110</td>\n",
              "      <td>59.185006</td>\n",
              "      <td>...</td>\n",
              "      <td>0.158144</td>\n",
              "      <td>16.654109</td>\n",
              "      <td>1.564327</td>\n",
              "      <td>102.981643</td>\n",
              "      <td>-0.051086</td>\n",
              "      <td>103.080865</td>\n",
              "      <td>-0.004866</td>\n",
              "      <td>103.175877</td>\n",
              "      <td>-0.007585</td>\n",
              "      <td>103.668021</td>\n",
              "    </tr>\n",
              "    <tr>\n",
              "      <th>2</th>\n",
              "      <td>0.038457</td>\n",
              "      <td>110.567765</td>\n",
              "      <td>0.808517</td>\n",
              "      <td>110.321907</td>\n",
              "      <td>0.440485</td>\n",
              "      <td>109.104348</td>\n",
              "      <td>0.101487</td>\n",
              "      <td>104.691031</td>\n",
              "      <td>0.051087</td>\n",
              "      <td>202.653217</td>\n",
              "      <td>...</td>\n",
              "      <td>0.639911</td>\n",
              "      <td>201.220968</td>\n",
              "      <td>1.496583</td>\n",
              "      <td>363.765022</td>\n",
              "      <td>0.211634</td>\n",
              "      <td>363.553092</td>\n",
              "      <td>-0.418162</td>\n",
              "      <td>362.442545</td>\n",
              "      <td>0.439608</td>\n",
              "      <td>357.595823</td>\n",
              "    </tr>\n",
              "    <tr>\n",
              "      <th>3</th>\n",
              "      <td>0.089646</td>\n",
              "      <td>144.278609</td>\n",
              "      <td>0.958439</td>\n",
              "      <td>143.564293</td>\n",
              "      <td>0.244826</td>\n",
              "      <td>140.548777</td>\n",
              "      <td>0.516424</td>\n",
              "      <td>141.254061</td>\n",
              "      <td>0.073867</td>\n",
              "      <td>251.329720</td>\n",
              "      <td>...</td>\n",
              "      <td>0.650024</td>\n",
              "      <td>208.518358</td>\n",
              "      <td>1.518549</td>\n",
              "      <td>456.370160</td>\n",
              "      <td>0.327488</td>\n",
              "      <td>456.375175</td>\n",
              "      <td>-0.392451</td>\n",
              "      <td>456.453786</td>\n",
              "      <td>0.621246</td>\n",
              "      <td>456.896505</td>\n",
              "    </tr>\n",
              "    <tr>\n",
              "      <th>4</th>\n",
              "      <td>0.018616</td>\n",
              "      <td>40.906474</td>\n",
              "      <td>0.646382</td>\n",
              "      <td>40.895683</td>\n",
              "      <td>0.411657</td>\n",
              "      <td>40.837607</td>\n",
              "      <td>0.288000</td>\n",
              "      <td>25.540176</td>\n",
              "      <td>0.015417</td>\n",
              "      <td>27.131941</td>\n",
              "      <td>...</td>\n",
              "      <td>0.307123</td>\n",
              "      <td>29.209126</td>\n",
              "      <td>1.543406</td>\n",
              "      <td>98.906924</td>\n",
              "      <td>0.115545</td>\n",
              "      <td>98.891234</td>\n",
              "      <td>0.009058</td>\n",
              "      <td>98.849936</td>\n",
              "      <td>0.095610</td>\n",
              "      <td>98.690772</td>\n",
              "    </tr>\n",
              "    <tr>\n",
              "      <th>...</th>\n",
              "      <td>...</td>\n",
              "      <td>...</td>\n",
              "      <td>...</td>\n",
              "      <td>...</td>\n",
              "      <td>...</td>\n",
              "      <td>...</td>\n",
              "      <td>...</td>\n",
              "      <td>...</td>\n",
              "      <td>...</td>\n",
              "      <td>...</td>\n",
              "      <td>...</td>\n",
              "      <td>...</td>\n",
              "      <td>...</td>\n",
              "      <td>...</td>\n",
              "      <td>...</td>\n",
              "      <td>...</td>\n",
              "      <td>...</td>\n",
              "      <td>...</td>\n",
              "      <td>...</td>\n",
              "      <td>...</td>\n",
              "      <td>...</td>\n",
              "    </tr>\n",
              "    <tr>\n",
              "      <th>103995</th>\n",
              "      <td>0.098011</td>\n",
              "      <td>131.484313</td>\n",
              "      <td>0.433704</td>\n",
              "      <td>127.478153</td>\n",
              "      <td>0.261010</td>\n",
              "      <td>124.598035</td>\n",
              "      <td>0.636805</td>\n",
              "      <td>133.302471</td>\n",
              "      <td>0.079848</td>\n",
              "      <td>136.269939</td>\n",
              "      <td>...</td>\n",
              "      <td>0.220674</td>\n",
              "      <td>11.973770</td>\n",
              "      <td>1.728794</td>\n",
              "      <td>1296.491574</td>\n",
              "      <td>-0.963922</td>\n",
              "      <td>1308.643326</td>\n",
              "      <td>0.411771</td>\n",
              "      <td>1305.174075</td>\n",
              "      <td>-0.268828</td>\n",
              "      <td>1247.196519</td>\n",
              "    </tr>\n",
              "    <tr>\n",
              "      <th>103996</th>\n",
              "      <td>-0.207267</td>\n",
              "      <td>29.689574</td>\n",
              "      <td>1.395837</td>\n",
              "      <td>29.627845</td>\n",
              "      <td>0.217758</td>\n",
              "      <td>29.296491</td>\n",
              "      <td>-0.342476</td>\n",
              "      <td>29.341589</td>\n",
              "      <td>0.047683</td>\n",
              "      <td>24.810969</td>\n",
              "      <td>...</td>\n",
              "      <td>0.067794</td>\n",
              "      <td>18.462487</td>\n",
              "      <td>1.564526</td>\n",
              "      <td>68.645733</td>\n",
              "      <td>-0.171600</td>\n",
              "      <td>68.572393</td>\n",
              "      <td>0.188174</td>\n",
              "      <td>68.784507</td>\n",
              "      <td>-0.114198</td>\n",
              "      <td>69.837109</td>\n",
              "    </tr>\n",
              "    <tr>\n",
              "      <th>103997</th>\n",
              "      <td>0.012985</td>\n",
              "      <td>9.170545</td>\n",
              "      <td>0.477758</td>\n",
              "      <td>9.073175</td>\n",
              "      <td>0.278467</td>\n",
              "      <td>8.546033</td>\n",
              "      <td>0.172794</td>\n",
              "      <td>8.245469</td>\n",
              "      <td>0.011595</td>\n",
              "      <td>9.970651</td>\n",
              "      <td>...</td>\n",
              "      <td>0.245780</td>\n",
              "      <td>40.719445</td>\n",
              "      <td>1.341691</td>\n",
              "      <td>43.103524</td>\n",
              "      <td>0.047159</td>\n",
              "      <td>43.059404</td>\n",
              "      <td>0.244886</td>\n",
              "      <td>42.996989</td>\n",
              "      <td>-0.000964</td>\n",
              "      <td>42.758392</td>\n",
              "    </tr>\n",
              "    <tr>\n",
              "      <th>103998</th>\n",
              "      <td>-0.000092</td>\n",
              "      <td>10.575114</td>\n",
              "      <td>0.756654</td>\n",
              "      <td>10.468608</td>\n",
              "      <td>0.784339</td>\n",
              "      <td>9.891076</td>\n",
              "      <td>0.227583</td>\n",
              "      <td>9.575672</td>\n",
              "      <td>0.000513</td>\n",
              "      <td>10.423315</td>\n",
              "      <td>...</td>\n",
              "      <td>0.289469</td>\n",
              "      <td>13.741549</td>\n",
              "      <td>1.617730</td>\n",
              "      <td>10.880924</td>\n",
              "      <td>0.001656</td>\n",
              "      <td>10.738996</td>\n",
              "      <td>0.085127</td>\n",
              "      <td>10.678098</td>\n",
              "      <td>0.203319</td>\n",
              "      <td>10.538928</td>\n",
              "    </tr>\n",
              "    <tr>\n",
              "      <th>103999</th>\n",
              "      <td>0.006352</td>\n",
              "      <td>15.532336</td>\n",
              "      <td>1.561762</td>\n",
              "      <td>15.499786</td>\n",
              "      <td>0.419034</td>\n",
              "      <td>15.335276</td>\n",
              "      <td>-0.244526</td>\n",
              "      <td>15.357600</td>\n",
              "      <td>-0.005658</td>\n",
              "      <td>58.245799</td>\n",
              "      <td>...</td>\n",
              "      <td>-0.018242</td>\n",
              "      <td>8.222069</td>\n",
              "      <td>1.614962</td>\n",
              "      <td>69.272583</td>\n",
              "      <td>-0.057415</td>\n",
              "      <td>69.222197</td>\n",
              "      <td>0.262779</td>\n",
              "      <td>69.198182</td>\n",
              "      <td>-0.259285</td>\n",
              "      <td>69.138887</td>\n",
              "    </tr>\n",
              "  </tbody>\n",
              "</table>\n",
              "<p>104000 rows × 32 columns</p>\n",
              "</div>\n",
              "      <button class=\"colab-df-convert\" onclick=\"convertToInteractive('df-7e938161-d886-4f2d-b4a5-4269b24d6a4d')\"\n",
              "              title=\"Convert this dataframe to an interactive table.\"\n",
              "              style=\"display:none;\">\n",
              "        \n",
              "  <svg xmlns=\"http://www.w3.org/2000/svg\" height=\"24px\"viewBox=\"0 0 24 24\"\n",
              "       width=\"24px\">\n",
              "    <path d=\"M0 0h24v24H0V0z\" fill=\"none\"/>\n",
              "    <path d=\"M18.56 5.44l.94 2.06.94-2.06 2.06-.94-2.06-.94-.94-2.06-.94 2.06-2.06.94zm-11 1L8.5 8.5l.94-2.06 2.06-.94-2.06-.94L8.5 2.5l-.94 2.06-2.06.94zm10 10l.94 2.06.94-2.06 2.06-.94-2.06-.94-.94-2.06-.94 2.06-2.06.94z\"/><path d=\"M17.41 7.96l-1.37-1.37c-.4-.4-.92-.59-1.43-.59-.52 0-1.04.2-1.43.59L10.3 9.45l-7.72 7.72c-.78.78-.78 2.05 0 2.83L4 21.41c.39.39.9.59 1.41.59.51 0 1.02-.2 1.41-.59l7.78-7.78 2.81-2.81c.8-.78.8-2.07 0-2.86zM5.41 20L4 18.59l7.72-7.72 1.47 1.35L5.41 20z\"/>\n",
              "  </svg>\n",
              "      </button>\n",
              "      \n",
              "  <style>\n",
              "    .colab-df-container {\n",
              "      display:flex;\n",
              "      flex-wrap:wrap;\n",
              "      gap: 12px;\n",
              "    }\n",
              "\n",
              "    .colab-df-convert {\n",
              "      background-color: #E8F0FE;\n",
              "      border: none;\n",
              "      border-radius: 50%;\n",
              "      cursor: pointer;\n",
              "      display: none;\n",
              "      fill: #1967D2;\n",
              "      height: 32px;\n",
              "      padding: 0 0 0 0;\n",
              "      width: 32px;\n",
              "    }\n",
              "\n",
              "    .colab-df-convert:hover {\n",
              "      background-color: #E2EBFA;\n",
              "      box-shadow: 0px 1px 2px rgba(60, 64, 67, 0.3), 0px 1px 3px 1px rgba(60, 64, 67, 0.15);\n",
              "      fill: #174EA6;\n",
              "    }\n",
              "\n",
              "    [theme=dark] .colab-df-convert {\n",
              "      background-color: #3B4455;\n",
              "      fill: #D2E3FC;\n",
              "    }\n",
              "\n",
              "    [theme=dark] .colab-df-convert:hover {\n",
              "      background-color: #434B5C;\n",
              "      box-shadow: 0px 1px 3px 1px rgba(0, 0, 0, 0.15);\n",
              "      filter: drop-shadow(0px 1px 2px rgba(0, 0, 0, 0.3));\n",
              "      fill: #FFFFFF;\n",
              "    }\n",
              "  </style>\n",
              "\n",
              "      <script>\n",
              "        const buttonEl =\n",
              "          document.querySelector('#df-7e938161-d886-4f2d-b4a5-4269b24d6a4d button.colab-df-convert');\n",
              "        buttonEl.style.display =\n",
              "          google.colab.kernel.accessAllowed ? 'block' : 'none';\n",
              "\n",
              "        async function convertToInteractive(key) {\n",
              "          const element = document.querySelector('#df-7e938161-d886-4f2d-b4a5-4269b24d6a4d');\n",
              "          const dataTable =\n",
              "            await google.colab.kernel.invokeFunction('convertToInteractive',\n",
              "                                                     [key], {});\n",
              "          if (!dataTable) return;\n",
              "\n",
              "          const docLinkHtml = 'Like what you see? Visit the ' +\n",
              "            '<a target=\"_blank\" href=https://colab.research.google.com/notebooks/data_table.ipynb>data table notebook</a>'\n",
              "            + ' to learn more about interactive tables.';\n",
              "          element.innerHTML = '';\n",
              "          dataTable['output_type'] = 'display_data';\n",
              "          await google.colab.output.renderOutput(dataTable, element);\n",
              "          const docLink = document.createElement('div');\n",
              "          docLink.innerHTML = docLinkHtml;\n",
              "          element.appendChild(docLink);\n",
              "        }\n",
              "      </script>\n",
              "    </div>\n",
              "  </div>\n",
              "  "
            ]
          },
          "metadata": {},
          "execution_count": 9
        },
        {
          "output_type": "stream",
          "name": "stdout",
          "text": [
            "time: 180 ms (started: 2023-03-27 21:29:20 +00:00)\n"
          ]
        }
      ],
      "source": [
        "X_train"
      ]
    },
    {
      "cell_type": "code",
      "execution_count": null,
      "metadata": {
        "colab": {
          "base_uri": "https://localhost:8080/",
          "height": 411
        },
        "id": "kLc6YazJWEF9",
        "outputId": "04c2d2c9-69a6-410f-f77d-fcc42070b304"
      },
      "outputs": [
        {
          "output_type": "execute_result",
          "data": {
            "text/plain": [
              "         J0_position       J0_Force    J1_position       J1_Force  \\\n",
              "count  104000.000000  104000.000000  104000.000000  104000.000000   \n",
              "mean        0.010377      59.019077       0.757873      58.912398   \n",
              "std         0.055551      46.583395       0.270122      46.528936   \n",
              "min        -0.245457       0.869717       0.150982       0.819148   \n",
              "25%         0.001237      27.554567       0.576603      27.540487   \n",
              "50%         0.014506      44.450103       0.694840      44.443107   \n",
              "75%         0.030121      85.215340       0.848801      84.945624   \n",
              "max         0.302955     630.731861       1.710592     633.479712   \n",
              "\n",
              "         J2_position       J2_Force    J3_position       J3_Force  \\\n",
              "count  104000.000000  104000.000000  104000.000000  104000.000000   \n",
              "mean        0.439070      57.599880       0.105654      54.318285   \n",
              "std         0.205687      42.997361       0.307863      39.434538   \n",
              "min        -0.867079       1.449388      -0.878010       3.215971   \n",
              "25%         0.311816      27.365424      -0.135092      25.684883   \n",
              "50%         0.443937      44.220685       0.168104      43.202844   \n",
              "75%         0.597703      83.277963       0.321878      77.314024   \n",
              "max         1.243738     358.339848       1.044886     358.601367   \n",
              "\n",
              "         J4_position       J4_Force  ...   J11_position      J11_Force  \\\n",
              "count  104000.000000  104000.000000  ...  104000.000000  104000.000000   \n",
              "mean        0.017875      73.127612  ...       0.343013      73.192579   \n",
              "std         0.040321     104.034816  ...       0.299632      72.030838   \n",
              "min        -0.170895       3.086973  ...      -0.589622       2.924713   \n",
              "25%         0.000031      23.781059  ...       0.142518      19.096364   \n",
              "50%         0.011537      46.745350  ...       0.313514      39.722224   \n",
              "75%         0.026729      77.366670  ...       0.499017     109.572627   \n",
              "max         0.263529    6920.296996  ...       1.699928     826.251721   \n",
              "\n",
              "        J12_position      J12_Force   J13_position      J13_Force  \\\n",
              "count  104000.000000  104000.000000  104000.000000  104000.000000   \n",
              "mean        1.538761     168.922281       0.097913     168.779236   \n",
              "std         0.093073     152.145587       0.187873     151.753968   \n",
              "min         0.346626       1.215740      -1.108879       1.435768   \n",
              "25%         1.526144      66.929315       0.000537      66.907825   \n",
              "50%         1.548317     124.227595       0.099363     124.280676   \n",
              "75%         1.588869     243.552500       0.199183     243.772409   \n",
              "max         1.730182    2134.194766       1.425054    2137.999104   \n",
              "\n",
              "        J14_position      J14_Force   J15_position      J15_Force  \n",
              "count  104000.000000  104000.000000  104000.000000  104000.000000  \n",
              "mean       -0.045654     168.651112       0.157913     151.315163  \n",
              "std         0.243162     151.604452       0.271902     149.612572  \n",
              "min        -0.493507       1.644472      -0.504787       2.091536  \n",
              "25%        -0.292109      66.837465      -0.033042      53.333417  \n",
              "50%        -0.001013     124.143252       0.104243      93.046680  \n",
              "75%         0.077355     243.557953       0.353742     226.429805  \n",
              "max         0.872015    2132.662026       1.820740    2124.201220  \n",
              "\n",
              "[8 rows x 32 columns]"
            ],
            "text/html": [
              "\n",
              "  <div id=\"df-c183b565-d5fa-43e6-92df-980780ffdfae\">\n",
              "    <div class=\"colab-df-container\">\n",
              "      <div>\n",
              "<style scoped>\n",
              "    .dataframe tbody tr th:only-of-type {\n",
              "        vertical-align: middle;\n",
              "    }\n",
              "\n",
              "    .dataframe tbody tr th {\n",
              "        vertical-align: top;\n",
              "    }\n",
              "\n",
              "    .dataframe thead th {\n",
              "        text-align: right;\n",
              "    }\n",
              "</style>\n",
              "<table border=\"1\" class=\"dataframe\">\n",
              "  <thead>\n",
              "    <tr style=\"text-align: right;\">\n",
              "      <th></th>\n",
              "      <th>J0_position</th>\n",
              "      <th>J0_Force</th>\n",
              "      <th>J1_position</th>\n",
              "      <th>J1_Force</th>\n",
              "      <th>J2_position</th>\n",
              "      <th>J2_Force</th>\n",
              "      <th>J3_position</th>\n",
              "      <th>J3_Force</th>\n",
              "      <th>J4_position</th>\n",
              "      <th>J4_Force</th>\n",
              "      <th>...</th>\n",
              "      <th>J11_position</th>\n",
              "      <th>J11_Force</th>\n",
              "      <th>J12_position</th>\n",
              "      <th>J12_Force</th>\n",
              "      <th>J13_position</th>\n",
              "      <th>J13_Force</th>\n",
              "      <th>J14_position</th>\n",
              "      <th>J14_Force</th>\n",
              "      <th>J15_position</th>\n",
              "      <th>J15_Force</th>\n",
              "    </tr>\n",
              "  </thead>\n",
              "  <tbody>\n",
              "    <tr>\n",
              "      <th>count</th>\n",
              "      <td>104000.000000</td>\n",
              "      <td>104000.000000</td>\n",
              "      <td>104000.000000</td>\n",
              "      <td>104000.000000</td>\n",
              "      <td>104000.000000</td>\n",
              "      <td>104000.000000</td>\n",
              "      <td>104000.000000</td>\n",
              "      <td>104000.000000</td>\n",
              "      <td>104000.000000</td>\n",
              "      <td>104000.000000</td>\n",
              "      <td>...</td>\n",
              "      <td>104000.000000</td>\n",
              "      <td>104000.000000</td>\n",
              "      <td>104000.000000</td>\n",
              "      <td>104000.000000</td>\n",
              "      <td>104000.000000</td>\n",
              "      <td>104000.000000</td>\n",
              "      <td>104000.000000</td>\n",
              "      <td>104000.000000</td>\n",
              "      <td>104000.000000</td>\n",
              "      <td>104000.000000</td>\n",
              "    </tr>\n",
              "    <tr>\n",
              "      <th>mean</th>\n",
              "      <td>0.010377</td>\n",
              "      <td>59.019077</td>\n",
              "      <td>0.757873</td>\n",
              "      <td>58.912398</td>\n",
              "      <td>0.439070</td>\n",
              "      <td>57.599880</td>\n",
              "      <td>0.105654</td>\n",
              "      <td>54.318285</td>\n",
              "      <td>0.017875</td>\n",
              "      <td>73.127612</td>\n",
              "      <td>...</td>\n",
              "      <td>0.343013</td>\n",
              "      <td>73.192579</td>\n",
              "      <td>1.538761</td>\n",
              "      <td>168.922281</td>\n",
              "      <td>0.097913</td>\n",
              "      <td>168.779236</td>\n",
              "      <td>-0.045654</td>\n",
              "      <td>168.651112</td>\n",
              "      <td>0.157913</td>\n",
              "      <td>151.315163</td>\n",
              "    </tr>\n",
              "    <tr>\n",
              "      <th>std</th>\n",
              "      <td>0.055551</td>\n",
              "      <td>46.583395</td>\n",
              "      <td>0.270122</td>\n",
              "      <td>46.528936</td>\n",
              "      <td>0.205687</td>\n",
              "      <td>42.997361</td>\n",
              "      <td>0.307863</td>\n",
              "      <td>39.434538</td>\n",
              "      <td>0.040321</td>\n",
              "      <td>104.034816</td>\n",
              "      <td>...</td>\n",
              "      <td>0.299632</td>\n",
              "      <td>72.030838</td>\n",
              "      <td>0.093073</td>\n",
              "      <td>152.145587</td>\n",
              "      <td>0.187873</td>\n",
              "      <td>151.753968</td>\n",
              "      <td>0.243162</td>\n",
              "      <td>151.604452</td>\n",
              "      <td>0.271902</td>\n",
              "      <td>149.612572</td>\n",
              "    </tr>\n",
              "    <tr>\n",
              "      <th>min</th>\n",
              "      <td>-0.245457</td>\n",
              "      <td>0.869717</td>\n",
              "      <td>0.150982</td>\n",
              "      <td>0.819148</td>\n",
              "      <td>-0.867079</td>\n",
              "      <td>1.449388</td>\n",
              "      <td>-0.878010</td>\n",
              "      <td>3.215971</td>\n",
              "      <td>-0.170895</td>\n",
              "      <td>3.086973</td>\n",
              "      <td>...</td>\n",
              "      <td>-0.589622</td>\n",
              "      <td>2.924713</td>\n",
              "      <td>0.346626</td>\n",
              "      <td>1.215740</td>\n",
              "      <td>-1.108879</td>\n",
              "      <td>1.435768</td>\n",
              "      <td>-0.493507</td>\n",
              "      <td>1.644472</td>\n",
              "      <td>-0.504787</td>\n",
              "      <td>2.091536</td>\n",
              "    </tr>\n",
              "    <tr>\n",
              "      <th>25%</th>\n",
              "      <td>0.001237</td>\n",
              "      <td>27.554567</td>\n",
              "      <td>0.576603</td>\n",
              "      <td>27.540487</td>\n",
              "      <td>0.311816</td>\n",
              "      <td>27.365424</td>\n",
              "      <td>-0.135092</td>\n",
              "      <td>25.684883</td>\n",
              "      <td>0.000031</td>\n",
              "      <td>23.781059</td>\n",
              "      <td>...</td>\n",
              "      <td>0.142518</td>\n",
              "      <td>19.096364</td>\n",
              "      <td>1.526144</td>\n",
              "      <td>66.929315</td>\n",
              "      <td>0.000537</td>\n",
              "      <td>66.907825</td>\n",
              "      <td>-0.292109</td>\n",
              "      <td>66.837465</td>\n",
              "      <td>-0.033042</td>\n",
              "      <td>53.333417</td>\n",
              "    </tr>\n",
              "    <tr>\n",
              "      <th>50%</th>\n",
              "      <td>0.014506</td>\n",
              "      <td>44.450103</td>\n",
              "      <td>0.694840</td>\n",
              "      <td>44.443107</td>\n",
              "      <td>0.443937</td>\n",
              "      <td>44.220685</td>\n",
              "      <td>0.168104</td>\n",
              "      <td>43.202844</td>\n",
              "      <td>0.011537</td>\n",
              "      <td>46.745350</td>\n",
              "      <td>...</td>\n",
              "      <td>0.313514</td>\n",
              "      <td>39.722224</td>\n",
              "      <td>1.548317</td>\n",
              "      <td>124.227595</td>\n",
              "      <td>0.099363</td>\n",
              "      <td>124.280676</td>\n",
              "      <td>-0.001013</td>\n",
              "      <td>124.143252</td>\n",
              "      <td>0.104243</td>\n",
              "      <td>93.046680</td>\n",
              "    </tr>\n",
              "    <tr>\n",
              "      <th>75%</th>\n",
              "      <td>0.030121</td>\n",
              "      <td>85.215340</td>\n",
              "      <td>0.848801</td>\n",
              "      <td>84.945624</td>\n",
              "      <td>0.597703</td>\n",
              "      <td>83.277963</td>\n",
              "      <td>0.321878</td>\n",
              "      <td>77.314024</td>\n",
              "      <td>0.026729</td>\n",
              "      <td>77.366670</td>\n",
              "      <td>...</td>\n",
              "      <td>0.499017</td>\n",
              "      <td>109.572627</td>\n",
              "      <td>1.588869</td>\n",
              "      <td>243.552500</td>\n",
              "      <td>0.199183</td>\n",
              "      <td>243.772409</td>\n",
              "      <td>0.077355</td>\n",
              "      <td>243.557953</td>\n",
              "      <td>0.353742</td>\n",
              "      <td>226.429805</td>\n",
              "    </tr>\n",
              "    <tr>\n",
              "      <th>max</th>\n",
              "      <td>0.302955</td>\n",
              "      <td>630.731861</td>\n",
              "      <td>1.710592</td>\n",
              "      <td>633.479712</td>\n",
              "      <td>1.243738</td>\n",
              "      <td>358.339848</td>\n",
              "      <td>1.044886</td>\n",
              "      <td>358.601367</td>\n",
              "      <td>0.263529</td>\n",
              "      <td>6920.296996</td>\n",
              "      <td>...</td>\n",
              "      <td>1.699928</td>\n",
              "      <td>826.251721</td>\n",
              "      <td>1.730182</td>\n",
              "      <td>2134.194766</td>\n",
              "      <td>1.425054</td>\n",
              "      <td>2137.999104</td>\n",
              "      <td>0.872015</td>\n",
              "      <td>2132.662026</td>\n",
              "      <td>1.820740</td>\n",
              "      <td>2124.201220</td>\n",
              "    </tr>\n",
              "  </tbody>\n",
              "</table>\n",
              "<p>8 rows × 32 columns</p>\n",
              "</div>\n",
              "      <button class=\"colab-df-convert\" onclick=\"convertToInteractive('df-c183b565-d5fa-43e6-92df-980780ffdfae')\"\n",
              "              title=\"Convert this dataframe to an interactive table.\"\n",
              "              style=\"display:none;\">\n",
              "        \n",
              "  <svg xmlns=\"http://www.w3.org/2000/svg\" height=\"24px\"viewBox=\"0 0 24 24\"\n",
              "       width=\"24px\">\n",
              "    <path d=\"M0 0h24v24H0V0z\" fill=\"none\"/>\n",
              "    <path d=\"M18.56 5.44l.94 2.06.94-2.06 2.06-.94-2.06-.94-.94-2.06-.94 2.06-2.06.94zm-11 1L8.5 8.5l.94-2.06 2.06-.94-2.06-.94L8.5 2.5l-.94 2.06-2.06.94zm10 10l.94 2.06.94-2.06 2.06-.94-2.06-.94-.94-2.06-.94 2.06-2.06.94z\"/><path d=\"M17.41 7.96l-1.37-1.37c-.4-.4-.92-.59-1.43-.59-.52 0-1.04.2-1.43.59L10.3 9.45l-7.72 7.72c-.78.78-.78 2.05 0 2.83L4 21.41c.39.39.9.59 1.41.59.51 0 1.02-.2 1.41-.59l7.78-7.78 2.81-2.81c.8-.78.8-2.07 0-2.86zM5.41 20L4 18.59l7.72-7.72 1.47 1.35L5.41 20z\"/>\n",
              "  </svg>\n",
              "      </button>\n",
              "      \n",
              "  <style>\n",
              "    .colab-df-container {\n",
              "      display:flex;\n",
              "      flex-wrap:wrap;\n",
              "      gap: 12px;\n",
              "    }\n",
              "\n",
              "    .colab-df-convert {\n",
              "      background-color: #E8F0FE;\n",
              "      border: none;\n",
              "      border-radius: 50%;\n",
              "      cursor: pointer;\n",
              "      display: none;\n",
              "      fill: #1967D2;\n",
              "      height: 32px;\n",
              "      padding: 0 0 0 0;\n",
              "      width: 32px;\n",
              "    }\n",
              "\n",
              "    .colab-df-convert:hover {\n",
              "      background-color: #E2EBFA;\n",
              "      box-shadow: 0px 1px 2px rgba(60, 64, 67, 0.3), 0px 1px 3px 1px rgba(60, 64, 67, 0.15);\n",
              "      fill: #174EA6;\n",
              "    }\n",
              "\n",
              "    [theme=dark] .colab-df-convert {\n",
              "      background-color: #3B4455;\n",
              "      fill: #D2E3FC;\n",
              "    }\n",
              "\n",
              "    [theme=dark] .colab-df-convert:hover {\n",
              "      background-color: #434B5C;\n",
              "      box-shadow: 0px 1px 3px 1px rgba(0, 0, 0, 0.15);\n",
              "      filter: drop-shadow(0px 1px 2px rgba(0, 0, 0, 0.3));\n",
              "      fill: #FFFFFF;\n",
              "    }\n",
              "  </style>\n",
              "\n",
              "      <script>\n",
              "        const buttonEl =\n",
              "          document.querySelector('#df-c183b565-d5fa-43e6-92df-980780ffdfae button.colab-df-convert');\n",
              "        buttonEl.style.display =\n",
              "          google.colab.kernel.accessAllowed ? 'block' : 'none';\n",
              "\n",
              "        async function convertToInteractive(key) {\n",
              "          const element = document.querySelector('#df-c183b565-d5fa-43e6-92df-980780ffdfae');\n",
              "          const dataTable =\n",
              "            await google.colab.kernel.invokeFunction('convertToInteractive',\n",
              "                                                     [key], {});\n",
              "          if (!dataTable) return;\n",
              "\n",
              "          const docLinkHtml = 'Like what you see? Visit the ' +\n",
              "            '<a target=\"_blank\" href=https://colab.research.google.com/notebooks/data_table.ipynb>data table notebook</a>'\n",
              "            + ' to learn more about interactive tables.';\n",
              "          element.innerHTML = '';\n",
              "          dataTable['output_type'] = 'display_data';\n",
              "          await google.colab.output.renderOutput(dataTable, element);\n",
              "          const docLink = document.createElement('div');\n",
              "          docLink.innerHTML = docLinkHtml;\n",
              "          element.appendChild(docLink);\n",
              "        }\n",
              "      </script>\n",
              "    </div>\n",
              "  </div>\n",
              "  "
            ]
          },
          "metadata": {},
          "execution_count": 10
        },
        {
          "output_type": "stream",
          "name": "stdout",
          "text": [
            "time: 238 ms (started: 2023-03-27 21:29:21 +00:00)\n"
          ]
        }
      ],
      "source": [
        "X_train.describe()"
      ]
    },
    {
      "cell_type": "code",
      "source": [
        "X_test.describe()"
      ],
      "metadata": {
        "colab": {
          "base_uri": "https://localhost:8080/",
          "height": 411
        },
        "id": "c_Z18OrfSuW0",
        "outputId": "bd8557c0-89c4-4510-f253-edac0b11c25b"
      },
      "execution_count": null,
      "outputs": [
        {
          "output_type": "execute_result",
          "data": {
            "text/plain": [
              "        J0_position      J0_Force   J1_position      J1_Force   J2_position  \\\n",
              "count  26000.000000  26000.000000  26000.000000  26000.000000  26000.000000   \n",
              "mean       0.010750     59.043329      0.757758     58.939814      0.439112   \n",
              "std        0.055664     46.803846      0.270392     46.746137      0.205466   \n",
              "min       -0.241188      1.071530      0.169419      0.635060     -0.836450   \n",
              "25%        0.001273     27.407552      0.577786     27.371548      0.311367   \n",
              "50%        0.014466     44.667781      0.695022     44.636677      0.443164   \n",
              "75%        0.030294     85.008126      0.845948     84.716815      0.597611   \n",
              "max        0.303366    544.983063      1.710356    544.175606      1.242769   \n",
              "\n",
              "           J2_Force   J3_position      J3_Force   J4_position      J4_Force  \\\n",
              "count  26000.000000  26000.000000  26000.000000  26000.000000  26000.000000   \n",
              "mean      57.506686      0.105795     54.188163      0.017795     72.528570   \n",
              "std       42.772196      0.307529     39.180159      0.040551     87.889941   \n",
              "min        1.798398     -0.873046      3.142798     -0.170528      0.893441   \n",
              "25%       27.256905     -0.134792     25.567268     -0.000008     23.739231   \n",
              "50%       44.392968      0.168841     43.425935      0.011527     46.989677   \n",
              "75%       82.904280      0.321453     77.025957      0.026684     77.176399   \n",
              "max      322.423008      1.032131    322.219117      0.261181   2735.904587   \n",
              "\n",
              "       ...  J11_position     J11_Force  J12_position     J12_Force  \\\n",
              "count  ...  26000.000000  26000.000000  26000.000000  26000.000000   \n",
              "mean   ...      0.342211     73.302435      1.538584    167.856262   \n",
              "std    ...      0.298618     72.069633      0.095435    150.242809   \n",
              "min    ...     -0.573349      5.331310      0.347416      2.066557   \n",
              "25%    ...      0.140829     19.140674      1.527273     65.961657   \n",
              "50%    ...      0.314293     39.922820      1.548380    124.042660   \n",
              "75%    ...      0.502240    109.714413      1.589288    243.101599   \n",
              "max    ...      1.668118    688.076451      1.722217   1352.028231   \n",
              "\n",
              "       J13_position     J13_Force  J14_position     J14_Force  J15_position  \\\n",
              "count  26000.000000  26000.000000  26000.000000  26000.000000  26000.000000   \n",
              "mean       0.097469    167.704795     -0.044745    167.645605      0.157781   \n",
              "std        0.188040    149.820428      0.243447    149.874731      0.273309   \n",
              "min       -1.106442      2.232496     -0.491846      1.794654     -0.504623   \n",
              "25%        0.000206     65.907064     -0.292119     65.865595     -0.034278   \n",
              "50%        0.097171    124.070058      0.000109    124.035432      0.103709   \n",
              "75%        0.198643    243.212916      0.077913    243.180702      0.353754   \n",
              "max        1.465783   1361.567870      0.872022   1355.024021      1.820615   \n",
              "\n",
              "          J15_Force  \n",
              "count  26000.000000  \n",
              "mean     150.911514  \n",
              "std      148.928822  \n",
              "min        2.360655  \n",
              "25%       52.668712  \n",
              "50%       93.221167  \n",
              "75%      225.911573  \n",
              "max     1330.888324  \n",
              "\n",
              "[8 rows x 32 columns]"
            ],
            "text/html": [
              "\n",
              "  <div id=\"df-6e4fe5c0-c536-425d-bcc6-8a92c856676b\">\n",
              "    <div class=\"colab-df-container\">\n",
              "      <div>\n",
              "<style scoped>\n",
              "    .dataframe tbody tr th:only-of-type {\n",
              "        vertical-align: middle;\n",
              "    }\n",
              "\n",
              "    .dataframe tbody tr th {\n",
              "        vertical-align: top;\n",
              "    }\n",
              "\n",
              "    .dataframe thead th {\n",
              "        text-align: right;\n",
              "    }\n",
              "</style>\n",
              "<table border=\"1\" class=\"dataframe\">\n",
              "  <thead>\n",
              "    <tr style=\"text-align: right;\">\n",
              "      <th></th>\n",
              "      <th>J0_position</th>\n",
              "      <th>J0_Force</th>\n",
              "      <th>J1_position</th>\n",
              "      <th>J1_Force</th>\n",
              "      <th>J2_position</th>\n",
              "      <th>J2_Force</th>\n",
              "      <th>J3_position</th>\n",
              "      <th>J3_Force</th>\n",
              "      <th>J4_position</th>\n",
              "      <th>J4_Force</th>\n",
              "      <th>...</th>\n",
              "      <th>J11_position</th>\n",
              "      <th>J11_Force</th>\n",
              "      <th>J12_position</th>\n",
              "      <th>J12_Force</th>\n",
              "      <th>J13_position</th>\n",
              "      <th>J13_Force</th>\n",
              "      <th>J14_position</th>\n",
              "      <th>J14_Force</th>\n",
              "      <th>J15_position</th>\n",
              "      <th>J15_Force</th>\n",
              "    </tr>\n",
              "  </thead>\n",
              "  <tbody>\n",
              "    <tr>\n",
              "      <th>count</th>\n",
              "      <td>26000.000000</td>\n",
              "      <td>26000.000000</td>\n",
              "      <td>26000.000000</td>\n",
              "      <td>26000.000000</td>\n",
              "      <td>26000.000000</td>\n",
              "      <td>26000.000000</td>\n",
              "      <td>26000.000000</td>\n",
              "      <td>26000.000000</td>\n",
              "      <td>26000.000000</td>\n",
              "      <td>26000.000000</td>\n",
              "      <td>...</td>\n",
              "      <td>26000.000000</td>\n",
              "      <td>26000.000000</td>\n",
              "      <td>26000.000000</td>\n",
              "      <td>26000.000000</td>\n",
              "      <td>26000.000000</td>\n",
              "      <td>26000.000000</td>\n",
              "      <td>26000.000000</td>\n",
              "      <td>26000.000000</td>\n",
              "      <td>26000.000000</td>\n",
              "      <td>26000.000000</td>\n",
              "    </tr>\n",
              "    <tr>\n",
              "      <th>mean</th>\n",
              "      <td>0.010750</td>\n",
              "      <td>59.043329</td>\n",
              "      <td>0.757758</td>\n",
              "      <td>58.939814</td>\n",
              "      <td>0.439112</td>\n",
              "      <td>57.506686</td>\n",
              "      <td>0.105795</td>\n",
              "      <td>54.188163</td>\n",
              "      <td>0.017795</td>\n",
              "      <td>72.528570</td>\n",
              "      <td>...</td>\n",
              "      <td>0.342211</td>\n",
              "      <td>73.302435</td>\n",
              "      <td>1.538584</td>\n",
              "      <td>167.856262</td>\n",
              "      <td>0.097469</td>\n",
              "      <td>167.704795</td>\n",
              "      <td>-0.044745</td>\n",
              "      <td>167.645605</td>\n",
              "      <td>0.157781</td>\n",
              "      <td>150.911514</td>\n",
              "    </tr>\n",
              "    <tr>\n",
              "      <th>std</th>\n",
              "      <td>0.055664</td>\n",
              "      <td>46.803846</td>\n",
              "      <td>0.270392</td>\n",
              "      <td>46.746137</td>\n",
              "      <td>0.205466</td>\n",
              "      <td>42.772196</td>\n",
              "      <td>0.307529</td>\n",
              "      <td>39.180159</td>\n",
              "      <td>0.040551</td>\n",
              "      <td>87.889941</td>\n",
              "      <td>...</td>\n",
              "      <td>0.298618</td>\n",
              "      <td>72.069633</td>\n",
              "      <td>0.095435</td>\n",
              "      <td>150.242809</td>\n",
              "      <td>0.188040</td>\n",
              "      <td>149.820428</td>\n",
              "      <td>0.243447</td>\n",
              "      <td>149.874731</td>\n",
              "      <td>0.273309</td>\n",
              "      <td>148.928822</td>\n",
              "    </tr>\n",
              "    <tr>\n",
              "      <th>min</th>\n",
              "      <td>-0.241188</td>\n",
              "      <td>1.071530</td>\n",
              "      <td>0.169419</td>\n",
              "      <td>0.635060</td>\n",
              "      <td>-0.836450</td>\n",
              "      <td>1.798398</td>\n",
              "      <td>-0.873046</td>\n",
              "      <td>3.142798</td>\n",
              "      <td>-0.170528</td>\n",
              "      <td>0.893441</td>\n",
              "      <td>...</td>\n",
              "      <td>-0.573349</td>\n",
              "      <td>5.331310</td>\n",
              "      <td>0.347416</td>\n",
              "      <td>2.066557</td>\n",
              "      <td>-1.106442</td>\n",
              "      <td>2.232496</td>\n",
              "      <td>-0.491846</td>\n",
              "      <td>1.794654</td>\n",
              "      <td>-0.504623</td>\n",
              "      <td>2.360655</td>\n",
              "    </tr>\n",
              "    <tr>\n",
              "      <th>25%</th>\n",
              "      <td>0.001273</td>\n",
              "      <td>27.407552</td>\n",
              "      <td>0.577786</td>\n",
              "      <td>27.371548</td>\n",
              "      <td>0.311367</td>\n",
              "      <td>27.256905</td>\n",
              "      <td>-0.134792</td>\n",
              "      <td>25.567268</td>\n",
              "      <td>-0.000008</td>\n",
              "      <td>23.739231</td>\n",
              "      <td>...</td>\n",
              "      <td>0.140829</td>\n",
              "      <td>19.140674</td>\n",
              "      <td>1.527273</td>\n",
              "      <td>65.961657</td>\n",
              "      <td>0.000206</td>\n",
              "      <td>65.907064</td>\n",
              "      <td>-0.292119</td>\n",
              "      <td>65.865595</td>\n",
              "      <td>-0.034278</td>\n",
              "      <td>52.668712</td>\n",
              "    </tr>\n",
              "    <tr>\n",
              "      <th>50%</th>\n",
              "      <td>0.014466</td>\n",
              "      <td>44.667781</td>\n",
              "      <td>0.695022</td>\n",
              "      <td>44.636677</td>\n",
              "      <td>0.443164</td>\n",
              "      <td>44.392968</td>\n",
              "      <td>0.168841</td>\n",
              "      <td>43.425935</td>\n",
              "      <td>0.011527</td>\n",
              "      <td>46.989677</td>\n",
              "      <td>...</td>\n",
              "      <td>0.314293</td>\n",
              "      <td>39.922820</td>\n",
              "      <td>1.548380</td>\n",
              "      <td>124.042660</td>\n",
              "      <td>0.097171</td>\n",
              "      <td>124.070058</td>\n",
              "      <td>0.000109</td>\n",
              "      <td>124.035432</td>\n",
              "      <td>0.103709</td>\n",
              "      <td>93.221167</td>\n",
              "    </tr>\n",
              "    <tr>\n",
              "      <th>75%</th>\n",
              "      <td>0.030294</td>\n",
              "      <td>85.008126</td>\n",
              "      <td>0.845948</td>\n",
              "      <td>84.716815</td>\n",
              "      <td>0.597611</td>\n",
              "      <td>82.904280</td>\n",
              "      <td>0.321453</td>\n",
              "      <td>77.025957</td>\n",
              "      <td>0.026684</td>\n",
              "      <td>77.176399</td>\n",
              "      <td>...</td>\n",
              "      <td>0.502240</td>\n",
              "      <td>109.714413</td>\n",
              "      <td>1.589288</td>\n",
              "      <td>243.101599</td>\n",
              "      <td>0.198643</td>\n",
              "      <td>243.212916</td>\n",
              "      <td>0.077913</td>\n",
              "      <td>243.180702</td>\n",
              "      <td>0.353754</td>\n",
              "      <td>225.911573</td>\n",
              "    </tr>\n",
              "    <tr>\n",
              "      <th>max</th>\n",
              "      <td>0.303366</td>\n",
              "      <td>544.983063</td>\n",
              "      <td>1.710356</td>\n",
              "      <td>544.175606</td>\n",
              "      <td>1.242769</td>\n",
              "      <td>322.423008</td>\n",
              "      <td>1.032131</td>\n",
              "      <td>322.219117</td>\n",
              "      <td>0.261181</td>\n",
              "      <td>2735.904587</td>\n",
              "      <td>...</td>\n",
              "      <td>1.668118</td>\n",
              "      <td>688.076451</td>\n",
              "      <td>1.722217</td>\n",
              "      <td>1352.028231</td>\n",
              "      <td>1.465783</td>\n",
              "      <td>1361.567870</td>\n",
              "      <td>0.872022</td>\n",
              "      <td>1355.024021</td>\n",
              "      <td>1.820615</td>\n",
              "      <td>1330.888324</td>\n",
              "    </tr>\n",
              "  </tbody>\n",
              "</table>\n",
              "<p>8 rows × 32 columns</p>\n",
              "</div>\n",
              "      <button class=\"colab-df-convert\" onclick=\"convertToInteractive('df-6e4fe5c0-c536-425d-bcc6-8a92c856676b')\"\n",
              "              title=\"Convert this dataframe to an interactive table.\"\n",
              "              style=\"display:none;\">\n",
              "        \n",
              "  <svg xmlns=\"http://www.w3.org/2000/svg\" height=\"24px\"viewBox=\"0 0 24 24\"\n",
              "       width=\"24px\">\n",
              "    <path d=\"M0 0h24v24H0V0z\" fill=\"none\"/>\n",
              "    <path d=\"M18.56 5.44l.94 2.06.94-2.06 2.06-.94-2.06-.94-.94-2.06-.94 2.06-2.06.94zm-11 1L8.5 8.5l.94-2.06 2.06-.94-2.06-.94L8.5 2.5l-.94 2.06-2.06.94zm10 10l.94 2.06.94-2.06 2.06-.94-2.06-.94-.94-2.06-.94 2.06-2.06.94z\"/><path d=\"M17.41 7.96l-1.37-1.37c-.4-.4-.92-.59-1.43-.59-.52 0-1.04.2-1.43.59L10.3 9.45l-7.72 7.72c-.78.78-.78 2.05 0 2.83L4 21.41c.39.39.9.59 1.41.59.51 0 1.02-.2 1.41-.59l7.78-7.78 2.81-2.81c.8-.78.8-2.07 0-2.86zM5.41 20L4 18.59l7.72-7.72 1.47 1.35L5.41 20z\"/>\n",
              "  </svg>\n",
              "      </button>\n",
              "      \n",
              "  <style>\n",
              "    .colab-df-container {\n",
              "      display:flex;\n",
              "      flex-wrap:wrap;\n",
              "      gap: 12px;\n",
              "    }\n",
              "\n",
              "    .colab-df-convert {\n",
              "      background-color: #E8F0FE;\n",
              "      border: none;\n",
              "      border-radius: 50%;\n",
              "      cursor: pointer;\n",
              "      display: none;\n",
              "      fill: #1967D2;\n",
              "      height: 32px;\n",
              "      padding: 0 0 0 0;\n",
              "      width: 32px;\n",
              "    }\n",
              "\n",
              "    .colab-df-convert:hover {\n",
              "      background-color: #E2EBFA;\n",
              "      box-shadow: 0px 1px 2px rgba(60, 64, 67, 0.3), 0px 1px 3px 1px rgba(60, 64, 67, 0.15);\n",
              "      fill: #174EA6;\n",
              "    }\n",
              "\n",
              "    [theme=dark] .colab-df-convert {\n",
              "      background-color: #3B4455;\n",
              "      fill: #D2E3FC;\n",
              "    }\n",
              "\n",
              "    [theme=dark] .colab-df-convert:hover {\n",
              "      background-color: #434B5C;\n",
              "      box-shadow: 0px 1px 3px 1px rgba(0, 0, 0, 0.15);\n",
              "      filter: drop-shadow(0px 1px 2px rgba(0, 0, 0, 0.3));\n",
              "      fill: #FFFFFF;\n",
              "    }\n",
              "  </style>\n",
              "\n",
              "      <script>\n",
              "        const buttonEl =\n",
              "          document.querySelector('#df-6e4fe5c0-c536-425d-bcc6-8a92c856676b button.colab-df-convert');\n",
              "        buttonEl.style.display =\n",
              "          google.colab.kernel.accessAllowed ? 'block' : 'none';\n",
              "\n",
              "        async function convertToInteractive(key) {\n",
              "          const element = document.querySelector('#df-6e4fe5c0-c536-425d-bcc6-8a92c856676b');\n",
              "          const dataTable =\n",
              "            await google.colab.kernel.invokeFunction('convertToInteractive',\n",
              "                                                     [key], {});\n",
              "          if (!dataTable) return;\n",
              "\n",
              "          const docLinkHtml = 'Like what you see? Visit the ' +\n",
              "            '<a target=\"_blank\" href=https://colab.research.google.com/notebooks/data_table.ipynb>data table notebook</a>'\n",
              "            + ' to learn more about interactive tables.';\n",
              "          element.innerHTML = '';\n",
              "          dataTable['output_type'] = 'display_data';\n",
              "          await google.colab.output.renderOutput(dataTable, element);\n",
              "          const docLink = document.createElement('div');\n",
              "          docLink.innerHTML = docLinkHtml;\n",
              "          element.appendChild(docLink);\n",
              "        }\n",
              "      </script>\n",
              "    </div>\n",
              "  </div>\n",
              "  "
            ]
          },
          "metadata": {},
          "execution_count": 11
        },
        {
          "output_type": "stream",
          "name": "stdout",
          "text": [
            "time: 127 ms (started: 2023-03-27 21:29:22 +00:00)\n"
          ]
        }
      ]
    },
    {
      "cell_type": "code",
      "source": [
        "X_test"
      ],
      "metadata": {
        "colab": {
          "base_uri": "https://localhost:8080/",
          "height": 505
        },
        "id": "J0-_mxGcSuk-",
        "outputId": "a673995d-c264-4807-f163-e1671febe125"
      },
      "execution_count": null,
      "outputs": [
        {
          "output_type": "execute_result",
          "data": {
            "text/plain": [
              "       J0_position    J0_Force  J1_position    J1_Force  J2_position  \\\n",
              "0         0.009786  104.351794     0.546490  104.338198     0.384963   \n",
              "1         0.071798   47.750220     0.875184   47.741112     0.736651   \n",
              "2         0.016403   24.056021     0.607792   24.416491     0.597581   \n",
              "3         0.017546   41.109085     0.648372   41.097631     0.410927   \n",
              "4        -0.131836   75.208992     0.802505   74.165394     0.465034   \n",
              "...            ...         ...          ...         ...          ...   \n",
              "25995     0.001476   10.744247     0.758046   10.630004     0.784031   \n",
              "25996     0.225909  106.884103     0.608045  106.886382     0.530822   \n",
              "25997     0.058375   77.086686     0.715811   76.544435     0.406238   \n",
              "25998     0.005426   28.144848     0.587001   28.182676     0.755417   \n",
              "25999     0.015079   29.824876     0.744451   29.627893     0.672026   \n",
              "\n",
              "         J2_Force  J3_position    J3_Force  J4_position    J4_Force  ...  \\\n",
              "0      104.267620    -0.310730  104.840006     0.013076   57.979368  ...   \n",
              "1       47.693654     0.288597   47.587819     0.053620   50.020249  ...   \n",
              "2       26.951786     0.165221   29.055573     0.003436   58.506011  ...   \n",
              "3       41.036163     0.296264   27.815145     0.014571   25.404348  ...   \n",
              "4       68.509771     0.517057   65.740103    -0.048976  165.847831  ...   \n",
              "...           ...          ...         ...          ...         ...  ...   \n",
              "25995   10.007535     0.230671    9.677469     0.001163   10.605830  ...   \n",
              "25996  106.902916     0.381490   69.542631     0.193205   49.949125  ...   \n",
              "25997   74.036217     0.383465   74.579521     0.058289  116.031860  ...   \n",
              "25998   26.608374    -0.078174   29.637256     0.001609    7.875354  ...   \n",
              "25999   28.536884     0.143133   28.692887     0.012329   31.669911  ...   \n",
              "\n",
              "       J11_position   J11_Force  J12_position   J12_Force  J13_position  \\\n",
              "0          0.390803  105.879330      1.542467  266.063906      0.250837   \n",
              "1          0.670850   99.985989      1.534317  161.109601      0.132790   \n",
              "2          0.337532   41.081555      1.548550   71.098654      0.586026   \n",
              "3          0.318431   28.611590      1.543291   98.536199      0.134482   \n",
              "4          0.774161  211.228996      1.498319  410.974099      0.222266   \n",
              "...             ...         ...           ...         ...           ...   \n",
              "25995      0.335339   17.223968      1.614494   14.068160      0.023397   \n",
              "25996      0.487840  132.622270      1.523860  234.300511      0.175064   \n",
              "25997      0.678046  125.517225      1.507271  249.579236      0.146511   \n",
              "25998      0.231841    9.034118      1.582597   43.474422     -0.046180   \n",
              "25999      0.440673   13.350920      1.627391   59.361883     -0.228783   \n",
              "\n",
              "        J13_Force  J14_position   J14_Force  J15_position   J15_Force  \n",
              "0      266.096220     -0.115038  266.091886      0.111861  266.050631  \n",
              "1      161.104654     -0.197171  161.140641      0.551562  161.309158  \n",
              "2       71.574493      0.028959   69.896322     -0.141075   64.418194  \n",
              "3       98.519135      0.009753   98.484929      0.085085   98.355228  \n",
              "4      410.490621     -0.317619  411.477469      0.766448  396.303329  \n",
              "...           ...           ...         ...           ...         ...  \n",
              "25995   13.984338      0.084325   13.848997      0.204087    8.543576  \n",
              "25996  234.293104     -0.275213  234.272760      0.476786  121.220785  \n",
              "25997  249.973944     -0.387625  249.615286      0.407653  247.678163  \n",
              "25998   43.689856      0.078914   43.817078      0.095219   44.234315  \n",
              "25999   59.408702      0.070530   57.835259      0.191200   46.729470  \n",
              "\n",
              "[26000 rows x 32 columns]"
            ],
            "text/html": [
              "\n",
              "  <div id=\"df-680d60cb-8016-4aa2-b93c-2a8742ff6a4e\">\n",
              "    <div class=\"colab-df-container\">\n",
              "      <div>\n",
              "<style scoped>\n",
              "    .dataframe tbody tr th:only-of-type {\n",
              "        vertical-align: middle;\n",
              "    }\n",
              "\n",
              "    .dataframe tbody tr th {\n",
              "        vertical-align: top;\n",
              "    }\n",
              "\n",
              "    .dataframe thead th {\n",
              "        text-align: right;\n",
              "    }\n",
              "</style>\n",
              "<table border=\"1\" class=\"dataframe\">\n",
              "  <thead>\n",
              "    <tr style=\"text-align: right;\">\n",
              "      <th></th>\n",
              "      <th>J0_position</th>\n",
              "      <th>J0_Force</th>\n",
              "      <th>J1_position</th>\n",
              "      <th>J1_Force</th>\n",
              "      <th>J2_position</th>\n",
              "      <th>J2_Force</th>\n",
              "      <th>J3_position</th>\n",
              "      <th>J3_Force</th>\n",
              "      <th>J4_position</th>\n",
              "      <th>J4_Force</th>\n",
              "      <th>...</th>\n",
              "      <th>J11_position</th>\n",
              "      <th>J11_Force</th>\n",
              "      <th>J12_position</th>\n",
              "      <th>J12_Force</th>\n",
              "      <th>J13_position</th>\n",
              "      <th>J13_Force</th>\n",
              "      <th>J14_position</th>\n",
              "      <th>J14_Force</th>\n",
              "      <th>J15_position</th>\n",
              "      <th>J15_Force</th>\n",
              "    </tr>\n",
              "  </thead>\n",
              "  <tbody>\n",
              "    <tr>\n",
              "      <th>0</th>\n",
              "      <td>0.009786</td>\n",
              "      <td>104.351794</td>\n",
              "      <td>0.546490</td>\n",
              "      <td>104.338198</td>\n",
              "      <td>0.384963</td>\n",
              "      <td>104.267620</td>\n",
              "      <td>-0.310730</td>\n",
              "      <td>104.840006</td>\n",
              "      <td>0.013076</td>\n",
              "      <td>57.979368</td>\n",
              "      <td>...</td>\n",
              "      <td>0.390803</td>\n",
              "      <td>105.879330</td>\n",
              "      <td>1.542467</td>\n",
              "      <td>266.063906</td>\n",
              "      <td>0.250837</td>\n",
              "      <td>266.096220</td>\n",
              "      <td>-0.115038</td>\n",
              "      <td>266.091886</td>\n",
              "      <td>0.111861</td>\n",
              "      <td>266.050631</td>\n",
              "    </tr>\n",
              "    <tr>\n",
              "      <th>1</th>\n",
              "      <td>0.071798</td>\n",
              "      <td>47.750220</td>\n",
              "      <td>0.875184</td>\n",
              "      <td>47.741112</td>\n",
              "      <td>0.736651</td>\n",
              "      <td>47.693654</td>\n",
              "      <td>0.288597</td>\n",
              "      <td>47.587819</td>\n",
              "      <td>0.053620</td>\n",
              "      <td>50.020249</td>\n",
              "      <td>...</td>\n",
              "      <td>0.670850</td>\n",
              "      <td>99.985989</td>\n",
              "      <td>1.534317</td>\n",
              "      <td>161.109601</td>\n",
              "      <td>0.132790</td>\n",
              "      <td>161.104654</td>\n",
              "      <td>-0.197171</td>\n",
              "      <td>161.140641</td>\n",
              "      <td>0.551562</td>\n",
              "      <td>161.309158</td>\n",
              "    </tr>\n",
              "    <tr>\n",
              "      <th>2</th>\n",
              "      <td>0.016403</td>\n",
              "      <td>24.056021</td>\n",
              "      <td>0.607792</td>\n",
              "      <td>24.416491</td>\n",
              "      <td>0.597581</td>\n",
              "      <td>26.951786</td>\n",
              "      <td>0.165221</td>\n",
              "      <td>29.055573</td>\n",
              "      <td>0.003436</td>\n",
              "      <td>58.506011</td>\n",
              "      <td>...</td>\n",
              "      <td>0.337532</td>\n",
              "      <td>41.081555</td>\n",
              "      <td>1.548550</td>\n",
              "      <td>71.098654</td>\n",
              "      <td>0.586026</td>\n",
              "      <td>71.574493</td>\n",
              "      <td>0.028959</td>\n",
              "      <td>69.896322</td>\n",
              "      <td>-0.141075</td>\n",
              "      <td>64.418194</td>\n",
              "    </tr>\n",
              "    <tr>\n",
              "      <th>3</th>\n",
              "      <td>0.017546</td>\n",
              "      <td>41.109085</td>\n",
              "      <td>0.648372</td>\n",
              "      <td>41.097631</td>\n",
              "      <td>0.410927</td>\n",
              "      <td>41.036163</td>\n",
              "      <td>0.296264</td>\n",
              "      <td>27.815145</td>\n",
              "      <td>0.014571</td>\n",
              "      <td>25.404348</td>\n",
              "      <td>...</td>\n",
              "      <td>0.318431</td>\n",
              "      <td>28.611590</td>\n",
              "      <td>1.543291</td>\n",
              "      <td>98.536199</td>\n",
              "      <td>0.134482</td>\n",
              "      <td>98.519135</td>\n",
              "      <td>0.009753</td>\n",
              "      <td>98.484929</td>\n",
              "      <td>0.085085</td>\n",
              "      <td>98.355228</td>\n",
              "    </tr>\n",
              "    <tr>\n",
              "      <th>4</th>\n",
              "      <td>-0.131836</td>\n",
              "      <td>75.208992</td>\n",
              "      <td>0.802505</td>\n",
              "      <td>74.165394</td>\n",
              "      <td>0.465034</td>\n",
              "      <td>68.509771</td>\n",
              "      <td>0.517057</td>\n",
              "      <td>65.740103</td>\n",
              "      <td>-0.048976</td>\n",
              "      <td>165.847831</td>\n",
              "      <td>...</td>\n",
              "      <td>0.774161</td>\n",
              "      <td>211.228996</td>\n",
              "      <td>1.498319</td>\n",
              "      <td>410.974099</td>\n",
              "      <td>0.222266</td>\n",
              "      <td>410.490621</td>\n",
              "      <td>-0.317619</td>\n",
              "      <td>411.477469</td>\n",
              "      <td>0.766448</td>\n",
              "      <td>396.303329</td>\n",
              "    </tr>\n",
              "    <tr>\n",
              "      <th>...</th>\n",
              "      <td>...</td>\n",
              "      <td>...</td>\n",
              "      <td>...</td>\n",
              "      <td>...</td>\n",
              "      <td>...</td>\n",
              "      <td>...</td>\n",
              "      <td>...</td>\n",
              "      <td>...</td>\n",
              "      <td>...</td>\n",
              "      <td>...</td>\n",
              "      <td>...</td>\n",
              "      <td>...</td>\n",
              "      <td>...</td>\n",
              "      <td>...</td>\n",
              "      <td>...</td>\n",
              "      <td>...</td>\n",
              "      <td>...</td>\n",
              "      <td>...</td>\n",
              "      <td>...</td>\n",
              "      <td>...</td>\n",
              "      <td>...</td>\n",
              "    </tr>\n",
              "    <tr>\n",
              "      <th>25995</th>\n",
              "      <td>0.001476</td>\n",
              "      <td>10.744247</td>\n",
              "      <td>0.758046</td>\n",
              "      <td>10.630004</td>\n",
              "      <td>0.784031</td>\n",
              "      <td>10.007535</td>\n",
              "      <td>0.230671</td>\n",
              "      <td>9.677469</td>\n",
              "      <td>0.001163</td>\n",
              "      <td>10.605830</td>\n",
              "      <td>...</td>\n",
              "      <td>0.335339</td>\n",
              "      <td>17.223968</td>\n",
              "      <td>1.614494</td>\n",
              "      <td>14.068160</td>\n",
              "      <td>0.023397</td>\n",
              "      <td>13.984338</td>\n",
              "      <td>0.084325</td>\n",
              "      <td>13.848997</td>\n",
              "      <td>0.204087</td>\n",
              "      <td>8.543576</td>\n",
              "    </tr>\n",
              "    <tr>\n",
              "      <th>25996</th>\n",
              "      <td>0.225909</td>\n",
              "      <td>106.884103</td>\n",
              "      <td>0.608045</td>\n",
              "      <td>106.886382</td>\n",
              "      <td>0.530822</td>\n",
              "      <td>106.902916</td>\n",
              "      <td>0.381490</td>\n",
              "      <td>69.542631</td>\n",
              "      <td>0.193205</td>\n",
              "      <td>49.949125</td>\n",
              "      <td>...</td>\n",
              "      <td>0.487840</td>\n",
              "      <td>132.622270</td>\n",
              "      <td>1.523860</td>\n",
              "      <td>234.300511</td>\n",
              "      <td>0.175064</td>\n",
              "      <td>234.293104</td>\n",
              "      <td>-0.275213</td>\n",
              "      <td>234.272760</td>\n",
              "      <td>0.476786</td>\n",
              "      <td>121.220785</td>\n",
              "    </tr>\n",
              "    <tr>\n",
              "      <th>25997</th>\n",
              "      <td>0.058375</td>\n",
              "      <td>77.086686</td>\n",
              "      <td>0.715811</td>\n",
              "      <td>76.544435</td>\n",
              "      <td>0.406238</td>\n",
              "      <td>74.036217</td>\n",
              "      <td>0.383465</td>\n",
              "      <td>74.579521</td>\n",
              "      <td>0.058289</td>\n",
              "      <td>116.031860</td>\n",
              "      <td>...</td>\n",
              "      <td>0.678046</td>\n",
              "      <td>125.517225</td>\n",
              "      <td>1.507271</td>\n",
              "      <td>249.579236</td>\n",
              "      <td>0.146511</td>\n",
              "      <td>249.973944</td>\n",
              "      <td>-0.387625</td>\n",
              "      <td>249.615286</td>\n",
              "      <td>0.407653</td>\n",
              "      <td>247.678163</td>\n",
              "    </tr>\n",
              "    <tr>\n",
              "      <th>25998</th>\n",
              "      <td>0.005426</td>\n",
              "      <td>28.144848</td>\n",
              "      <td>0.587001</td>\n",
              "      <td>28.182676</td>\n",
              "      <td>0.755417</td>\n",
              "      <td>26.608374</td>\n",
              "      <td>-0.078174</td>\n",
              "      <td>29.637256</td>\n",
              "      <td>0.001609</td>\n",
              "      <td>7.875354</td>\n",
              "      <td>...</td>\n",
              "      <td>0.231841</td>\n",
              "      <td>9.034118</td>\n",
              "      <td>1.582597</td>\n",
              "      <td>43.474422</td>\n",
              "      <td>-0.046180</td>\n",
              "      <td>43.689856</td>\n",
              "      <td>0.078914</td>\n",
              "      <td>43.817078</td>\n",
              "      <td>0.095219</td>\n",
              "      <td>44.234315</td>\n",
              "    </tr>\n",
              "    <tr>\n",
              "      <th>25999</th>\n",
              "      <td>0.015079</td>\n",
              "      <td>29.824876</td>\n",
              "      <td>0.744451</td>\n",
              "      <td>29.627893</td>\n",
              "      <td>0.672026</td>\n",
              "      <td>28.536884</td>\n",
              "      <td>0.143133</td>\n",
              "      <td>28.692887</td>\n",
              "      <td>0.012329</td>\n",
              "      <td>31.669911</td>\n",
              "      <td>...</td>\n",
              "      <td>0.440673</td>\n",
              "      <td>13.350920</td>\n",
              "      <td>1.627391</td>\n",
              "      <td>59.361883</td>\n",
              "      <td>-0.228783</td>\n",
              "      <td>59.408702</td>\n",
              "      <td>0.070530</td>\n",
              "      <td>57.835259</td>\n",
              "      <td>0.191200</td>\n",
              "      <td>46.729470</td>\n",
              "    </tr>\n",
              "  </tbody>\n",
              "</table>\n",
              "<p>26000 rows × 32 columns</p>\n",
              "</div>\n",
              "      <button class=\"colab-df-convert\" onclick=\"convertToInteractive('df-680d60cb-8016-4aa2-b93c-2a8742ff6a4e')\"\n",
              "              title=\"Convert this dataframe to an interactive table.\"\n",
              "              style=\"display:none;\">\n",
              "        \n",
              "  <svg xmlns=\"http://www.w3.org/2000/svg\" height=\"24px\"viewBox=\"0 0 24 24\"\n",
              "       width=\"24px\">\n",
              "    <path d=\"M0 0h24v24H0V0z\" fill=\"none\"/>\n",
              "    <path d=\"M18.56 5.44l.94 2.06.94-2.06 2.06-.94-2.06-.94-.94-2.06-.94 2.06-2.06.94zm-11 1L8.5 8.5l.94-2.06 2.06-.94-2.06-.94L8.5 2.5l-.94 2.06-2.06.94zm10 10l.94 2.06.94-2.06 2.06-.94-2.06-.94-.94-2.06-.94 2.06-2.06.94z\"/><path d=\"M17.41 7.96l-1.37-1.37c-.4-.4-.92-.59-1.43-.59-.52 0-1.04.2-1.43.59L10.3 9.45l-7.72 7.72c-.78.78-.78 2.05 0 2.83L4 21.41c.39.39.9.59 1.41.59.51 0 1.02-.2 1.41-.59l7.78-7.78 2.81-2.81c.8-.78.8-2.07 0-2.86zM5.41 20L4 18.59l7.72-7.72 1.47 1.35L5.41 20z\"/>\n",
              "  </svg>\n",
              "      </button>\n",
              "      \n",
              "  <style>\n",
              "    .colab-df-container {\n",
              "      display:flex;\n",
              "      flex-wrap:wrap;\n",
              "      gap: 12px;\n",
              "    }\n",
              "\n",
              "    .colab-df-convert {\n",
              "      background-color: #E8F0FE;\n",
              "      border: none;\n",
              "      border-radius: 50%;\n",
              "      cursor: pointer;\n",
              "      display: none;\n",
              "      fill: #1967D2;\n",
              "      height: 32px;\n",
              "      padding: 0 0 0 0;\n",
              "      width: 32px;\n",
              "    }\n",
              "\n",
              "    .colab-df-convert:hover {\n",
              "      background-color: #E2EBFA;\n",
              "      box-shadow: 0px 1px 2px rgba(60, 64, 67, 0.3), 0px 1px 3px 1px rgba(60, 64, 67, 0.15);\n",
              "      fill: #174EA6;\n",
              "    }\n",
              "\n",
              "    [theme=dark] .colab-df-convert {\n",
              "      background-color: #3B4455;\n",
              "      fill: #D2E3FC;\n",
              "    }\n",
              "\n",
              "    [theme=dark] .colab-df-convert:hover {\n",
              "      background-color: #434B5C;\n",
              "      box-shadow: 0px 1px 3px 1px rgba(0, 0, 0, 0.15);\n",
              "      filter: drop-shadow(0px 1px 2px rgba(0, 0, 0, 0.3));\n",
              "      fill: #FFFFFF;\n",
              "    }\n",
              "  </style>\n",
              "\n",
              "      <script>\n",
              "        const buttonEl =\n",
              "          document.querySelector('#df-680d60cb-8016-4aa2-b93c-2a8742ff6a4e button.colab-df-convert');\n",
              "        buttonEl.style.display =\n",
              "          google.colab.kernel.accessAllowed ? 'block' : 'none';\n",
              "\n",
              "        async function convertToInteractive(key) {\n",
              "          const element = document.querySelector('#df-680d60cb-8016-4aa2-b93c-2a8742ff6a4e');\n",
              "          const dataTable =\n",
              "            await google.colab.kernel.invokeFunction('convertToInteractive',\n",
              "                                                     [key], {});\n",
              "          if (!dataTable) return;\n",
              "\n",
              "          const docLinkHtml = 'Like what you see? Visit the ' +\n",
              "            '<a target=\"_blank\" href=https://colab.research.google.com/notebooks/data_table.ipynb>data table notebook</a>'\n",
              "            + ' to learn more about interactive tables.';\n",
              "          element.innerHTML = '';\n",
              "          dataTable['output_type'] = 'display_data';\n",
              "          await google.colab.output.renderOutput(dataTable, element);\n",
              "          const docLink = document.createElement('div');\n",
              "          docLink.innerHTML = docLinkHtml;\n",
              "          element.appendChild(docLink);\n",
              "        }\n",
              "      </script>\n",
              "    </div>\n",
              "  </div>\n",
              "  "
            ]
          },
          "metadata": {},
          "execution_count": 12
        },
        {
          "output_type": "stream",
          "name": "stdout",
          "text": [
            "time: 33.5 ms (started: 2023-03-27 21:29:22 +00:00)\n"
          ]
        }
      ]
    },
    {
      "cell_type": "code",
      "source": [],
      "metadata": {
        "id": "7DIGKOz7Supa",
        "colab": {
          "base_uri": "https://localhost:8080/"
        },
        "outputId": "e22163ff-c1d5-4060-a128-f8a4a4684251"
      },
      "execution_count": null,
      "outputs": [
        {
          "output_type": "stream",
          "name": "stdout",
          "text": [
            "time: 3.77 s (started: 2023-03-27 21:29:22 +00:00)\n"
          ]
        }
      ]
    },
    {
      "cell_type": "markdown",
      "metadata": {
        "id": "xOElbxJmtEJ0"
      },
      "source": [
        "## Standard Scaler"
      ]
    },
    {
      "cell_type": "code",
      "execution_count": null,
      "metadata": {
        "id": "cqmIzq3EgsI5",
        "colab": {
          "base_uri": "https://localhost:8080/"
        },
        "outputId": "c6a62b7b-4ef5-4889-b127-97fb4f288002"
      },
      "outputs": [
        {
          "output_type": "stream",
          "name": "stdout",
          "text": [
            "time: 132 ms (started: 2023-03-27 21:29:26 +00:00)\n"
          ]
        }
      ],
      "source": [
        "from sklearn.preprocessing import StandardScaler\n",
        "scaler = StandardScaler()\n",
        "scalar = StandardScaler().fit(X_train)\n",
        "scalar\n",
        "X_train= scalar.transform(X_train)\n"
      ]
    },
    {
      "cell_type": "code",
      "source": [
        "X_test = scalar.transform(X_test)\n",
        "X_test= pd.DataFrame(X_test)"
      ],
      "metadata": {
        "id": "DH77NpQiVeFs",
        "colab": {
          "base_uri": "https://localhost:8080/"
        },
        "outputId": "34111927-e5a4-4fed-e102-9da442ec6a09"
      },
      "execution_count": null,
      "outputs": [
        {
          "output_type": "stream",
          "name": "stdout",
          "text": [
            "time: 19.9 ms (started: 2023-03-27 21:29:27 +00:00)\n"
          ]
        }
      ]
    },
    {
      "cell_type": "code",
      "execution_count": null,
      "metadata": {
        "colab": {
          "base_uri": "https://localhost:8080/",
          "height": 480
        },
        "id": "4CoV1FjQVAEy",
        "outputId": "e957672c-fa53-4744-c69a-1f12f360e284"
      },
      "outputs": [
        {
          "output_type": "execute_result",
          "data": {
            "text/plain": [
              "                 0             1             2             3             4   \\\n",
              "count  1.040000e+05  1.040000e+05  1.040000e+05  1.040000e+05  1.040000e+05   \n",
              "mean  -3.907985e-17 -1.560461e-16 -6.176256e-17  6.784317e-17 -2.022314e-17   \n",
              "std    1.000005e+00  1.000005e+00  1.000005e+00  1.000005e+00  1.000005e+00   \n",
              "min   -4.605402e+00 -1.248291e+00 -2.246745e+00 -1.248546e+00 -6.350220e+00   \n",
              "25%   -1.645376e-01 -6.754480e-01 -6.710739e-01 -6.742484e-01 -6.186799e-01   \n",
              "50%    7.432692e-02 -3.127519e-01 -2.333536e-01 -3.109755e-01  2.366564e-02   \n",
              "75%    3.554338e-01  5.623547e-01  3.366195e-01  5.595088e-01  7.712403e-01   \n",
              "max    5.266859e+00  1.227295e+01  3.527016e+00  1.234866e+01  3.912128e+00   \n",
              "\n",
              "                 5             6             7             8             9   \\\n",
              "count  1.040000e+05  1.040000e+05  1.040000e+05  1.040000e+05  1.040000e+05   \n",
              "mean  -5.260749e-17 -3.019807e-17 -9.701641e-17  1.236618e-17 -1.143017e-16   \n",
              "std    1.000005e+00  1.000005e+00  1.000005e+00  1.000005e+00  1.000005e+00   \n",
              "min   -1.305912e+00 -3.195149e+00 -1.295883e+00 -4.681675e+00 -6.732455e-01   \n",
              "25%   -7.031734e-01 -7.819924e-01 -7.261031e-01 -4.425446e-01 -4.743296e-01   \n",
              "50%   -3.111647e-01  2.028513e-01 -2.818721e-01 -1.571730e-01 -2.535919e-01   \n",
              "75%    5.972042e-01  7.023432e-01  5.831398e-01  2.195885e-01  4.074673e-02   \n",
              "max    6.994416e+00  3.050829e+00  7.716194e+00  6.092447e+00  6.581645e+01   \n",
              "\n",
              "       ...            22            23            24            25  \\\n",
              "count  ...  1.040000e+05  1.040000e+05  1.040000e+05  1.040000e+05   \n",
              "mean   ... -2.206782e-16 -3.432468e-16  6.843073e-16  7.283063e-17   \n",
              "std    ...  1.000005e+00  1.000005e+00  1.000005e+00  1.000005e+00   \n",
              "min    ... -3.112612e+00 -9.755294e-01 -1.280867e+01 -1.102282e+00   \n",
              "25%    ... -6.691405e-01 -7.510183e-01 -1.355671e-01 -6.703675e-01   \n",
              "50%    ... -9.844896e-02 -4.646692e-01  1.026644e-01 -2.937640e-01   \n",
              "75%    ...  5.206536e-01  5.050646e-01  5.383741e-01  4.905208e-01   \n",
              "max    ...  4.528625e+00  1.045473e+01  2.056687e+00  1.291711e+01   \n",
              "\n",
              "                 26            27            28            29            30  \\\n",
              "count  1.040000e+05  1.040000e+05  1.040000e+05  1.040000e+05  1.040000e+05   \n",
              "mean   5.465713e-17  8.786134e-17 -3.672276e-17  1.242083e-16  1.239009e-16   \n",
              "std    1.000005e+00  1.000005e+00  1.000005e+00  1.000005e+00  1.000005e+00   \n",
              "min   -6.423476e+00 -1.102734e+00 -1.841798e+00 -1.101600e+00 -2.437290e+00   \n",
              "25%   -5.183116e-01 -6.712965e-01 -1.013549e+00 -6.715775e-01 -7.022957e-01   \n",
              "50%    7.715062e-03 -2.932297e-01  1.835833e-01 -2.935803e-01 -1.973862e-01   \n",
              "75%    5.390371e-01  4.941784e-01  5.058735e-01  4.940963e-01  7.202255e-01   \n",
              "max    7.064065e+00  1.297646e+01  3.773920e+00  1.295490e+01  6.115577e+00   \n",
              "\n",
              "                 31  \n",
              "count  1.040000e+05  \n",
              "mean   1.844678e-17  \n",
              "std    1.000005e+00  \n",
              "min   -9.974051e-01  \n",
              "25%   -6.549063e-01  \n",
              "50%   -3.894644e-01  \n",
              "75%    5.020634e-01  \n",
              "max    1.318670e+01  \n",
              "\n",
              "[8 rows x 32 columns]"
            ],
            "text/html": [
              "\n",
              "  <div id=\"df-55ea89aa-def3-492a-8b88-8d1b652afda6\">\n",
              "    <div class=\"colab-df-container\">\n",
              "      <div>\n",
              "<style scoped>\n",
              "    .dataframe tbody tr th:only-of-type {\n",
              "        vertical-align: middle;\n",
              "    }\n",
              "\n",
              "    .dataframe tbody tr th {\n",
              "        vertical-align: top;\n",
              "    }\n",
              "\n",
              "    .dataframe thead th {\n",
              "        text-align: right;\n",
              "    }\n",
              "</style>\n",
              "<table border=\"1\" class=\"dataframe\">\n",
              "  <thead>\n",
              "    <tr style=\"text-align: right;\">\n",
              "      <th></th>\n",
              "      <th>0</th>\n",
              "      <th>1</th>\n",
              "      <th>2</th>\n",
              "      <th>3</th>\n",
              "      <th>4</th>\n",
              "      <th>5</th>\n",
              "      <th>6</th>\n",
              "      <th>7</th>\n",
              "      <th>8</th>\n",
              "      <th>9</th>\n",
              "      <th>...</th>\n",
              "      <th>22</th>\n",
              "      <th>23</th>\n",
              "      <th>24</th>\n",
              "      <th>25</th>\n",
              "      <th>26</th>\n",
              "      <th>27</th>\n",
              "      <th>28</th>\n",
              "      <th>29</th>\n",
              "      <th>30</th>\n",
              "      <th>31</th>\n",
              "    </tr>\n",
              "  </thead>\n",
              "  <tbody>\n",
              "    <tr>\n",
              "      <th>count</th>\n",
              "      <td>1.040000e+05</td>\n",
              "      <td>1.040000e+05</td>\n",
              "      <td>1.040000e+05</td>\n",
              "      <td>1.040000e+05</td>\n",
              "      <td>1.040000e+05</td>\n",
              "      <td>1.040000e+05</td>\n",
              "      <td>1.040000e+05</td>\n",
              "      <td>1.040000e+05</td>\n",
              "      <td>1.040000e+05</td>\n",
              "      <td>1.040000e+05</td>\n",
              "      <td>...</td>\n",
              "      <td>1.040000e+05</td>\n",
              "      <td>1.040000e+05</td>\n",
              "      <td>1.040000e+05</td>\n",
              "      <td>1.040000e+05</td>\n",
              "      <td>1.040000e+05</td>\n",
              "      <td>1.040000e+05</td>\n",
              "      <td>1.040000e+05</td>\n",
              "      <td>1.040000e+05</td>\n",
              "      <td>1.040000e+05</td>\n",
              "      <td>1.040000e+05</td>\n",
              "    </tr>\n",
              "    <tr>\n",
              "      <th>mean</th>\n",
              "      <td>-3.907985e-17</td>\n",
              "      <td>-1.560461e-16</td>\n",
              "      <td>-6.176256e-17</td>\n",
              "      <td>6.784317e-17</td>\n",
              "      <td>-2.022314e-17</td>\n",
              "      <td>-5.260749e-17</td>\n",
              "      <td>-3.019807e-17</td>\n",
              "      <td>-9.701641e-17</td>\n",
              "      <td>1.236618e-17</td>\n",
              "      <td>-1.143017e-16</td>\n",
              "      <td>...</td>\n",
              "      <td>-2.206782e-16</td>\n",
              "      <td>-3.432468e-16</td>\n",
              "      <td>6.843073e-16</td>\n",
              "      <td>7.283063e-17</td>\n",
              "      <td>5.465713e-17</td>\n",
              "      <td>8.786134e-17</td>\n",
              "      <td>-3.672276e-17</td>\n",
              "      <td>1.242083e-16</td>\n",
              "      <td>1.239009e-16</td>\n",
              "      <td>1.844678e-17</td>\n",
              "    </tr>\n",
              "    <tr>\n",
              "      <th>std</th>\n",
              "      <td>1.000005e+00</td>\n",
              "      <td>1.000005e+00</td>\n",
              "      <td>1.000005e+00</td>\n",
              "      <td>1.000005e+00</td>\n",
              "      <td>1.000005e+00</td>\n",
              "      <td>1.000005e+00</td>\n",
              "      <td>1.000005e+00</td>\n",
              "      <td>1.000005e+00</td>\n",
              "      <td>1.000005e+00</td>\n",
              "      <td>1.000005e+00</td>\n",
              "      <td>...</td>\n",
              "      <td>1.000005e+00</td>\n",
              "      <td>1.000005e+00</td>\n",
              "      <td>1.000005e+00</td>\n",
              "      <td>1.000005e+00</td>\n",
              "      <td>1.000005e+00</td>\n",
              "      <td>1.000005e+00</td>\n",
              "      <td>1.000005e+00</td>\n",
              "      <td>1.000005e+00</td>\n",
              "      <td>1.000005e+00</td>\n",
              "      <td>1.000005e+00</td>\n",
              "    </tr>\n",
              "    <tr>\n",
              "      <th>min</th>\n",
              "      <td>-4.605402e+00</td>\n",
              "      <td>-1.248291e+00</td>\n",
              "      <td>-2.246745e+00</td>\n",
              "      <td>-1.248546e+00</td>\n",
              "      <td>-6.350220e+00</td>\n",
              "      <td>-1.305912e+00</td>\n",
              "      <td>-3.195149e+00</td>\n",
              "      <td>-1.295883e+00</td>\n",
              "      <td>-4.681675e+00</td>\n",
              "      <td>-6.732455e-01</td>\n",
              "      <td>...</td>\n",
              "      <td>-3.112612e+00</td>\n",
              "      <td>-9.755294e-01</td>\n",
              "      <td>-1.280867e+01</td>\n",
              "      <td>-1.102282e+00</td>\n",
              "      <td>-6.423476e+00</td>\n",
              "      <td>-1.102734e+00</td>\n",
              "      <td>-1.841798e+00</td>\n",
              "      <td>-1.101600e+00</td>\n",
              "      <td>-2.437290e+00</td>\n",
              "      <td>-9.974051e-01</td>\n",
              "    </tr>\n",
              "    <tr>\n",
              "      <th>25%</th>\n",
              "      <td>-1.645376e-01</td>\n",
              "      <td>-6.754480e-01</td>\n",
              "      <td>-6.710739e-01</td>\n",
              "      <td>-6.742484e-01</td>\n",
              "      <td>-6.186799e-01</td>\n",
              "      <td>-7.031734e-01</td>\n",
              "      <td>-7.819924e-01</td>\n",
              "      <td>-7.261031e-01</td>\n",
              "      <td>-4.425446e-01</td>\n",
              "      <td>-4.743296e-01</td>\n",
              "      <td>...</td>\n",
              "      <td>-6.691405e-01</td>\n",
              "      <td>-7.510183e-01</td>\n",
              "      <td>-1.355671e-01</td>\n",
              "      <td>-6.703675e-01</td>\n",
              "      <td>-5.183116e-01</td>\n",
              "      <td>-6.712965e-01</td>\n",
              "      <td>-1.013549e+00</td>\n",
              "      <td>-6.715775e-01</td>\n",
              "      <td>-7.022957e-01</td>\n",
              "      <td>-6.549063e-01</td>\n",
              "    </tr>\n",
              "    <tr>\n",
              "      <th>50%</th>\n",
              "      <td>7.432692e-02</td>\n",
              "      <td>-3.127519e-01</td>\n",
              "      <td>-2.333536e-01</td>\n",
              "      <td>-3.109755e-01</td>\n",
              "      <td>2.366564e-02</td>\n",
              "      <td>-3.111647e-01</td>\n",
              "      <td>2.028513e-01</td>\n",
              "      <td>-2.818721e-01</td>\n",
              "      <td>-1.571730e-01</td>\n",
              "      <td>-2.535919e-01</td>\n",
              "      <td>...</td>\n",
              "      <td>-9.844896e-02</td>\n",
              "      <td>-4.646692e-01</td>\n",
              "      <td>1.026644e-01</td>\n",
              "      <td>-2.937640e-01</td>\n",
              "      <td>7.715062e-03</td>\n",
              "      <td>-2.932297e-01</td>\n",
              "      <td>1.835833e-01</td>\n",
              "      <td>-2.935803e-01</td>\n",
              "      <td>-1.973862e-01</td>\n",
              "      <td>-3.894644e-01</td>\n",
              "    </tr>\n",
              "    <tr>\n",
              "      <th>75%</th>\n",
              "      <td>3.554338e-01</td>\n",
              "      <td>5.623547e-01</td>\n",
              "      <td>3.366195e-01</td>\n",
              "      <td>5.595088e-01</td>\n",
              "      <td>7.712403e-01</td>\n",
              "      <td>5.972042e-01</td>\n",
              "      <td>7.023432e-01</td>\n",
              "      <td>5.831398e-01</td>\n",
              "      <td>2.195885e-01</td>\n",
              "      <td>4.074673e-02</td>\n",
              "      <td>...</td>\n",
              "      <td>5.206536e-01</td>\n",
              "      <td>5.050646e-01</td>\n",
              "      <td>5.383741e-01</td>\n",
              "      <td>4.905208e-01</td>\n",
              "      <td>5.390371e-01</td>\n",
              "      <td>4.941784e-01</td>\n",
              "      <td>5.058735e-01</td>\n",
              "      <td>4.940963e-01</td>\n",
              "      <td>7.202255e-01</td>\n",
              "      <td>5.020634e-01</td>\n",
              "    </tr>\n",
              "    <tr>\n",
              "      <th>max</th>\n",
              "      <td>5.266859e+00</td>\n",
              "      <td>1.227295e+01</td>\n",
              "      <td>3.527016e+00</td>\n",
              "      <td>1.234866e+01</td>\n",
              "      <td>3.912128e+00</td>\n",
              "      <td>6.994416e+00</td>\n",
              "      <td>3.050829e+00</td>\n",
              "      <td>7.716194e+00</td>\n",
              "      <td>6.092447e+00</td>\n",
              "      <td>6.581645e+01</td>\n",
              "      <td>...</td>\n",
              "      <td>4.528625e+00</td>\n",
              "      <td>1.045473e+01</td>\n",
              "      <td>2.056687e+00</td>\n",
              "      <td>1.291711e+01</td>\n",
              "      <td>7.064065e+00</td>\n",
              "      <td>1.297646e+01</td>\n",
              "      <td>3.773920e+00</td>\n",
              "      <td>1.295490e+01</td>\n",
              "      <td>6.115577e+00</td>\n",
              "      <td>1.318670e+01</td>\n",
              "    </tr>\n",
              "  </tbody>\n",
              "</table>\n",
              "<p>8 rows × 32 columns</p>\n",
              "</div>\n",
              "      <button class=\"colab-df-convert\" onclick=\"convertToInteractive('df-55ea89aa-def3-492a-8b88-8d1b652afda6')\"\n",
              "              title=\"Convert this dataframe to an interactive table.\"\n",
              "              style=\"display:none;\">\n",
              "        \n",
              "  <svg xmlns=\"http://www.w3.org/2000/svg\" height=\"24px\"viewBox=\"0 0 24 24\"\n",
              "       width=\"24px\">\n",
              "    <path d=\"M0 0h24v24H0V0z\" fill=\"none\"/>\n",
              "    <path d=\"M18.56 5.44l.94 2.06.94-2.06 2.06-.94-2.06-.94-.94-2.06-.94 2.06-2.06.94zm-11 1L8.5 8.5l.94-2.06 2.06-.94-2.06-.94L8.5 2.5l-.94 2.06-2.06.94zm10 10l.94 2.06.94-2.06 2.06-.94-2.06-.94-.94-2.06-.94 2.06-2.06.94z\"/><path d=\"M17.41 7.96l-1.37-1.37c-.4-.4-.92-.59-1.43-.59-.52 0-1.04.2-1.43.59L10.3 9.45l-7.72 7.72c-.78.78-.78 2.05 0 2.83L4 21.41c.39.39.9.59 1.41.59.51 0 1.02-.2 1.41-.59l7.78-7.78 2.81-2.81c.8-.78.8-2.07 0-2.86zM5.41 20L4 18.59l7.72-7.72 1.47 1.35L5.41 20z\"/>\n",
              "  </svg>\n",
              "      </button>\n",
              "      \n",
              "  <style>\n",
              "    .colab-df-container {\n",
              "      display:flex;\n",
              "      flex-wrap:wrap;\n",
              "      gap: 12px;\n",
              "    }\n",
              "\n",
              "    .colab-df-convert {\n",
              "      background-color: #E8F0FE;\n",
              "      border: none;\n",
              "      border-radius: 50%;\n",
              "      cursor: pointer;\n",
              "      display: none;\n",
              "      fill: #1967D2;\n",
              "      height: 32px;\n",
              "      padding: 0 0 0 0;\n",
              "      width: 32px;\n",
              "    }\n",
              "\n",
              "    .colab-df-convert:hover {\n",
              "      background-color: #E2EBFA;\n",
              "      box-shadow: 0px 1px 2px rgba(60, 64, 67, 0.3), 0px 1px 3px 1px rgba(60, 64, 67, 0.15);\n",
              "      fill: #174EA6;\n",
              "    }\n",
              "\n",
              "    [theme=dark] .colab-df-convert {\n",
              "      background-color: #3B4455;\n",
              "      fill: #D2E3FC;\n",
              "    }\n",
              "\n",
              "    [theme=dark] .colab-df-convert:hover {\n",
              "      background-color: #434B5C;\n",
              "      box-shadow: 0px 1px 3px 1px rgba(0, 0, 0, 0.15);\n",
              "      filter: drop-shadow(0px 1px 2px rgba(0, 0, 0, 0.3));\n",
              "      fill: #FFFFFF;\n",
              "    }\n",
              "  </style>\n",
              "\n",
              "      <script>\n",
              "        const buttonEl =\n",
              "          document.querySelector('#df-55ea89aa-def3-492a-8b88-8d1b652afda6 button.colab-df-convert');\n",
              "        buttonEl.style.display =\n",
              "          google.colab.kernel.accessAllowed ? 'block' : 'none';\n",
              "\n",
              "        async function convertToInteractive(key) {\n",
              "          const element = document.querySelector('#df-55ea89aa-def3-492a-8b88-8d1b652afda6');\n",
              "          const dataTable =\n",
              "            await google.colab.kernel.invokeFunction('convertToInteractive',\n",
              "                                                     [key], {});\n",
              "          if (!dataTable) return;\n",
              "\n",
              "          const docLinkHtml = 'Like what you see? Visit the ' +\n",
              "            '<a target=\"_blank\" href=https://colab.research.google.com/notebooks/data_table.ipynb>data table notebook</a>'\n",
              "            + ' to learn more about interactive tables.';\n",
              "          element.innerHTML = '';\n",
              "          dataTable['output_type'] = 'display_data';\n",
              "          await google.colab.output.renderOutput(dataTable, element);\n",
              "          const docLink = document.createElement('div');\n",
              "          docLink.innerHTML = docLinkHtml;\n",
              "          element.appendChild(docLink);\n",
              "        }\n",
              "      </script>\n",
              "    </div>\n",
              "  </div>\n",
              "  "
            ]
          },
          "metadata": {},
          "execution_count": 15
        },
        {
          "output_type": "stream",
          "name": "stdout",
          "text": [
            "time: 826 ms (started: 2023-03-27 21:29:27 +00:00)\n"
          ]
        }
      ],
      "source": [
        "X_train= pd.DataFrame(X_train)\n",
        "X_train.describe()"
      ]
    },
    {
      "cell_type": "code",
      "execution_count": null,
      "metadata": {
        "colab": {
          "base_uri": "https://localhost:8080/",
          "height": 505
        },
        "id": "Dr9FbJDc_4mJ",
        "outputId": "e8c960ef-3690-4f1e-c50c-ee5fd84ad058"
      },
      "outputs": [
        {
          "output_type": "execute_result",
          "data": {
            "text/plain": [
              "              0         1         2         3         4         5         6   \\\n",
              "0       0.001237 -0.562005  0.143693 -0.561186  1.132695 -0.581460  0.703277   \n",
              "1       0.372108 -0.691038 -0.768247 -0.690303  0.297339 -0.720567  0.286861   \n",
              "2       0.505482  1.106595  0.187486  1.104899  0.006878  1.197858 -0.013534   \n",
              "3       1.426969  1.830265  0.742504  1.819347 -0.944374  1.929172  1.334269   \n",
              "4       0.148327 -0.388823 -0.412745 -0.387217 -0.133276 -0.389846  0.592301   \n",
              "...          ...       ...       ...       ...       ...       ...       ...   \n",
              "103995  1.577548  1.555610 -1.200091  1.473622 -0.865687  1.558200  1.725295   \n",
              "103996 -3.917921 -0.629616  2.361776 -0.629387 -1.075969 -0.658262 -1.455619   \n",
              "103997  0.046953 -1.070097 -1.037003 -1.071150 -0.780819 -1.140863  0.218087   \n",
              "103998 -0.188456 -1.039946 -0.004514 -1.041159  1.678627 -1.109581  0.396054   \n",
              "103999 -0.072453 -0.933529  2.976038 -0.933028 -0.097407 -0.982963 -1.137458   \n",
              "\n",
              "              7         8         9   ...        22        23        24  \\\n",
              "0      -0.554737  1.702240 -0.268496  ...  0.369193 -0.223620  0.030813   \n",
              "1      -0.692858 -0.118163 -0.134019  ... -0.616987 -0.784924  0.274687   \n",
              "2       1.277382  0.823701  1.245028  ...  0.990880  1.777419 -0.453176   \n",
              "3       2.204570  1.388670  1.712917  ...  1.024632  1.878729 -0.217164   \n",
              "4      -0.729773 -0.060959 -0.442120  ... -0.119779 -0.610623  0.049905   \n",
              "...          ...       ...       ...  ...       ...       ...       ...   \n",
              "103995  2.002929  1.537001  0.606938  ... -0.408299 -0.849901  2.041770   \n",
              "103996 -0.633374  0.739273 -0.464430  ... -0.918527 -0.759818  0.276820   \n",
              "103997 -1.168342 -0.155744 -0.607078  ... -0.324508 -0.450825 -2.117389   \n",
              "103998 -1.134610 -0.430595 -0.602727  ... -0.178698 -0.825359  0.848468   \n",
              "103999 -0.987989 -0.583628 -0.143047  ... -1.205667 -0.901986  0.818723   \n",
              "\n",
              "              25        26        27        28        29        30        31  \n",
              "0      -0.406942  0.271385 -0.406965 -0.460160 -0.406620  0.959059 -0.834368  \n",
              "1      -0.433407 -0.793087 -0.432929  0.167742 -0.431884 -0.608672 -0.318472  \n",
              "2       1.280640  0.605312  1.283491 -1.531943  1.278276  1.036024  1.378772  \n",
              "3       1.889304  1.221976  1.895155 -1.426207  1.898388  1.704054  2.042494  \n",
              "4      -0.460189  0.093849 -0.460537  0.225004 -0.460419 -0.229140 -0.351739  \n",
              "...          ...       ...       ...       ...       ...       ...       ...  \n",
              "103995  7.411156 -5.651900  7.511300  1.881164  7.496669 -1.569477  7.324830  \n",
              "103996 -0.659086 -1.434558 -0.660328  0.961618 -0.658735 -1.000774 -0.544596  \n",
              "103997 -0.826967 -0.270153 -0.828449  1.194848 -0.828833 -0.584319 -0.725589  \n",
              "103998 -1.038756 -0.512354 -1.041429  0.537837 -1.042013  0.166997 -0.940943  \n",
              "103999 -0.654966 -0.826775 -0.656046  1.268429 -0.656006 -1.534376 -0.549263  \n",
              "\n",
              "[104000 rows x 32 columns]"
            ],
            "text/html": [
              "\n",
              "  <div id=\"df-0d9de2cf-c68c-45b0-9ba5-853239a8daff\">\n",
              "    <div class=\"colab-df-container\">\n",
              "      <div>\n",
              "<style scoped>\n",
              "    .dataframe tbody tr th:only-of-type {\n",
              "        vertical-align: middle;\n",
              "    }\n",
              "\n",
              "    .dataframe tbody tr th {\n",
              "        vertical-align: top;\n",
              "    }\n",
              "\n",
              "    .dataframe thead th {\n",
              "        text-align: right;\n",
              "    }\n",
              "</style>\n",
              "<table border=\"1\" class=\"dataframe\">\n",
              "  <thead>\n",
              "    <tr style=\"text-align: right;\">\n",
              "      <th></th>\n",
              "      <th>0</th>\n",
              "      <th>1</th>\n",
              "      <th>2</th>\n",
              "      <th>3</th>\n",
              "      <th>4</th>\n",
              "      <th>5</th>\n",
              "      <th>6</th>\n",
              "      <th>7</th>\n",
              "      <th>8</th>\n",
              "      <th>9</th>\n",
              "      <th>...</th>\n",
              "      <th>22</th>\n",
              "      <th>23</th>\n",
              "      <th>24</th>\n",
              "      <th>25</th>\n",
              "      <th>26</th>\n",
              "      <th>27</th>\n",
              "      <th>28</th>\n",
              "      <th>29</th>\n",
              "      <th>30</th>\n",
              "      <th>31</th>\n",
              "    </tr>\n",
              "  </thead>\n",
              "  <tbody>\n",
              "    <tr>\n",
              "      <th>0</th>\n",
              "      <td>0.001237</td>\n",
              "      <td>-0.562005</td>\n",
              "      <td>0.143693</td>\n",
              "      <td>-0.561186</td>\n",
              "      <td>1.132695</td>\n",
              "      <td>-0.581460</td>\n",
              "      <td>0.703277</td>\n",
              "      <td>-0.554737</td>\n",
              "      <td>1.702240</td>\n",
              "      <td>-0.268496</td>\n",
              "      <td>...</td>\n",
              "      <td>0.369193</td>\n",
              "      <td>-0.223620</td>\n",
              "      <td>0.030813</td>\n",
              "      <td>-0.406942</td>\n",
              "      <td>0.271385</td>\n",
              "      <td>-0.406965</td>\n",
              "      <td>-0.460160</td>\n",
              "      <td>-0.406620</td>\n",
              "      <td>0.959059</td>\n",
              "      <td>-0.834368</td>\n",
              "    </tr>\n",
              "    <tr>\n",
              "      <th>1</th>\n",
              "      <td>0.372108</td>\n",
              "      <td>-0.691038</td>\n",
              "      <td>-0.768247</td>\n",
              "      <td>-0.690303</td>\n",
              "      <td>0.297339</td>\n",
              "      <td>-0.720567</td>\n",
              "      <td>0.286861</td>\n",
              "      <td>-0.692858</td>\n",
              "      <td>-0.118163</td>\n",
              "      <td>-0.134019</td>\n",
              "      <td>...</td>\n",
              "      <td>-0.616987</td>\n",
              "      <td>-0.784924</td>\n",
              "      <td>0.274687</td>\n",
              "      <td>-0.433407</td>\n",
              "      <td>-0.793087</td>\n",
              "      <td>-0.432929</td>\n",
              "      <td>0.167742</td>\n",
              "      <td>-0.431884</td>\n",
              "      <td>-0.608672</td>\n",
              "      <td>-0.318472</td>\n",
              "    </tr>\n",
              "    <tr>\n",
              "      <th>2</th>\n",
              "      <td>0.505482</td>\n",
              "      <td>1.106595</td>\n",
              "      <td>0.187486</td>\n",
              "      <td>1.104899</td>\n",
              "      <td>0.006878</td>\n",
              "      <td>1.197858</td>\n",
              "      <td>-0.013534</td>\n",
              "      <td>1.277382</td>\n",
              "      <td>0.823701</td>\n",
              "      <td>1.245028</td>\n",
              "      <td>...</td>\n",
              "      <td>0.990880</td>\n",
              "      <td>1.777419</td>\n",
              "      <td>-0.453176</td>\n",
              "      <td>1.280640</td>\n",
              "      <td>0.605312</td>\n",
              "      <td>1.283491</td>\n",
              "      <td>-1.531943</td>\n",
              "      <td>1.278276</td>\n",
              "      <td>1.036024</td>\n",
              "      <td>1.378772</td>\n",
              "    </tr>\n",
              "    <tr>\n",
              "      <th>3</th>\n",
              "      <td>1.426969</td>\n",
              "      <td>1.830265</td>\n",
              "      <td>0.742504</td>\n",
              "      <td>1.819347</td>\n",
              "      <td>-0.944374</td>\n",
              "      <td>1.929172</td>\n",
              "      <td>1.334269</td>\n",
              "      <td>2.204570</td>\n",
              "      <td>1.388670</td>\n",
              "      <td>1.712917</td>\n",
              "      <td>...</td>\n",
              "      <td>1.024632</td>\n",
              "      <td>1.878729</td>\n",
              "      <td>-0.217164</td>\n",
              "      <td>1.889304</td>\n",
              "      <td>1.221976</td>\n",
              "      <td>1.895155</td>\n",
              "      <td>-1.426207</td>\n",
              "      <td>1.898388</td>\n",
              "      <td>1.704054</td>\n",
              "      <td>2.042494</td>\n",
              "    </tr>\n",
              "    <tr>\n",
              "      <th>4</th>\n",
              "      <td>0.148327</td>\n",
              "      <td>-0.388823</td>\n",
              "      <td>-0.412745</td>\n",
              "      <td>-0.387217</td>\n",
              "      <td>-0.133276</td>\n",
              "      <td>-0.389846</td>\n",
              "      <td>0.592301</td>\n",
              "      <td>-0.729773</td>\n",
              "      <td>-0.060959</td>\n",
              "      <td>-0.442120</td>\n",
              "      <td>...</td>\n",
              "      <td>-0.119779</td>\n",
              "      <td>-0.610623</td>\n",
              "      <td>0.049905</td>\n",
              "      <td>-0.460189</td>\n",
              "      <td>0.093849</td>\n",
              "      <td>-0.460537</td>\n",
              "      <td>0.225004</td>\n",
              "      <td>-0.460419</td>\n",
              "      <td>-0.229140</td>\n",
              "      <td>-0.351739</td>\n",
              "    </tr>\n",
              "    <tr>\n",
              "      <th>...</th>\n",
              "      <td>...</td>\n",
              "      <td>...</td>\n",
              "      <td>...</td>\n",
              "      <td>...</td>\n",
              "      <td>...</td>\n",
              "      <td>...</td>\n",
              "      <td>...</td>\n",
              "      <td>...</td>\n",
              "      <td>...</td>\n",
              "      <td>...</td>\n",
              "      <td>...</td>\n",
              "      <td>...</td>\n",
              "      <td>...</td>\n",
              "      <td>...</td>\n",
              "      <td>...</td>\n",
              "      <td>...</td>\n",
              "      <td>...</td>\n",
              "      <td>...</td>\n",
              "      <td>...</td>\n",
              "      <td>...</td>\n",
              "      <td>...</td>\n",
              "    </tr>\n",
              "    <tr>\n",
              "      <th>103995</th>\n",
              "      <td>1.577548</td>\n",
              "      <td>1.555610</td>\n",
              "      <td>-1.200091</td>\n",
              "      <td>1.473622</td>\n",
              "      <td>-0.865687</td>\n",
              "      <td>1.558200</td>\n",
              "      <td>1.725295</td>\n",
              "      <td>2.002929</td>\n",
              "      <td>1.537001</td>\n",
              "      <td>0.606938</td>\n",
              "      <td>...</td>\n",
              "      <td>-0.408299</td>\n",
              "      <td>-0.849901</td>\n",
              "      <td>2.041770</td>\n",
              "      <td>7.411156</td>\n",
              "      <td>-5.651900</td>\n",
              "      <td>7.511300</td>\n",
              "      <td>1.881164</td>\n",
              "      <td>7.496669</td>\n",
              "      <td>-1.569477</td>\n",
              "      <td>7.324830</td>\n",
              "    </tr>\n",
              "    <tr>\n",
              "      <th>103996</th>\n",
              "      <td>-3.917921</td>\n",
              "      <td>-0.629616</td>\n",
              "      <td>2.361776</td>\n",
              "      <td>-0.629387</td>\n",
              "      <td>-1.075969</td>\n",
              "      <td>-0.658262</td>\n",
              "      <td>-1.455619</td>\n",
              "      <td>-0.633374</td>\n",
              "      <td>0.739273</td>\n",
              "      <td>-0.464430</td>\n",
              "      <td>...</td>\n",
              "      <td>-0.918527</td>\n",
              "      <td>-0.759818</td>\n",
              "      <td>0.276820</td>\n",
              "      <td>-0.659086</td>\n",
              "      <td>-1.434558</td>\n",
              "      <td>-0.660328</td>\n",
              "      <td>0.961618</td>\n",
              "      <td>-0.658735</td>\n",
              "      <td>-1.000774</td>\n",
              "      <td>-0.544596</td>\n",
              "    </tr>\n",
              "    <tr>\n",
              "      <th>103997</th>\n",
              "      <td>0.046953</td>\n",
              "      <td>-1.070097</td>\n",
              "      <td>-1.037003</td>\n",
              "      <td>-1.071150</td>\n",
              "      <td>-0.780819</td>\n",
              "      <td>-1.140863</td>\n",
              "      <td>0.218087</td>\n",
              "      <td>-1.168342</td>\n",
              "      <td>-0.155744</td>\n",
              "      <td>-0.607078</td>\n",
              "      <td>...</td>\n",
              "      <td>-0.324508</td>\n",
              "      <td>-0.450825</td>\n",
              "      <td>-2.117389</td>\n",
              "      <td>-0.826967</td>\n",
              "      <td>-0.270153</td>\n",
              "      <td>-0.828449</td>\n",
              "      <td>1.194848</td>\n",
              "      <td>-0.828833</td>\n",
              "      <td>-0.584319</td>\n",
              "      <td>-0.725589</td>\n",
              "    </tr>\n",
              "    <tr>\n",
              "      <th>103998</th>\n",
              "      <td>-0.188456</td>\n",
              "      <td>-1.039946</td>\n",
              "      <td>-0.004514</td>\n",
              "      <td>-1.041159</td>\n",
              "      <td>1.678627</td>\n",
              "      <td>-1.109581</td>\n",
              "      <td>0.396054</td>\n",
              "      <td>-1.134610</td>\n",
              "      <td>-0.430595</td>\n",
              "      <td>-0.602727</td>\n",
              "      <td>...</td>\n",
              "      <td>-0.178698</td>\n",
              "      <td>-0.825359</td>\n",
              "      <td>0.848468</td>\n",
              "      <td>-1.038756</td>\n",
              "      <td>-0.512354</td>\n",
              "      <td>-1.041429</td>\n",
              "      <td>0.537837</td>\n",
              "      <td>-1.042013</td>\n",
              "      <td>0.166997</td>\n",
              "      <td>-0.940943</td>\n",
              "    </tr>\n",
              "    <tr>\n",
              "      <th>103999</th>\n",
              "      <td>-0.072453</td>\n",
              "      <td>-0.933529</td>\n",
              "      <td>2.976038</td>\n",
              "      <td>-0.933028</td>\n",
              "      <td>-0.097407</td>\n",
              "      <td>-0.982963</td>\n",
              "      <td>-1.137458</td>\n",
              "      <td>-0.987989</td>\n",
              "      <td>-0.583628</td>\n",
              "      <td>-0.143047</td>\n",
              "      <td>...</td>\n",
              "      <td>-1.205667</td>\n",
              "      <td>-0.901986</td>\n",
              "      <td>0.818723</td>\n",
              "      <td>-0.654966</td>\n",
              "      <td>-0.826775</td>\n",
              "      <td>-0.656046</td>\n",
              "      <td>1.268429</td>\n",
              "      <td>-0.656006</td>\n",
              "      <td>-1.534376</td>\n",
              "      <td>-0.549263</td>\n",
              "    </tr>\n",
              "  </tbody>\n",
              "</table>\n",
              "<p>104000 rows × 32 columns</p>\n",
              "</div>\n",
              "      <button class=\"colab-df-convert\" onclick=\"convertToInteractive('df-0d9de2cf-c68c-45b0-9ba5-853239a8daff')\"\n",
              "              title=\"Convert this dataframe to an interactive table.\"\n",
              "              style=\"display:none;\">\n",
              "        \n",
              "  <svg xmlns=\"http://www.w3.org/2000/svg\" height=\"24px\"viewBox=\"0 0 24 24\"\n",
              "       width=\"24px\">\n",
              "    <path d=\"M0 0h24v24H0V0z\" fill=\"none\"/>\n",
              "    <path d=\"M18.56 5.44l.94 2.06.94-2.06 2.06-.94-2.06-.94-.94-2.06-.94 2.06-2.06.94zm-11 1L8.5 8.5l.94-2.06 2.06-.94-2.06-.94L8.5 2.5l-.94 2.06-2.06.94zm10 10l.94 2.06.94-2.06 2.06-.94-2.06-.94-.94-2.06-.94 2.06-2.06.94z\"/><path d=\"M17.41 7.96l-1.37-1.37c-.4-.4-.92-.59-1.43-.59-.52 0-1.04.2-1.43.59L10.3 9.45l-7.72 7.72c-.78.78-.78 2.05 0 2.83L4 21.41c.39.39.9.59 1.41.59.51 0 1.02-.2 1.41-.59l7.78-7.78 2.81-2.81c.8-.78.8-2.07 0-2.86zM5.41 20L4 18.59l7.72-7.72 1.47 1.35L5.41 20z\"/>\n",
              "  </svg>\n",
              "      </button>\n",
              "      \n",
              "  <style>\n",
              "    .colab-df-container {\n",
              "      display:flex;\n",
              "      flex-wrap:wrap;\n",
              "      gap: 12px;\n",
              "    }\n",
              "\n",
              "    .colab-df-convert {\n",
              "      background-color: #E8F0FE;\n",
              "      border: none;\n",
              "      border-radius: 50%;\n",
              "      cursor: pointer;\n",
              "      display: none;\n",
              "      fill: #1967D2;\n",
              "      height: 32px;\n",
              "      padding: 0 0 0 0;\n",
              "      width: 32px;\n",
              "    }\n",
              "\n",
              "    .colab-df-convert:hover {\n",
              "      background-color: #E2EBFA;\n",
              "      box-shadow: 0px 1px 2px rgba(60, 64, 67, 0.3), 0px 1px 3px 1px rgba(60, 64, 67, 0.15);\n",
              "      fill: #174EA6;\n",
              "    }\n",
              "\n",
              "    [theme=dark] .colab-df-convert {\n",
              "      background-color: #3B4455;\n",
              "      fill: #D2E3FC;\n",
              "    }\n",
              "\n",
              "    [theme=dark] .colab-df-convert:hover {\n",
              "      background-color: #434B5C;\n",
              "      box-shadow: 0px 1px 3px 1px rgba(0, 0, 0, 0.15);\n",
              "      filter: drop-shadow(0px 1px 2px rgba(0, 0, 0, 0.3));\n",
              "      fill: #FFFFFF;\n",
              "    }\n",
              "  </style>\n",
              "\n",
              "      <script>\n",
              "        const buttonEl =\n",
              "          document.querySelector('#df-0d9de2cf-c68c-45b0-9ba5-853239a8daff button.colab-df-convert');\n",
              "        buttonEl.style.display =\n",
              "          google.colab.kernel.accessAllowed ? 'block' : 'none';\n",
              "\n",
              "        async function convertToInteractive(key) {\n",
              "          const element = document.querySelector('#df-0d9de2cf-c68c-45b0-9ba5-853239a8daff');\n",
              "          const dataTable =\n",
              "            await google.colab.kernel.invokeFunction('convertToInteractive',\n",
              "                                                     [key], {});\n",
              "          if (!dataTable) return;\n",
              "\n",
              "          const docLinkHtml = 'Like what you see? Visit the ' +\n",
              "            '<a target=\"_blank\" href=https://colab.research.google.com/notebooks/data_table.ipynb>data table notebook</a>'\n",
              "            + ' to learn more about interactive tables.';\n",
              "          element.innerHTML = '';\n",
              "          dataTable['output_type'] = 'display_data';\n",
              "          await google.colab.output.renderOutput(dataTable, element);\n",
              "          const docLink = document.createElement('div');\n",
              "          docLink.innerHTML = docLinkHtml;\n",
              "          element.appendChild(docLink);\n",
              "        }\n",
              "      </script>\n",
              "    </div>\n",
              "  </div>\n",
              "  "
            ]
          },
          "metadata": {},
          "execution_count": 16
        },
        {
          "output_type": "stream",
          "name": "stdout",
          "text": [
            "time: 89.7 ms (started: 2023-03-27 21:29:27 +00:00)\n"
          ]
        }
      ],
      "source": [
        "X_train"
      ]
    },
    {
      "cell_type": "code",
      "execution_count": null,
      "metadata": {
        "colab": {
          "base_uri": "https://localhost:8080/",
          "height": 480
        },
        "id": "lUTnYnTjOvXU",
        "outputId": "65c8c284-5224-4d27-a443-e367b5c8fa02"
      },
      "outputs": [
        {
          "output_type": "execute_result",
          "data": {
            "text/plain": [
              "                 0             1             2             3             4   \\\n",
              "count  1.040000e+05  1.040000e+05  1.040000e+05  1.040000e+05  1.040000e+05   \n",
              "mean  -3.907985e-17 -1.560461e-16 -6.176256e-17  6.784317e-17 -2.022314e-17   \n",
              "std    1.000005e+00  1.000005e+00  1.000005e+00  1.000005e+00  1.000005e+00   \n",
              "min   -4.605402e+00 -1.248291e+00 -2.246745e+00 -1.248546e+00 -6.350220e+00   \n",
              "25%   -1.645376e-01 -6.754480e-01 -6.710739e-01 -6.742484e-01 -6.186799e-01   \n",
              "50%    7.432692e-02 -3.127519e-01 -2.333536e-01 -3.109755e-01  2.366564e-02   \n",
              "75%    3.554338e-01  5.623547e-01  3.366195e-01  5.595088e-01  7.712403e-01   \n",
              "max    5.266859e+00  1.227295e+01  3.527016e+00  1.234866e+01  3.912128e+00   \n",
              "\n",
              "                 5             6             7             8             9   \\\n",
              "count  1.040000e+05  1.040000e+05  1.040000e+05  1.040000e+05  1.040000e+05   \n",
              "mean  -5.260749e-17 -3.019807e-17 -9.701641e-17  1.236618e-17 -1.143017e-16   \n",
              "std    1.000005e+00  1.000005e+00  1.000005e+00  1.000005e+00  1.000005e+00   \n",
              "min   -1.305912e+00 -3.195149e+00 -1.295883e+00 -4.681675e+00 -6.732455e-01   \n",
              "25%   -7.031734e-01 -7.819924e-01 -7.261031e-01 -4.425446e-01 -4.743296e-01   \n",
              "50%   -3.111647e-01  2.028513e-01 -2.818721e-01 -1.571730e-01 -2.535919e-01   \n",
              "75%    5.972042e-01  7.023432e-01  5.831398e-01  2.195885e-01  4.074673e-02   \n",
              "max    6.994416e+00  3.050829e+00  7.716194e+00  6.092447e+00  6.581645e+01   \n",
              "\n",
              "       ...            22            23            24            25  \\\n",
              "count  ...  1.040000e+05  1.040000e+05  1.040000e+05  1.040000e+05   \n",
              "mean   ... -2.206782e-16 -3.432468e-16  6.843073e-16  7.283063e-17   \n",
              "std    ...  1.000005e+00  1.000005e+00  1.000005e+00  1.000005e+00   \n",
              "min    ... -3.112612e+00 -9.755294e-01 -1.280867e+01 -1.102282e+00   \n",
              "25%    ... -6.691405e-01 -7.510183e-01 -1.355671e-01 -6.703675e-01   \n",
              "50%    ... -9.844896e-02 -4.646692e-01  1.026644e-01 -2.937640e-01   \n",
              "75%    ...  5.206536e-01  5.050646e-01  5.383741e-01  4.905208e-01   \n",
              "max    ...  4.528625e+00  1.045473e+01  2.056687e+00  1.291711e+01   \n",
              "\n",
              "                 26            27            28            29            30  \\\n",
              "count  1.040000e+05  1.040000e+05  1.040000e+05  1.040000e+05  1.040000e+05   \n",
              "mean   5.465713e-17  8.786134e-17 -3.672276e-17  1.242083e-16  1.239009e-16   \n",
              "std    1.000005e+00  1.000005e+00  1.000005e+00  1.000005e+00  1.000005e+00   \n",
              "min   -6.423476e+00 -1.102734e+00 -1.841798e+00 -1.101600e+00 -2.437290e+00   \n",
              "25%   -5.183116e-01 -6.712965e-01 -1.013549e+00 -6.715775e-01 -7.022957e-01   \n",
              "50%    7.715062e-03 -2.932297e-01  1.835833e-01 -2.935803e-01 -1.973862e-01   \n",
              "75%    5.390371e-01  4.941784e-01  5.058735e-01  4.940963e-01  7.202255e-01   \n",
              "max    7.064065e+00  1.297646e+01  3.773920e+00  1.295490e+01  6.115577e+00   \n",
              "\n",
              "                 31  \n",
              "count  1.040000e+05  \n",
              "mean   1.844678e-17  \n",
              "std    1.000005e+00  \n",
              "min   -9.974051e-01  \n",
              "25%   -6.549063e-01  \n",
              "50%   -3.894644e-01  \n",
              "75%    5.020634e-01  \n",
              "max    1.318670e+01  \n",
              "\n",
              "[8 rows x 32 columns]"
            ],
            "text/html": [
              "\n",
              "  <div id=\"df-2143f70e-0c57-4422-9345-2af88d1ae6fb\">\n",
              "    <div class=\"colab-df-container\">\n",
              "      <div>\n",
              "<style scoped>\n",
              "    .dataframe tbody tr th:only-of-type {\n",
              "        vertical-align: middle;\n",
              "    }\n",
              "\n",
              "    .dataframe tbody tr th {\n",
              "        vertical-align: top;\n",
              "    }\n",
              "\n",
              "    .dataframe thead th {\n",
              "        text-align: right;\n",
              "    }\n",
              "</style>\n",
              "<table border=\"1\" class=\"dataframe\">\n",
              "  <thead>\n",
              "    <tr style=\"text-align: right;\">\n",
              "      <th></th>\n",
              "      <th>0</th>\n",
              "      <th>1</th>\n",
              "      <th>2</th>\n",
              "      <th>3</th>\n",
              "      <th>4</th>\n",
              "      <th>5</th>\n",
              "      <th>6</th>\n",
              "      <th>7</th>\n",
              "      <th>8</th>\n",
              "      <th>9</th>\n",
              "      <th>...</th>\n",
              "      <th>22</th>\n",
              "      <th>23</th>\n",
              "      <th>24</th>\n",
              "      <th>25</th>\n",
              "      <th>26</th>\n",
              "      <th>27</th>\n",
              "      <th>28</th>\n",
              "      <th>29</th>\n",
              "      <th>30</th>\n",
              "      <th>31</th>\n",
              "    </tr>\n",
              "  </thead>\n",
              "  <tbody>\n",
              "    <tr>\n",
              "      <th>count</th>\n",
              "      <td>1.040000e+05</td>\n",
              "      <td>1.040000e+05</td>\n",
              "      <td>1.040000e+05</td>\n",
              "      <td>1.040000e+05</td>\n",
              "      <td>1.040000e+05</td>\n",
              "      <td>1.040000e+05</td>\n",
              "      <td>1.040000e+05</td>\n",
              "      <td>1.040000e+05</td>\n",
              "      <td>1.040000e+05</td>\n",
              "      <td>1.040000e+05</td>\n",
              "      <td>...</td>\n",
              "      <td>1.040000e+05</td>\n",
              "      <td>1.040000e+05</td>\n",
              "      <td>1.040000e+05</td>\n",
              "      <td>1.040000e+05</td>\n",
              "      <td>1.040000e+05</td>\n",
              "      <td>1.040000e+05</td>\n",
              "      <td>1.040000e+05</td>\n",
              "      <td>1.040000e+05</td>\n",
              "      <td>1.040000e+05</td>\n",
              "      <td>1.040000e+05</td>\n",
              "    </tr>\n",
              "    <tr>\n",
              "      <th>mean</th>\n",
              "      <td>-3.907985e-17</td>\n",
              "      <td>-1.560461e-16</td>\n",
              "      <td>-6.176256e-17</td>\n",
              "      <td>6.784317e-17</td>\n",
              "      <td>-2.022314e-17</td>\n",
              "      <td>-5.260749e-17</td>\n",
              "      <td>-3.019807e-17</td>\n",
              "      <td>-9.701641e-17</td>\n",
              "      <td>1.236618e-17</td>\n",
              "      <td>-1.143017e-16</td>\n",
              "      <td>...</td>\n",
              "      <td>-2.206782e-16</td>\n",
              "      <td>-3.432468e-16</td>\n",
              "      <td>6.843073e-16</td>\n",
              "      <td>7.283063e-17</td>\n",
              "      <td>5.465713e-17</td>\n",
              "      <td>8.786134e-17</td>\n",
              "      <td>-3.672276e-17</td>\n",
              "      <td>1.242083e-16</td>\n",
              "      <td>1.239009e-16</td>\n",
              "      <td>1.844678e-17</td>\n",
              "    </tr>\n",
              "    <tr>\n",
              "      <th>std</th>\n",
              "      <td>1.000005e+00</td>\n",
              "      <td>1.000005e+00</td>\n",
              "      <td>1.000005e+00</td>\n",
              "      <td>1.000005e+00</td>\n",
              "      <td>1.000005e+00</td>\n",
              "      <td>1.000005e+00</td>\n",
              "      <td>1.000005e+00</td>\n",
              "      <td>1.000005e+00</td>\n",
              "      <td>1.000005e+00</td>\n",
              "      <td>1.000005e+00</td>\n",
              "      <td>...</td>\n",
              "      <td>1.000005e+00</td>\n",
              "      <td>1.000005e+00</td>\n",
              "      <td>1.000005e+00</td>\n",
              "      <td>1.000005e+00</td>\n",
              "      <td>1.000005e+00</td>\n",
              "      <td>1.000005e+00</td>\n",
              "      <td>1.000005e+00</td>\n",
              "      <td>1.000005e+00</td>\n",
              "      <td>1.000005e+00</td>\n",
              "      <td>1.000005e+00</td>\n",
              "    </tr>\n",
              "    <tr>\n",
              "      <th>min</th>\n",
              "      <td>-4.605402e+00</td>\n",
              "      <td>-1.248291e+00</td>\n",
              "      <td>-2.246745e+00</td>\n",
              "      <td>-1.248546e+00</td>\n",
              "      <td>-6.350220e+00</td>\n",
              "      <td>-1.305912e+00</td>\n",
              "      <td>-3.195149e+00</td>\n",
              "      <td>-1.295883e+00</td>\n",
              "      <td>-4.681675e+00</td>\n",
              "      <td>-6.732455e-01</td>\n",
              "      <td>...</td>\n",
              "      <td>-3.112612e+00</td>\n",
              "      <td>-9.755294e-01</td>\n",
              "      <td>-1.280867e+01</td>\n",
              "      <td>-1.102282e+00</td>\n",
              "      <td>-6.423476e+00</td>\n",
              "      <td>-1.102734e+00</td>\n",
              "      <td>-1.841798e+00</td>\n",
              "      <td>-1.101600e+00</td>\n",
              "      <td>-2.437290e+00</td>\n",
              "      <td>-9.974051e-01</td>\n",
              "    </tr>\n",
              "    <tr>\n",
              "      <th>25%</th>\n",
              "      <td>-1.645376e-01</td>\n",
              "      <td>-6.754480e-01</td>\n",
              "      <td>-6.710739e-01</td>\n",
              "      <td>-6.742484e-01</td>\n",
              "      <td>-6.186799e-01</td>\n",
              "      <td>-7.031734e-01</td>\n",
              "      <td>-7.819924e-01</td>\n",
              "      <td>-7.261031e-01</td>\n",
              "      <td>-4.425446e-01</td>\n",
              "      <td>-4.743296e-01</td>\n",
              "      <td>...</td>\n",
              "      <td>-6.691405e-01</td>\n",
              "      <td>-7.510183e-01</td>\n",
              "      <td>-1.355671e-01</td>\n",
              "      <td>-6.703675e-01</td>\n",
              "      <td>-5.183116e-01</td>\n",
              "      <td>-6.712965e-01</td>\n",
              "      <td>-1.013549e+00</td>\n",
              "      <td>-6.715775e-01</td>\n",
              "      <td>-7.022957e-01</td>\n",
              "      <td>-6.549063e-01</td>\n",
              "    </tr>\n",
              "    <tr>\n",
              "      <th>50%</th>\n",
              "      <td>7.432692e-02</td>\n",
              "      <td>-3.127519e-01</td>\n",
              "      <td>-2.333536e-01</td>\n",
              "      <td>-3.109755e-01</td>\n",
              "      <td>2.366564e-02</td>\n",
              "      <td>-3.111647e-01</td>\n",
              "      <td>2.028513e-01</td>\n",
              "      <td>-2.818721e-01</td>\n",
              "      <td>-1.571730e-01</td>\n",
              "      <td>-2.535919e-01</td>\n",
              "      <td>...</td>\n",
              "      <td>-9.844896e-02</td>\n",
              "      <td>-4.646692e-01</td>\n",
              "      <td>1.026644e-01</td>\n",
              "      <td>-2.937640e-01</td>\n",
              "      <td>7.715062e-03</td>\n",
              "      <td>-2.932297e-01</td>\n",
              "      <td>1.835833e-01</td>\n",
              "      <td>-2.935803e-01</td>\n",
              "      <td>-1.973862e-01</td>\n",
              "      <td>-3.894644e-01</td>\n",
              "    </tr>\n",
              "    <tr>\n",
              "      <th>75%</th>\n",
              "      <td>3.554338e-01</td>\n",
              "      <td>5.623547e-01</td>\n",
              "      <td>3.366195e-01</td>\n",
              "      <td>5.595088e-01</td>\n",
              "      <td>7.712403e-01</td>\n",
              "      <td>5.972042e-01</td>\n",
              "      <td>7.023432e-01</td>\n",
              "      <td>5.831398e-01</td>\n",
              "      <td>2.195885e-01</td>\n",
              "      <td>4.074673e-02</td>\n",
              "      <td>...</td>\n",
              "      <td>5.206536e-01</td>\n",
              "      <td>5.050646e-01</td>\n",
              "      <td>5.383741e-01</td>\n",
              "      <td>4.905208e-01</td>\n",
              "      <td>5.390371e-01</td>\n",
              "      <td>4.941784e-01</td>\n",
              "      <td>5.058735e-01</td>\n",
              "      <td>4.940963e-01</td>\n",
              "      <td>7.202255e-01</td>\n",
              "      <td>5.020634e-01</td>\n",
              "    </tr>\n",
              "    <tr>\n",
              "      <th>max</th>\n",
              "      <td>5.266859e+00</td>\n",
              "      <td>1.227295e+01</td>\n",
              "      <td>3.527016e+00</td>\n",
              "      <td>1.234866e+01</td>\n",
              "      <td>3.912128e+00</td>\n",
              "      <td>6.994416e+00</td>\n",
              "      <td>3.050829e+00</td>\n",
              "      <td>7.716194e+00</td>\n",
              "      <td>6.092447e+00</td>\n",
              "      <td>6.581645e+01</td>\n",
              "      <td>...</td>\n",
              "      <td>4.528625e+00</td>\n",
              "      <td>1.045473e+01</td>\n",
              "      <td>2.056687e+00</td>\n",
              "      <td>1.291711e+01</td>\n",
              "      <td>7.064065e+00</td>\n",
              "      <td>1.297646e+01</td>\n",
              "      <td>3.773920e+00</td>\n",
              "      <td>1.295490e+01</td>\n",
              "      <td>6.115577e+00</td>\n",
              "      <td>1.318670e+01</td>\n",
              "    </tr>\n",
              "  </tbody>\n",
              "</table>\n",
              "<p>8 rows × 32 columns</p>\n",
              "</div>\n",
              "      <button class=\"colab-df-convert\" onclick=\"convertToInteractive('df-2143f70e-0c57-4422-9345-2af88d1ae6fb')\"\n",
              "              title=\"Convert this dataframe to an interactive table.\"\n",
              "              style=\"display:none;\">\n",
              "        \n",
              "  <svg xmlns=\"http://www.w3.org/2000/svg\" height=\"24px\"viewBox=\"0 0 24 24\"\n",
              "       width=\"24px\">\n",
              "    <path d=\"M0 0h24v24H0V0z\" fill=\"none\"/>\n",
              "    <path d=\"M18.56 5.44l.94 2.06.94-2.06 2.06-.94-2.06-.94-.94-2.06-.94 2.06-2.06.94zm-11 1L8.5 8.5l.94-2.06 2.06-.94-2.06-.94L8.5 2.5l-.94 2.06-2.06.94zm10 10l.94 2.06.94-2.06 2.06-.94-2.06-.94-.94-2.06-.94 2.06-2.06.94z\"/><path d=\"M17.41 7.96l-1.37-1.37c-.4-.4-.92-.59-1.43-.59-.52 0-1.04.2-1.43.59L10.3 9.45l-7.72 7.72c-.78.78-.78 2.05 0 2.83L4 21.41c.39.39.9.59 1.41.59.51 0 1.02-.2 1.41-.59l7.78-7.78 2.81-2.81c.8-.78.8-2.07 0-2.86zM5.41 20L4 18.59l7.72-7.72 1.47 1.35L5.41 20z\"/>\n",
              "  </svg>\n",
              "      </button>\n",
              "      \n",
              "  <style>\n",
              "    .colab-df-container {\n",
              "      display:flex;\n",
              "      flex-wrap:wrap;\n",
              "      gap: 12px;\n",
              "    }\n",
              "\n",
              "    .colab-df-convert {\n",
              "      background-color: #E8F0FE;\n",
              "      border: none;\n",
              "      border-radius: 50%;\n",
              "      cursor: pointer;\n",
              "      display: none;\n",
              "      fill: #1967D2;\n",
              "      height: 32px;\n",
              "      padding: 0 0 0 0;\n",
              "      width: 32px;\n",
              "    }\n",
              "\n",
              "    .colab-df-convert:hover {\n",
              "      background-color: #E2EBFA;\n",
              "      box-shadow: 0px 1px 2px rgba(60, 64, 67, 0.3), 0px 1px 3px 1px rgba(60, 64, 67, 0.15);\n",
              "      fill: #174EA6;\n",
              "    }\n",
              "\n",
              "    [theme=dark] .colab-df-convert {\n",
              "      background-color: #3B4455;\n",
              "      fill: #D2E3FC;\n",
              "    }\n",
              "\n",
              "    [theme=dark] .colab-df-convert:hover {\n",
              "      background-color: #434B5C;\n",
              "      box-shadow: 0px 1px 3px 1px rgba(0, 0, 0, 0.15);\n",
              "      filter: drop-shadow(0px 1px 2px rgba(0, 0, 0, 0.3));\n",
              "      fill: #FFFFFF;\n",
              "    }\n",
              "  </style>\n",
              "\n",
              "      <script>\n",
              "        const buttonEl =\n",
              "          document.querySelector('#df-2143f70e-0c57-4422-9345-2af88d1ae6fb button.colab-df-convert');\n",
              "        buttonEl.style.display =\n",
              "          google.colab.kernel.accessAllowed ? 'block' : 'none';\n",
              "\n",
              "        async function convertToInteractive(key) {\n",
              "          const element = document.querySelector('#df-2143f70e-0c57-4422-9345-2af88d1ae6fb');\n",
              "          const dataTable =\n",
              "            await google.colab.kernel.invokeFunction('convertToInteractive',\n",
              "                                                     [key], {});\n",
              "          if (!dataTable) return;\n",
              "\n",
              "          const docLinkHtml = 'Like what you see? Visit the ' +\n",
              "            '<a target=\"_blank\" href=https://colab.research.google.com/notebooks/data_table.ipynb>data table notebook</a>'\n",
              "            + ' to learn more about interactive tables.';\n",
              "          element.innerHTML = '';\n",
              "          dataTable['output_type'] = 'display_data';\n",
              "          await google.colab.output.renderOutput(dataTable, element);\n",
              "          const docLink = document.createElement('div');\n",
              "          docLink.innerHTML = docLinkHtml;\n",
              "          element.appendChild(docLink);\n",
              "        }\n",
              "      </script>\n",
              "    </div>\n",
              "  </div>\n",
              "  "
            ]
          },
          "metadata": {},
          "execution_count": 17
        },
        {
          "output_type": "stream",
          "name": "stdout",
          "text": [
            "time: 699 ms (started: 2023-03-27 21:29:29 +00:00)\n"
          ]
        }
      ],
      "source": [
        "X_train.describe()"
      ]
    },
    {
      "cell_type": "markdown",
      "metadata": {
        "id": "S3cpndxztJtt"
      },
      "source": [
        "## PCA"
      ]
    },
    {
      "cell_type": "code",
      "execution_count": null,
      "metadata": {
        "id": "gm45LClj5bgf",
        "colab": {
          "base_uri": "https://localhost:8080/"
        },
        "outputId": "17817d44-8f1d-46dd-99b3-7e1af9403f1f"
      },
      "outputs": [
        {
          "output_type": "stream",
          "name": "stdout",
          "text": [
            "time: 680 ms (started: 2023-03-27 21:29:33 +00:00)\n"
          ]
        }
      ],
      "source": [
        "from sklearn.decomposition import PCA\n",
        "# pca = PCA(n_components=5)\n",
        "pca = PCA()\n",
        "principalComponents = pca.fit_transform(X_train)\n",
        "principalDf = pd.DataFrame(data = principalComponents, columns = ['PC{}'.format(i) for i in range(1,33,1)])"
      ]
    },
    {
      "cell_type": "code",
      "execution_count": null,
      "metadata": {
        "colab": {
          "base_uri": "https://localhost:8080/",
          "height": 505
        },
        "id": "luiDiji55xdU",
        "outputId": "718e5d67-5c09-4c48-e87b-6f69c3669392"
      },
      "outputs": [
        {
          "output_type": "execute_result",
          "data": {
            "text/plain": [
              "             PC1       PC2       PC3       PC4       PC5       PC6       PC7  \\\n",
              "0      -1.079153 -1.511967 -0.147611 -1.440011  2.447635 -1.517295 -0.599317   \n",
              "1      -2.335855  0.529823  1.124112 -0.231441  0.964326  0.751084  0.085443   \n",
              "2       6.315912  0.068412 -0.764194 -0.375139  0.283259  0.074741  1.046318   \n",
              "3       8.337553  0.772039 -0.932769 -0.882899  0.961646 -0.680245  1.483954   \n",
              "4      -2.121760 -0.276020  1.309656 -0.046424 -0.135378 -0.300503  0.180755   \n",
              "...          ...       ...       ...       ...       ...       ...       ...   \n",
              "103995  7.355313  7.748587  3.898466  3.652079  2.192688 -1.013384 -2.024073   \n",
              "103996 -3.050823  1.152167 -5.042848  1.808441  2.490603 -2.571199 -3.913538   \n",
              "103997 -3.059180 -0.598988  2.118689  1.422867 -1.218486 -1.225421 -0.163778   \n",
              "103998 -4.010651 -1.380656  1.472554 -0.169433  1.013548  0.770224  0.177408   \n",
              "103999 -3.647920  2.443326 -2.816268  1.487002  0.613045  0.409214  1.385908   \n",
              "\n",
              "             PC8       PC9      PC10  ...      PC23      PC24      PC25  \\\n",
              "0       0.213785  0.495297  0.316445  ... -0.185365 -0.041427 -0.100992   \n",
              "1       0.246855 -0.645806  0.778531  ...  0.117310  0.035554 -0.050744   \n",
              "2       0.139936 -0.177715  0.539767  ... -0.239816 -0.142043  0.032734   \n",
              "3      -0.063228 -0.418476 -0.814917  ...  0.243631 -0.240756 -0.205072   \n",
              "4      -0.229964  0.006841 -1.015633  ...  0.074286 -0.051673  0.111019   \n",
              "...          ...       ...       ...  ...       ...       ...       ...   \n",
              "103995 -2.256681  1.305626 -1.298719  ... -0.108290  0.894026 -0.496291   \n",
              "103996  0.781833  1.321337 -0.894561  ... -0.833411 -0.056973 -0.063156   \n",
              "103997  1.030046 -1.165390 -0.146623  ...  0.011780  0.039457 -0.006971   \n",
              "103998 -1.357306  0.502398  0.022778  ... -0.034796 -0.038155 -0.005727   \n",
              "103999 -0.423432  0.672602  0.790135  ... -0.004522 -0.000234 -0.098061   \n",
              "\n",
              "            PC26      PC27      PC28      PC29      PC30      PC31      PC32  \n",
              "0       0.029031  0.014606 -0.005046 -0.003763 -0.001029 -0.000131 -0.000369  \n",
              "1      -0.003392  0.004297  0.002875 -0.000377  0.000921  0.000664  0.000427  \n",
              "2       0.021822 -0.010794  0.013894  0.009768 -0.001362 -0.001821  0.000507  \n",
              "3       0.005178  0.036575  0.000069 -0.001787  0.002680 -0.000716  0.001477  \n",
              "4       0.158353 -0.006944  0.001373  0.001427 -0.000060 -0.000445  0.000128  \n",
              "...          ...       ...       ...       ...       ...       ...       ...  \n",
              "103995  0.081719  0.155602  0.004648  0.035781  0.048060  0.018093  0.012240  \n",
              "103996 -0.106740  0.014465 -0.001823  0.005684  0.000123 -0.000997  0.000038  \n",
              "103997  0.007833  0.002428  0.002168  0.001858  0.001403  0.000625 -0.000341  \n",
              "103998  0.018365  0.005892  0.000914  0.000365  0.000157  0.000053  0.000254  \n",
              "103999 -0.308076  0.003901  0.005501 -0.002358 -0.000228  0.000416 -0.000104  \n",
              "\n",
              "[104000 rows x 32 columns]"
            ],
            "text/html": [
              "\n",
              "  <div id=\"df-23b05806-5426-4475-a8f2-7cc4b4fe5610\">\n",
              "    <div class=\"colab-df-container\">\n",
              "      <div>\n",
              "<style scoped>\n",
              "    .dataframe tbody tr th:only-of-type {\n",
              "        vertical-align: middle;\n",
              "    }\n",
              "\n",
              "    .dataframe tbody tr th {\n",
              "        vertical-align: top;\n",
              "    }\n",
              "\n",
              "    .dataframe thead th {\n",
              "        text-align: right;\n",
              "    }\n",
              "</style>\n",
              "<table border=\"1\" class=\"dataframe\">\n",
              "  <thead>\n",
              "    <tr style=\"text-align: right;\">\n",
              "      <th></th>\n",
              "      <th>PC1</th>\n",
              "      <th>PC2</th>\n",
              "      <th>PC3</th>\n",
              "      <th>PC4</th>\n",
              "      <th>PC5</th>\n",
              "      <th>PC6</th>\n",
              "      <th>PC7</th>\n",
              "      <th>PC8</th>\n",
              "      <th>PC9</th>\n",
              "      <th>PC10</th>\n",
              "      <th>...</th>\n",
              "      <th>PC23</th>\n",
              "      <th>PC24</th>\n",
              "      <th>PC25</th>\n",
              "      <th>PC26</th>\n",
              "      <th>PC27</th>\n",
              "      <th>PC28</th>\n",
              "      <th>PC29</th>\n",
              "      <th>PC30</th>\n",
              "      <th>PC31</th>\n",
              "      <th>PC32</th>\n",
              "    </tr>\n",
              "  </thead>\n",
              "  <tbody>\n",
              "    <tr>\n",
              "      <th>0</th>\n",
              "      <td>-1.079153</td>\n",
              "      <td>-1.511967</td>\n",
              "      <td>-0.147611</td>\n",
              "      <td>-1.440011</td>\n",
              "      <td>2.447635</td>\n",
              "      <td>-1.517295</td>\n",
              "      <td>-0.599317</td>\n",
              "      <td>0.213785</td>\n",
              "      <td>0.495297</td>\n",
              "      <td>0.316445</td>\n",
              "      <td>...</td>\n",
              "      <td>-0.185365</td>\n",
              "      <td>-0.041427</td>\n",
              "      <td>-0.100992</td>\n",
              "      <td>0.029031</td>\n",
              "      <td>0.014606</td>\n",
              "      <td>-0.005046</td>\n",
              "      <td>-0.003763</td>\n",
              "      <td>-0.001029</td>\n",
              "      <td>-0.000131</td>\n",
              "      <td>-0.000369</td>\n",
              "    </tr>\n",
              "    <tr>\n",
              "      <th>1</th>\n",
              "      <td>-2.335855</td>\n",
              "      <td>0.529823</td>\n",
              "      <td>1.124112</td>\n",
              "      <td>-0.231441</td>\n",
              "      <td>0.964326</td>\n",
              "      <td>0.751084</td>\n",
              "      <td>0.085443</td>\n",
              "      <td>0.246855</td>\n",
              "      <td>-0.645806</td>\n",
              "      <td>0.778531</td>\n",
              "      <td>...</td>\n",
              "      <td>0.117310</td>\n",
              "      <td>0.035554</td>\n",
              "      <td>-0.050744</td>\n",
              "      <td>-0.003392</td>\n",
              "      <td>0.004297</td>\n",
              "      <td>0.002875</td>\n",
              "      <td>-0.000377</td>\n",
              "      <td>0.000921</td>\n",
              "      <td>0.000664</td>\n",
              "      <td>0.000427</td>\n",
              "    </tr>\n",
              "    <tr>\n",
              "      <th>2</th>\n",
              "      <td>6.315912</td>\n",
              "      <td>0.068412</td>\n",
              "      <td>-0.764194</td>\n",
              "      <td>-0.375139</td>\n",
              "      <td>0.283259</td>\n",
              "      <td>0.074741</td>\n",
              "      <td>1.046318</td>\n",
              "      <td>0.139936</td>\n",
              "      <td>-0.177715</td>\n",
              "      <td>0.539767</td>\n",
              "      <td>...</td>\n",
              "      <td>-0.239816</td>\n",
              "      <td>-0.142043</td>\n",
              "      <td>0.032734</td>\n",
              "      <td>0.021822</td>\n",
              "      <td>-0.010794</td>\n",
              "      <td>0.013894</td>\n",
              "      <td>0.009768</td>\n",
              "      <td>-0.001362</td>\n",
              "      <td>-0.001821</td>\n",
              "      <td>0.000507</td>\n",
              "    </tr>\n",
              "    <tr>\n",
              "      <th>3</th>\n",
              "      <td>8.337553</td>\n",
              "      <td>0.772039</td>\n",
              "      <td>-0.932769</td>\n",
              "      <td>-0.882899</td>\n",
              "      <td>0.961646</td>\n",
              "      <td>-0.680245</td>\n",
              "      <td>1.483954</td>\n",
              "      <td>-0.063228</td>\n",
              "      <td>-0.418476</td>\n",
              "      <td>-0.814917</td>\n",
              "      <td>...</td>\n",
              "      <td>0.243631</td>\n",
              "      <td>-0.240756</td>\n",
              "      <td>-0.205072</td>\n",
              "      <td>0.005178</td>\n",
              "      <td>0.036575</td>\n",
              "      <td>0.000069</td>\n",
              "      <td>-0.001787</td>\n",
              "      <td>0.002680</td>\n",
              "      <td>-0.000716</td>\n",
              "      <td>0.001477</td>\n",
              "    </tr>\n",
              "    <tr>\n",
              "      <th>4</th>\n",
              "      <td>-2.121760</td>\n",
              "      <td>-0.276020</td>\n",
              "      <td>1.309656</td>\n",
              "      <td>-0.046424</td>\n",
              "      <td>-0.135378</td>\n",
              "      <td>-0.300503</td>\n",
              "      <td>0.180755</td>\n",
              "      <td>-0.229964</td>\n",
              "      <td>0.006841</td>\n",
              "      <td>-1.015633</td>\n",
              "      <td>...</td>\n",
              "      <td>0.074286</td>\n",
              "      <td>-0.051673</td>\n",
              "      <td>0.111019</td>\n",
              "      <td>0.158353</td>\n",
              "      <td>-0.006944</td>\n",
              "      <td>0.001373</td>\n",
              "      <td>0.001427</td>\n",
              "      <td>-0.000060</td>\n",
              "      <td>-0.000445</td>\n",
              "      <td>0.000128</td>\n",
              "    </tr>\n",
              "    <tr>\n",
              "      <th>...</th>\n",
              "      <td>...</td>\n",
              "      <td>...</td>\n",
              "      <td>...</td>\n",
              "      <td>...</td>\n",
              "      <td>...</td>\n",
              "      <td>...</td>\n",
              "      <td>...</td>\n",
              "      <td>...</td>\n",
              "      <td>...</td>\n",
              "      <td>...</td>\n",
              "      <td>...</td>\n",
              "      <td>...</td>\n",
              "      <td>...</td>\n",
              "      <td>...</td>\n",
              "      <td>...</td>\n",
              "      <td>...</td>\n",
              "      <td>...</td>\n",
              "      <td>...</td>\n",
              "      <td>...</td>\n",
              "      <td>...</td>\n",
              "      <td>...</td>\n",
              "    </tr>\n",
              "    <tr>\n",
              "      <th>103995</th>\n",
              "      <td>7.355313</td>\n",
              "      <td>7.748587</td>\n",
              "      <td>3.898466</td>\n",
              "      <td>3.652079</td>\n",
              "      <td>2.192688</td>\n",
              "      <td>-1.013384</td>\n",
              "      <td>-2.024073</td>\n",
              "      <td>-2.256681</td>\n",
              "      <td>1.305626</td>\n",
              "      <td>-1.298719</td>\n",
              "      <td>...</td>\n",
              "      <td>-0.108290</td>\n",
              "      <td>0.894026</td>\n",
              "      <td>-0.496291</td>\n",
              "      <td>0.081719</td>\n",
              "      <td>0.155602</td>\n",
              "      <td>0.004648</td>\n",
              "      <td>0.035781</td>\n",
              "      <td>0.048060</td>\n",
              "      <td>0.018093</td>\n",
              "      <td>0.012240</td>\n",
              "    </tr>\n",
              "    <tr>\n",
              "      <th>103996</th>\n",
              "      <td>-3.050823</td>\n",
              "      <td>1.152167</td>\n",
              "      <td>-5.042848</td>\n",
              "      <td>1.808441</td>\n",
              "      <td>2.490603</td>\n",
              "      <td>-2.571199</td>\n",
              "      <td>-3.913538</td>\n",
              "      <td>0.781833</td>\n",
              "      <td>1.321337</td>\n",
              "      <td>-0.894561</td>\n",
              "      <td>...</td>\n",
              "      <td>-0.833411</td>\n",
              "      <td>-0.056973</td>\n",
              "      <td>-0.063156</td>\n",
              "      <td>-0.106740</td>\n",
              "      <td>0.014465</td>\n",
              "      <td>-0.001823</td>\n",
              "      <td>0.005684</td>\n",
              "      <td>0.000123</td>\n",
              "      <td>-0.000997</td>\n",
              "      <td>0.000038</td>\n",
              "    </tr>\n",
              "    <tr>\n",
              "      <th>103997</th>\n",
              "      <td>-3.059180</td>\n",
              "      <td>-0.598988</td>\n",
              "      <td>2.118689</td>\n",
              "      <td>1.422867</td>\n",
              "      <td>-1.218486</td>\n",
              "      <td>-1.225421</td>\n",
              "      <td>-0.163778</td>\n",
              "      <td>1.030046</td>\n",
              "      <td>-1.165390</td>\n",
              "      <td>-0.146623</td>\n",
              "      <td>...</td>\n",
              "      <td>0.011780</td>\n",
              "      <td>0.039457</td>\n",
              "      <td>-0.006971</td>\n",
              "      <td>0.007833</td>\n",
              "      <td>0.002428</td>\n",
              "      <td>0.002168</td>\n",
              "      <td>0.001858</td>\n",
              "      <td>0.001403</td>\n",
              "      <td>0.000625</td>\n",
              "      <td>-0.000341</td>\n",
              "    </tr>\n",
              "    <tr>\n",
              "      <th>103998</th>\n",
              "      <td>-4.010651</td>\n",
              "      <td>-1.380656</td>\n",
              "      <td>1.472554</td>\n",
              "      <td>-0.169433</td>\n",
              "      <td>1.013548</td>\n",
              "      <td>0.770224</td>\n",
              "      <td>0.177408</td>\n",
              "      <td>-1.357306</td>\n",
              "      <td>0.502398</td>\n",
              "      <td>0.022778</td>\n",
              "      <td>...</td>\n",
              "      <td>-0.034796</td>\n",
              "      <td>-0.038155</td>\n",
              "      <td>-0.005727</td>\n",
              "      <td>0.018365</td>\n",
              "      <td>0.005892</td>\n",
              "      <td>0.000914</td>\n",
              "      <td>0.000365</td>\n",
              "      <td>0.000157</td>\n",
              "      <td>0.000053</td>\n",
              "      <td>0.000254</td>\n",
              "    </tr>\n",
              "    <tr>\n",
              "      <th>103999</th>\n",
              "      <td>-3.647920</td>\n",
              "      <td>2.443326</td>\n",
              "      <td>-2.816268</td>\n",
              "      <td>1.487002</td>\n",
              "      <td>0.613045</td>\n",
              "      <td>0.409214</td>\n",
              "      <td>1.385908</td>\n",
              "      <td>-0.423432</td>\n",
              "      <td>0.672602</td>\n",
              "      <td>0.790135</td>\n",
              "      <td>...</td>\n",
              "      <td>-0.004522</td>\n",
              "      <td>-0.000234</td>\n",
              "      <td>-0.098061</td>\n",
              "      <td>-0.308076</td>\n",
              "      <td>0.003901</td>\n",
              "      <td>0.005501</td>\n",
              "      <td>-0.002358</td>\n",
              "      <td>-0.000228</td>\n",
              "      <td>0.000416</td>\n",
              "      <td>-0.000104</td>\n",
              "    </tr>\n",
              "  </tbody>\n",
              "</table>\n",
              "<p>104000 rows × 32 columns</p>\n",
              "</div>\n",
              "      <button class=\"colab-df-convert\" onclick=\"convertToInteractive('df-23b05806-5426-4475-a8f2-7cc4b4fe5610')\"\n",
              "              title=\"Convert this dataframe to an interactive table.\"\n",
              "              style=\"display:none;\">\n",
              "        \n",
              "  <svg xmlns=\"http://www.w3.org/2000/svg\" height=\"24px\"viewBox=\"0 0 24 24\"\n",
              "       width=\"24px\">\n",
              "    <path d=\"M0 0h24v24H0V0z\" fill=\"none\"/>\n",
              "    <path d=\"M18.56 5.44l.94 2.06.94-2.06 2.06-.94-2.06-.94-.94-2.06-.94 2.06-2.06.94zm-11 1L8.5 8.5l.94-2.06 2.06-.94-2.06-.94L8.5 2.5l-.94 2.06-2.06.94zm10 10l.94 2.06.94-2.06 2.06-.94-2.06-.94-.94-2.06-.94 2.06-2.06.94z\"/><path d=\"M17.41 7.96l-1.37-1.37c-.4-.4-.92-.59-1.43-.59-.52 0-1.04.2-1.43.59L10.3 9.45l-7.72 7.72c-.78.78-.78 2.05 0 2.83L4 21.41c.39.39.9.59 1.41.59.51 0 1.02-.2 1.41-.59l7.78-7.78 2.81-2.81c.8-.78.8-2.07 0-2.86zM5.41 20L4 18.59l7.72-7.72 1.47 1.35L5.41 20z\"/>\n",
              "  </svg>\n",
              "      </button>\n",
              "      \n",
              "  <style>\n",
              "    .colab-df-container {\n",
              "      display:flex;\n",
              "      flex-wrap:wrap;\n",
              "      gap: 12px;\n",
              "    }\n",
              "\n",
              "    .colab-df-convert {\n",
              "      background-color: #E8F0FE;\n",
              "      border: none;\n",
              "      border-radius: 50%;\n",
              "      cursor: pointer;\n",
              "      display: none;\n",
              "      fill: #1967D2;\n",
              "      height: 32px;\n",
              "      padding: 0 0 0 0;\n",
              "      width: 32px;\n",
              "    }\n",
              "\n",
              "    .colab-df-convert:hover {\n",
              "      background-color: #E2EBFA;\n",
              "      box-shadow: 0px 1px 2px rgba(60, 64, 67, 0.3), 0px 1px 3px 1px rgba(60, 64, 67, 0.15);\n",
              "      fill: #174EA6;\n",
              "    }\n",
              "\n",
              "    [theme=dark] .colab-df-convert {\n",
              "      background-color: #3B4455;\n",
              "      fill: #D2E3FC;\n",
              "    }\n",
              "\n",
              "    [theme=dark] .colab-df-convert:hover {\n",
              "      background-color: #434B5C;\n",
              "      box-shadow: 0px 1px 3px 1px rgba(0, 0, 0, 0.15);\n",
              "      filter: drop-shadow(0px 1px 2px rgba(0, 0, 0, 0.3));\n",
              "      fill: #FFFFFF;\n",
              "    }\n",
              "  </style>\n",
              "\n",
              "      <script>\n",
              "        const buttonEl =\n",
              "          document.querySelector('#df-23b05806-5426-4475-a8f2-7cc4b4fe5610 button.colab-df-convert');\n",
              "        buttonEl.style.display =\n",
              "          google.colab.kernel.accessAllowed ? 'block' : 'none';\n",
              "\n",
              "        async function convertToInteractive(key) {\n",
              "          const element = document.querySelector('#df-23b05806-5426-4475-a8f2-7cc4b4fe5610');\n",
              "          const dataTable =\n",
              "            await google.colab.kernel.invokeFunction('convertToInteractive',\n",
              "                                                     [key], {});\n",
              "          if (!dataTable) return;\n",
              "\n",
              "          const docLinkHtml = 'Like what you see? Visit the ' +\n",
              "            '<a target=\"_blank\" href=https://colab.research.google.com/notebooks/data_table.ipynb>data table notebook</a>'\n",
              "            + ' to learn more about interactive tables.';\n",
              "          element.innerHTML = '';\n",
              "          dataTable['output_type'] = 'display_data';\n",
              "          await google.colab.output.renderOutput(dataTable, element);\n",
              "          const docLink = document.createElement('div');\n",
              "          docLink.innerHTML = docLinkHtml;\n",
              "          element.appendChild(docLink);\n",
              "        }\n",
              "      </script>\n",
              "    </div>\n",
              "  </div>\n",
              "  "
            ]
          },
          "metadata": {},
          "execution_count": 19
        },
        {
          "output_type": "stream",
          "name": "stdout",
          "text": [
            "time: 63.9 ms (started: 2023-03-27 21:29:34 +00:00)\n"
          ]
        }
      ],
      "source": [
        "principalDf"
      ]
    },
    {
      "cell_type": "code",
      "execution_count": null,
      "metadata": {
        "colab": {
          "base_uri": "https://localhost:8080/"
        },
        "id": "wddKdceO6Eap",
        "outputId": "e6ec1632-41c5-46b6-9b19-62c8cf4acc9c"
      },
      "outputs": [
        {
          "output_type": "execute_result",
          "data": {
            "text/plain": [
              "((32,), array([3.93635227e-01, 1.24762053e-01, 1.18611084e-01, 6.33569133e-02,\n",
              "        5.18495059e-02, 4.61874288e-02, 3.12795119e-02, 3.08574023e-02,\n",
              "        2.30650019e-02, 2.13228593e-02, 1.73227197e-02, 1.57880285e-02,\n",
              "        1.25994637e-02, 1.23241753e-02, 9.69130640e-03, 5.75195889e-03,\n",
              "        4.65616072e-03, 3.94373278e-03, 3.49445094e-03, 2.55820622e-03,\n",
              "        1.86431397e-03, 1.76654672e-03, 1.13938699e-03, 9.62450594e-04,\n",
              "        5.78276561e-04, 4.54243339e-04, 1.41609487e-04, 2.77623479e-05,\n",
              "        7.41302858e-06, 5.54999185e-07, 1.44969877e-07, 1.06373264e-07]))"
            ]
          },
          "metadata": {},
          "execution_count": 20
        },
        {
          "output_type": "stream",
          "name": "stdout",
          "text": [
            "time: 8.32 ms (started: 2023-03-27 21:29:34 +00:00)\n"
          ]
        }
      ],
      "source": [
        "pca.explained_variance_ratio_.shape, pca.explained_variance_ratio_"
      ]
    },
    {
      "cell_type": "code",
      "source": [
        "Principal_Components = pca.components_"
      ],
      "metadata": {
        "colab": {
          "base_uri": "https://localhost:8080/"
        },
        "id": "pJmwE2Stvh8U",
        "outputId": "5b1e0a42-3b9f-480b-de42-7b5a61ac8638"
      },
      "execution_count": null,
      "outputs": [
        {
          "output_type": "stream",
          "name": "stdout",
          "text": [
            "time: 676 µs (started: 2023-03-27 21:29:36 +00:00)\n"
          ]
        }
      ]
    },
    {
      "cell_type": "code",
      "source": [
        "PC = pd.DataFrame(Principal_Components)"
      ],
      "metadata": {
        "colab": {
          "base_uri": "https://localhost:8080/"
        },
        "id": "ObkzANpU6Ryd",
        "outputId": "938f114a-8b2e-49f0-f4b3-10ee227fd027"
      },
      "execution_count": null,
      "outputs": [
        {
          "output_type": "stream",
          "name": "stdout",
          "text": [
            "time: 876 µs (started: 2023-03-27 21:29:36 +00:00)\n"
          ]
        }
      ]
    },
    {
      "cell_type": "code",
      "source": [
        "PC"
      ],
      "metadata": {
        "colab": {
          "base_uri": "https://localhost:8080/",
          "height": 1000
        },
        "id": "cdKV3ZIJ6jet",
        "outputId": "aab3bc98-de0c-4b49-e3b7-a3821dc0d36e"
      },
      "execution_count": null,
      "outputs": [
        {
          "output_type": "execute_result",
          "data": {
            "text/plain": [
              "          0         1         2         3         4         5         6   \\\n",
              "0   0.038970  0.227480 -0.041183  0.227089 -0.029853  0.234044  0.085140   \n",
              "1   0.210631  0.167665  0.049530  0.168438 -0.255426  0.173537 -0.285588   \n",
              "2   0.215840 -0.022997 -0.447352 -0.022945  0.189035 -0.025985  0.147609   \n",
              "3  -0.343782 -0.196815  0.091716 -0.197243 -0.134389 -0.182356 -0.010766   \n",
              "4  -0.049038 -0.112671  0.157058 -0.113736  0.252193 -0.108783  0.343865   \n",
              "5  -0.262493  0.052712 -0.012035  0.052313  0.180420  0.059725 -0.036480   \n",
              "6   0.439472 -0.179670  0.129346 -0.180812 -0.038874 -0.182265  0.151128   \n",
              "7  -0.044409 -0.206277 -0.174263 -0.206630 -0.233178 -0.152483 -0.047578   \n",
              "8  -0.118315 -0.020375  0.064558 -0.020455  0.454334 -0.006347 -0.339228   \n",
              "9   0.262415 -0.072005 -0.027722 -0.071177  0.441679 -0.057777 -0.353237   \n",
              "10 -0.075255  0.176169  0.107690  0.176083 -0.001943  0.077101 -0.113950   \n",
              "11 -0.091180 -0.119310 -0.282820 -0.118641 -0.170415 -0.128440 -0.119243   \n",
              "12  0.036863  0.149536  0.020868  0.149748 -0.093113  0.111884  0.305464   \n",
              "13  0.067336 -0.030286  0.035487 -0.029613  0.029737  0.000996 -0.227061   \n",
              "14 -0.045924 -0.094429 -0.022456 -0.094022  0.161683 -0.055058 -0.018953   \n",
              "15 -0.051701 -0.003973  0.086216 -0.003835 -0.350035 -0.024845  0.057416   \n",
              "16  0.159231 -0.196302  0.470400 -0.200216 -0.176631 -0.049771 -0.125154   \n",
              "17 -0.019952 -0.197470 -0.251514 -0.199818 -0.100969  0.012591  0.086983   \n",
              "18  0.019012  0.036005 -0.029456  0.036078  0.212821  0.057955  0.508583   \n",
              "19 -0.028419  0.049712 -0.274163  0.051854  0.003067  0.048163 -0.065082   \n",
              "20 -0.007788  0.154802  0.134859  0.156816 -0.083985 -0.045631 -0.106239   \n",
              "21  0.105765 -0.120190 -0.019869 -0.116615  0.099905  0.069119  0.030237   \n",
              "22  0.601094  0.028210  0.026560  0.031166 -0.049143 -0.019913  0.031753   \n",
              "23  0.075151  0.217070 -0.028187  0.205003  0.034143 -0.527081  0.016917   \n",
              "24  0.059958 -0.202654 -0.052786 -0.197062 -0.011070  0.681661 -0.026840   \n",
              "25  0.079883  0.027265 -0.475182  0.027483 -0.178231 -0.093361 -0.169161   \n",
              "26 -0.017287 -0.011100  0.000861 -0.010397 -0.008347 -0.020893 -0.008681   \n",
              "27  0.001164  0.007492  0.003030 -0.006226  0.000907  0.005488  0.000938   \n",
              "28 -0.002817  0.004960 -0.002081 -0.004615 -0.000599  0.005441 -0.001429   \n",
              "29  0.000856  0.698955 -0.001503 -0.702058  0.000312  0.007757 -0.000993   \n",
              "30  0.000397 -0.096492 -0.000062  0.094900  0.000349  0.000825  0.000028   \n",
              "31  0.000262  0.002229  0.000167 -0.002070 -0.000243  0.000040 -0.000135   \n",
              "\n",
              "          7         8         9   ...        22        23        24        25  \\\n",
              "0   0.212645  0.074480  0.203332  ...  0.132899  0.232995 -0.075767  0.257810   \n",
              "1   0.157379  0.106942  0.145179  ... -0.362897 -0.205505  0.068793  0.078911   \n",
              "2  -0.069949  0.104971  0.095936  ... -0.010958 -0.059836 -0.219659  0.050433   \n",
              "3  -0.245331 -0.328904  0.194889  ... -0.070943  0.077635 -0.286906  0.144803   \n",
              "4  -0.129959  0.175216  0.252527  ... -0.028182 -0.144273  0.043198  0.027855   \n",
              "5   0.149267 -0.595084  0.089757  ... -0.012658 -0.093856  0.235831  0.001311   \n",
              "6  -0.157223  0.109244  0.141276  ... -0.005929  0.035417  0.169075 -0.030346   \n",
              "7  -0.098967 -0.015606 -0.024514  ... -0.061544 -0.099352 -0.291184  0.084291   \n",
              "8  -0.003971  0.020924 -0.010323  ... -0.041618  0.024945  0.270979  0.129821   \n",
              "9  -0.077891  0.148581  0.032304  ... -0.023879  0.151602 -0.186911 -0.031865   \n",
              "10  0.064769 -0.017056  0.367659  ... -0.045327  0.024286 -0.392095 -0.288205   \n",
              "11 -0.071039  0.049476  0.275139  ...  0.049610  0.130664  0.599087 -0.102224   \n",
              "12 -0.061990  0.067557  0.086999  ...  0.531343 -0.085892  0.123353  0.055472   \n",
              "13 -0.080133 -0.012292  0.256933  ...  0.037471 -0.175515 -0.001856  0.092837   \n",
              "14  0.135579 -0.023575  0.027072  ...  0.532220  0.012981 -0.152156 -0.019850   \n",
              "15 -0.153665  0.080004 -0.035084  ... -0.084433  0.021316  0.032467  0.010231   \n",
              "16  0.323126  0.083094  0.043779  ...  0.086563 -0.016356  0.075181  0.052203   \n",
              "17  0.581620  0.001205  0.073252  ... -0.024584  0.030316 -0.079260  0.058105   \n",
              "18  0.022118 -0.051752  0.052559  ... -0.483860  0.109013  0.075458  0.008364   \n",
              "19 -0.156808  0.061953  0.019401  ...  0.043736 -0.024106  0.090080  0.066972   \n",
              "20 -0.387792  0.026224  0.022513  ...  0.024931  0.168536 -0.034751  0.209566   \n",
              "21  0.165201 -0.066602 -0.009919  ... -0.077190 -0.147193 -0.026476  0.221683   \n",
              "22 -0.070525 -0.631857 -0.004126  ...  0.072419  0.178648  0.001017 -0.025045   \n",
              "23  0.072154 -0.068195 -0.006794  ...  0.026920 -0.654335  0.003116  0.042720   \n",
              "24 -0.258994 -0.077742  0.004878  ...  0.052561 -0.454674 -0.001092 -0.036062   \n",
              "25 -0.014056 -0.033930  0.001553  ...  0.011238  0.067798 -0.002124  0.001313   \n",
              "26  0.025426  0.015901 -0.001154  ...  0.014436  0.192023 -0.000871 -0.022458   \n",
              "27 -0.008508 -0.000687  0.001613  ... -0.001197  0.029711 -0.001380  0.801157   \n",
              "28 -0.005976  0.000935  0.006316  ...  0.000856  0.012606 -0.000551 -0.146760   \n",
              "29 -0.003741 -0.001175  0.060734  ... -0.000137  0.003978  0.000027 -0.006878   \n",
              "30 -0.000151 -0.000441  0.458667  ... -0.000377  0.001687 -0.000313 -0.000622   \n",
              "31  0.000244 -0.000563  0.534053  ... -0.000143 -0.001133 -0.000054  0.001520   \n",
              "\n",
              "          26        27        28        29        30        31  \n",
              "0   0.084774  0.257755 -0.163750  0.257647  0.164985  0.236093  \n",
              "1  -0.157337  0.079763  0.189417  0.080286 -0.308056  0.146001  \n",
              "2   0.034222  0.050625  0.136032  0.050874  0.002412  0.071645  \n",
              "3  -0.216314  0.143241  0.328442  0.143811 -0.115993  0.148792  \n",
              "4  -0.086438  0.028059 -0.011676  0.028132  0.158536  0.031766  \n",
              "5   0.110527  0.000336 -0.018347  0.000533  0.015452 -0.019695  \n",
              "6   0.316440 -0.029523 -0.121843 -0.031364 -0.060547  0.005546  \n",
              "7   0.494473  0.086794 -0.073178  0.087764 -0.117008  0.133274  \n",
              "8   0.516203  0.130477  0.048765  0.128860 -0.178937  0.137469  \n",
              "9  -0.264087 -0.029048  0.160592 -0.027188 -0.180036  0.017587  \n",
              "10  0.317371 -0.290254  0.032545 -0.291069 -0.009426 -0.309899  \n",
              "11 -0.145562 -0.103564 -0.019804 -0.103124 -0.136411 -0.119254  \n",
              "12  0.110428  0.053538  0.348632  0.052661 -0.364377  0.024104  \n",
              "13 -0.172062  0.092274 -0.455060  0.092349  0.277089  0.168248  \n",
              "14 -0.171272 -0.017918 -0.176108 -0.015387 -0.144402 -0.041681  \n",
              "15  0.071046  0.006014 -0.245234  0.000010 -0.033774 -0.054088  \n",
              "16  0.036705  0.053787  0.395113  0.050260  0.261870 -0.029147  \n",
              "17  0.016272  0.062821 -0.088333  0.060759 -0.119027 -0.023946  \n",
              "18 -0.042267  0.017130  0.069729  0.021534 -0.104665  0.009401  \n",
              "19  0.122906  0.066579  0.378437  0.068489  0.613054 -0.183635  \n",
              "20 -0.023139  0.223063 -0.111045  0.234162 -0.159983 -0.365918  \n",
              "21 -0.032104  0.203042 -0.069405  0.181089 -0.077123 -0.733784  \n",
              "22  0.009899 -0.016039 -0.001965 -0.014207  0.058277  0.049811  \n",
              "23 -0.032937  0.032469  0.004551  0.011630 -0.012336  0.013550  \n",
              "24 -0.011302 -0.039674 -0.005596 -0.039004 -0.043414  0.034716  \n",
              "25 -0.009231 -0.006369  0.107965 -0.003215  0.019664 -0.041940  \n",
              "26  0.000517  0.003849 -0.001156  0.032614  0.011163  0.001904  \n",
              "27 -0.000586 -0.277787  0.000633 -0.527196 -0.000939  0.014828  \n",
              "28 -0.001265  0.766583  0.001083 -0.624634  0.000536  0.006043  \n",
              "29 -0.000596 -0.003098 -0.000759  0.010541 -0.000310 -0.002593  \n",
              "30 -0.000250 -0.005156 -0.000074  0.006005  0.000011  0.000592  \n",
              "31  0.000085 -0.002603  0.000438  0.002342  0.000138 -0.000488  \n",
              "\n",
              "[32 rows x 32 columns]"
            ],
            "text/html": [
              "\n",
              "  <div id=\"df-e4099ba9-1b8a-43de-adc6-100d6141bb72\">\n",
              "    <div class=\"colab-df-container\">\n",
              "      <div>\n",
              "<style scoped>\n",
              "    .dataframe tbody tr th:only-of-type {\n",
              "        vertical-align: middle;\n",
              "    }\n",
              "\n",
              "    .dataframe tbody tr th {\n",
              "        vertical-align: top;\n",
              "    }\n",
              "\n",
              "    .dataframe thead th {\n",
              "        text-align: right;\n",
              "    }\n",
              "</style>\n",
              "<table border=\"1\" class=\"dataframe\">\n",
              "  <thead>\n",
              "    <tr style=\"text-align: right;\">\n",
              "      <th></th>\n",
              "      <th>0</th>\n",
              "      <th>1</th>\n",
              "      <th>2</th>\n",
              "      <th>3</th>\n",
              "      <th>4</th>\n",
              "      <th>5</th>\n",
              "      <th>6</th>\n",
              "      <th>7</th>\n",
              "      <th>8</th>\n",
              "      <th>9</th>\n",
              "      <th>...</th>\n",
              "      <th>22</th>\n",
              "      <th>23</th>\n",
              "      <th>24</th>\n",
              "      <th>25</th>\n",
              "      <th>26</th>\n",
              "      <th>27</th>\n",
              "      <th>28</th>\n",
              "      <th>29</th>\n",
              "      <th>30</th>\n",
              "      <th>31</th>\n",
              "    </tr>\n",
              "  </thead>\n",
              "  <tbody>\n",
              "    <tr>\n",
              "      <th>0</th>\n",
              "      <td>0.038970</td>\n",
              "      <td>0.227480</td>\n",
              "      <td>-0.041183</td>\n",
              "      <td>0.227089</td>\n",
              "      <td>-0.029853</td>\n",
              "      <td>0.234044</td>\n",
              "      <td>0.085140</td>\n",
              "      <td>0.212645</td>\n",
              "      <td>0.074480</td>\n",
              "      <td>0.203332</td>\n",
              "      <td>...</td>\n",
              "      <td>0.132899</td>\n",
              "      <td>0.232995</td>\n",
              "      <td>-0.075767</td>\n",
              "      <td>0.257810</td>\n",
              "      <td>0.084774</td>\n",
              "      <td>0.257755</td>\n",
              "      <td>-0.163750</td>\n",
              "      <td>0.257647</td>\n",
              "      <td>0.164985</td>\n",
              "      <td>0.236093</td>\n",
              "    </tr>\n",
              "    <tr>\n",
              "      <th>1</th>\n",
              "      <td>0.210631</td>\n",
              "      <td>0.167665</td>\n",
              "      <td>0.049530</td>\n",
              "      <td>0.168438</td>\n",
              "      <td>-0.255426</td>\n",
              "      <td>0.173537</td>\n",
              "      <td>-0.285588</td>\n",
              "      <td>0.157379</td>\n",
              "      <td>0.106942</td>\n",
              "      <td>0.145179</td>\n",
              "      <td>...</td>\n",
              "      <td>-0.362897</td>\n",
              "      <td>-0.205505</td>\n",
              "      <td>0.068793</td>\n",
              "      <td>0.078911</td>\n",
              "      <td>-0.157337</td>\n",
              "      <td>0.079763</td>\n",
              "      <td>0.189417</td>\n",
              "      <td>0.080286</td>\n",
              "      <td>-0.308056</td>\n",
              "      <td>0.146001</td>\n",
              "    </tr>\n",
              "    <tr>\n",
              "      <th>2</th>\n",
              "      <td>0.215840</td>\n",
              "      <td>-0.022997</td>\n",
              "      <td>-0.447352</td>\n",
              "      <td>-0.022945</td>\n",
              "      <td>0.189035</td>\n",
              "      <td>-0.025985</td>\n",
              "      <td>0.147609</td>\n",
              "      <td>-0.069949</td>\n",
              "      <td>0.104971</td>\n",
              "      <td>0.095936</td>\n",
              "      <td>...</td>\n",
              "      <td>-0.010958</td>\n",
              "      <td>-0.059836</td>\n",
              "      <td>-0.219659</td>\n",
              "      <td>0.050433</td>\n",
              "      <td>0.034222</td>\n",
              "      <td>0.050625</td>\n",
              "      <td>0.136032</td>\n",
              "      <td>0.050874</td>\n",
              "      <td>0.002412</td>\n",
              "      <td>0.071645</td>\n",
              "    </tr>\n",
              "    <tr>\n",
              "      <th>3</th>\n",
              "      <td>-0.343782</td>\n",
              "      <td>-0.196815</td>\n",
              "      <td>0.091716</td>\n",
              "      <td>-0.197243</td>\n",
              "      <td>-0.134389</td>\n",
              "      <td>-0.182356</td>\n",
              "      <td>-0.010766</td>\n",
              "      <td>-0.245331</td>\n",
              "      <td>-0.328904</td>\n",
              "      <td>0.194889</td>\n",
              "      <td>...</td>\n",
              "      <td>-0.070943</td>\n",
              "      <td>0.077635</td>\n",
              "      <td>-0.286906</td>\n",
              "      <td>0.144803</td>\n",
              "      <td>-0.216314</td>\n",
              "      <td>0.143241</td>\n",
              "      <td>0.328442</td>\n",
              "      <td>0.143811</td>\n",
              "      <td>-0.115993</td>\n",
              "      <td>0.148792</td>\n",
              "    </tr>\n",
              "    <tr>\n",
              "      <th>4</th>\n",
              "      <td>-0.049038</td>\n",
              "      <td>-0.112671</td>\n",
              "      <td>0.157058</td>\n",
              "      <td>-0.113736</td>\n",
              "      <td>0.252193</td>\n",
              "      <td>-0.108783</td>\n",
              "      <td>0.343865</td>\n",
              "      <td>-0.129959</td>\n",
              "      <td>0.175216</td>\n",
              "      <td>0.252527</td>\n",
              "      <td>...</td>\n",
              "      <td>-0.028182</td>\n",
              "      <td>-0.144273</td>\n",
              "      <td>0.043198</td>\n",
              "      <td>0.027855</td>\n",
              "      <td>-0.086438</td>\n",
              "      <td>0.028059</td>\n",
              "      <td>-0.011676</td>\n",
              "      <td>0.028132</td>\n",
              "      <td>0.158536</td>\n",
              "      <td>0.031766</td>\n",
              "    </tr>\n",
              "    <tr>\n",
              "      <th>5</th>\n",
              "      <td>-0.262493</td>\n",
              "      <td>0.052712</td>\n",
              "      <td>-0.012035</td>\n",
              "      <td>0.052313</td>\n",
              "      <td>0.180420</td>\n",
              "      <td>0.059725</td>\n",
              "      <td>-0.036480</td>\n",
              "      <td>0.149267</td>\n",
              "      <td>-0.595084</td>\n",
              "      <td>0.089757</td>\n",
              "      <td>...</td>\n",
              "      <td>-0.012658</td>\n",
              "      <td>-0.093856</td>\n",
              "      <td>0.235831</td>\n",
              "      <td>0.001311</td>\n",
              "      <td>0.110527</td>\n",
              "      <td>0.000336</td>\n",
              "      <td>-0.018347</td>\n",
              "      <td>0.000533</td>\n",
              "      <td>0.015452</td>\n",
              "      <td>-0.019695</td>\n",
              "    </tr>\n",
              "    <tr>\n",
              "      <th>6</th>\n",
              "      <td>0.439472</td>\n",
              "      <td>-0.179670</td>\n",
              "      <td>0.129346</td>\n",
              "      <td>-0.180812</td>\n",
              "      <td>-0.038874</td>\n",
              "      <td>-0.182265</td>\n",
              "      <td>0.151128</td>\n",
              "      <td>-0.157223</td>\n",
              "      <td>0.109244</td>\n",
              "      <td>0.141276</td>\n",
              "      <td>...</td>\n",
              "      <td>-0.005929</td>\n",
              "      <td>0.035417</td>\n",
              "      <td>0.169075</td>\n",
              "      <td>-0.030346</td>\n",
              "      <td>0.316440</td>\n",
              "      <td>-0.029523</td>\n",
              "      <td>-0.121843</td>\n",
              "      <td>-0.031364</td>\n",
              "      <td>-0.060547</td>\n",
              "      <td>0.005546</td>\n",
              "    </tr>\n",
              "    <tr>\n",
              "      <th>7</th>\n",
              "      <td>-0.044409</td>\n",
              "      <td>-0.206277</td>\n",
              "      <td>-0.174263</td>\n",
              "      <td>-0.206630</td>\n",
              "      <td>-0.233178</td>\n",
              "      <td>-0.152483</td>\n",
              "      <td>-0.047578</td>\n",
              "      <td>-0.098967</td>\n",
              "      <td>-0.015606</td>\n",
              "      <td>-0.024514</td>\n",
              "      <td>...</td>\n",
              "      <td>-0.061544</td>\n",
              "      <td>-0.099352</td>\n",
              "      <td>-0.291184</td>\n",
              "      <td>0.084291</td>\n",
              "      <td>0.494473</td>\n",
              "      <td>0.086794</td>\n",
              "      <td>-0.073178</td>\n",
              "      <td>0.087764</td>\n",
              "      <td>-0.117008</td>\n",
              "      <td>0.133274</td>\n",
              "    </tr>\n",
              "    <tr>\n",
              "      <th>8</th>\n",
              "      <td>-0.118315</td>\n",
              "      <td>-0.020375</td>\n",
              "      <td>0.064558</td>\n",
              "      <td>-0.020455</td>\n",
              "      <td>0.454334</td>\n",
              "      <td>-0.006347</td>\n",
              "      <td>-0.339228</td>\n",
              "      <td>-0.003971</td>\n",
              "      <td>0.020924</td>\n",
              "      <td>-0.010323</td>\n",
              "      <td>...</td>\n",
              "      <td>-0.041618</td>\n",
              "      <td>0.024945</td>\n",
              "      <td>0.270979</td>\n",
              "      <td>0.129821</td>\n",
              "      <td>0.516203</td>\n",
              "      <td>0.130477</td>\n",
              "      <td>0.048765</td>\n",
              "      <td>0.128860</td>\n",
              "      <td>-0.178937</td>\n",
              "      <td>0.137469</td>\n",
              "    </tr>\n",
              "    <tr>\n",
              "      <th>9</th>\n",
              "      <td>0.262415</td>\n",
              "      <td>-0.072005</td>\n",
              "      <td>-0.027722</td>\n",
              "      <td>-0.071177</td>\n",
              "      <td>0.441679</td>\n",
              "      <td>-0.057777</td>\n",
              "      <td>-0.353237</td>\n",
              "      <td>-0.077891</td>\n",
              "      <td>0.148581</td>\n",
              "      <td>0.032304</td>\n",
              "      <td>...</td>\n",
              "      <td>-0.023879</td>\n",
              "      <td>0.151602</td>\n",
              "      <td>-0.186911</td>\n",
              "      <td>-0.031865</td>\n",
              "      <td>-0.264087</td>\n",
              "      <td>-0.029048</td>\n",
              "      <td>0.160592</td>\n",
              "      <td>-0.027188</td>\n",
              "      <td>-0.180036</td>\n",
              "      <td>0.017587</td>\n",
              "    </tr>\n",
              "    <tr>\n",
              "      <th>10</th>\n",
              "      <td>-0.075255</td>\n",
              "      <td>0.176169</td>\n",
              "      <td>0.107690</td>\n",
              "      <td>0.176083</td>\n",
              "      <td>-0.001943</td>\n",
              "      <td>0.077101</td>\n",
              "      <td>-0.113950</td>\n",
              "      <td>0.064769</td>\n",
              "      <td>-0.017056</td>\n",
              "      <td>0.367659</td>\n",
              "      <td>...</td>\n",
              "      <td>-0.045327</td>\n",
              "      <td>0.024286</td>\n",
              "      <td>-0.392095</td>\n",
              "      <td>-0.288205</td>\n",
              "      <td>0.317371</td>\n",
              "      <td>-0.290254</td>\n",
              "      <td>0.032545</td>\n",
              "      <td>-0.291069</td>\n",
              "      <td>-0.009426</td>\n",
              "      <td>-0.309899</td>\n",
              "    </tr>\n",
              "    <tr>\n",
              "      <th>11</th>\n",
              "      <td>-0.091180</td>\n",
              "      <td>-0.119310</td>\n",
              "      <td>-0.282820</td>\n",
              "      <td>-0.118641</td>\n",
              "      <td>-0.170415</td>\n",
              "      <td>-0.128440</td>\n",
              "      <td>-0.119243</td>\n",
              "      <td>-0.071039</td>\n",
              "      <td>0.049476</td>\n",
              "      <td>0.275139</td>\n",
              "      <td>...</td>\n",
              "      <td>0.049610</td>\n",
              "      <td>0.130664</td>\n",
              "      <td>0.599087</td>\n",
              "      <td>-0.102224</td>\n",
              "      <td>-0.145562</td>\n",
              "      <td>-0.103564</td>\n",
              "      <td>-0.019804</td>\n",
              "      <td>-0.103124</td>\n",
              "      <td>-0.136411</td>\n",
              "      <td>-0.119254</td>\n",
              "    </tr>\n",
              "    <tr>\n",
              "      <th>12</th>\n",
              "      <td>0.036863</td>\n",
              "      <td>0.149536</td>\n",
              "      <td>0.020868</td>\n",
              "      <td>0.149748</td>\n",
              "      <td>-0.093113</td>\n",
              "      <td>0.111884</td>\n",
              "      <td>0.305464</td>\n",
              "      <td>-0.061990</td>\n",
              "      <td>0.067557</td>\n",
              "      <td>0.086999</td>\n",
              "      <td>...</td>\n",
              "      <td>0.531343</td>\n",
              "      <td>-0.085892</td>\n",
              "      <td>0.123353</td>\n",
              "      <td>0.055472</td>\n",
              "      <td>0.110428</td>\n",
              "      <td>0.053538</td>\n",
              "      <td>0.348632</td>\n",
              "      <td>0.052661</td>\n",
              "      <td>-0.364377</td>\n",
              "      <td>0.024104</td>\n",
              "    </tr>\n",
              "    <tr>\n",
              "      <th>13</th>\n",
              "      <td>0.067336</td>\n",
              "      <td>-0.030286</td>\n",
              "      <td>0.035487</td>\n",
              "      <td>-0.029613</td>\n",
              "      <td>0.029737</td>\n",
              "      <td>0.000996</td>\n",
              "      <td>-0.227061</td>\n",
              "      <td>-0.080133</td>\n",
              "      <td>-0.012292</td>\n",
              "      <td>0.256933</td>\n",
              "      <td>...</td>\n",
              "      <td>0.037471</td>\n",
              "      <td>-0.175515</td>\n",
              "      <td>-0.001856</td>\n",
              "      <td>0.092837</td>\n",
              "      <td>-0.172062</td>\n",
              "      <td>0.092274</td>\n",
              "      <td>-0.455060</td>\n",
              "      <td>0.092349</td>\n",
              "      <td>0.277089</td>\n",
              "      <td>0.168248</td>\n",
              "    </tr>\n",
              "    <tr>\n",
              "      <th>14</th>\n",
              "      <td>-0.045924</td>\n",
              "      <td>-0.094429</td>\n",
              "      <td>-0.022456</td>\n",
              "      <td>-0.094022</td>\n",
              "      <td>0.161683</td>\n",
              "      <td>-0.055058</td>\n",
              "      <td>-0.018953</td>\n",
              "      <td>0.135579</td>\n",
              "      <td>-0.023575</td>\n",
              "      <td>0.027072</td>\n",
              "      <td>...</td>\n",
              "      <td>0.532220</td>\n",
              "      <td>0.012981</td>\n",
              "      <td>-0.152156</td>\n",
              "      <td>-0.019850</td>\n",
              "      <td>-0.171272</td>\n",
              "      <td>-0.017918</td>\n",
              "      <td>-0.176108</td>\n",
              "      <td>-0.015387</td>\n",
              "      <td>-0.144402</td>\n",
              "      <td>-0.041681</td>\n",
              "    </tr>\n",
              "    <tr>\n",
              "      <th>15</th>\n",
              "      <td>-0.051701</td>\n",
              "      <td>-0.003973</td>\n",
              "      <td>0.086216</td>\n",
              "      <td>-0.003835</td>\n",
              "      <td>-0.350035</td>\n",
              "      <td>-0.024845</td>\n",
              "      <td>0.057416</td>\n",
              "      <td>-0.153665</td>\n",
              "      <td>0.080004</td>\n",
              "      <td>-0.035084</td>\n",
              "      <td>...</td>\n",
              "      <td>-0.084433</td>\n",
              "      <td>0.021316</td>\n",
              "      <td>0.032467</td>\n",
              "      <td>0.010231</td>\n",
              "      <td>0.071046</td>\n",
              "      <td>0.006014</td>\n",
              "      <td>-0.245234</td>\n",
              "      <td>0.000010</td>\n",
              "      <td>-0.033774</td>\n",
              "      <td>-0.054088</td>\n",
              "    </tr>\n",
              "    <tr>\n",
              "      <th>16</th>\n",
              "      <td>0.159231</td>\n",
              "      <td>-0.196302</td>\n",
              "      <td>0.470400</td>\n",
              "      <td>-0.200216</td>\n",
              "      <td>-0.176631</td>\n",
              "      <td>-0.049771</td>\n",
              "      <td>-0.125154</td>\n",
              "      <td>0.323126</td>\n",
              "      <td>0.083094</td>\n",
              "      <td>0.043779</td>\n",
              "      <td>...</td>\n",
              "      <td>0.086563</td>\n",
              "      <td>-0.016356</td>\n",
              "      <td>0.075181</td>\n",
              "      <td>0.052203</td>\n",
              "      <td>0.036705</td>\n",
              "      <td>0.053787</td>\n",
              "      <td>0.395113</td>\n",
              "      <td>0.050260</td>\n",
              "      <td>0.261870</td>\n",
              "      <td>-0.029147</td>\n",
              "    </tr>\n",
              "    <tr>\n",
              "      <th>17</th>\n",
              "      <td>-0.019952</td>\n",
              "      <td>-0.197470</td>\n",
              "      <td>-0.251514</td>\n",
              "      <td>-0.199818</td>\n",
              "      <td>-0.100969</td>\n",
              "      <td>0.012591</td>\n",
              "      <td>0.086983</td>\n",
              "      <td>0.581620</td>\n",
              "      <td>0.001205</td>\n",
              "      <td>0.073252</td>\n",
              "      <td>...</td>\n",
              "      <td>-0.024584</td>\n",
              "      <td>0.030316</td>\n",
              "      <td>-0.079260</td>\n",
              "      <td>0.058105</td>\n",
              "      <td>0.016272</td>\n",
              "      <td>0.062821</td>\n",
              "      <td>-0.088333</td>\n",
              "      <td>0.060759</td>\n",
              "      <td>-0.119027</td>\n",
              "      <td>-0.023946</td>\n",
              "    </tr>\n",
              "    <tr>\n",
              "      <th>18</th>\n",
              "      <td>0.019012</td>\n",
              "      <td>0.036005</td>\n",
              "      <td>-0.029456</td>\n",
              "      <td>0.036078</td>\n",
              "      <td>0.212821</td>\n",
              "      <td>0.057955</td>\n",
              "      <td>0.508583</td>\n",
              "      <td>0.022118</td>\n",
              "      <td>-0.051752</td>\n",
              "      <td>0.052559</td>\n",
              "      <td>...</td>\n",
              "      <td>-0.483860</td>\n",
              "      <td>0.109013</td>\n",
              "      <td>0.075458</td>\n",
              "      <td>0.008364</td>\n",
              "      <td>-0.042267</td>\n",
              "      <td>0.017130</td>\n",
              "      <td>0.069729</td>\n",
              "      <td>0.021534</td>\n",
              "      <td>-0.104665</td>\n",
              "      <td>0.009401</td>\n",
              "    </tr>\n",
              "    <tr>\n",
              "      <th>19</th>\n",
              "      <td>-0.028419</td>\n",
              "      <td>0.049712</td>\n",
              "      <td>-0.274163</td>\n",
              "      <td>0.051854</td>\n",
              "      <td>0.003067</td>\n",
              "      <td>0.048163</td>\n",
              "      <td>-0.065082</td>\n",
              "      <td>-0.156808</td>\n",
              "      <td>0.061953</td>\n",
              "      <td>0.019401</td>\n",
              "      <td>...</td>\n",
              "      <td>0.043736</td>\n",
              "      <td>-0.024106</td>\n",
              "      <td>0.090080</td>\n",
              "      <td>0.066972</td>\n",
              "      <td>0.122906</td>\n",
              "      <td>0.066579</td>\n",
              "      <td>0.378437</td>\n",
              "      <td>0.068489</td>\n",
              "      <td>0.613054</td>\n",
              "      <td>-0.183635</td>\n",
              "    </tr>\n",
              "    <tr>\n",
              "      <th>20</th>\n",
              "      <td>-0.007788</td>\n",
              "      <td>0.154802</td>\n",
              "      <td>0.134859</td>\n",
              "      <td>0.156816</td>\n",
              "      <td>-0.083985</td>\n",
              "      <td>-0.045631</td>\n",
              "      <td>-0.106239</td>\n",
              "      <td>-0.387792</td>\n",
              "      <td>0.026224</td>\n",
              "      <td>0.022513</td>\n",
              "      <td>...</td>\n",
              "      <td>0.024931</td>\n",
              "      <td>0.168536</td>\n",
              "      <td>-0.034751</td>\n",
              "      <td>0.209566</td>\n",
              "      <td>-0.023139</td>\n",
              "      <td>0.223063</td>\n",
              "      <td>-0.111045</td>\n",
              "      <td>0.234162</td>\n",
              "      <td>-0.159983</td>\n",
              "      <td>-0.365918</td>\n",
              "    </tr>\n",
              "    <tr>\n",
              "      <th>21</th>\n",
              "      <td>0.105765</td>\n",
              "      <td>-0.120190</td>\n",
              "      <td>-0.019869</td>\n",
              "      <td>-0.116615</td>\n",
              "      <td>0.099905</td>\n",
              "      <td>0.069119</td>\n",
              "      <td>0.030237</td>\n",
              "      <td>0.165201</td>\n",
              "      <td>-0.066602</td>\n",
              "      <td>-0.009919</td>\n",
              "      <td>...</td>\n",
              "      <td>-0.077190</td>\n",
              "      <td>-0.147193</td>\n",
              "      <td>-0.026476</td>\n",
              "      <td>0.221683</td>\n",
              "      <td>-0.032104</td>\n",
              "      <td>0.203042</td>\n",
              "      <td>-0.069405</td>\n",
              "      <td>0.181089</td>\n",
              "      <td>-0.077123</td>\n",
              "      <td>-0.733784</td>\n",
              "    </tr>\n",
              "    <tr>\n",
              "      <th>22</th>\n",
              "      <td>0.601094</td>\n",
              "      <td>0.028210</td>\n",
              "      <td>0.026560</td>\n",
              "      <td>0.031166</td>\n",
              "      <td>-0.049143</td>\n",
              "      <td>-0.019913</td>\n",
              "      <td>0.031753</td>\n",
              "      <td>-0.070525</td>\n",
              "      <td>-0.631857</td>\n",
              "      <td>-0.004126</td>\n",
              "      <td>...</td>\n",
              "      <td>0.072419</td>\n",
              "      <td>0.178648</td>\n",
              "      <td>0.001017</td>\n",
              "      <td>-0.025045</td>\n",
              "      <td>0.009899</td>\n",
              "      <td>-0.016039</td>\n",
              "      <td>-0.001965</td>\n",
              "      <td>-0.014207</td>\n",
              "      <td>0.058277</td>\n",
              "      <td>0.049811</td>\n",
              "    </tr>\n",
              "    <tr>\n",
              "      <th>23</th>\n",
              "      <td>0.075151</td>\n",
              "      <td>0.217070</td>\n",
              "      <td>-0.028187</td>\n",
              "      <td>0.205003</td>\n",
              "      <td>0.034143</td>\n",
              "      <td>-0.527081</td>\n",
              "      <td>0.016917</td>\n",
              "      <td>0.072154</td>\n",
              "      <td>-0.068195</td>\n",
              "      <td>-0.006794</td>\n",
              "      <td>...</td>\n",
              "      <td>0.026920</td>\n",
              "      <td>-0.654335</td>\n",
              "      <td>0.003116</td>\n",
              "      <td>0.042720</td>\n",
              "      <td>-0.032937</td>\n",
              "      <td>0.032469</td>\n",
              "      <td>0.004551</td>\n",
              "      <td>0.011630</td>\n",
              "      <td>-0.012336</td>\n",
              "      <td>0.013550</td>\n",
              "    </tr>\n",
              "    <tr>\n",
              "      <th>24</th>\n",
              "      <td>0.059958</td>\n",
              "      <td>-0.202654</td>\n",
              "      <td>-0.052786</td>\n",
              "      <td>-0.197062</td>\n",
              "      <td>-0.011070</td>\n",
              "      <td>0.681661</td>\n",
              "      <td>-0.026840</td>\n",
              "      <td>-0.258994</td>\n",
              "      <td>-0.077742</td>\n",
              "      <td>0.004878</td>\n",
              "      <td>...</td>\n",
              "      <td>0.052561</td>\n",
              "      <td>-0.454674</td>\n",
              "      <td>-0.001092</td>\n",
              "      <td>-0.036062</td>\n",
              "      <td>-0.011302</td>\n",
              "      <td>-0.039674</td>\n",
              "      <td>-0.005596</td>\n",
              "      <td>-0.039004</td>\n",
              "      <td>-0.043414</td>\n",
              "      <td>0.034716</td>\n",
              "    </tr>\n",
              "    <tr>\n",
              "      <th>25</th>\n",
              "      <td>0.079883</td>\n",
              "      <td>0.027265</td>\n",
              "      <td>-0.475182</td>\n",
              "      <td>0.027483</td>\n",
              "      <td>-0.178231</td>\n",
              "      <td>-0.093361</td>\n",
              "      <td>-0.169161</td>\n",
              "      <td>-0.014056</td>\n",
              "      <td>-0.033930</td>\n",
              "      <td>0.001553</td>\n",
              "      <td>...</td>\n",
              "      <td>0.011238</td>\n",
              "      <td>0.067798</td>\n",
              "      <td>-0.002124</td>\n",
              "      <td>0.001313</td>\n",
              "      <td>-0.009231</td>\n",
              "      <td>-0.006369</td>\n",
              "      <td>0.107965</td>\n",
              "      <td>-0.003215</td>\n",
              "      <td>0.019664</td>\n",
              "      <td>-0.041940</td>\n",
              "    </tr>\n",
              "    <tr>\n",
              "      <th>26</th>\n",
              "      <td>-0.017287</td>\n",
              "      <td>-0.011100</td>\n",
              "      <td>0.000861</td>\n",
              "      <td>-0.010397</td>\n",
              "      <td>-0.008347</td>\n",
              "      <td>-0.020893</td>\n",
              "      <td>-0.008681</td>\n",
              "      <td>0.025426</td>\n",
              "      <td>0.015901</td>\n",
              "      <td>-0.001154</td>\n",
              "      <td>...</td>\n",
              "      <td>0.014436</td>\n",
              "      <td>0.192023</td>\n",
              "      <td>-0.000871</td>\n",
              "      <td>-0.022458</td>\n",
              "      <td>0.000517</td>\n",
              "      <td>0.003849</td>\n",
              "      <td>-0.001156</td>\n",
              "      <td>0.032614</td>\n",
              "      <td>0.011163</td>\n",
              "      <td>0.001904</td>\n",
              "    </tr>\n",
              "    <tr>\n",
              "      <th>27</th>\n",
              "      <td>0.001164</td>\n",
              "      <td>0.007492</td>\n",
              "      <td>0.003030</td>\n",
              "      <td>-0.006226</td>\n",
              "      <td>0.000907</td>\n",
              "      <td>0.005488</td>\n",
              "      <td>0.000938</td>\n",
              "      <td>-0.008508</td>\n",
              "      <td>-0.000687</td>\n",
              "      <td>0.001613</td>\n",
              "      <td>...</td>\n",
              "      <td>-0.001197</td>\n",
              "      <td>0.029711</td>\n",
              "      <td>-0.001380</td>\n",
              "      <td>0.801157</td>\n",
              "      <td>-0.000586</td>\n",
              "      <td>-0.277787</td>\n",
              "      <td>0.000633</td>\n",
              "      <td>-0.527196</td>\n",
              "      <td>-0.000939</td>\n",
              "      <td>0.014828</td>\n",
              "    </tr>\n",
              "    <tr>\n",
              "      <th>28</th>\n",
              "      <td>-0.002817</td>\n",
              "      <td>0.004960</td>\n",
              "      <td>-0.002081</td>\n",
              "      <td>-0.004615</td>\n",
              "      <td>-0.000599</td>\n",
              "      <td>0.005441</td>\n",
              "      <td>-0.001429</td>\n",
              "      <td>-0.005976</td>\n",
              "      <td>0.000935</td>\n",
              "      <td>0.006316</td>\n",
              "      <td>...</td>\n",
              "      <td>0.000856</td>\n",
              "      <td>0.012606</td>\n",
              "      <td>-0.000551</td>\n",
              "      <td>-0.146760</td>\n",
              "      <td>-0.001265</td>\n",
              "      <td>0.766583</td>\n",
              "      <td>0.001083</td>\n",
              "      <td>-0.624634</td>\n",
              "      <td>0.000536</td>\n",
              "      <td>0.006043</td>\n",
              "    </tr>\n",
              "    <tr>\n",
              "      <th>29</th>\n",
              "      <td>0.000856</td>\n",
              "      <td>0.698955</td>\n",
              "      <td>-0.001503</td>\n",
              "      <td>-0.702058</td>\n",
              "      <td>0.000312</td>\n",
              "      <td>0.007757</td>\n",
              "      <td>-0.000993</td>\n",
              "      <td>-0.003741</td>\n",
              "      <td>-0.001175</td>\n",
              "      <td>0.060734</td>\n",
              "      <td>...</td>\n",
              "      <td>-0.000137</td>\n",
              "      <td>0.003978</td>\n",
              "      <td>0.000027</td>\n",
              "      <td>-0.006878</td>\n",
              "      <td>-0.000596</td>\n",
              "      <td>-0.003098</td>\n",
              "      <td>-0.000759</td>\n",
              "      <td>0.010541</td>\n",
              "      <td>-0.000310</td>\n",
              "      <td>-0.002593</td>\n",
              "    </tr>\n",
              "    <tr>\n",
              "      <th>30</th>\n",
              "      <td>0.000397</td>\n",
              "      <td>-0.096492</td>\n",
              "      <td>-0.000062</td>\n",
              "      <td>0.094900</td>\n",
              "      <td>0.000349</td>\n",
              "      <td>0.000825</td>\n",
              "      <td>0.000028</td>\n",
              "      <td>-0.000151</td>\n",
              "      <td>-0.000441</td>\n",
              "      <td>0.458667</td>\n",
              "      <td>...</td>\n",
              "      <td>-0.000377</td>\n",
              "      <td>0.001687</td>\n",
              "      <td>-0.000313</td>\n",
              "      <td>-0.000622</td>\n",
              "      <td>-0.000250</td>\n",
              "      <td>-0.005156</td>\n",
              "      <td>-0.000074</td>\n",
              "      <td>0.006005</td>\n",
              "      <td>0.000011</td>\n",
              "      <td>0.000592</td>\n",
              "    </tr>\n",
              "    <tr>\n",
              "      <th>31</th>\n",
              "      <td>0.000262</td>\n",
              "      <td>0.002229</td>\n",
              "      <td>0.000167</td>\n",
              "      <td>-0.002070</td>\n",
              "      <td>-0.000243</td>\n",
              "      <td>0.000040</td>\n",
              "      <td>-0.000135</td>\n",
              "      <td>0.000244</td>\n",
              "      <td>-0.000563</td>\n",
              "      <td>0.534053</td>\n",
              "      <td>...</td>\n",
              "      <td>-0.000143</td>\n",
              "      <td>-0.001133</td>\n",
              "      <td>-0.000054</td>\n",
              "      <td>0.001520</td>\n",
              "      <td>0.000085</td>\n",
              "      <td>-0.002603</td>\n",
              "      <td>0.000438</td>\n",
              "      <td>0.002342</td>\n",
              "      <td>0.000138</td>\n",
              "      <td>-0.000488</td>\n",
              "    </tr>\n",
              "  </tbody>\n",
              "</table>\n",
              "<p>32 rows × 32 columns</p>\n",
              "</div>\n",
              "      <button class=\"colab-df-convert\" onclick=\"convertToInteractive('df-e4099ba9-1b8a-43de-adc6-100d6141bb72')\"\n",
              "              title=\"Convert this dataframe to an interactive table.\"\n",
              "              style=\"display:none;\">\n",
              "        \n",
              "  <svg xmlns=\"http://www.w3.org/2000/svg\" height=\"24px\"viewBox=\"0 0 24 24\"\n",
              "       width=\"24px\">\n",
              "    <path d=\"M0 0h24v24H0V0z\" fill=\"none\"/>\n",
              "    <path d=\"M18.56 5.44l.94 2.06.94-2.06 2.06-.94-2.06-.94-.94-2.06-.94 2.06-2.06.94zm-11 1L8.5 8.5l.94-2.06 2.06-.94-2.06-.94L8.5 2.5l-.94 2.06-2.06.94zm10 10l.94 2.06.94-2.06 2.06-.94-2.06-.94-.94-2.06-.94 2.06-2.06.94z\"/><path d=\"M17.41 7.96l-1.37-1.37c-.4-.4-.92-.59-1.43-.59-.52 0-1.04.2-1.43.59L10.3 9.45l-7.72 7.72c-.78.78-.78 2.05 0 2.83L4 21.41c.39.39.9.59 1.41.59.51 0 1.02-.2 1.41-.59l7.78-7.78 2.81-2.81c.8-.78.8-2.07 0-2.86zM5.41 20L4 18.59l7.72-7.72 1.47 1.35L5.41 20z\"/>\n",
              "  </svg>\n",
              "      </button>\n",
              "      \n",
              "  <style>\n",
              "    .colab-df-container {\n",
              "      display:flex;\n",
              "      flex-wrap:wrap;\n",
              "      gap: 12px;\n",
              "    }\n",
              "\n",
              "    .colab-df-convert {\n",
              "      background-color: #E8F0FE;\n",
              "      border: none;\n",
              "      border-radius: 50%;\n",
              "      cursor: pointer;\n",
              "      display: none;\n",
              "      fill: #1967D2;\n",
              "      height: 32px;\n",
              "      padding: 0 0 0 0;\n",
              "      width: 32px;\n",
              "    }\n",
              "\n",
              "    .colab-df-convert:hover {\n",
              "      background-color: #E2EBFA;\n",
              "      box-shadow: 0px 1px 2px rgba(60, 64, 67, 0.3), 0px 1px 3px 1px rgba(60, 64, 67, 0.15);\n",
              "      fill: #174EA6;\n",
              "    }\n",
              "\n",
              "    [theme=dark] .colab-df-convert {\n",
              "      background-color: #3B4455;\n",
              "      fill: #D2E3FC;\n",
              "    }\n",
              "\n",
              "    [theme=dark] .colab-df-convert:hover {\n",
              "      background-color: #434B5C;\n",
              "      box-shadow: 0px 1px 3px 1px rgba(0, 0, 0, 0.15);\n",
              "      filter: drop-shadow(0px 1px 2px rgba(0, 0, 0, 0.3));\n",
              "      fill: #FFFFFF;\n",
              "    }\n",
              "  </style>\n",
              "\n",
              "      <script>\n",
              "        const buttonEl =\n",
              "          document.querySelector('#df-e4099ba9-1b8a-43de-adc6-100d6141bb72 button.colab-df-convert');\n",
              "        buttonEl.style.display =\n",
              "          google.colab.kernel.accessAllowed ? 'block' : 'none';\n",
              "\n",
              "        async function convertToInteractive(key) {\n",
              "          const element = document.querySelector('#df-e4099ba9-1b8a-43de-adc6-100d6141bb72');\n",
              "          const dataTable =\n",
              "            await google.colab.kernel.invokeFunction('convertToInteractive',\n",
              "                                                     [key], {});\n",
              "          if (!dataTable) return;\n",
              "\n",
              "          const docLinkHtml = 'Like what you see? Visit the ' +\n",
              "            '<a target=\"_blank\" href=https://colab.research.google.com/notebooks/data_table.ipynb>data table notebook</a>'\n",
              "            + ' to learn more about interactive tables.';\n",
              "          element.innerHTML = '';\n",
              "          dataTable['output_type'] = 'display_data';\n",
              "          await google.colab.output.renderOutput(dataTable, element);\n",
              "          const docLink = document.createElement('div');\n",
              "          docLink.innerHTML = docLinkHtml;\n",
              "          element.appendChild(docLink);\n",
              "        }\n",
              "      </script>\n",
              "    </div>\n",
              "  </div>\n",
              "  "
            ]
          },
          "metadata": {},
          "execution_count": 23
        },
        {
          "output_type": "stream",
          "name": "stdout",
          "text": [
            "time: 133 ms (started: 2023-03-27 21:29:36 +00:00)\n"
          ]
        }
      ]
    },
    {
      "cell_type": "code",
      "source": [],
      "metadata": {
        "colab": {
          "base_uri": "https://localhost:8080/"
        },
        "id": "1C2_CzZC7qWg",
        "outputId": "64b9f383-caa3-434a-f81d-30ae8502f373"
      },
      "execution_count": null,
      "outputs": [
        {
          "output_type": "stream",
          "name": "stdout",
          "text": [
            "time: 725 ms (started: 2023-03-27 21:29:36 +00:00)\n"
          ]
        }
      ]
    },
    {
      "cell_type": "code",
      "execution_count": null,
      "metadata": {
        "id": "Fne89chfs0f_",
        "colab": {
          "base_uri": "https://localhost:8080/"
        },
        "outputId": "6db761fc-8469-4f0f-eeba-e93da33d0b7d"
      },
      "outputs": [
        {
          "output_type": "stream",
          "name": "stdout",
          "text": [
            "time: 699 µs (started: 2023-03-27 21:29:37 +00:00)\n"
          ]
        }
      ],
      "source": [
        "X_trainPCA = principalDf"
      ]
    },
    {
      "cell_type": "code",
      "execution_count": null,
      "metadata": {
        "colab": {
          "base_uri": "https://localhost:8080/",
          "height": 505
        },
        "id": "L9c0fXxzs0jV",
        "outputId": "0f4ad643-0581-4c00-8ea9-0510c88b5b6e"
      },
      "outputs": [
        {
          "output_type": "execute_result",
          "data": {
            "text/plain": [
              "             PC1       PC2       PC3       PC4       PC5       PC6       PC7  \\\n",
              "0      -1.079153 -1.511967 -0.147611 -1.440011  2.447635 -1.517295 -0.599317   \n",
              "1      -2.335855  0.529823  1.124112 -0.231441  0.964326  0.751084  0.085443   \n",
              "2       6.315912  0.068412 -0.764194 -0.375139  0.283259  0.074741  1.046318   \n",
              "3       8.337553  0.772039 -0.932769 -0.882899  0.961646 -0.680245  1.483954   \n",
              "4      -2.121760 -0.276020  1.309656 -0.046424 -0.135378 -0.300503  0.180755   \n",
              "...          ...       ...       ...       ...       ...       ...       ...   \n",
              "103995  7.355313  7.748587  3.898466  3.652079  2.192688 -1.013384 -2.024073   \n",
              "103996 -3.050823  1.152167 -5.042848  1.808441  2.490603 -2.571199 -3.913538   \n",
              "103997 -3.059180 -0.598988  2.118689  1.422867 -1.218486 -1.225421 -0.163778   \n",
              "103998 -4.010651 -1.380656  1.472554 -0.169433  1.013548  0.770224  0.177408   \n",
              "103999 -3.647920  2.443326 -2.816268  1.487002  0.613045  0.409214  1.385908   \n",
              "\n",
              "             PC8       PC9      PC10  ...      PC23      PC24      PC25  \\\n",
              "0       0.213785  0.495297  0.316445  ... -0.185365 -0.041427 -0.100992   \n",
              "1       0.246855 -0.645806  0.778531  ...  0.117310  0.035554 -0.050744   \n",
              "2       0.139936 -0.177715  0.539767  ... -0.239816 -0.142043  0.032734   \n",
              "3      -0.063228 -0.418476 -0.814917  ...  0.243631 -0.240756 -0.205072   \n",
              "4      -0.229964  0.006841 -1.015633  ...  0.074286 -0.051673  0.111019   \n",
              "...          ...       ...       ...  ...       ...       ...       ...   \n",
              "103995 -2.256681  1.305626 -1.298719  ... -0.108290  0.894026 -0.496291   \n",
              "103996  0.781833  1.321337 -0.894561  ... -0.833411 -0.056973 -0.063156   \n",
              "103997  1.030046 -1.165390 -0.146623  ...  0.011780  0.039457 -0.006971   \n",
              "103998 -1.357306  0.502398  0.022778  ... -0.034796 -0.038155 -0.005727   \n",
              "103999 -0.423432  0.672602  0.790135  ... -0.004522 -0.000234 -0.098061   \n",
              "\n",
              "            PC26      PC27      PC28      PC29      PC30      PC31      PC32  \n",
              "0       0.029031  0.014606 -0.005046 -0.003763 -0.001029 -0.000131 -0.000369  \n",
              "1      -0.003392  0.004297  0.002875 -0.000377  0.000921  0.000664  0.000427  \n",
              "2       0.021822 -0.010794  0.013894  0.009768 -0.001362 -0.001821  0.000507  \n",
              "3       0.005178  0.036575  0.000069 -0.001787  0.002680 -0.000716  0.001477  \n",
              "4       0.158353 -0.006944  0.001373  0.001427 -0.000060 -0.000445  0.000128  \n",
              "...          ...       ...       ...       ...       ...       ...       ...  \n",
              "103995  0.081719  0.155602  0.004648  0.035781  0.048060  0.018093  0.012240  \n",
              "103996 -0.106740  0.014465 -0.001823  0.005684  0.000123 -0.000997  0.000038  \n",
              "103997  0.007833  0.002428  0.002168  0.001858  0.001403  0.000625 -0.000341  \n",
              "103998  0.018365  0.005892  0.000914  0.000365  0.000157  0.000053  0.000254  \n",
              "103999 -0.308076  0.003901  0.005501 -0.002358 -0.000228  0.000416 -0.000104  \n",
              "\n",
              "[104000 rows x 32 columns]"
            ],
            "text/html": [
              "\n",
              "  <div id=\"df-2ed5313b-0f99-44c7-a87c-9e993ebd85cc\">\n",
              "    <div class=\"colab-df-container\">\n",
              "      <div>\n",
              "<style scoped>\n",
              "    .dataframe tbody tr th:only-of-type {\n",
              "        vertical-align: middle;\n",
              "    }\n",
              "\n",
              "    .dataframe tbody tr th {\n",
              "        vertical-align: top;\n",
              "    }\n",
              "\n",
              "    .dataframe thead th {\n",
              "        text-align: right;\n",
              "    }\n",
              "</style>\n",
              "<table border=\"1\" class=\"dataframe\">\n",
              "  <thead>\n",
              "    <tr style=\"text-align: right;\">\n",
              "      <th></th>\n",
              "      <th>PC1</th>\n",
              "      <th>PC2</th>\n",
              "      <th>PC3</th>\n",
              "      <th>PC4</th>\n",
              "      <th>PC5</th>\n",
              "      <th>PC6</th>\n",
              "      <th>PC7</th>\n",
              "      <th>PC8</th>\n",
              "      <th>PC9</th>\n",
              "      <th>PC10</th>\n",
              "      <th>...</th>\n",
              "      <th>PC23</th>\n",
              "      <th>PC24</th>\n",
              "      <th>PC25</th>\n",
              "      <th>PC26</th>\n",
              "      <th>PC27</th>\n",
              "      <th>PC28</th>\n",
              "      <th>PC29</th>\n",
              "      <th>PC30</th>\n",
              "      <th>PC31</th>\n",
              "      <th>PC32</th>\n",
              "    </tr>\n",
              "  </thead>\n",
              "  <tbody>\n",
              "    <tr>\n",
              "      <th>0</th>\n",
              "      <td>-1.079153</td>\n",
              "      <td>-1.511967</td>\n",
              "      <td>-0.147611</td>\n",
              "      <td>-1.440011</td>\n",
              "      <td>2.447635</td>\n",
              "      <td>-1.517295</td>\n",
              "      <td>-0.599317</td>\n",
              "      <td>0.213785</td>\n",
              "      <td>0.495297</td>\n",
              "      <td>0.316445</td>\n",
              "      <td>...</td>\n",
              "      <td>-0.185365</td>\n",
              "      <td>-0.041427</td>\n",
              "      <td>-0.100992</td>\n",
              "      <td>0.029031</td>\n",
              "      <td>0.014606</td>\n",
              "      <td>-0.005046</td>\n",
              "      <td>-0.003763</td>\n",
              "      <td>-0.001029</td>\n",
              "      <td>-0.000131</td>\n",
              "      <td>-0.000369</td>\n",
              "    </tr>\n",
              "    <tr>\n",
              "      <th>1</th>\n",
              "      <td>-2.335855</td>\n",
              "      <td>0.529823</td>\n",
              "      <td>1.124112</td>\n",
              "      <td>-0.231441</td>\n",
              "      <td>0.964326</td>\n",
              "      <td>0.751084</td>\n",
              "      <td>0.085443</td>\n",
              "      <td>0.246855</td>\n",
              "      <td>-0.645806</td>\n",
              "      <td>0.778531</td>\n",
              "      <td>...</td>\n",
              "      <td>0.117310</td>\n",
              "      <td>0.035554</td>\n",
              "      <td>-0.050744</td>\n",
              "      <td>-0.003392</td>\n",
              "      <td>0.004297</td>\n",
              "      <td>0.002875</td>\n",
              "      <td>-0.000377</td>\n",
              "      <td>0.000921</td>\n",
              "      <td>0.000664</td>\n",
              "      <td>0.000427</td>\n",
              "    </tr>\n",
              "    <tr>\n",
              "      <th>2</th>\n",
              "      <td>6.315912</td>\n",
              "      <td>0.068412</td>\n",
              "      <td>-0.764194</td>\n",
              "      <td>-0.375139</td>\n",
              "      <td>0.283259</td>\n",
              "      <td>0.074741</td>\n",
              "      <td>1.046318</td>\n",
              "      <td>0.139936</td>\n",
              "      <td>-0.177715</td>\n",
              "      <td>0.539767</td>\n",
              "      <td>...</td>\n",
              "      <td>-0.239816</td>\n",
              "      <td>-0.142043</td>\n",
              "      <td>0.032734</td>\n",
              "      <td>0.021822</td>\n",
              "      <td>-0.010794</td>\n",
              "      <td>0.013894</td>\n",
              "      <td>0.009768</td>\n",
              "      <td>-0.001362</td>\n",
              "      <td>-0.001821</td>\n",
              "      <td>0.000507</td>\n",
              "    </tr>\n",
              "    <tr>\n",
              "      <th>3</th>\n",
              "      <td>8.337553</td>\n",
              "      <td>0.772039</td>\n",
              "      <td>-0.932769</td>\n",
              "      <td>-0.882899</td>\n",
              "      <td>0.961646</td>\n",
              "      <td>-0.680245</td>\n",
              "      <td>1.483954</td>\n",
              "      <td>-0.063228</td>\n",
              "      <td>-0.418476</td>\n",
              "      <td>-0.814917</td>\n",
              "      <td>...</td>\n",
              "      <td>0.243631</td>\n",
              "      <td>-0.240756</td>\n",
              "      <td>-0.205072</td>\n",
              "      <td>0.005178</td>\n",
              "      <td>0.036575</td>\n",
              "      <td>0.000069</td>\n",
              "      <td>-0.001787</td>\n",
              "      <td>0.002680</td>\n",
              "      <td>-0.000716</td>\n",
              "      <td>0.001477</td>\n",
              "    </tr>\n",
              "    <tr>\n",
              "      <th>4</th>\n",
              "      <td>-2.121760</td>\n",
              "      <td>-0.276020</td>\n",
              "      <td>1.309656</td>\n",
              "      <td>-0.046424</td>\n",
              "      <td>-0.135378</td>\n",
              "      <td>-0.300503</td>\n",
              "      <td>0.180755</td>\n",
              "      <td>-0.229964</td>\n",
              "      <td>0.006841</td>\n",
              "      <td>-1.015633</td>\n",
              "      <td>...</td>\n",
              "      <td>0.074286</td>\n",
              "      <td>-0.051673</td>\n",
              "      <td>0.111019</td>\n",
              "      <td>0.158353</td>\n",
              "      <td>-0.006944</td>\n",
              "      <td>0.001373</td>\n",
              "      <td>0.001427</td>\n",
              "      <td>-0.000060</td>\n",
              "      <td>-0.000445</td>\n",
              "      <td>0.000128</td>\n",
              "    </tr>\n",
              "    <tr>\n",
              "      <th>...</th>\n",
              "      <td>...</td>\n",
              "      <td>...</td>\n",
              "      <td>...</td>\n",
              "      <td>...</td>\n",
              "      <td>...</td>\n",
              "      <td>...</td>\n",
              "      <td>...</td>\n",
              "      <td>...</td>\n",
              "      <td>...</td>\n",
              "      <td>...</td>\n",
              "      <td>...</td>\n",
              "      <td>...</td>\n",
              "      <td>...</td>\n",
              "      <td>...</td>\n",
              "      <td>...</td>\n",
              "      <td>...</td>\n",
              "      <td>...</td>\n",
              "      <td>...</td>\n",
              "      <td>...</td>\n",
              "      <td>...</td>\n",
              "      <td>...</td>\n",
              "    </tr>\n",
              "    <tr>\n",
              "      <th>103995</th>\n",
              "      <td>7.355313</td>\n",
              "      <td>7.748587</td>\n",
              "      <td>3.898466</td>\n",
              "      <td>3.652079</td>\n",
              "      <td>2.192688</td>\n",
              "      <td>-1.013384</td>\n",
              "      <td>-2.024073</td>\n",
              "      <td>-2.256681</td>\n",
              "      <td>1.305626</td>\n",
              "      <td>-1.298719</td>\n",
              "      <td>...</td>\n",
              "      <td>-0.108290</td>\n",
              "      <td>0.894026</td>\n",
              "      <td>-0.496291</td>\n",
              "      <td>0.081719</td>\n",
              "      <td>0.155602</td>\n",
              "      <td>0.004648</td>\n",
              "      <td>0.035781</td>\n",
              "      <td>0.048060</td>\n",
              "      <td>0.018093</td>\n",
              "      <td>0.012240</td>\n",
              "    </tr>\n",
              "    <tr>\n",
              "      <th>103996</th>\n",
              "      <td>-3.050823</td>\n",
              "      <td>1.152167</td>\n",
              "      <td>-5.042848</td>\n",
              "      <td>1.808441</td>\n",
              "      <td>2.490603</td>\n",
              "      <td>-2.571199</td>\n",
              "      <td>-3.913538</td>\n",
              "      <td>0.781833</td>\n",
              "      <td>1.321337</td>\n",
              "      <td>-0.894561</td>\n",
              "      <td>...</td>\n",
              "      <td>-0.833411</td>\n",
              "      <td>-0.056973</td>\n",
              "      <td>-0.063156</td>\n",
              "      <td>-0.106740</td>\n",
              "      <td>0.014465</td>\n",
              "      <td>-0.001823</td>\n",
              "      <td>0.005684</td>\n",
              "      <td>0.000123</td>\n",
              "      <td>-0.000997</td>\n",
              "      <td>0.000038</td>\n",
              "    </tr>\n",
              "    <tr>\n",
              "      <th>103997</th>\n",
              "      <td>-3.059180</td>\n",
              "      <td>-0.598988</td>\n",
              "      <td>2.118689</td>\n",
              "      <td>1.422867</td>\n",
              "      <td>-1.218486</td>\n",
              "      <td>-1.225421</td>\n",
              "      <td>-0.163778</td>\n",
              "      <td>1.030046</td>\n",
              "      <td>-1.165390</td>\n",
              "      <td>-0.146623</td>\n",
              "      <td>...</td>\n",
              "      <td>0.011780</td>\n",
              "      <td>0.039457</td>\n",
              "      <td>-0.006971</td>\n",
              "      <td>0.007833</td>\n",
              "      <td>0.002428</td>\n",
              "      <td>0.002168</td>\n",
              "      <td>0.001858</td>\n",
              "      <td>0.001403</td>\n",
              "      <td>0.000625</td>\n",
              "      <td>-0.000341</td>\n",
              "    </tr>\n",
              "    <tr>\n",
              "      <th>103998</th>\n",
              "      <td>-4.010651</td>\n",
              "      <td>-1.380656</td>\n",
              "      <td>1.472554</td>\n",
              "      <td>-0.169433</td>\n",
              "      <td>1.013548</td>\n",
              "      <td>0.770224</td>\n",
              "      <td>0.177408</td>\n",
              "      <td>-1.357306</td>\n",
              "      <td>0.502398</td>\n",
              "      <td>0.022778</td>\n",
              "      <td>...</td>\n",
              "      <td>-0.034796</td>\n",
              "      <td>-0.038155</td>\n",
              "      <td>-0.005727</td>\n",
              "      <td>0.018365</td>\n",
              "      <td>0.005892</td>\n",
              "      <td>0.000914</td>\n",
              "      <td>0.000365</td>\n",
              "      <td>0.000157</td>\n",
              "      <td>0.000053</td>\n",
              "      <td>0.000254</td>\n",
              "    </tr>\n",
              "    <tr>\n",
              "      <th>103999</th>\n",
              "      <td>-3.647920</td>\n",
              "      <td>2.443326</td>\n",
              "      <td>-2.816268</td>\n",
              "      <td>1.487002</td>\n",
              "      <td>0.613045</td>\n",
              "      <td>0.409214</td>\n",
              "      <td>1.385908</td>\n",
              "      <td>-0.423432</td>\n",
              "      <td>0.672602</td>\n",
              "      <td>0.790135</td>\n",
              "      <td>...</td>\n",
              "      <td>-0.004522</td>\n",
              "      <td>-0.000234</td>\n",
              "      <td>-0.098061</td>\n",
              "      <td>-0.308076</td>\n",
              "      <td>0.003901</td>\n",
              "      <td>0.005501</td>\n",
              "      <td>-0.002358</td>\n",
              "      <td>-0.000228</td>\n",
              "      <td>0.000416</td>\n",
              "      <td>-0.000104</td>\n",
              "    </tr>\n",
              "  </tbody>\n",
              "</table>\n",
              "<p>104000 rows × 32 columns</p>\n",
              "</div>\n",
              "      <button class=\"colab-df-convert\" onclick=\"convertToInteractive('df-2ed5313b-0f99-44c7-a87c-9e993ebd85cc')\"\n",
              "              title=\"Convert this dataframe to an interactive table.\"\n",
              "              style=\"display:none;\">\n",
              "        \n",
              "  <svg xmlns=\"http://www.w3.org/2000/svg\" height=\"24px\"viewBox=\"0 0 24 24\"\n",
              "       width=\"24px\">\n",
              "    <path d=\"M0 0h24v24H0V0z\" fill=\"none\"/>\n",
              "    <path d=\"M18.56 5.44l.94 2.06.94-2.06 2.06-.94-2.06-.94-.94-2.06-.94 2.06-2.06.94zm-11 1L8.5 8.5l.94-2.06 2.06-.94-2.06-.94L8.5 2.5l-.94 2.06-2.06.94zm10 10l.94 2.06.94-2.06 2.06-.94-2.06-.94-.94-2.06-.94 2.06-2.06.94z\"/><path d=\"M17.41 7.96l-1.37-1.37c-.4-.4-.92-.59-1.43-.59-.52 0-1.04.2-1.43.59L10.3 9.45l-7.72 7.72c-.78.78-.78 2.05 0 2.83L4 21.41c.39.39.9.59 1.41.59.51 0 1.02-.2 1.41-.59l7.78-7.78 2.81-2.81c.8-.78.8-2.07 0-2.86zM5.41 20L4 18.59l7.72-7.72 1.47 1.35L5.41 20z\"/>\n",
              "  </svg>\n",
              "      </button>\n",
              "      \n",
              "  <style>\n",
              "    .colab-df-container {\n",
              "      display:flex;\n",
              "      flex-wrap:wrap;\n",
              "      gap: 12px;\n",
              "    }\n",
              "\n",
              "    .colab-df-convert {\n",
              "      background-color: #E8F0FE;\n",
              "      border: none;\n",
              "      border-radius: 50%;\n",
              "      cursor: pointer;\n",
              "      display: none;\n",
              "      fill: #1967D2;\n",
              "      height: 32px;\n",
              "      padding: 0 0 0 0;\n",
              "      width: 32px;\n",
              "    }\n",
              "\n",
              "    .colab-df-convert:hover {\n",
              "      background-color: #E2EBFA;\n",
              "      box-shadow: 0px 1px 2px rgba(60, 64, 67, 0.3), 0px 1px 3px 1px rgba(60, 64, 67, 0.15);\n",
              "      fill: #174EA6;\n",
              "    }\n",
              "\n",
              "    [theme=dark] .colab-df-convert {\n",
              "      background-color: #3B4455;\n",
              "      fill: #D2E3FC;\n",
              "    }\n",
              "\n",
              "    [theme=dark] .colab-df-convert:hover {\n",
              "      background-color: #434B5C;\n",
              "      box-shadow: 0px 1px 3px 1px rgba(0, 0, 0, 0.15);\n",
              "      filter: drop-shadow(0px 1px 2px rgba(0, 0, 0, 0.3));\n",
              "      fill: #FFFFFF;\n",
              "    }\n",
              "  </style>\n",
              "\n",
              "      <script>\n",
              "        const buttonEl =\n",
              "          document.querySelector('#df-2ed5313b-0f99-44c7-a87c-9e993ebd85cc button.colab-df-convert');\n",
              "        buttonEl.style.display =\n",
              "          google.colab.kernel.accessAllowed ? 'block' : 'none';\n",
              "\n",
              "        async function convertToInteractive(key) {\n",
              "          const element = document.querySelector('#df-2ed5313b-0f99-44c7-a87c-9e993ebd85cc');\n",
              "          const dataTable =\n",
              "            await google.colab.kernel.invokeFunction('convertToInteractive',\n",
              "                                                     [key], {});\n",
              "          if (!dataTable) return;\n",
              "\n",
              "          const docLinkHtml = 'Like what you see? Visit the ' +\n",
              "            '<a target=\"_blank\" href=https://colab.research.google.com/notebooks/data_table.ipynb>data table notebook</a>'\n",
              "            + ' to learn more about interactive tables.';\n",
              "          element.innerHTML = '';\n",
              "          dataTable['output_type'] = 'display_data';\n",
              "          await google.colab.output.renderOutput(dataTable, element);\n",
              "          const docLink = document.createElement('div');\n",
              "          docLink.innerHTML = docLinkHtml;\n",
              "          element.appendChild(docLink);\n",
              "        }\n",
              "      </script>\n",
              "    </div>\n",
              "  </div>\n",
              "  "
            ]
          },
          "metadata": {},
          "execution_count": 25
        },
        {
          "output_type": "stream",
          "name": "stdout",
          "text": [
            "time: 144 ms (started: 2023-03-27 21:29:38 +00:00)\n"
          ]
        }
      ],
      "source": [
        "X_trainPCA"
      ]
    },
    {
      "cell_type": "code",
      "source": [
        "pc = pca.transform(X_test)\n",
        "X_testPCA = pd.DataFrame(data = pc, columns = ['PC{}'.format(i) for i in range(1,33,1)])"
      ],
      "metadata": {
        "id": "vFolwdwJULps",
        "colab": {
          "base_uri": "https://localhost:8080/"
        },
        "outputId": "1b5382ca-3304-4cce-ef70-e766e83d1564"
      },
      "execution_count": null,
      "outputs": [
        {
          "output_type": "stream",
          "name": "stdout",
          "text": [
            "time: 62.9 ms (started: 2023-03-27 21:29:39 +00:00)\n"
          ]
        }
      ]
    },
    {
      "cell_type": "code",
      "source": [
        "X_testPCA"
      ],
      "metadata": {
        "colab": {
          "base_uri": "https://localhost:8080/",
          "height": 505
        },
        "id": "fThhg0jhULmI",
        "outputId": "856b7793-985e-4193-e681-af7ec748e997"
      },
      "execution_count": null,
      "outputs": [
        {
          "output_type": "execute_result",
          "data": {
            "text/plain": [
              "            PC1       PC2       PC3       PC4       PC5       PC6       PC7  \\\n",
              "0      2.193558  0.734419  0.059308 -0.862988 -2.111960  0.456959 -1.053871   \n",
              "1      0.755758 -1.988473 -0.848472 -1.300635  1.463184 -1.449676  0.169367   \n",
              "2     -2.120581 -0.367076  1.225802 -0.278814  0.017555  0.670177  1.539460   \n",
              "3     -2.123993 -0.293964  1.300453 -0.068747 -0.183814 -0.263520  0.220201   \n",
              "4      5.789807 -3.326220 -0.503067  2.563475  0.465628  1.499873 -0.376435   \n",
              "...         ...       ...       ...       ...       ...       ...       ...   \n",
              "25995 -3.885112 -1.501983  1.445099 -0.175453  0.931032  0.692654  0.234643   \n",
              "25996  2.759327 -0.192529  1.348704 -3.634922  0.061847 -4.069878  1.667020   \n",
              "25997  3.136066 -0.876918 -0.329442 -1.057553  0.327062 -0.613179  0.821173   \n",
              "25998 -3.658736 -0.421993  1.583283 -0.301303  0.462791  0.860738 -0.428057   \n",
              "25999 -2.983775 -0.502812  1.225750 -0.340256  0.973295  0.638142 -0.340789   \n",
              "\n",
              "            PC8       PC9      PC10  ...      PC23      PC24      PC25  \\\n",
              "0      0.786379  0.781022  0.252421  ... -0.062352  0.007798  0.006899   \n",
              "1     -0.016715  0.286919  0.834974  ...  0.761922  0.162086  0.077361   \n",
              "2      1.084974  1.718795 -0.590362  ...  0.127536 -0.123241  0.018994   \n",
              "3     -0.201142  0.052684 -1.075553  ...  0.057999 -0.047655  0.102676   \n",
              "4     -0.330751  0.412687 -1.031101  ... -0.159391  0.270085  0.150382   \n",
              "...         ...       ...       ...  ...       ...       ...       ...   \n",
              "25995 -1.292989  0.546862 -0.009429  ... -0.020369 -0.026972  0.007035   \n",
              "25996 -1.110172 -0.320095  0.845781  ... -0.117718 -0.120007  0.146150   \n",
              "25997  0.571993 -0.979221  0.257810  ... -0.086864  0.063171 -0.018471   \n",
              "25998 -1.314915  0.681885  0.499389  ... -0.097698 -0.025363  0.036081   \n",
              "25999 -1.681342 -0.421406  0.309331  ... -0.071211  0.039971  0.049048   \n",
              "\n",
              "           PC26      PC27      PC28      PC29      PC30      PC31      PC32  \n",
              "0      0.001374  0.001823  0.003289  0.001163 -0.000760 -0.000010 -0.000232  \n",
              "1      0.134655 -0.017931  0.003505 -0.002881 -0.002321  0.000716 -0.000597  \n",
              "2     -0.107643 -0.009185  0.002205  0.003599 -0.006294 -0.002062 -0.001243  \n",
              "3      0.153670 -0.005686  0.001151  0.001099 -0.000365 -0.000457  0.000128  \n",
              "4     -0.015772 -0.087602 -0.011551 -0.003982  0.004520 -0.001211  0.000129  \n",
              "...         ...       ...       ...       ...       ...       ...       ...  \n",
              "25995  0.036670  0.005341  0.000013  0.000457  0.000221  0.000041  0.000235  \n",
              "25996  0.135180 -0.035973  0.002745 -0.005495  0.000697  0.000053 -0.002016  \n",
              "25997 -0.040428 -0.010509  0.000491  0.001477  0.003866  0.000259  0.002665  \n",
              "25998  0.614025  0.008410 -0.002978  0.002449 -0.000680 -0.000780 -0.000155  \n",
              "25999  0.061295  0.006910  0.004690  0.008739  0.001554 -0.001525 -0.000471  \n",
              "\n",
              "[26000 rows x 32 columns]"
            ],
            "text/html": [
              "\n",
              "  <div id=\"df-c09c7f1e-16df-440b-ba69-498d97801627\">\n",
              "    <div class=\"colab-df-container\">\n",
              "      <div>\n",
              "<style scoped>\n",
              "    .dataframe tbody tr th:only-of-type {\n",
              "        vertical-align: middle;\n",
              "    }\n",
              "\n",
              "    .dataframe tbody tr th {\n",
              "        vertical-align: top;\n",
              "    }\n",
              "\n",
              "    .dataframe thead th {\n",
              "        text-align: right;\n",
              "    }\n",
              "</style>\n",
              "<table border=\"1\" class=\"dataframe\">\n",
              "  <thead>\n",
              "    <tr style=\"text-align: right;\">\n",
              "      <th></th>\n",
              "      <th>PC1</th>\n",
              "      <th>PC2</th>\n",
              "      <th>PC3</th>\n",
              "      <th>PC4</th>\n",
              "      <th>PC5</th>\n",
              "      <th>PC6</th>\n",
              "      <th>PC7</th>\n",
              "      <th>PC8</th>\n",
              "      <th>PC9</th>\n",
              "      <th>PC10</th>\n",
              "      <th>...</th>\n",
              "      <th>PC23</th>\n",
              "      <th>PC24</th>\n",
              "      <th>PC25</th>\n",
              "      <th>PC26</th>\n",
              "      <th>PC27</th>\n",
              "      <th>PC28</th>\n",
              "      <th>PC29</th>\n",
              "      <th>PC30</th>\n",
              "      <th>PC31</th>\n",
              "      <th>PC32</th>\n",
              "    </tr>\n",
              "  </thead>\n",
              "  <tbody>\n",
              "    <tr>\n",
              "      <th>0</th>\n",
              "      <td>2.193558</td>\n",
              "      <td>0.734419</td>\n",
              "      <td>0.059308</td>\n",
              "      <td>-0.862988</td>\n",
              "      <td>-2.111960</td>\n",
              "      <td>0.456959</td>\n",
              "      <td>-1.053871</td>\n",
              "      <td>0.786379</td>\n",
              "      <td>0.781022</td>\n",
              "      <td>0.252421</td>\n",
              "      <td>...</td>\n",
              "      <td>-0.062352</td>\n",
              "      <td>0.007798</td>\n",
              "      <td>0.006899</td>\n",
              "      <td>0.001374</td>\n",
              "      <td>0.001823</td>\n",
              "      <td>0.003289</td>\n",
              "      <td>0.001163</td>\n",
              "      <td>-0.000760</td>\n",
              "      <td>-0.000010</td>\n",
              "      <td>-0.000232</td>\n",
              "    </tr>\n",
              "    <tr>\n",
              "      <th>1</th>\n",
              "      <td>0.755758</td>\n",
              "      <td>-1.988473</td>\n",
              "      <td>-0.848472</td>\n",
              "      <td>-1.300635</td>\n",
              "      <td>1.463184</td>\n",
              "      <td>-1.449676</td>\n",
              "      <td>0.169367</td>\n",
              "      <td>-0.016715</td>\n",
              "      <td>0.286919</td>\n",
              "      <td>0.834974</td>\n",
              "      <td>...</td>\n",
              "      <td>0.761922</td>\n",
              "      <td>0.162086</td>\n",
              "      <td>0.077361</td>\n",
              "      <td>0.134655</td>\n",
              "      <td>-0.017931</td>\n",
              "      <td>0.003505</td>\n",
              "      <td>-0.002881</td>\n",
              "      <td>-0.002321</td>\n",
              "      <td>0.000716</td>\n",
              "      <td>-0.000597</td>\n",
              "    </tr>\n",
              "    <tr>\n",
              "      <th>2</th>\n",
              "      <td>-2.120581</td>\n",
              "      <td>-0.367076</td>\n",
              "      <td>1.225802</td>\n",
              "      <td>-0.278814</td>\n",
              "      <td>0.017555</td>\n",
              "      <td>0.670177</td>\n",
              "      <td>1.539460</td>\n",
              "      <td>1.084974</td>\n",
              "      <td>1.718795</td>\n",
              "      <td>-0.590362</td>\n",
              "      <td>...</td>\n",
              "      <td>0.127536</td>\n",
              "      <td>-0.123241</td>\n",
              "      <td>0.018994</td>\n",
              "      <td>-0.107643</td>\n",
              "      <td>-0.009185</td>\n",
              "      <td>0.002205</td>\n",
              "      <td>0.003599</td>\n",
              "      <td>-0.006294</td>\n",
              "      <td>-0.002062</td>\n",
              "      <td>-0.001243</td>\n",
              "    </tr>\n",
              "    <tr>\n",
              "      <th>3</th>\n",
              "      <td>-2.123993</td>\n",
              "      <td>-0.293964</td>\n",
              "      <td>1.300453</td>\n",
              "      <td>-0.068747</td>\n",
              "      <td>-0.183814</td>\n",
              "      <td>-0.263520</td>\n",
              "      <td>0.220201</td>\n",
              "      <td>-0.201142</td>\n",
              "      <td>0.052684</td>\n",
              "      <td>-1.075553</td>\n",
              "      <td>...</td>\n",
              "      <td>0.057999</td>\n",
              "      <td>-0.047655</td>\n",
              "      <td>0.102676</td>\n",
              "      <td>0.153670</td>\n",
              "      <td>-0.005686</td>\n",
              "      <td>0.001151</td>\n",
              "      <td>0.001099</td>\n",
              "      <td>-0.000365</td>\n",
              "      <td>-0.000457</td>\n",
              "      <td>0.000128</td>\n",
              "    </tr>\n",
              "    <tr>\n",
              "      <th>4</th>\n",
              "      <td>5.789807</td>\n",
              "      <td>-3.326220</td>\n",
              "      <td>-0.503067</td>\n",
              "      <td>2.563475</td>\n",
              "      <td>0.465628</td>\n",
              "      <td>1.499873</td>\n",
              "      <td>-0.376435</td>\n",
              "      <td>-0.330751</td>\n",
              "      <td>0.412687</td>\n",
              "      <td>-1.031101</td>\n",
              "      <td>...</td>\n",
              "      <td>-0.159391</td>\n",
              "      <td>0.270085</td>\n",
              "      <td>0.150382</td>\n",
              "      <td>-0.015772</td>\n",
              "      <td>-0.087602</td>\n",
              "      <td>-0.011551</td>\n",
              "      <td>-0.003982</td>\n",
              "      <td>0.004520</td>\n",
              "      <td>-0.001211</td>\n",
              "      <td>0.000129</td>\n",
              "    </tr>\n",
              "    <tr>\n",
              "      <th>...</th>\n",
              "      <td>...</td>\n",
              "      <td>...</td>\n",
              "      <td>...</td>\n",
              "      <td>...</td>\n",
              "      <td>...</td>\n",
              "      <td>...</td>\n",
              "      <td>...</td>\n",
              "      <td>...</td>\n",
              "      <td>...</td>\n",
              "      <td>...</td>\n",
              "      <td>...</td>\n",
              "      <td>...</td>\n",
              "      <td>...</td>\n",
              "      <td>...</td>\n",
              "      <td>...</td>\n",
              "      <td>...</td>\n",
              "      <td>...</td>\n",
              "      <td>...</td>\n",
              "      <td>...</td>\n",
              "      <td>...</td>\n",
              "      <td>...</td>\n",
              "    </tr>\n",
              "    <tr>\n",
              "      <th>25995</th>\n",
              "      <td>-3.885112</td>\n",
              "      <td>-1.501983</td>\n",
              "      <td>1.445099</td>\n",
              "      <td>-0.175453</td>\n",
              "      <td>0.931032</td>\n",
              "      <td>0.692654</td>\n",
              "      <td>0.234643</td>\n",
              "      <td>-1.292989</td>\n",
              "      <td>0.546862</td>\n",
              "      <td>-0.009429</td>\n",
              "      <td>...</td>\n",
              "      <td>-0.020369</td>\n",
              "      <td>-0.026972</td>\n",
              "      <td>0.007035</td>\n",
              "      <td>0.036670</td>\n",
              "      <td>0.005341</td>\n",
              "      <td>0.000013</td>\n",
              "      <td>0.000457</td>\n",
              "      <td>0.000221</td>\n",
              "      <td>0.000041</td>\n",
              "      <td>0.000235</td>\n",
              "    </tr>\n",
              "    <tr>\n",
              "      <th>25996</th>\n",
              "      <td>2.759327</td>\n",
              "      <td>-0.192529</td>\n",
              "      <td>1.348704</td>\n",
              "      <td>-3.634922</td>\n",
              "      <td>0.061847</td>\n",
              "      <td>-4.069878</td>\n",
              "      <td>1.667020</td>\n",
              "      <td>-1.110172</td>\n",
              "      <td>-0.320095</td>\n",
              "      <td>0.845781</td>\n",
              "      <td>...</td>\n",
              "      <td>-0.117718</td>\n",
              "      <td>-0.120007</td>\n",
              "      <td>0.146150</td>\n",
              "      <td>0.135180</td>\n",
              "      <td>-0.035973</td>\n",
              "      <td>0.002745</td>\n",
              "      <td>-0.005495</td>\n",
              "      <td>0.000697</td>\n",
              "      <td>0.000053</td>\n",
              "      <td>-0.002016</td>\n",
              "    </tr>\n",
              "    <tr>\n",
              "      <th>25997</th>\n",
              "      <td>3.136066</td>\n",
              "      <td>-0.876918</td>\n",
              "      <td>-0.329442</td>\n",
              "      <td>-1.057553</td>\n",
              "      <td>0.327062</td>\n",
              "      <td>-0.613179</td>\n",
              "      <td>0.821173</td>\n",
              "      <td>0.571993</td>\n",
              "      <td>-0.979221</td>\n",
              "      <td>0.257810</td>\n",
              "      <td>...</td>\n",
              "      <td>-0.086864</td>\n",
              "      <td>0.063171</td>\n",
              "      <td>-0.018471</td>\n",
              "      <td>-0.040428</td>\n",
              "      <td>-0.010509</td>\n",
              "      <td>0.000491</td>\n",
              "      <td>0.001477</td>\n",
              "      <td>0.003866</td>\n",
              "      <td>0.000259</td>\n",
              "      <td>0.002665</td>\n",
              "    </tr>\n",
              "    <tr>\n",
              "      <th>25998</th>\n",
              "      <td>-3.658736</td>\n",
              "      <td>-0.421993</td>\n",
              "      <td>1.583283</td>\n",
              "      <td>-0.301303</td>\n",
              "      <td>0.462791</td>\n",
              "      <td>0.860738</td>\n",
              "      <td>-0.428057</td>\n",
              "      <td>-1.314915</td>\n",
              "      <td>0.681885</td>\n",
              "      <td>0.499389</td>\n",
              "      <td>...</td>\n",
              "      <td>-0.097698</td>\n",
              "      <td>-0.025363</td>\n",
              "      <td>0.036081</td>\n",
              "      <td>0.614025</td>\n",
              "      <td>0.008410</td>\n",
              "      <td>-0.002978</td>\n",
              "      <td>0.002449</td>\n",
              "      <td>-0.000680</td>\n",
              "      <td>-0.000780</td>\n",
              "      <td>-0.000155</td>\n",
              "    </tr>\n",
              "    <tr>\n",
              "      <th>25999</th>\n",
              "      <td>-2.983775</td>\n",
              "      <td>-0.502812</td>\n",
              "      <td>1.225750</td>\n",
              "      <td>-0.340256</td>\n",
              "      <td>0.973295</td>\n",
              "      <td>0.638142</td>\n",
              "      <td>-0.340789</td>\n",
              "      <td>-1.681342</td>\n",
              "      <td>-0.421406</td>\n",
              "      <td>0.309331</td>\n",
              "      <td>...</td>\n",
              "      <td>-0.071211</td>\n",
              "      <td>0.039971</td>\n",
              "      <td>0.049048</td>\n",
              "      <td>0.061295</td>\n",
              "      <td>0.006910</td>\n",
              "      <td>0.004690</td>\n",
              "      <td>0.008739</td>\n",
              "      <td>0.001554</td>\n",
              "      <td>-0.001525</td>\n",
              "      <td>-0.000471</td>\n",
              "    </tr>\n",
              "  </tbody>\n",
              "</table>\n",
              "<p>26000 rows × 32 columns</p>\n",
              "</div>\n",
              "      <button class=\"colab-df-convert\" onclick=\"convertToInteractive('df-c09c7f1e-16df-440b-ba69-498d97801627')\"\n",
              "              title=\"Convert this dataframe to an interactive table.\"\n",
              "              style=\"display:none;\">\n",
              "        \n",
              "  <svg xmlns=\"http://www.w3.org/2000/svg\" height=\"24px\"viewBox=\"0 0 24 24\"\n",
              "       width=\"24px\">\n",
              "    <path d=\"M0 0h24v24H0V0z\" fill=\"none\"/>\n",
              "    <path d=\"M18.56 5.44l.94 2.06.94-2.06 2.06-.94-2.06-.94-.94-2.06-.94 2.06-2.06.94zm-11 1L8.5 8.5l.94-2.06 2.06-.94-2.06-.94L8.5 2.5l-.94 2.06-2.06.94zm10 10l.94 2.06.94-2.06 2.06-.94-2.06-.94-.94-2.06-.94 2.06-2.06.94z\"/><path d=\"M17.41 7.96l-1.37-1.37c-.4-.4-.92-.59-1.43-.59-.52 0-1.04.2-1.43.59L10.3 9.45l-7.72 7.72c-.78.78-.78 2.05 0 2.83L4 21.41c.39.39.9.59 1.41.59.51 0 1.02-.2 1.41-.59l7.78-7.78 2.81-2.81c.8-.78.8-2.07 0-2.86zM5.41 20L4 18.59l7.72-7.72 1.47 1.35L5.41 20z\"/>\n",
              "  </svg>\n",
              "      </button>\n",
              "      \n",
              "  <style>\n",
              "    .colab-df-container {\n",
              "      display:flex;\n",
              "      flex-wrap:wrap;\n",
              "      gap: 12px;\n",
              "    }\n",
              "\n",
              "    .colab-df-convert {\n",
              "      background-color: #E8F0FE;\n",
              "      border: none;\n",
              "      border-radius: 50%;\n",
              "      cursor: pointer;\n",
              "      display: none;\n",
              "      fill: #1967D2;\n",
              "      height: 32px;\n",
              "      padding: 0 0 0 0;\n",
              "      width: 32px;\n",
              "    }\n",
              "\n",
              "    .colab-df-convert:hover {\n",
              "      background-color: #E2EBFA;\n",
              "      box-shadow: 0px 1px 2px rgba(60, 64, 67, 0.3), 0px 1px 3px 1px rgba(60, 64, 67, 0.15);\n",
              "      fill: #174EA6;\n",
              "    }\n",
              "\n",
              "    [theme=dark] .colab-df-convert {\n",
              "      background-color: #3B4455;\n",
              "      fill: #D2E3FC;\n",
              "    }\n",
              "\n",
              "    [theme=dark] .colab-df-convert:hover {\n",
              "      background-color: #434B5C;\n",
              "      box-shadow: 0px 1px 3px 1px rgba(0, 0, 0, 0.15);\n",
              "      filter: drop-shadow(0px 1px 2px rgba(0, 0, 0, 0.3));\n",
              "      fill: #FFFFFF;\n",
              "    }\n",
              "  </style>\n",
              "\n",
              "      <script>\n",
              "        const buttonEl =\n",
              "          document.querySelector('#df-c09c7f1e-16df-440b-ba69-498d97801627 button.colab-df-convert');\n",
              "        buttonEl.style.display =\n",
              "          google.colab.kernel.accessAllowed ? 'block' : 'none';\n",
              "\n",
              "        async function convertToInteractive(key) {\n",
              "          const element = document.querySelector('#df-c09c7f1e-16df-440b-ba69-498d97801627');\n",
              "          const dataTable =\n",
              "            await google.colab.kernel.invokeFunction('convertToInteractive',\n",
              "                                                     [key], {});\n",
              "          if (!dataTable) return;\n",
              "\n",
              "          const docLinkHtml = 'Like what you see? Visit the ' +\n",
              "            '<a target=\"_blank\" href=https://colab.research.google.com/notebooks/data_table.ipynb>data table notebook</a>'\n",
              "            + ' to learn more about interactive tables.';\n",
              "          element.innerHTML = '';\n",
              "          dataTable['output_type'] = 'display_data';\n",
              "          await google.colab.output.renderOutput(dataTable, element);\n",
              "          const docLink = document.createElement('div');\n",
              "          docLink.innerHTML = docLinkHtml;\n",
              "          element.appendChild(docLink);\n",
              "        }\n",
              "      </script>\n",
              "    </div>\n",
              "  </div>\n",
              "  "
            ]
          },
          "metadata": {},
          "execution_count": 27
        },
        {
          "output_type": "stream",
          "name": "stdout",
          "text": [
            "time: 211 ms (started: 2023-03-27 21:29:40 +00:00)\n"
          ]
        }
      ]
    },
    {
      "cell_type": "code",
      "source": [],
      "metadata": {
        "id": "ArQTBTm7ULju",
        "colab": {
          "base_uri": "https://localhost:8080/"
        },
        "outputId": "33f0f476-6bed-48c9-8cdc-9129de27ffa2"
      },
      "execution_count": null,
      "outputs": [
        {
          "output_type": "stream",
          "name": "stdout",
          "text": [
            "time: 625 ms (started: 2023-03-27 21:29:40 +00:00)\n"
          ]
        }
      ]
    },
    {
      "cell_type": "code",
      "source": [
        "X_trainPCA=X_trainPCA[['PC1','PC2','PC3','PC4','PC5','PC6','PC7','PC8']]\n",
        "X_testPCA=X_testPCA[['PC1','PC2','PC3','PC4','PC5','PC6','PC7','PC8']]"
      ],
      "metadata": {
        "id": "whGx5sV8aoRG",
        "colab": {
          "base_uri": "https://localhost:8080/"
        },
        "outputId": "5b3eabba-8831-459a-b276-513f6ddb206d"
      },
      "execution_count": null,
      "outputs": [
        {
          "output_type": "stream",
          "name": "stdout",
          "text": [
            "time: 6.98 ms (started: 2023-03-27 21:31:05 +00:00)\n"
          ]
        }
      ]
    },
    {
      "cell_type": "markdown",
      "source": [
        "## KNN"
      ],
      "metadata": {
        "id": "p4ZuPlKfWfpO"
      }
    },
    {
      "cell_type": "markdown",
      "source": [
        "k = sqrt(n)/2 , n= no. of training data points"
      ],
      "metadata": {
        "id": "ZWa3D0ItcYTz"
      }
    },
    {
      "cell_type": "code",
      "source": [
        "from sklearn.neighbors import KNeighborsClassifier\n",
        "neigh = KNeighborsClassifier(n_neighbors=149)\n",
        "neigh.fit(X_trainPCA, y_train)"
      ],
      "metadata": {
        "colab": {
          "base_uri": "https://localhost:8080/",
          "height": 146
        },
        "id": "0k9xgieDULhC",
        "outputId": "e994ca5e-972c-42bd-ae5d-7c2caf75b203"
      },
      "execution_count": null,
      "outputs": [
        {
          "output_type": "stream",
          "name": "stderr",
          "text": [
            "/usr/local/lib/python3.9/dist-packages/sklearn/neighbors/_classification.py:215: DataConversionWarning: A column-vector y was passed when a 1d array was expected. Please change the shape of y to (n_samples,), for example using ravel().\n",
            "  return self._fit(X, y)\n"
          ]
        },
        {
          "output_type": "execute_result",
          "data": {
            "text/plain": [
              "KNeighborsClassifier(n_neighbors=149)"
            ],
            "text/html": [
              "<style>#sk-container-id-1 {color: black;background-color: white;}#sk-container-id-1 pre{padding: 0;}#sk-container-id-1 div.sk-toggleable {background-color: white;}#sk-container-id-1 label.sk-toggleable__label {cursor: pointer;display: block;width: 100%;margin-bottom: 0;padding: 0.3em;box-sizing: border-box;text-align: center;}#sk-container-id-1 label.sk-toggleable__label-arrow:before {content: \"▸\";float: left;margin-right: 0.25em;color: #696969;}#sk-container-id-1 label.sk-toggleable__label-arrow:hover:before {color: black;}#sk-container-id-1 div.sk-estimator:hover label.sk-toggleable__label-arrow:before {color: black;}#sk-container-id-1 div.sk-toggleable__content {max-height: 0;max-width: 0;overflow: hidden;text-align: left;background-color: #f0f8ff;}#sk-container-id-1 div.sk-toggleable__content pre {margin: 0.2em;color: black;border-radius: 0.25em;background-color: #f0f8ff;}#sk-container-id-1 input.sk-toggleable__control:checked~div.sk-toggleable__content {max-height: 200px;max-width: 100%;overflow: auto;}#sk-container-id-1 input.sk-toggleable__control:checked~label.sk-toggleable__label-arrow:before {content: \"▾\";}#sk-container-id-1 div.sk-estimator input.sk-toggleable__control:checked~label.sk-toggleable__label {background-color: #d4ebff;}#sk-container-id-1 div.sk-label input.sk-toggleable__control:checked~label.sk-toggleable__label {background-color: #d4ebff;}#sk-container-id-1 input.sk-hidden--visually {border: 0;clip: rect(1px 1px 1px 1px);clip: rect(1px, 1px, 1px, 1px);height: 1px;margin: -1px;overflow: hidden;padding: 0;position: absolute;width: 1px;}#sk-container-id-1 div.sk-estimator {font-family: monospace;background-color: #f0f8ff;border: 1px dotted black;border-radius: 0.25em;box-sizing: border-box;margin-bottom: 0.5em;}#sk-container-id-1 div.sk-estimator:hover {background-color: #d4ebff;}#sk-container-id-1 div.sk-parallel-item::after {content: \"\";width: 100%;border-bottom: 1px solid gray;flex-grow: 1;}#sk-container-id-1 div.sk-label:hover label.sk-toggleable__label {background-color: #d4ebff;}#sk-container-id-1 div.sk-serial::before {content: \"\";position: absolute;border-left: 1px solid gray;box-sizing: border-box;top: 0;bottom: 0;left: 50%;z-index: 0;}#sk-container-id-1 div.sk-serial {display: flex;flex-direction: column;align-items: center;background-color: white;padding-right: 0.2em;padding-left: 0.2em;position: relative;}#sk-container-id-1 div.sk-item {position: relative;z-index: 1;}#sk-container-id-1 div.sk-parallel {display: flex;align-items: stretch;justify-content: center;background-color: white;position: relative;}#sk-container-id-1 div.sk-item::before, #sk-container-id-1 div.sk-parallel-item::before {content: \"\";position: absolute;border-left: 1px solid gray;box-sizing: border-box;top: 0;bottom: 0;left: 50%;z-index: -1;}#sk-container-id-1 div.sk-parallel-item {display: flex;flex-direction: column;z-index: 1;position: relative;background-color: white;}#sk-container-id-1 div.sk-parallel-item:first-child::after {align-self: flex-end;width: 50%;}#sk-container-id-1 div.sk-parallel-item:last-child::after {align-self: flex-start;width: 50%;}#sk-container-id-1 div.sk-parallel-item:only-child::after {width: 0;}#sk-container-id-1 div.sk-dashed-wrapped {border: 1px dashed gray;margin: 0 0.4em 0.5em 0.4em;box-sizing: border-box;padding-bottom: 0.4em;background-color: white;}#sk-container-id-1 div.sk-label label {font-family: monospace;font-weight: bold;display: inline-block;line-height: 1.2em;}#sk-container-id-1 div.sk-label-container {text-align: center;}#sk-container-id-1 div.sk-container {/* jupyter's `normalize.less` sets `[hidden] { display: none; }` but bootstrap.min.css set `[hidden] { display: none !important; }` so we also need the `!important` here to be able to override the default hidden behavior on the sphinx rendered scikit-learn.org. See: https://github.com/scikit-learn/scikit-learn/issues/21755 */display: inline-block !important;position: relative;}#sk-container-id-1 div.sk-text-repr-fallback {display: none;}</style><div id=\"sk-container-id-1\" class=\"sk-top-container\"><div class=\"sk-text-repr-fallback\"><pre>KNeighborsClassifier(n_neighbors=149)</pre><b>In a Jupyter environment, please rerun this cell to show the HTML representation or trust the notebook. <br />On GitHub, the HTML representation is unable to render, please try loading this page with nbviewer.org.</b></div><div class=\"sk-container\" hidden><div class=\"sk-item\"><div class=\"sk-estimator sk-toggleable\"><input class=\"sk-toggleable__control sk-hidden--visually\" id=\"sk-estimator-id-1\" type=\"checkbox\" checked><label for=\"sk-estimator-id-1\" class=\"sk-toggleable__label sk-toggleable__label-arrow\">KNeighborsClassifier</label><div class=\"sk-toggleable__content\"><pre>KNeighborsClassifier(n_neighbors=149)</pre></div></div></div></div></div>"
            ]
          },
          "metadata": {},
          "execution_count": 29
        },
        {
          "output_type": "stream",
          "name": "stdout",
          "text": [
            "time: 353 ms (started: 2023-03-27 21:31:06 +00:00)\n"
          ]
        }
      ]
    },
    {
      "cell_type": "code",
      "source": [
        "y_ = neigh.predict(X_testPCA)"
      ],
      "metadata": {
        "colab": {
          "base_uri": "https://localhost:8080/"
        },
        "id": "zxCdlJjzULee",
        "outputId": "c43b0bf4-c948-4f60-d652-8663cf8a67bf"
      },
      "execution_count": null,
      "outputs": [
        {
          "output_type": "stream",
          "name": "stdout",
          "text": [
            "time: 4.98 s (started: 2023-03-27 21:31:07 +00:00)\n"
          ]
        }
      ]
    },
    {
      "cell_type": "code",
      "source": [
        "accuracy_score(y_test, y_)"
      ],
      "metadata": {
        "colab": {
          "base_uri": "https://localhost:8080/"
        },
        "id": "Bw31wk75ULb_",
        "outputId": "9c0b5c76-2c4d-4b5c-e0d8-2cd3187fe2f2"
      },
      "execution_count": null,
      "outputs": [
        {
          "output_type": "execute_result",
          "data": {
            "text/plain": [
              "0.9826923076923076"
            ]
          },
          "metadata": {},
          "execution_count": 31
        },
        {
          "output_type": "stream",
          "name": "stdout",
          "text": [
            "time: 38.4 ms (started: 2023-03-27 21:31:12 +00:00)\n"
          ]
        }
      ]
    },
    {
      "cell_type": "code",
      "source": [
        "neigh.get_params()"
      ],
      "metadata": {
        "colab": {
          "base_uri": "https://localhost:8080/"
        },
        "id": "BfBQhFDmULZb",
        "outputId": "aa04996f-2f68-420c-9fab-af0750539db9"
      },
      "execution_count": null,
      "outputs": [
        {
          "output_type": "execute_result",
          "data": {
            "text/plain": [
              "{'algorithm': 'auto',\n",
              " 'leaf_size': 30,\n",
              " 'metric': 'minkowski',\n",
              " 'metric_params': None,\n",
              " 'n_jobs': None,\n",
              " 'n_neighbors': 149,\n",
              " 'p': 2,\n",
              " 'weights': 'uniform'}"
            ]
          },
          "metadata": {},
          "execution_count": 32
        },
        {
          "output_type": "stream",
          "name": "stdout",
          "text": [
            "time: 5.27 ms (started: 2023-03-27 21:31:12 +00:00)\n"
          ]
        }
      ]
    },
    {
      "cell_type": "code",
      "source": [
        "from sklearn.metrics import f1_score"
      ],
      "metadata": {
        "colab": {
          "base_uri": "https://localhost:8080/"
        },
        "id": "ax1pDdmU-5O6",
        "outputId": "ce69c9f0-bda9-4b75-cad1-4a64ce49a9f5"
      },
      "execution_count": null,
      "outputs": [
        {
          "output_type": "stream",
          "name": "stdout",
          "text": [
            "time: 583 µs (started: 2023-03-27 21:31:25 +00:00)\n"
          ]
        }
      ]
    },
    {
      "cell_type": "code",
      "source": [
        "f1_score(y_test, y_, average='weighted')"
      ],
      "metadata": {
        "colab": {
          "base_uri": "https://localhost:8080/"
        },
        "id": "NpHZTHmU7oqS",
        "outputId": "e9348a8f-747b-482f-824f-1b6fcf1d73e0"
      },
      "execution_count": null,
      "outputs": [
        {
          "output_type": "execute_result",
          "data": {
            "text/plain": [
              "0.982641333762757"
            ]
          },
          "metadata": {},
          "execution_count": 41
        },
        {
          "output_type": "stream",
          "name": "stdout",
          "text": [
            "time: 1.04 s (started: 2023-03-27 21:33:34 +00:00)\n"
          ]
        }
      ]
    },
    {
      "cell_type": "code",
      "source": [
        "# from sklearn.neighbors import KNeighborsClassifier\n",
        "\n",
        "# vector = []\n",
        "\n",
        "# for i in range(1,25):\n",
        "#   neigh = KNeighborsClassifier(n_neighbors=i)\n",
        "#   neigh.fit(X_trainPCA, y_train)\n",
        "\n",
        "#   y_ = neigh.predict(X_testPCA)\n",
        "\n",
        "#   vector.append(accuracy_score(y_test, y_))"
      ],
      "metadata": {
        "colab": {
          "base_uri": "https://localhost:8080/"
        },
        "id": "XDKRVHNA7onh",
        "outputId": "f3aaec0f-c647-46d7-8930-99a123f86463"
      },
      "execution_count": null,
      "outputs": [
        {
          "output_type": "stream",
          "name": "stdout",
          "text": [
            "time: 501 µs (started: 2023-03-27 21:33:39 +00:00)\n"
          ]
        }
      ]
    },
    {
      "cell_type": "code",
      "source": [
        "# vector"
      ],
      "metadata": {
        "colab": {
          "base_uri": "https://localhost:8080/"
        },
        "id": "YghuYWBF7ojR",
        "outputId": "3d42d856-5c61-4041-fac3-dec851e14f0d"
      },
      "execution_count": null,
      "outputs": [
        {
          "output_type": "stream",
          "name": "stdout",
          "text": [
            "time: 327 µs (started: 2023-03-27 21:33:39 +00:00)\n"
          ]
        }
      ]
    },
    {
      "cell_type": "code",
      "source": [],
      "metadata": {
        "id": "ruPsO5zKULXA",
        "colab": {
          "base_uri": "https://localhost:8080/"
        },
        "outputId": "8558fb35-998e-4cc5-e938-7c8294926613"
      },
      "execution_count": null,
      "outputs": [
        {
          "output_type": "stream",
          "name": "stdout",
          "text": [
            "time: 1.68 s (started: 2023-03-27 21:33:39 +00:00)\n"
          ]
        }
      ]
    },
    {
      "cell_type": "markdown",
      "source": [
        "## SVM"
      ],
      "metadata": {
        "id": "JObv6UljfKKc"
      }
    },
    {
      "cell_type": "code",
      "source": [
        "from sklearn import svm\n",
        "clf = svm.SVC(decision_function_shape = 'ovr', gamma = 'auto', C=5)\n",
        "clf.fit(X_trainPCA, y_train)\n"
      ],
      "metadata": {
        "colab": {
          "base_uri": "https://localhost:8080/",
          "height": 146
        },
        "id": "8Ucy53TDfJjq",
        "outputId": "f5137c9a-dd58-48a4-a629-7efe0dc38fb8"
      },
      "execution_count": null,
      "outputs": [
        {
          "output_type": "stream",
          "name": "stderr",
          "text": [
            "/usr/local/lib/python3.9/dist-packages/sklearn/utils/validation.py:1143: DataConversionWarning: A column-vector y was passed when a 1d array was expected. Please change the shape of y to (n_samples, ), for example using ravel().\n",
            "  y = column_or_1d(y, warn=True)\n"
          ]
        },
        {
          "output_type": "execute_result",
          "data": {
            "text/plain": [
              "SVC(C=5, gamma='auto')"
            ],
            "text/html": [
              "<style>#sk-container-id-2 {color: black;background-color: white;}#sk-container-id-2 pre{padding: 0;}#sk-container-id-2 div.sk-toggleable {background-color: white;}#sk-container-id-2 label.sk-toggleable__label {cursor: pointer;display: block;width: 100%;margin-bottom: 0;padding: 0.3em;box-sizing: border-box;text-align: center;}#sk-container-id-2 label.sk-toggleable__label-arrow:before {content: \"▸\";float: left;margin-right: 0.25em;color: #696969;}#sk-container-id-2 label.sk-toggleable__label-arrow:hover:before {color: black;}#sk-container-id-2 div.sk-estimator:hover label.sk-toggleable__label-arrow:before {color: black;}#sk-container-id-2 div.sk-toggleable__content {max-height: 0;max-width: 0;overflow: hidden;text-align: left;background-color: #f0f8ff;}#sk-container-id-2 div.sk-toggleable__content pre {margin: 0.2em;color: black;border-radius: 0.25em;background-color: #f0f8ff;}#sk-container-id-2 input.sk-toggleable__control:checked~div.sk-toggleable__content {max-height: 200px;max-width: 100%;overflow: auto;}#sk-container-id-2 input.sk-toggleable__control:checked~label.sk-toggleable__label-arrow:before {content: \"▾\";}#sk-container-id-2 div.sk-estimator input.sk-toggleable__control:checked~label.sk-toggleable__label {background-color: #d4ebff;}#sk-container-id-2 div.sk-label input.sk-toggleable__control:checked~label.sk-toggleable__label {background-color: #d4ebff;}#sk-container-id-2 input.sk-hidden--visually {border: 0;clip: rect(1px 1px 1px 1px);clip: rect(1px, 1px, 1px, 1px);height: 1px;margin: -1px;overflow: hidden;padding: 0;position: absolute;width: 1px;}#sk-container-id-2 div.sk-estimator {font-family: monospace;background-color: #f0f8ff;border: 1px dotted black;border-radius: 0.25em;box-sizing: border-box;margin-bottom: 0.5em;}#sk-container-id-2 div.sk-estimator:hover {background-color: #d4ebff;}#sk-container-id-2 div.sk-parallel-item::after {content: \"\";width: 100%;border-bottom: 1px solid gray;flex-grow: 1;}#sk-container-id-2 div.sk-label:hover label.sk-toggleable__label {background-color: #d4ebff;}#sk-container-id-2 div.sk-serial::before {content: \"\";position: absolute;border-left: 1px solid gray;box-sizing: border-box;top: 0;bottom: 0;left: 50%;z-index: 0;}#sk-container-id-2 div.sk-serial {display: flex;flex-direction: column;align-items: center;background-color: white;padding-right: 0.2em;padding-left: 0.2em;position: relative;}#sk-container-id-2 div.sk-item {position: relative;z-index: 1;}#sk-container-id-2 div.sk-parallel {display: flex;align-items: stretch;justify-content: center;background-color: white;position: relative;}#sk-container-id-2 div.sk-item::before, #sk-container-id-2 div.sk-parallel-item::before {content: \"\";position: absolute;border-left: 1px solid gray;box-sizing: border-box;top: 0;bottom: 0;left: 50%;z-index: -1;}#sk-container-id-2 div.sk-parallel-item {display: flex;flex-direction: column;z-index: 1;position: relative;background-color: white;}#sk-container-id-2 div.sk-parallel-item:first-child::after {align-self: flex-end;width: 50%;}#sk-container-id-2 div.sk-parallel-item:last-child::after {align-self: flex-start;width: 50%;}#sk-container-id-2 div.sk-parallel-item:only-child::after {width: 0;}#sk-container-id-2 div.sk-dashed-wrapped {border: 1px dashed gray;margin: 0 0.4em 0.5em 0.4em;box-sizing: border-box;padding-bottom: 0.4em;background-color: white;}#sk-container-id-2 div.sk-label label {font-family: monospace;font-weight: bold;display: inline-block;line-height: 1.2em;}#sk-container-id-2 div.sk-label-container {text-align: center;}#sk-container-id-2 div.sk-container {/* jupyter's `normalize.less` sets `[hidden] { display: none; }` but bootstrap.min.css set `[hidden] { display: none !important; }` so we also need the `!important` here to be able to override the default hidden behavior on the sphinx rendered scikit-learn.org. See: https://github.com/scikit-learn/scikit-learn/issues/21755 */display: inline-block !important;position: relative;}#sk-container-id-2 div.sk-text-repr-fallback {display: none;}</style><div id=\"sk-container-id-2\" class=\"sk-top-container\"><div class=\"sk-text-repr-fallback\"><pre>SVC(C=5, gamma=&#x27;auto&#x27;)</pre><b>In a Jupyter environment, please rerun this cell to show the HTML representation or trust the notebook. <br />On GitHub, the HTML representation is unable to render, please try loading this page with nbviewer.org.</b></div><div class=\"sk-container\" hidden><div class=\"sk-item\"><div class=\"sk-estimator sk-toggleable\"><input class=\"sk-toggleable__control sk-hidden--visually\" id=\"sk-estimator-id-2\" type=\"checkbox\" checked><label for=\"sk-estimator-id-2\" class=\"sk-toggleable__label sk-toggleable__label-arrow\">SVC</label><div class=\"sk-toggleable__content\"><pre>SVC(C=5, gamma=&#x27;auto&#x27;)</pre></div></div></div></div></div>"
            ]
          },
          "metadata": {},
          "execution_count": 44
        },
        {
          "output_type": "stream",
          "name": "stdout",
          "text": [
            "time: 17.7 s (started: 2023-03-27 21:33:41 +00:00)\n"
          ]
        }
      ]
    },
    {
      "cell_type": "code",
      "source": [
        "y_1= clf.predict(X_testPCA)"
      ],
      "metadata": {
        "colab": {
          "base_uri": "https://localhost:8080/"
        },
        "id": "WzO--8gSfJS5",
        "outputId": "4f738c41-af86-4ddd-d594-1badfe98ace2"
      },
      "execution_count": null,
      "outputs": [
        {
          "output_type": "stream",
          "name": "stdout",
          "text": [
            "time: 9.1 s (started: 2023-03-27 21:33:59 +00:00)\n"
          ]
        }
      ]
    },
    {
      "cell_type": "code",
      "source": [
        "accuracy_score(y_test, y_1)"
      ],
      "metadata": {
        "colab": {
          "base_uri": "https://localhost:8080/"
        },
        "id": "rWH791Y7fJPZ",
        "outputId": "cf7bc1cd-db89-400c-8d4f-c56ea1feca95"
      },
      "execution_count": null,
      "outputs": [
        {
          "output_type": "execute_result",
          "data": {
            "text/plain": [
              "0.9958846153846154"
            ]
          },
          "metadata": {},
          "execution_count": 46
        },
        {
          "output_type": "stream",
          "name": "stdout",
          "text": [
            "time: 46.5 ms (started: 2023-03-27 21:34:08 +00:00)\n"
          ]
        }
      ]
    },
    {
      "cell_type": "code",
      "source": [
        "clf.get_params()"
      ],
      "metadata": {
        "colab": {
          "base_uri": "https://localhost:8080/"
        },
        "id": "7YF0CToHhjpM",
        "outputId": "a56bfabb-0e4d-4c4a-ab0d-55bb833d750b"
      },
      "execution_count": null,
      "outputs": [
        {
          "output_type": "execute_result",
          "data": {
            "text/plain": [
              "{'C': 5,\n",
              " 'break_ties': False,\n",
              " 'cache_size': 200,\n",
              " 'class_weight': None,\n",
              " 'coef0': 0.0,\n",
              " 'decision_function_shape': 'ovr',\n",
              " 'degree': 3,\n",
              " 'gamma': 'auto',\n",
              " 'kernel': 'rbf',\n",
              " 'max_iter': -1,\n",
              " 'probability': False,\n",
              " 'random_state': None,\n",
              " 'shrinking': True,\n",
              " 'tol': 0.001,\n",
              " 'verbose': False}"
            ]
          },
          "metadata": {},
          "execution_count": 47
        },
        {
          "output_type": "stream",
          "name": "stdout",
          "text": [
            "time: 4.78 ms (started: 2023-03-27 21:34:08 +00:00)\n"
          ]
        }
      ]
    },
    {
      "cell_type": "code",
      "source": [
        "f1_score(y_test, y_1, average='weighted')"
      ],
      "metadata": {
        "id": "s6YXSwGshqMF",
        "colab": {
          "base_uri": "https://localhost:8080/"
        },
        "outputId": "8004afad-260d-4692-d467-0c6ae1e8d616"
      },
      "execution_count": null,
      "outputs": [
        {
          "output_type": "execute_result",
          "data": {
            "text/plain": [
              "0.9958844640934376"
            ]
          },
          "metadata": {},
          "execution_count": 49
        },
        {
          "output_type": "stream",
          "name": "stdout",
          "text": [
            "time: 718 ms (started: 2023-03-27 21:34:20 +00:00)\n"
          ]
        }
      ]
    },
    {
      "cell_type": "markdown",
      "source": [
        "## DTree"
      ],
      "metadata": {
        "id": "L2w0NY65do-J"
      }
    },
    {
      "cell_type": "code",
      "source": [
        "from sklearn.tree import DecisionTreeClassifier\n",
        "clf2 = DecisionTreeClassifier(random_state=0,min_samples_leaf = 100, max_depth=20)\n",
        "clf2.fit(X_trainPCA, y_train)\n"
      ],
      "metadata": {
        "colab": {
          "base_uri": "https://localhost:8080/",
          "height": 92
        },
        "id": "-VK0L6qGdruy",
        "outputId": "91dd44c0-ca80-4907-943e-2900eb90cbea"
      },
      "execution_count": null,
      "outputs": [
        {
          "output_type": "execute_result",
          "data": {
            "text/plain": [
              "DecisionTreeClassifier(max_depth=20, min_samples_leaf=100, random_state=0)"
            ],
            "text/html": [
              "<style>#sk-container-id-3 {color: black;background-color: white;}#sk-container-id-3 pre{padding: 0;}#sk-container-id-3 div.sk-toggleable {background-color: white;}#sk-container-id-3 label.sk-toggleable__label {cursor: pointer;display: block;width: 100%;margin-bottom: 0;padding: 0.3em;box-sizing: border-box;text-align: center;}#sk-container-id-3 label.sk-toggleable__label-arrow:before {content: \"▸\";float: left;margin-right: 0.25em;color: #696969;}#sk-container-id-3 label.sk-toggleable__label-arrow:hover:before {color: black;}#sk-container-id-3 div.sk-estimator:hover label.sk-toggleable__label-arrow:before {color: black;}#sk-container-id-3 div.sk-toggleable__content {max-height: 0;max-width: 0;overflow: hidden;text-align: left;background-color: #f0f8ff;}#sk-container-id-3 div.sk-toggleable__content pre {margin: 0.2em;color: black;border-radius: 0.25em;background-color: #f0f8ff;}#sk-container-id-3 input.sk-toggleable__control:checked~div.sk-toggleable__content {max-height: 200px;max-width: 100%;overflow: auto;}#sk-container-id-3 input.sk-toggleable__control:checked~label.sk-toggleable__label-arrow:before {content: \"▾\";}#sk-container-id-3 div.sk-estimator input.sk-toggleable__control:checked~label.sk-toggleable__label {background-color: #d4ebff;}#sk-container-id-3 div.sk-label input.sk-toggleable__control:checked~label.sk-toggleable__label {background-color: #d4ebff;}#sk-container-id-3 input.sk-hidden--visually {border: 0;clip: rect(1px 1px 1px 1px);clip: rect(1px, 1px, 1px, 1px);height: 1px;margin: -1px;overflow: hidden;padding: 0;position: absolute;width: 1px;}#sk-container-id-3 div.sk-estimator {font-family: monospace;background-color: #f0f8ff;border: 1px dotted black;border-radius: 0.25em;box-sizing: border-box;margin-bottom: 0.5em;}#sk-container-id-3 div.sk-estimator:hover {background-color: #d4ebff;}#sk-container-id-3 div.sk-parallel-item::after {content: \"\";width: 100%;border-bottom: 1px solid gray;flex-grow: 1;}#sk-container-id-3 div.sk-label:hover label.sk-toggleable__label {background-color: #d4ebff;}#sk-container-id-3 div.sk-serial::before {content: \"\";position: absolute;border-left: 1px solid gray;box-sizing: border-box;top: 0;bottom: 0;left: 50%;z-index: 0;}#sk-container-id-3 div.sk-serial {display: flex;flex-direction: column;align-items: center;background-color: white;padding-right: 0.2em;padding-left: 0.2em;position: relative;}#sk-container-id-3 div.sk-item {position: relative;z-index: 1;}#sk-container-id-3 div.sk-parallel {display: flex;align-items: stretch;justify-content: center;background-color: white;position: relative;}#sk-container-id-3 div.sk-item::before, #sk-container-id-3 div.sk-parallel-item::before {content: \"\";position: absolute;border-left: 1px solid gray;box-sizing: border-box;top: 0;bottom: 0;left: 50%;z-index: -1;}#sk-container-id-3 div.sk-parallel-item {display: flex;flex-direction: column;z-index: 1;position: relative;background-color: white;}#sk-container-id-3 div.sk-parallel-item:first-child::after {align-self: flex-end;width: 50%;}#sk-container-id-3 div.sk-parallel-item:last-child::after {align-self: flex-start;width: 50%;}#sk-container-id-3 div.sk-parallel-item:only-child::after {width: 0;}#sk-container-id-3 div.sk-dashed-wrapped {border: 1px dashed gray;margin: 0 0.4em 0.5em 0.4em;box-sizing: border-box;padding-bottom: 0.4em;background-color: white;}#sk-container-id-3 div.sk-label label {font-family: monospace;font-weight: bold;display: inline-block;line-height: 1.2em;}#sk-container-id-3 div.sk-label-container {text-align: center;}#sk-container-id-3 div.sk-container {/* jupyter's `normalize.less` sets `[hidden] { display: none; }` but bootstrap.min.css set `[hidden] { display: none !important; }` so we also need the `!important` here to be able to override the default hidden behavior on the sphinx rendered scikit-learn.org. See: https://github.com/scikit-learn/scikit-learn/issues/21755 */display: inline-block !important;position: relative;}#sk-container-id-3 div.sk-text-repr-fallback {display: none;}</style><div id=\"sk-container-id-3\" class=\"sk-top-container\"><div class=\"sk-text-repr-fallback\"><pre>DecisionTreeClassifier(max_depth=20, min_samples_leaf=100, random_state=0)</pre><b>In a Jupyter environment, please rerun this cell to show the HTML representation or trust the notebook. <br />On GitHub, the HTML representation is unable to render, please try loading this page with nbviewer.org.</b></div><div class=\"sk-container\" hidden><div class=\"sk-item\"><div class=\"sk-estimator sk-toggleable\"><input class=\"sk-toggleable__control sk-hidden--visually\" id=\"sk-estimator-id-3\" type=\"checkbox\" checked><label for=\"sk-estimator-id-3\" class=\"sk-toggleable__label sk-toggleable__label-arrow\">DecisionTreeClassifier</label><div class=\"sk-toggleable__content\"><pre>DecisionTreeClassifier(max_depth=20, min_samples_leaf=100, random_state=0)</pre></div></div></div></div></div>"
            ]
          },
          "metadata": {},
          "execution_count": 50
        },
        {
          "output_type": "stream",
          "name": "stdout",
          "text": [
            "time: 1.79 s (started: 2023-03-27 21:34:52 +00:00)\n"
          ]
        }
      ]
    },
    {
      "cell_type": "code",
      "source": [
        "y_2= clf2.predict(X_testPCA)"
      ],
      "metadata": {
        "colab": {
          "base_uri": "https://localhost:8080/"
        },
        "id": "OrpHrEf3dsnk",
        "outputId": "3fa002ce-7f9b-40c6-c621-0d711a0e591d"
      },
      "execution_count": null,
      "outputs": [
        {
          "output_type": "stream",
          "name": "stdout",
          "text": [
            "time: 9.7 ms (started: 2023-03-27 21:34:53 +00:00)\n"
          ]
        }
      ]
    },
    {
      "cell_type": "code",
      "source": [
        "accuracy_score(y_test, y_2)"
      ],
      "metadata": {
        "colab": {
          "base_uri": "https://localhost:8080/"
        },
        "id": "t6jNTNmcdsj1",
        "outputId": "893281ee-9b32-4d55-c7f0-5ac3ed815d69"
      },
      "execution_count": null,
      "outputs": [
        {
          "output_type": "execute_result",
          "data": {
            "text/plain": [
              "0.9622692307692308"
            ]
          },
          "metadata": {},
          "execution_count": 52
        },
        {
          "output_type": "stream",
          "name": "stdout",
          "text": [
            "time: 44.5 ms (started: 2023-03-27 21:34:53 +00:00)\n"
          ]
        }
      ]
    },
    {
      "cell_type": "code",
      "source": [
        "clf2.get_params()"
      ],
      "metadata": {
        "colab": {
          "base_uri": "https://localhost:8080/"
        },
        "id": "JOE8wKykdsgz",
        "outputId": "6d6c4390-d68b-4deb-8de0-fb93aff44837"
      },
      "execution_count": null,
      "outputs": [
        {
          "output_type": "execute_result",
          "data": {
            "text/plain": [
              "{'ccp_alpha': 0.0,\n",
              " 'class_weight': None,\n",
              " 'criterion': 'gini',\n",
              " 'max_depth': 20,\n",
              " 'max_features': None,\n",
              " 'max_leaf_nodes': None,\n",
              " 'min_impurity_decrease': 0.0,\n",
              " 'min_samples_leaf': 100,\n",
              " 'min_samples_split': 2,\n",
              " 'min_weight_fraction_leaf': 0.0,\n",
              " 'random_state': 0,\n",
              " 'splitter': 'best'}"
            ]
          },
          "metadata": {},
          "execution_count": 53
        },
        {
          "output_type": "stream",
          "name": "stdout",
          "text": [
            "time: 4.67 ms (started: 2023-03-27 21:34:53 +00:00)\n"
          ]
        }
      ]
    },
    {
      "cell_type": "code",
      "source": [
        "f1_score(y_test, y_2, average='weighted')"
      ],
      "metadata": {
        "id": "ES-SjpsAdsby",
        "colab": {
          "base_uri": "https://localhost:8080/"
        },
        "outputId": "254bae96-3029-4969-cb94-38f5a988a9c0"
      },
      "execution_count": null,
      "outputs": [
        {
          "output_type": "execute_result",
          "data": {
            "text/plain": [
              "0.9622634406808719"
            ]
          },
          "metadata": {},
          "execution_count": 55
        },
        {
          "output_type": "stream",
          "name": "stdout",
          "text": [
            "time: 368 ms (started: 2023-03-27 21:35:02 +00:00)\n"
          ]
        }
      ]
    },
    {
      "cell_type": "markdown",
      "source": [
        "## Random Forest"
      ],
      "metadata": {
        "id": "NDx3wR_wfQmH"
      }
    },
    {
      "cell_type": "code",
      "source": [
        "# y_train= sample[['Object_Held']]"
      ],
      "metadata": {
        "colab": {
          "base_uri": "https://localhost:8080/"
        },
        "id": "q30i5nmmSwHf",
        "outputId": "add6ec4a-c829-4fc6-86f6-bb3df516c11b"
      },
      "execution_count": null,
      "outputs": [
        {
          "output_type": "stream",
          "name": "stdout",
          "text": [
            "time: 459 µs (started: 2023-03-27 21:35:03 +00:00)\n"
          ]
        }
      ]
    },
    {
      "cell_type": "code",
      "source": [
        "from sklearn.preprocessing import OrdinalEncoder\n",
        "enc = OrdinalEncoder()\n",
        "enc.fit(y_train)\n",
        "y_train2 = enc.transform(y_train)"
      ],
      "metadata": {
        "colab": {
          "base_uri": "https://localhost:8080/"
        },
        "id": "IcmCFPLUq0QZ",
        "outputId": "23e150ae-4fe6-4797-9f90-6f2123cbdbb8"
      },
      "execution_count": null,
      "outputs": [
        {
          "output_type": "stream",
          "name": "stdout",
          "text": [
            "time: 32.9 ms (started: 2023-03-27 21:35:07 +00:00)\n"
          ]
        }
      ]
    },
    {
      "cell_type": "code",
      "source": [
        "from sklearn.ensemble import RandomForestClassifier\n",
        "clf3 = RandomForestClassifier(n_estimators=100,max_depth=20,min_samples_leaf=100, random_state=0)\n",
        "clf3.fit(X_trainPCA, y_train2)"
      ],
      "metadata": {
        "colab": {
          "base_uri": "https://localhost:8080/",
          "height": 146
        },
        "id": "n3_w1n8kfSn5",
        "outputId": "b3b0ef2c-e5e3-44a1-d77d-9c360f564f56"
      },
      "execution_count": null,
      "outputs": [
        {
          "output_type": "stream",
          "name": "stderr",
          "text": [
            "<ipython-input-58-c9ae7ac95217>:3: DataConversionWarning: A column-vector y was passed when a 1d array was expected. Please change the shape of y to (n_samples,), for example using ravel().\n",
            "  clf3.fit(X_trainPCA, y_train2)\n"
          ]
        },
        {
          "output_type": "execute_result",
          "data": {
            "text/plain": [
              "RandomForestClassifier(max_depth=20, min_samples_leaf=100, random_state=0)"
            ],
            "text/html": [
              "<style>#sk-container-id-4 {color: black;background-color: white;}#sk-container-id-4 pre{padding: 0;}#sk-container-id-4 div.sk-toggleable {background-color: white;}#sk-container-id-4 label.sk-toggleable__label {cursor: pointer;display: block;width: 100%;margin-bottom: 0;padding: 0.3em;box-sizing: border-box;text-align: center;}#sk-container-id-4 label.sk-toggleable__label-arrow:before {content: \"▸\";float: left;margin-right: 0.25em;color: #696969;}#sk-container-id-4 label.sk-toggleable__label-arrow:hover:before {color: black;}#sk-container-id-4 div.sk-estimator:hover label.sk-toggleable__label-arrow:before {color: black;}#sk-container-id-4 div.sk-toggleable__content {max-height: 0;max-width: 0;overflow: hidden;text-align: left;background-color: #f0f8ff;}#sk-container-id-4 div.sk-toggleable__content pre {margin: 0.2em;color: black;border-radius: 0.25em;background-color: #f0f8ff;}#sk-container-id-4 input.sk-toggleable__control:checked~div.sk-toggleable__content {max-height: 200px;max-width: 100%;overflow: auto;}#sk-container-id-4 input.sk-toggleable__control:checked~label.sk-toggleable__label-arrow:before {content: \"▾\";}#sk-container-id-4 div.sk-estimator input.sk-toggleable__control:checked~label.sk-toggleable__label {background-color: #d4ebff;}#sk-container-id-4 div.sk-label input.sk-toggleable__control:checked~label.sk-toggleable__label {background-color: #d4ebff;}#sk-container-id-4 input.sk-hidden--visually {border: 0;clip: rect(1px 1px 1px 1px);clip: rect(1px, 1px, 1px, 1px);height: 1px;margin: -1px;overflow: hidden;padding: 0;position: absolute;width: 1px;}#sk-container-id-4 div.sk-estimator {font-family: monospace;background-color: #f0f8ff;border: 1px dotted black;border-radius: 0.25em;box-sizing: border-box;margin-bottom: 0.5em;}#sk-container-id-4 div.sk-estimator:hover {background-color: #d4ebff;}#sk-container-id-4 div.sk-parallel-item::after {content: \"\";width: 100%;border-bottom: 1px solid gray;flex-grow: 1;}#sk-container-id-4 div.sk-label:hover label.sk-toggleable__label {background-color: #d4ebff;}#sk-container-id-4 div.sk-serial::before {content: \"\";position: absolute;border-left: 1px solid gray;box-sizing: border-box;top: 0;bottom: 0;left: 50%;z-index: 0;}#sk-container-id-4 div.sk-serial {display: flex;flex-direction: column;align-items: center;background-color: white;padding-right: 0.2em;padding-left: 0.2em;position: relative;}#sk-container-id-4 div.sk-item {position: relative;z-index: 1;}#sk-container-id-4 div.sk-parallel {display: flex;align-items: stretch;justify-content: center;background-color: white;position: relative;}#sk-container-id-4 div.sk-item::before, #sk-container-id-4 div.sk-parallel-item::before {content: \"\";position: absolute;border-left: 1px solid gray;box-sizing: border-box;top: 0;bottom: 0;left: 50%;z-index: -1;}#sk-container-id-4 div.sk-parallel-item {display: flex;flex-direction: column;z-index: 1;position: relative;background-color: white;}#sk-container-id-4 div.sk-parallel-item:first-child::after {align-self: flex-end;width: 50%;}#sk-container-id-4 div.sk-parallel-item:last-child::after {align-self: flex-start;width: 50%;}#sk-container-id-4 div.sk-parallel-item:only-child::after {width: 0;}#sk-container-id-4 div.sk-dashed-wrapped {border: 1px dashed gray;margin: 0 0.4em 0.5em 0.4em;box-sizing: border-box;padding-bottom: 0.4em;background-color: white;}#sk-container-id-4 div.sk-label label {font-family: monospace;font-weight: bold;display: inline-block;line-height: 1.2em;}#sk-container-id-4 div.sk-label-container {text-align: center;}#sk-container-id-4 div.sk-container {/* jupyter's `normalize.less` sets `[hidden] { display: none; }` but bootstrap.min.css set `[hidden] { display: none !important; }` so we also need the `!important` here to be able to override the default hidden behavior on the sphinx rendered scikit-learn.org. See: https://github.com/scikit-learn/scikit-learn/issues/21755 */display: inline-block !important;position: relative;}#sk-container-id-4 div.sk-text-repr-fallback {display: none;}</style><div id=\"sk-container-id-4\" class=\"sk-top-container\"><div class=\"sk-text-repr-fallback\"><pre>RandomForestClassifier(max_depth=20, min_samples_leaf=100, random_state=0)</pre><b>In a Jupyter environment, please rerun this cell to show the HTML representation or trust the notebook. <br />On GitHub, the HTML representation is unable to render, please try loading this page with nbviewer.org.</b></div><div class=\"sk-container\" hidden><div class=\"sk-item\"><div class=\"sk-estimator sk-toggleable\"><input class=\"sk-toggleable__control sk-hidden--visually\" id=\"sk-estimator-id-4\" type=\"checkbox\" checked><label for=\"sk-estimator-id-4\" class=\"sk-toggleable__label sk-toggleable__label-arrow\">RandomForestClassifier</label><div class=\"sk-toggleable__content\"><pre>RandomForestClassifier(max_depth=20, min_samples_leaf=100, random_state=0)</pre></div></div></div></div></div>"
            ]
          },
          "metadata": {},
          "execution_count": 58
        },
        {
          "output_type": "stream",
          "name": "stdout",
          "text": [
            "time: 42.6 s (started: 2023-03-27 21:35:07 +00:00)\n"
          ]
        }
      ]
    },
    {
      "cell_type": "code",
      "source": [
        "y_3 = clf3.predict(X_testPCA)"
      ],
      "metadata": {
        "colab": {
          "base_uri": "https://localhost:8080/"
        },
        "id": "3MkdQmLTjD7C",
        "outputId": "ca423791-5bee-40a8-81de-6df34310f86f"
      },
      "execution_count": null,
      "outputs": [
        {
          "output_type": "stream",
          "name": "stdout",
          "text": [
            "time: 473 ms (started: 2023-03-27 21:35:50 +00:00)\n"
          ]
        }
      ]
    },
    {
      "cell_type": "code",
      "source": [
        "# y_3=pd.DataFrame(y_3)\n",
        "# y_3"
      ],
      "metadata": {
        "colab": {
          "base_uri": "https://localhost:8080/"
        },
        "id": "mbgDoJJSGzN3",
        "outputId": "99482aec-4fab-471a-eb99-2e0a87df61fe"
      },
      "execution_count": null,
      "outputs": [
        {
          "output_type": "stream",
          "name": "stdout",
          "text": [
            "time: 444 µs (started: 2023-03-27 21:35:50 +00:00)\n"
          ]
        }
      ]
    },
    {
      "cell_type": "code",
      "source": [
        "y_3 = enc.inverse_transform(pd.DataFrame(y_3))"
      ],
      "metadata": {
        "colab": {
          "base_uri": "https://localhost:8080/"
        },
        "id": "YgB48nQU2LQY",
        "outputId": "b1c1b12b-84d7-47fe-8360-98c1de03bfcb"
      },
      "execution_count": null,
      "outputs": [
        {
          "output_type": "stream",
          "name": "stdout",
          "text": [
            "time: 6.26 ms (started: 2023-03-27 21:35:50 +00:00)\n"
          ]
        }
      ]
    },
    {
      "cell_type": "code",
      "source": [
        "y_3 =pd.DataFrame(y_3)\n",
        "y_3.columns=['Object_Held']"
      ],
      "metadata": {
        "colab": {
          "base_uri": "https://localhost:8080/"
        },
        "id": "8BYQDBwS2gZt",
        "outputId": "0753d54a-12fa-4d7f-e8d4-c96d356087ea"
      },
      "execution_count": null,
      "outputs": [
        {
          "output_type": "stream",
          "name": "stdout",
          "text": [
            "time: 2.76 ms (started: 2023-03-27 21:35:50 +00:00)\n"
          ]
        }
      ]
    },
    {
      "cell_type": "code",
      "source": [
        "accuracy_score(y_test, y_3)"
      ],
      "metadata": {
        "colab": {
          "base_uri": "https://localhost:8080/"
        },
        "id": "RzAZYpLfjD4m",
        "outputId": "a7be07ab-ede4-4649-9287-ba319d535a15"
      },
      "execution_count": null,
      "outputs": [
        {
          "output_type": "execute_result",
          "data": {
            "text/plain": [
              "0.9871153846153846"
            ]
          },
          "metadata": {},
          "execution_count": 63
        },
        {
          "output_type": "stream",
          "name": "stdout",
          "text": [
            "time: 44.8 ms (started: 2023-03-27 21:35:51 +00:00)\n"
          ]
        }
      ]
    },
    {
      "cell_type": "code",
      "source": [
        "clf3.get_params()"
      ],
      "metadata": {
        "colab": {
          "base_uri": "https://localhost:8080/"
        },
        "id": "m6izdNfp21KW",
        "outputId": "737635c4-30be-4875-9b61-fcc2e793bd5e"
      },
      "execution_count": null,
      "outputs": [
        {
          "output_type": "execute_result",
          "data": {
            "text/plain": [
              "{'bootstrap': True,\n",
              " 'ccp_alpha': 0.0,\n",
              " 'class_weight': None,\n",
              " 'criterion': 'gini',\n",
              " 'max_depth': 20,\n",
              " 'max_features': 'sqrt',\n",
              " 'max_leaf_nodes': None,\n",
              " 'max_samples': None,\n",
              " 'min_impurity_decrease': 0.0,\n",
              " 'min_samples_leaf': 100,\n",
              " 'min_samples_split': 2,\n",
              " 'min_weight_fraction_leaf': 0.0,\n",
              " 'n_estimators': 100,\n",
              " 'n_jobs': None,\n",
              " 'oob_score': False,\n",
              " 'random_state': 0,\n",
              " 'verbose': 0,\n",
              " 'warm_start': False}"
            ]
          },
          "metadata": {},
          "execution_count": 64
        },
        {
          "output_type": "stream",
          "name": "stdout",
          "text": [
            "time: 3.89 ms (started: 2023-03-27 21:35:51 +00:00)\n"
          ]
        }
      ]
    },
    {
      "cell_type": "code",
      "source": [
        "f1_score(y_test, y_3, average='weighted')"
      ],
      "metadata": {
        "colab": {
          "base_uri": "https://localhost:8080/"
        },
        "id": "pFOAU1LEDp_r",
        "outputId": "085dc5aa-223b-43bc-e1ca-833ec9b8da5a"
      },
      "execution_count": null,
      "outputs": [
        {
          "output_type": "execute_result",
          "data": {
            "text/plain": [
              "0.9871250968898896"
            ]
          },
          "metadata": {},
          "execution_count": 65
        },
        {
          "output_type": "stream",
          "name": "stdout",
          "text": [
            "time: 225 ms (started: 2023-03-27 21:35:51 +00:00)\n"
          ]
        }
      ]
    },
    {
      "cell_type": "markdown",
      "source": [
        "## Neural Network"
      ],
      "metadata": {
        "id": "WVdJR4TgUf70"
      }
    },
    {
      "cell_type": "code",
      "source": [
        "import tensorflow as tf\n",
        "from tensorflow import keras"
      ],
      "metadata": {
        "colab": {
          "base_uri": "https://localhost:8080/"
        },
        "id": "jlhgwAd2dGFn",
        "outputId": "6dad6ea8-7185-4114-c64c-e55d705c314f"
      },
      "execution_count": null,
      "outputs": [
        {
          "output_type": "stream",
          "name": "stdout",
          "text": [
            "time: 4.13 s (started: 2023-03-27 21:35:51 +00:00)\n"
          ]
        }
      ]
    },
    {
      "cell_type": "code",
      "execution_count": null,
      "metadata": {
        "id": "RGVudxZDsWpC",
        "colab": {
          "base_uri": "https://localhost:8080/"
        },
        "outputId": "95bd209f-a596-4136-969f-56901f9ea737"
      },
      "outputs": [
        {
          "output_type": "stream",
          "name": "stdout",
          "text": [
            "time: 495 ms (started: 2023-03-27 21:35:55 +00:00)\n"
          ]
        }
      ],
      "source": [
        "model = keras.Sequential([keras.layers.Dense(20, input_dim=8,activation ='elu' ), keras.layers.Dense(20,activation ='elu'), keras.layers.Dense(20,activation ='elu'), keras.layers.Dense(20,activation ='elu'), keras.layers.Dense(20,activation ='elu'), keras.layers.Dense(20,activation ='elu'), keras.layers.Dense(20,activation ='elu'), keras.layers.Dense(20,activation ='elu'), keras.layers.Dense(20,activation ='elu'), keras.layers.Dense(13,activation = tf.nn.softmax)])"
      ]
    },
    {
      "cell_type": "code",
      "execution_count": null,
      "metadata": {
        "id": "rsdW2zsVtGZ-",
        "colab": {
          "base_uri": "https://localhost:8080/"
        },
        "outputId": "638bacfa-7256-48a0-a253-c556b553af47"
      },
      "outputs": [
        {
          "output_type": "stream",
          "name": "stdout",
          "text": [
            "time: 32.5 ms (started: 2023-03-27 21:35:55 +00:00)\n"
          ]
        }
      ],
      "source": [
        "model.compile(optimizer = 'adam',loss='sparse_categorical_crossentropy',metrics =['accuracy'])"
      ]
    },
    {
      "cell_type": "code",
      "source": [
        "model.summary()"
      ],
      "metadata": {
        "id": "zjMnt1JIJnJW",
        "colab": {
          "base_uri": "https://localhost:8080/"
        },
        "outputId": "e8b3778c-d9f7-42d8-d2b1-6e5613bf6d1f"
      },
      "execution_count": null,
      "outputs": [
        {
          "output_type": "stream",
          "name": "stdout",
          "text": [
            "Model: \"sequential\"\n",
            "_________________________________________________________________\n",
            " Layer (type)                Output Shape              Param #   \n",
            "=================================================================\n",
            " dense (Dense)               (None, 20)                180       \n",
            "                                                                 \n",
            " dense_1 (Dense)             (None, 20)                420       \n",
            "                                                                 \n",
            " dense_2 (Dense)             (None, 20)                420       \n",
            "                                                                 \n",
            " dense_3 (Dense)             (None, 20)                420       \n",
            "                                                                 \n",
            " dense_4 (Dense)             (None, 20)                420       \n",
            "                                                                 \n",
            " dense_5 (Dense)             (None, 20)                420       \n",
            "                                                                 \n",
            " dense_6 (Dense)             (None, 20)                420       \n",
            "                                                                 \n",
            " dense_7 (Dense)             (None, 20)                420       \n",
            "                                                                 \n",
            " dense_8 (Dense)             (None, 20)                420       \n",
            "                                                                 \n",
            " dense_9 (Dense)             (None, 13)                273       \n",
            "                                                                 \n",
            "=================================================================\n",
            "Total params: 3,813\n",
            "Trainable params: 3,813\n",
            "Non-trainable params: 0\n",
            "_________________________________________________________________\n",
            "time: 46.9 ms (started: 2023-03-27 21:35:56 +00:00)\n"
          ]
        }
      ]
    },
    {
      "cell_type": "code",
      "execution_count": null,
      "metadata": {
        "id": "2DbVDxlftLu0",
        "colab": {
          "base_uri": "https://localhost:8080/"
        },
        "outputId": "a943cb62-4502-4e02-8514-990bef52f5ab"
      },
      "outputs": [
        {
          "output_type": "stream",
          "name": "stdout",
          "text": [
            "Epoch 1/10\n",
            "2600/2600 [==============================] - 14s 5ms/step - loss: 0.2350 - accuracy: 0.9293 - val_loss: 0.1158 - val_accuracy: 0.9619\n",
            "Epoch 2/10\n",
            "2600/2600 [==============================] - 11s 4ms/step - loss: 0.0667 - accuracy: 0.9770 - val_loss: 0.0521 - val_accuracy: 0.9801\n",
            "Epoch 3/10\n",
            "2600/2600 [==============================] - 11s 4ms/step - loss: 0.0440 - accuracy: 0.9844 - val_loss: 0.0259 - val_accuracy: 0.9901\n",
            "Epoch 4/10\n",
            "2600/2600 [==============================] - 12s 5ms/step - loss: 0.0353 - accuracy: 0.9873 - val_loss: 0.0320 - val_accuracy: 0.9901\n",
            "Epoch 5/10\n",
            "2600/2600 [==============================] - 13s 5ms/step - loss: 0.0292 - accuracy: 0.9892 - val_loss: 0.0301 - val_accuracy: 0.9873\n",
            "Epoch 6/10\n",
            "2600/2600 [==============================] - 10s 4ms/step - loss: 0.0275 - accuracy: 0.9901 - val_loss: 0.0324 - val_accuracy: 0.9865\n",
            "Epoch 7/10\n",
            "2600/2600 [==============================] - 11s 4ms/step - loss: 0.0239 - accuracy: 0.9909 - val_loss: 0.0260 - val_accuracy: 0.9900\n",
            "Epoch 8/10\n",
            "2600/2600 [==============================] - 11s 4ms/step - loss: 0.0228 - accuracy: 0.9911 - val_loss: 0.0265 - val_accuracy: 0.9906\n",
            "Epoch 9/10\n",
            "2600/2600 [==============================] - 12s 5ms/step - loss: 0.0206 - accuracy: 0.9920 - val_loss: 0.0169 - val_accuracy: 0.9943\n",
            "Epoch 10/10\n",
            "2600/2600 [==============================] - 11s 4ms/step - loss: 0.0200 - accuracy: 0.9925 - val_loss: 0.0239 - val_accuracy: 0.9924\n",
            "time: 2min 24s (started: 2023-03-27 21:35:56 +00:00)\n"
          ]
        }
      ],
      "source": [
        "history= model.fit(X_trainPCA, y_train2,epochs = 10, validation_split=0.2)"
      ]
    },
    {
      "cell_type": "code",
      "execution_count": null,
      "metadata": {
        "id": "RD-advnHU_da",
        "colab": {
          "base_uri": "https://localhost:8080/"
        },
        "outputId": "f4deb780-6e96-4579-8157-58ed99f043ff"
      },
      "outputs": [
        {
          "output_type": "stream",
          "name": "stdout",
          "text": [
            "time: 3.1 ms (started: 2023-03-27 21:38:20 +00:00)\n"
          ]
        }
      ],
      "source": [
        "_=pd.DataFrame(history.history)"
      ]
    },
    {
      "cell_type": "code",
      "execution_count": null,
      "metadata": {
        "id": "Akwj08k-U_Z-",
        "colab": {
          "base_uri": "https://localhost:8080/",
          "height": 300
        },
        "outputId": "e53e797a-fb4f-4c00-fff0-65535c7c6f69"
      },
      "outputs": [
        {
          "output_type": "execute_result",
          "data": {
            "text/plain": [
              "<matplotlib.legend.Legend at 0x7fc76da7fc70>"
            ]
          },
          "metadata": {},
          "execution_count": 72
        },
        {
          "output_type": "display_data",
          "data": {
            "text/plain": [
              "<Figure size 432x288 with 1 Axes>"
            ],
            "image/png": "[encoded data removed]"
          },
          "metadata": {
            "needs_background": "light"
          }
        },
        {
          "output_type": "stream",
          "name": "stdout",
          "text": [
            "time: 324 ms (started: 2023-03-27 21:38:20 +00:00)\n"
          ]
        }
      ],
      "source": [
        "plt.plot(range(10), _[['accuracy','val_accuracy']], linewidth=2, markersize=1)\n",
        "plt.legend(['accuracy','val_accuracy'])"
      ]
    },
    {
      "cell_type": "code",
      "execution_count": null,
      "metadata": {
        "id": "eyTgQLWUUA7U",
        "colab": {
          "base_uri": "https://localhost:8080/",
          "height": 300
        },
        "outputId": "7f3b0968-8def-41f7-834e-333f27b614db"
      },
      "outputs": [
        {
          "output_type": "execute_result",
          "data": {
            "text/plain": [
              "<matplotlib.legend.Legend at 0x7fc7752b8d30>"
            ]
          },
          "metadata": {},
          "execution_count": 73
        },
        {
          "output_type": "display_data",
          "data": {
            "text/plain": [
              "<Figure size 432x288 with 1 Axes>"
            ],
            "image/png": "[encoded data removed]"
          },
          "metadata": {
            "needs_background": "light"
          }
        },
        {
          "output_type": "stream",
          "name": "stdout",
          "text": [
            "time: 236 ms (started: 2023-03-27 21:38:20 +00:00)\n"
          ]
        }
      ],
      "source": [
        "plt.plot(range(10), _['loss'], linewidth=2, markersize=1)\n",
        "plt.legend(['loss'])"
      ]
    },
    {
      "cell_type": "code",
      "execution_count": null,
      "metadata": {
        "colab": {
          "base_uri": "https://localhost:8080/"
        },
        "id": "oNpTRA5uSFuJ",
        "outputId": "27423246-b74f-4602-b77f-a8d838ef585e"
      },
      "outputs": [
        {
          "output_type": "stream",
          "name": "stdout",
          "text": [
            "813/813 [==============================] - 2s 2ms/step\n",
            "time: 2.14 s (started: 2023-03-27 21:38:21 +00:00)\n"
          ]
        }
      ],
      "source": [
        "y__= model.predict(X_testPCA)"
      ]
    },
    {
      "cell_type": "code",
      "source": [
        "y__.shape"
      ],
      "metadata": {
        "colab": {
          "base_uri": "https://localhost:8080/"
        },
        "id": "QwUcWQhGPoyN",
        "outputId": "6e51decc-1c83-4cf6-8bae-e4bab0583125"
      },
      "execution_count": null,
      "outputs": [
        {
          "output_type": "execute_result",
          "data": {
            "text/plain": [
              "(26000, 13)"
            ]
          },
          "metadata": {},
          "execution_count": 75
        },
        {
          "output_type": "stream",
          "name": "stdout",
          "text": [
            "time: 6.93 ms (started: 2023-03-27 21:38:23 +00:00)\n"
          ]
        }
      ]
    },
    {
      "cell_type": "code",
      "execution_count": null,
      "metadata": {
        "colab": {
          "base_uri": "https://localhost:8080/"
        },
        "id": "_nZQv5-tr52q",
        "outputId": "c0b8a9f2-a0a8-44fe-b499-313d619f23e6"
      },
      "outputs": [
        {
          "output_type": "stream",
          "name": "stderr",
          "text": [
            "<ipython-input-76-722051871be4>:3: DeprecationWarning: setting an array element with a sequence. This was supported in some cases where the elements are arrays with a single element. For example `np.array([1, np.array([2])], dtype=int)`. In the future this will raise the same ValueError as `np.array([1, [2]], dtype=int)`.\n",
            "  y1[i]= np.where(y__[i]==max(y__[i]))\n"
          ]
        },
        {
          "output_type": "stream",
          "name": "stdout",
          "text": [
            "time: 276 ms (started: 2023-03-27 21:38:23 +00:00)\n"
          ]
        }
      ],
      "source": [
        "y1= np.zeros((26000,1))\n",
        "for i in range(len(y__)):\n",
        "  y1[i]= np.where(y__[i]==max(y__[i]))"
      ]
    },
    {
      "cell_type": "code",
      "execution_count": null,
      "metadata": {
        "id": "d7MXrSfJoMJN",
        "colab": {
          "base_uri": "https://localhost:8080/"
        },
        "outputId": "783caa53-c8b1-438b-dd78-9e7cc7758898"
      },
      "outputs": [
        {
          "output_type": "stream",
          "name": "stdout",
          "text": [
            "time: 3.1 ms (started: 2023-03-27 21:38:23 +00:00)\n"
          ]
        }
      ],
      "source": [
        "y2=enc.inverse_transform(y1)"
      ]
    },
    {
      "cell_type": "code",
      "execution_count": null,
      "metadata": {
        "id": "ULfuOZa2ycbn",
        "colab": {
          "base_uri": "https://localhost:8080/"
        },
        "outputId": "d1687c17-d4d2-447e-cdfd-d06e1dde19ab"
      },
      "outputs": [
        {
          "output_type": "stream",
          "name": "stdout",
          "text": [
            "time: 1.29 ms (started: 2023-03-27 21:38:23 +00:00)\n"
          ]
        }
      ],
      "source": [
        "y_pred=pd.DataFrame(y2)\n",
        "y_pred.columns = ['Object_Held']"
      ]
    },
    {
      "cell_type": "code",
      "source": [
        "accuracy_score(y_test, y_pred)"
      ],
      "metadata": {
        "colab": {
          "base_uri": "https://localhost:8080/"
        },
        "id": "xbpDsobnByZv",
        "outputId": "5fa8e223-6b35-4a13-9d0b-ee9fa5185557"
      },
      "execution_count": null,
      "outputs": [
        {
          "output_type": "execute_result",
          "data": {
            "text/plain": [
              "0.9933846153846154"
            ]
          },
          "metadata": {},
          "execution_count": 79
        },
        {
          "output_type": "stream",
          "name": "stdout",
          "text": [
            "time: 63.5 ms (started: 2023-03-27 21:38:23 +00:00)\n"
          ]
        }
      ]
    },
    {
      "cell_type": "code",
      "source": [
        "f1_score(y_test, y_pred, average='weighted')"
      ],
      "metadata": {
        "id": "nyb35pSpPgp8",
        "colab": {
          "base_uri": "https://localhost:8080/"
        },
        "outputId": "34e0cdd6-1436-431e-e705-5d4712cf04a7"
      },
      "execution_count": null,
      "outputs": [
        {
          "output_type": "execute_result",
          "data": {
            "text/plain": [
              "0.9933817593185286"
            ]
          },
          "metadata": {},
          "execution_count": 80
        },
        {
          "output_type": "stream",
          "name": "stdout",
          "text": [
            "time: 231 ms (started: 2023-03-27 21:38:23 +00:00)\n"
          ]
        }
      ]
    },
    {
      "cell_type": "markdown",
      "source": [
        "## CNN"
      ],
      "metadata": {
        "id": "JFsh8_HRb6gq"
      }
    },
    {
      "cell_type": "code",
      "source": [],
      "metadata": {
        "id": "xdSM7bB_b9qy",
        "colab": {
          "base_uri": "https://localhost:8080/"
        },
        "outputId": "cef4e828-9686-4388-f12b-ca3853e01281"
      },
      "execution_count": null,
      "outputs": [
        {
          "output_type": "stream",
          "name": "stdout",
          "text": [
            "time: 23.6 s (started: 2023-03-27 21:38:23 +00:00)\n"
          ]
        }
      ]
    },
    {
      "cell_type": "code",
      "source": [
        "from keras.models import Sequential\n",
        "from keras.layers import Dense, Flatten, Convolution1D, Dropout\n",
        "from keras.optimizers import SGD\n",
        "from keras.initializers import random_uniform"
      ],
      "metadata": {
        "colab": {
          "base_uri": "https://localhost:8080/"
        },
        "id": "SUbro0DNb-j5",
        "outputId": "d146d12d-7eda-4246-c371-9adcd1da9df4"
      },
      "execution_count": null,
      "outputs": [
        {
          "output_type": "stream",
          "name": "stdout",
          "text": [
            "time: 1.3 ms (started: 2023-03-27 21:38:48 +00:00)\n"
          ]
        }
      ]
    },
    {
      "cell_type": "code",
      "source": [
        "# input_dimension = 226\n",
        "learning_rate = 0.0025\n",
        "momentum = 0.85\n",
        "hidden_initializer = random_uniform(seed=42)\n",
        "dropout_rate = 0.2\n"
      ],
      "metadata": {
        "colab": {
          "base_uri": "https://localhost:8080/"
        },
        "id": "5KwYM80bcua4",
        "outputId": "9038f088-9c4d-4e4a-e70d-63315565e15f"
      },
      "execution_count": null,
      "outputs": [
        {
          "output_type": "stream",
          "name": "stdout",
          "text": [
            "time: 3.45 ms (started: 2023-03-27 21:38:48 +00:00)\n"
          ]
        }
      ]
    },
    {
      "cell_type": "code",
      "source": [
        "model2 = Sequential()\n",
        "model2.add(Convolution1D(32,1, input_shape=(8,1), activation='relu'))\n",
        "model2.add(Convolution1D(16,1, activation='relu'))\n",
        "model2.add(Flatten())\n",
        "model2.add(Dropout(dropout_rate))\n",
        "model2.add(Dense(128, input_dim=32, kernel_initializer=hidden_initializer, activation='relu'))\n",
        "model2.add(Dropout(dropout_rate))\n",
        "model2.add(Dense(64, kernel_initializer=hidden_initializer, activation='relu'))\n",
        "model2.add(Dense(13, kernel_initializer=hidden_initializer, activation='softmax'))"
      ],
      "metadata": {
        "colab": {
          "base_uri": "https://localhost:8080/"
        },
        "id": "UY01Obx8b-hF",
        "outputId": "f702fb8a-e2a6-4264-9a3d-9874cb35e2ad"
      },
      "execution_count": null,
      "outputs": [
        {
          "output_type": "stream",
          "name": "stdout",
          "text": [
            "time: 119 ms (started: 2023-03-27 21:38:48 +00:00)\n"
          ]
        }
      ]
    },
    {
      "cell_type": "code",
      "source": [
        "sgd = SGD(lr=learning_rate, momentum=momentum)\n",
        "model2.compile(optimizer = 'adam',loss='sparse_categorical_crossentropy', metrics=['accuracy'])\n",
        "history1 = model2.fit(X_trainPCA, y_train2, epochs=10,validation_split=0.2)"
      ],
      "metadata": {
        "id": "7KGa3NUnb-ea",
        "colab": {
          "base_uri": "https://localhost:8080/"
        },
        "outputId": "3f4d65e1-3b41-4803-914f-985fa0655fb6"
      },
      "execution_count": null,
      "outputs": [
        {
          "output_type": "stream",
          "name": "stdout",
          "text": [
            "Epoch 1/10\n"
          ]
        },
        {
          "output_type": "stream",
          "name": "stderr",
          "text": [
            "/usr/local/lib/python3.9/dist-packages/keras/optimizers/optimizer_v2/gradient_descent.py:114: UserWarning: The `lr` argument is deprecated, use `learning_rate` instead.\n",
            "  super().__init__(name, **kwargs)\n"
          ]
        },
        {
          "output_type": "stream",
          "name": "stdout",
          "text": [
            "2600/2600 [==============================] - 13s 5ms/step - loss: 0.2850 - accuracy: 0.9095 - val_loss: 0.0669 - val_accuracy: 0.9762\n",
            "Epoch 2/10\n",
            "2600/2600 [==============================] - 19s 7ms/step - loss: 0.0988 - accuracy: 0.9668 - val_loss: 0.0453 - val_accuracy: 0.9829\n",
            "Epoch 3/10\n",
            "2600/2600 [==============================] - 15s 6ms/step - loss: 0.0751 - accuracy: 0.9739 - val_loss: 0.0492 - val_accuracy: 0.9825\n",
            "Epoch 4/10\n",
            "2600/2600 [==============================] - 7s 3ms/step - loss: 0.0638 - accuracy: 0.9775 - val_loss: 0.0310 - val_accuracy: 0.9875\n",
            "Epoch 5/10\n",
            "2600/2600 [==============================] - 9s 3ms/step - loss: 0.0564 - accuracy: 0.9799 - val_loss: 0.0278 - val_accuracy: 0.9875\n",
            "Epoch 6/10\n",
            "2600/2600 [==============================] - 8s 3ms/step - loss: 0.0498 - accuracy: 0.9825 - val_loss: 0.0224 - val_accuracy: 0.9896\n",
            "Epoch 7/10\n",
            "2600/2600 [==============================] - 8s 3ms/step - loss: 0.0463 - accuracy: 0.9831 - val_loss: 0.0215 - val_accuracy: 0.9918\n",
            "Epoch 8/10\n",
            "2600/2600 [==============================] - 9s 4ms/step - loss: 0.0445 - accuracy: 0.9840 - val_loss: 0.0186 - val_accuracy: 0.9931\n",
            "Epoch 9/10\n",
            "2600/2600 [==============================] - 8s 3ms/step - loss: 0.0411 - accuracy: 0.9850 - val_loss: 0.0187 - val_accuracy: 0.9921\n",
            "Epoch 10/10\n",
            "2600/2600 [==============================] - 10s 4ms/step - loss: 0.0410 - accuracy: 0.9850 - val_loss: 0.0195 - val_accuracy: 0.9925\n",
            "time: 1min 46s (started: 2023-03-27 21:38:48 +00:00)\n"
          ]
        }
      ]
    },
    {
      "cell_type": "code",
      "source": [
        "model2.summary()"
      ],
      "metadata": {
        "id": "KxrigUD7b-bz",
        "colab": {
          "base_uri": "https://localhost:8080/"
        },
        "outputId": "8f33a1b3-2d60-4975-f8af-79e050797cb2"
      },
      "execution_count": null,
      "outputs": [
        {
          "output_type": "stream",
          "name": "stdout",
          "text": [
            "Model: \"sequential_1\"\n",
            "_________________________________________________________________\n",
            " Layer (type)                Output Shape              Param #   \n",
            "=================================================================\n",
            " conv1d (Conv1D)             (None, 8, 32)             64        \n",
            "                                                                 \n",
            " conv1d_1 (Conv1D)           (None, 8, 16)             528       \n",
            "                                                                 \n",
            " flatten (Flatten)           (None, 128)               0         \n",
            "                                                                 \n",
            " dropout (Dropout)           (None, 128)               0         \n",
            "                                                                 \n",
            " dense_10 (Dense)            (None, 128)               16512     \n",
            "                                                                 \n",
            " dropout_1 (Dropout)         (None, 128)               0         \n",
            "                                                                 \n",
            " dense_11 (Dense)            (None, 64)                8256      \n",
            "                                                                 \n",
            " dense_12 (Dense)            (None, 13)                845       \n",
            "                                                                 \n",
            "=================================================================\n",
            "Total params: 26,205\n",
            "Trainable params: 26,205\n",
            "Non-trainable params: 0\n",
            "_________________________________________________________________\n",
            "time: 31 ms (started: 2023-03-27 21:40:35 +00:00)\n"
          ]
        }
      ]
    },
    {
      "cell_type": "code",
      "source": [],
      "metadata": {
        "id": "g-VUsFaTpaLj",
        "colab": {
          "base_uri": "https://localhost:8080/"
        },
        "outputId": "be269a1c-0430-49cb-ff88-6ac9277e4609"
      },
      "execution_count": null,
      "outputs": [
        {
          "output_type": "stream",
          "name": "stdout",
          "text": [
            "time: 36.4 ms (started: 2023-03-27 21:40:35 +00:00)\n"
          ]
        }
      ]
    },
    {
      "cell_type": "code",
      "execution_count": null,
      "metadata": {
        "colab": {
          "base_uri": "https://localhost:8080/"
        },
        "outputId": "97b05f87-d129-4054-9f89-9812f57126e5",
        "id": "64eYASzqpacp"
      },
      "outputs": [
        {
          "output_type": "stream",
          "name": "stdout",
          "text": [
            "time: 1.97 ms (started: 2023-03-27 21:40:35 +00:00)\n"
          ]
        }
      ],
      "source": [
        "_1=pd.DataFrame(history1.history)"
      ]
    },
    {
      "cell_type": "code",
      "execution_count": null,
      "metadata": {
        "colab": {
          "base_uri": "https://localhost:8080/"
        },
        "outputId": "9c054c0d-fdaf-4cb2-8bb3-bd358d7f0d7d",
        "id": "NfHuEqompacr"
      },
      "outputs": [
        {
          "output_type": "execute_result",
          "data": {
            "text/plain": [
              "<matplotlib.legend.Legend at 0x7fc774f92d00>"
            ]
          },
          "metadata": {},
          "execution_count": 87
        },
        {
          "output_type": "display_data",
          "data": {
            "text/plain": [
              "<Figure size 432x288 with 1 Axes>"
            ],
            "image/png": "[encoded data removed]"
          },
          "metadata": {
            "needs_background": "light"
          }
        },
        {
          "output_type": "stream",
          "name": "stdout",
          "text": [
            "time: 272 ms (started: 2023-03-27 21:40:35 +00:00)\n"
          ]
        }
      ],
      "source": [
        "plt.plot(range(10), _1[['accuracy','val_accuracy']], linewidth=2, markersize=1)\n",
        "plt.legend(['accuracy','val_accuracy'])"
      ]
    },
    {
      "cell_type": "code",
      "execution_count": null,
      "metadata": {
        "colab": {
          "base_uri": "https://localhost:8080/"
        },
        "outputId": "7380d117-f4d5-4bc4-a013-d04b9ed29812",
        "id": "hyxmy9wRpact"
      },
      "outputs": [
        {
          "output_type": "execute_result",
          "data": {
            "text/plain": [
              "<matplotlib.legend.Legend at 0x7fc7d032ef70>"
            ]
          },
          "metadata": {},
          "execution_count": 88
        },
        {
          "output_type": "display_data",
          "data": {
            "text/plain": [
              "<Figure size 432x288 with 1 Axes>"
            ],
            "image/png": "[encoded data removed]"
          },
          "metadata": {
            "needs_background": "light"
          }
        },
        {
          "output_type": "stream",
          "name": "stdout",
          "text": [
            "time: 221 ms (started: 2023-03-27 21:40:35 +00:00)\n"
          ]
        }
      ],
      "source": [
        "plt.plot(range(10), _1['loss'], linewidth=2, markersize=1)\n",
        "plt.legend(['loss'])"
      ]
    },
    {
      "cell_type": "code",
      "source": [
        "predictions = model2.predict(X_testPCA)"
      ],
      "metadata": {
        "id": "88CRGKS_b-W7",
        "colab": {
          "base_uri": "https://localhost:8080/"
        },
        "outputId": "1572b23a-626e-4827-c5f5-93debfcd3e50"
      },
      "execution_count": null,
      "outputs": [
        {
          "output_type": "stream",
          "name": "stdout",
          "text": [
            "813/813 [==============================] - 1s 1ms/step\n",
            "time: 1.57 s (started: 2023-03-27 21:40:36 +00:00)\n"
          ]
        }
      ]
    },
    {
      "cell_type": "code",
      "source": [
        "predictions.shape"
      ],
      "metadata": {
        "id": "N8GPZqdkb-Uh",
        "colab": {
          "base_uri": "https://localhost:8080/"
        },
        "outputId": "f7df75d7-727a-4b8c-b41f-1cd0796849eb"
      },
      "execution_count": null,
      "outputs": [
        {
          "output_type": "execute_result",
          "data": {
            "text/plain": [
              "(26000, 13)"
            ]
          },
          "metadata": {},
          "execution_count": 90
        },
        {
          "output_type": "stream",
          "name": "stdout",
          "text": [
            "time: 3.72 ms (started: 2023-03-27 21:40:37 +00:00)\n"
          ]
        }
      ]
    },
    {
      "cell_type": "code",
      "execution_count": null,
      "metadata": {
        "colab": {
          "base_uri": "https://localhost:8080/"
        },
        "outputId": "a85d95e9-41c9-42d3-94ca-efe74ff24f70",
        "id": "J9kR0t4wmpbM"
      },
      "outputs": [
        {
          "output_type": "stream",
          "name": "stderr",
          "text": [
            "<ipython-input-91-28fd7cb0c11b>:3: DeprecationWarning: setting an array element with a sequence. This was supported in some cases where the elements are arrays with a single element. For example `np.array([1, np.array([2])], dtype=int)`. In the future this will raise the same ValueError as `np.array([1, [2]], dtype=int)`.\n",
            "  y1[i]= np.where(predictions[i]==max(predictions[i]))\n"
          ]
        },
        {
          "output_type": "stream",
          "name": "stdout",
          "text": [
            "time: 245 ms (started: 2023-03-27 21:40:37 +00:00)\n"
          ]
        }
      ],
      "source": [
        "y1= np.zeros((26000,1))\n",
        "for i in range(len(predictions)):\n",
        "  y1[i]= np.where(predictions[i]==max(predictions[i]))"
      ]
    },
    {
      "cell_type": "code",
      "execution_count": null,
      "metadata": {
        "colab": {
          "base_uri": "https://localhost:8080/"
        },
        "outputId": "28adea4b-a58b-4cbb-f47f-c56d9de616b0",
        "id": "3nM7AbnsmpbQ"
      },
      "outputs": [
        {
          "output_type": "stream",
          "name": "stdout",
          "text": [
            "time: 2.02 ms (started: 2023-03-27 21:40:37 +00:00)\n"
          ]
        }
      ],
      "source": [
        "y2=enc.inverse_transform(y1)"
      ]
    },
    {
      "cell_type": "code",
      "execution_count": null,
      "metadata": {
        "colab": {
          "base_uri": "https://localhost:8080/"
        },
        "outputId": "6d025fda-22b3-4e0b-cee6-ce44f9352092",
        "id": "8byEa2btmpbU"
      },
      "outputs": [
        {
          "output_type": "stream",
          "name": "stdout",
          "text": [
            "time: 1.35 ms (started: 2023-03-27 21:40:37 +00:00)\n"
          ]
        }
      ],
      "source": [
        "y_pred=pd.DataFrame(y2)\n",
        "y_pred.columns = ['Object_Held']"
      ]
    },
    {
      "cell_type": "code",
      "source": [
        "accuracy_score(y_test, y_pred)"
      ],
      "metadata": {
        "colab": {
          "base_uri": "https://localhost:8080/"
        },
        "outputId": "07be9f64-2679-4f41-f4d5-179f4000d3ab",
        "id": "KcILA-tcmpbW"
      },
      "execution_count": null,
      "outputs": [
        {
          "output_type": "execute_result",
          "data": {
            "text/plain": [
              "0.9921923076923077"
            ]
          },
          "metadata": {},
          "execution_count": 94
        },
        {
          "output_type": "stream",
          "name": "stdout",
          "text": [
            "time: 47.8 ms (started: 2023-03-27 21:40:37 +00:00)\n"
          ]
        }
      ]
    },
    {
      "cell_type": "code",
      "source": [
        "f1_score(y_test, y_pred, average='weighted')"
      ],
      "metadata": {
        "id": "vKAjzvQzmx6t",
        "colab": {
          "base_uri": "https://localhost:8080/"
        },
        "outputId": "fd335702-d950-4d11-dbb2-c421133a4774"
      },
      "execution_count": null,
      "outputs": [
        {
          "output_type": "execute_result",
          "data": {
            "text/plain": [
              "0.9921895472356967"
            ]
          },
          "metadata": {},
          "execution_count": 95
        },
        {
          "output_type": "stream",
          "name": "stdout",
          "text": [
            "time: 238 ms (started: 2023-03-27 21:40:38 +00:00)\n"
          ]
        }
      ]
    },
    {
      "cell_type": "code",
      "source": [],
      "metadata": {
        "id": "UxEe9arIqFtb",
        "colab": {
          "base_uri": "https://localhost:8080/"
        },
        "outputId": "97ba9aaa-daec-41c8-dfea-542023a0eb06"
      },
      "execution_count": null,
      "outputs": [
        {
          "output_type": "stream",
          "name": "stdout",
          "text": [
            "time: 1.84 s (started: 2023-01-27 11:26:38 +00:00)\n"
          ]
        }
      ]
    },
    {
      "cell_type": "markdown",
      "source": [
        "## Ensemble Bagging"
      ],
      "metadata": {
        "id": "GfiARflYqGK2"
      }
    },
    {
      "cell_type": "code",
      "source": [
        "# from sklearn.ensemble import BaggingClassifier\n",
        "# from sklearn.linear_model import LogisticRegression\n",
        "\n",
        "# bagging_classifier = BaggingClassifier(LogisticRegression(),n_estimators = 100, bootstrap=True)"
      ],
      "metadata": {
        "colab": {
          "base_uri": "https://localhost:8080/"
        },
        "id": "lZ8dIOoAqH0i",
        "outputId": "36e6fcf2-c1ec-4f21-a0ee-f28863901172"
      },
      "execution_count": null,
      "outputs": [
        {
          "output_type": "stream",
          "name": "stdout",
          "text": [
            "time: 522 µs (started: 2023-01-27 11:26:41 +00:00)\n"
          ]
        }
      ]
    },
    {
      "cell_type": "code",
      "source": [
        "# bagging_classifier.fit(X_trainPCA, y_train)"
      ],
      "metadata": {
        "id": "meAExTkKqIhj",
        "colab": {
          "base_uri": "https://localhost:8080/"
        },
        "outputId": "b90dc56e-bda6-45e2-adfd-1d4d443b79db"
      },
      "execution_count": null,
      "outputs": [
        {
          "output_type": "stream",
          "name": "stdout",
          "text": [
            "time: 350 µs (started: 2023-01-27 11:26:42 +00:00)\n"
          ]
        }
      ]
    },
    {
      "cell_type": "code",
      "source": [
        "# y_2 = bagging_classifier.predict(X_test)"
      ],
      "metadata": {
        "id": "U_MAGG1FqIeI"
      },
      "execution_count": null,
      "outputs": []
    },
    {
      "cell_type": "code",
      "source": [],
      "metadata": {
        "id": "m5kxPlaPqIaP"
      },
      "execution_count": null,
      "outputs": []
    },
    {
      "cell_type": "code",
      "source": [],
      "metadata": {
        "id": "LZ84dLbVqIW3"
      },
      "execution_count": null,
      "outputs": []
    }
  ]
}